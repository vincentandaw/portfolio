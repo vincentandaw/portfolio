{
 "cells": [
  {
   "cell_type": "code",
   "execution_count": 4,
   "metadata": {},
   "outputs": [],
   "source": [
    "from docx import Document #pip install python-docx\n",
    "from docx.shared import Pt, Inches\n",
    "import os.path"
   ]
  },
  {
   "cell_type": "code",
   "execution_count": 2,
   "metadata": {},
   "outputs": [],
   "source": [
    "def covlet(POS,COMP,ADDR,TYPE):\n",
    "    #quite rudimentary...but works for me. One day, it'll read in text from a different file instead.\n",
    "    if TYPE=='data':\n",
    "        return F\"\"\"{ADDR}\n",
    "\n",
    "Dear {COMP},\n",
    "        My name is Jonathan Vincent Tandaw, and I am delighted to apply to the {POS} position at {COMP}. I believe that my credentials and experience can greatly benefit your team, not to mention how this position is certainly in line with the skills and career priorities I wish to pursue.\n",
    "        In my previous job at Navy Federal Credit Union as a systems governance engineer, I created data pipelines that started with database management and information gathering and ended in PowerBI or Excel spreadsheet reports. I did this as the previous process was manual and prone to human error, plus it took too long and wasted my team’s time. My education in Data Science and Applied Economics trained me not only to acquire, preprocess and optimize my data, but also to store it in an efficient and purpose-driven format for large-scale collaboration.\n",
    "        Data is messy – this I learned not just from school but was also borne out in my experience. My strong data background has allowed me to excel in my classes at Johns Hopkins, and my professors have only good things to say about me. In fact, I utilized “unconventional” data acquisition methods like web-scraping for class projects, which allowed me to go beyond simply downloading neatly packaged data and running piecemeal code. And to further sharpen my skills, I have also attained the International Institute of Forecasters Certificate. \n",
    "        In short, I have both the education and the experience in handling messy data to solve a particular problem or run a project. I can find my own data, preprocess and ready it for analysis, and provide results in different forms or visualizations.\n",
    "        For reference, here is my GitHub portfolio: https://github.com/vincentandaw/portfolio\n",
    "        Once again, I am excited to apply for this position at {COMP}. And I would be even more excited if I was to be given an opportunity to provide value for the team through my skills in data management, as well as other related skills like machine learning. Please feel free to contact me at vincent.tandaw@gmail.com, or by phone at +1 757 585 9435. I thank you in advance for your time and consideration.\n",
    "Reverently,\n",
    "Vince\n",
    "\"\"\"\n",
    "    elif TYPE=='ml':\n",
    "        return F\"\"\"{ADDR}\n",
    "\n",
    "Dear {COMP},\n",
    "        My name is Jonathan Vincent Tandaw, and I am delighted to apply to the {POS} position at {COMP}. I believe that my credentials and experience can greatly benefit your team, not to mention how this position is certainly in line with the skills and career priorities I wish to pursue.\n",
    "        In my previous job at Navy Federal Credit Union as a systems governance engineer, I created data pipelines that started with database management and information gathering and ended in PowerBI or Excel spreadsheet reports. I did this as the previous process was manual and prone to human error, plus it took too long and wasted my team’s time. My education in Data Science and Applied Economics trained me not only to acquire, preprocess and optimize my data, but also to store it in an efficient and purpose-driven format for large-scale collaboration.\n",
    "        My background in Data Science has also been sharpened during my education at Johns Hopkins. I am well-versed in different machine-learning algorithms, from ensemble learning methods to neural networks. As our world moves ever forward toward such data-driven tools, I am confident that my human intelligence can guide such artificial intelligence to good use. And to further sharpen my skills, I have also attained the International Institute of Forecasters Certificate, meaning I have both machine-learning and econometric methods under my belt! \n",
    "        In short, I have both the education and the experience in handling messy data to solve a particular problem or run a project. I can find my own data, preprocess and ready it for analysis, and provide results in different forms or visualizations.\n",
    "        For reference, here is my GitHub portfolio: https://github.com/vincentandaw/portfolio\n",
    "        Once again, I am excited to apply for this position at {COMP}. And I would be even more excited if I was to be given an opportunity to provide value for the team through my skills in data management, as well as other related skills like machine learning. Please feel free to contact me at vincent.tandaw@gmail.com, or by phone at +1 757 585 9435. I thank you in advance for your time and consideration.\n",
    "Reverently,\n",
    "Vince\n",
    "\"\"\"\n",
    "    elif TYPE == 'econ':\n",
    "        return F\"\"\"{ADDR}\n",
    "        \n",
    "Dear {COMP},\n",
    "        My name is Jonathan Vincent Tandaw, and I am delighted to apply to the {POS} position at {COMP}. I believe that my credentials and experience can greatly benefit your team, not to mention how this position is certainly in line with the skills and career priorities I wish to pursue.\n",
    "        I specialize in modern econometric methods, from cross- and time-series models to financial forecasting methods that will undoubtedly prove useful in projects, policy and clients. I am a high-achiever in my M.S. Applied Economics program at Johns Hopkins, and my professors have only good things to say about me. And to further sharpen my skills, I have also attained the International Institute of Forecasters Certificate.\n",
    "        Furthermore, I also have a strong background in data, which means I can also excel when data is more difficult to obtain. From “unconventional” data acquisition methods like web-scraping, to data preprocessing skills that must be employed before data can be used for analysis, I can go beyond simply downloading neatly packaged data from the BLS!  In fact, working with data was the crux of what I did in my previous job at Navy Federal Credit Union, creating data pipelines that started with database management and information gathering and ended in PowerBI or Excel spreadsheet reports.\n",
    "        In short, I have the deep econometric knowledge that powers modern economics, along with skills to acquire, preprocess and store economic data before being used in analysis. To add to that, I also have machine-learning capabilities that can further enhance economic research.\n",
    "        For reference, here is my GitHub portfolio: https://github.com/vincentandaw/portfolio.\n",
    "        Once again, I am excited to apply for this {POS} position at {COMP}. And I would be even more excited if I was to be given an opportunity to provide value for the team through my skills in financial/economic analysis as well as in data management and machine learning. Please feel free to contact me at vincent.tandaw@gmail.com, or by phone at +1 757 585 9435. I thank you in advance for your time and consideration.\n",
    "\n",
    "Reverently,\n",
    "Vince\"\"\"\n",
    "    \n",
    "def take_first_letters(string):\n",
    "    firstlet = []\n",
    "    for s in string.upper().split():\n",
    "        if not s.startswith('('):\n",
    "            if s not in ['I','II','III', 'IV', 'V']:\n",
    "                firstlet.append(s[0])\n",
    "            else:\n",
    "                firstlet.append('-'+s)\n",
    "        else:\n",
    "            firstlet.append(s[1])\n",
    "    return ''.join(firstlet)\n",
    "\n",
    "def create(POS,COMP,ADDR,TYPE):\n",
    "    #Create document object\n",
    "    doc = Document()\n",
    "    \n",
    "    #parse cover letter content\n",
    "    content = covlet(POS,COMP,ADDR,TYPE)\n",
    "    \n",
    "    #write to it\n",
    "    texts = content.splitlines()\n",
    "    for text in texts:\n",
    "        para = doc.add_paragraph().add_run(text) ##This is counted as ONE paragraph, so para spacing don't work\n",
    "        style = doc.styles['Normal']\n",
    "        ###Font\n",
    "        style.font.name = 'Times New Roman'\n",
    "        style.font.size = Pt(12)\n",
    "        ###Spacing\n",
    "        para_format = style.paragraph_format\n",
    "        para_format.space_before = Pt(4)\n",
    "        para_format.space_after = Pt(8)\n",
    "        para_format.line_spacing = 1.08\n",
    "        ###Margins\n",
    "        sections = doc.sections\n",
    "        for section in sections:\n",
    "            section.top_margin = Inches(1)\n",
    "            section.bottom_margin = Inches(1)\n",
    "            section.left_margin = Inches(1)\n",
    "            section.right_margin = Inches(1)\n",
    "\n",
    "    #create save folder, if not exist            \n",
    "    if not os.path.exists('CovLet'):\n",
    "        os.makedirs('CovLet')\n",
    "        \n",
    "    #save: if file too long, use first letters only\n",
    "    \n",
    "    path = F'CovLet/Tandaw_{COMP}_{POS}.docx'\n",
    "    path = path.replace(\" \",\"\")\n",
    "    \n",
    "    if len(path[6:])<45:\n",
    "        doc.save(path.replace(\" \",\"\"))\n",
    "    else:\n",
    "        comp_firstletters = take_first_letters(COMP)\n",
    "        pos_firstletters = take_first_letters(POS)\n",
    "        shortpath = F'CovLet/Tandaw_{comp_firstletters}_{pos_firstletters}.docx'\n",
    "        doc.save(shortpath.replace(\" \",\"\"))"
   ]
  },
  {
   "cell_type": "code",
   "execution_count": 3,
   "metadata": {},
   "outputs": [],
   "source": [
    "create(\"Data Scientist I (Fraud Data Scientist)\",\n",
    "       \"Navy Federal Credit Union\",\n",
    "       \"820 Follin Lane, Vienna VA, 22180\",\n",
    "       \"ml\")"
   ]
  },
  {
   "cell_type": "code",
   "execution_count": null,
   "metadata": {},
   "outputs": [],
   "source": [
    "create(\"Quantitative Researcher\",\n",
    "       \"Jane Street\",\n",
    "       \"250 Vesey Street. New York, NY 10281\",\n",
    "       'econ')"
   ]
  },
  {
   "cell_type": "code",
   "execution_count": null,
   "metadata": {},
   "outputs": [],
   "source": [
    "test = \"Data Science Analyst\"\n",
    "test.replace(\" \",\"\")"
   ]
  },
  {
   "cell_type": "code",
   "execution_count": null,
   "metadata": {},
   "outputs": [],
   "source": [
    "x = '(Data Scientist)'\n",
    "x.startswith('(')"
   ]
  },
  {
   "cell_type": "code",
   "execution_count": null,
   "metadata": {},
   "outputs": [],
   "source": [
    "take_first_letters(\"Data Scientist I (Fraud Data Scientist)\")\n"
   ]
  },
  {
   "cell_type": "code",
   "execution_count": null,
   "metadata": {},
   "outputs": [],
   "source": [
    "take_first_letters(\"Data Scientist IV\")"
   ]
  },
  {
   "cell_type": "code",
   "execution_count": 5,
   "metadata": {},
   "outputs": [],
   "source": [
    "create(\"President of the Vincent Lands\",\n",
    "       \"Vincent Co.\",\n",
    "       \"Ur Mum's House\",\n",
    "       \"econ\")"
   ]
  },
  {
   "cell_type": "code",
   "execution_count": null,
   "metadata": {},
   "outputs": [],
   "source": []
  }
 ],
 "metadata": {
  "kernelspec": {
   "display_name": "Python 3 (ipykernel)",
   "language": "python",
   "name": "python3"
  },
  "language_info": {
   "codemirror_mode": {
    "name": "ipython",
    "version": 3
   },
   "file_extension": ".py",
   "mimetype": "text/x-python",
   "name": "python",
   "nbconvert_exporter": "python",
   "pygments_lexer": "ipython3",
   "version": "3.9.13"
  }
 },
 "nbformat": 4,
 "nbformat_minor": 4
}
