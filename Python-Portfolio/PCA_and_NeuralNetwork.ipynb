{
  "nbformat": 4,
  "nbformat_minor": 0,
  "metadata": {
    "colab": {
      "provenance": [],
      "authorship_tag": "ABX9TyO+tIvd1VCZCkvBUnfUQLRg",
      "include_colab_link": true
    },
    "kernelspec": {
      "name": "python3",
      "display_name": "Python 3"
    },
    "language_info": {
      "name": "python"
    }
  },
  "cells": [
    {
      "cell_type": "markdown",
      "metadata": {
        "id": "view-in-github",
        "colab_type": "text"
      },
      "source": [
        "<a href=\"https://colab.research.google.com/github/vincentandaw/portfolio/blob/main/Python-Portfolio/PCA_and_NeuralNetwork.ipynb\" target=\"_parent\"><img src=\"https://colab.research.google.com/assets/colab-badge.svg\" alt=\"Open In Colab\"/></a>"
      ]
    },
    {
      "cell_type": "code",
      "execution_count": null,
      "metadata": {
        "id": "VBScZ95b_IE1"
      },
      "outputs": [],
      "source": [
        "import pandas as pd\n",
        "import numpy as np\n",
        "import matplotlib.pyplot as plt\n",
        "\n",
        "from sklearn.decomposition import PCA\n",
        "\n",
        "from sklearn.datasets import load_breast_cancer\n",
        "bcdat = load_breast_cancer()\n",
        "X, y = bcdat.data, bcdat.target\n",
        "\n",
        "random_state=14"
      ]
    },
    {
      "cell_type": "code",
      "source": [
        "### Preprocessing ###"
      ],
      "metadata": {
        "id": "sRsBbkh9Cht_"
      },
      "execution_count": null,
      "outputs": []
    },
    {
      "cell_type": "code",
      "source": [
        "from sklearn.model_selection import train_test_split\n",
        "from sklearn.preprocessing import StandardScaler\n",
        "\n",
        "#we create train and test data, then carve out validation data from train\n",
        "X_train_full, X_test, y_train_full, y_test = train_test_split(X, y, test_size=0.2, random_state=random_state)\n",
        "X_train, X_valid, y_train, y_valid = train_test_split(X_train_full, y_train_full, random_state=random_state)\n",
        "\n",
        "sc = StandardScaler()\n",
        "X_train = sc.fit_transform(X_train) #fit_transform for train; only fit_transform train\n",
        "X_valid = sc.transform(X_valid) #transform uses the parameters (e.g. mean, variance) learned by train\n",
        "X_test = sc.transform(X_test) #transform uses the parameters (e.g. mean, variance) learned by train"
      ],
      "metadata": {
        "id": "_RI_QH6jomwB"
      },
      "execution_count": null,
      "outputs": []
    },
    {
      "cell_type": "code",
      "source": [
        "### Part 1a: PCA to get only five principal components ###"
      ],
      "metadata": {
        "id": "777d9_Z0jok0"
      },
      "execution_count": null,
      "outputs": []
    },
    {
      "cell_type": "code",
      "source": [
        "pca5 = PCA(n_components = 5) #Number of PCs we want = 5\n",
        "X_train_pca = pca5.fit_transform(X_train) #Fit it to model\n",
        "X_test_pca = pca5.transform(X_test) #Transform (do not fit) the X_test (to do predictions later)\n",
        "X_valid_pca = pca5.transform(X_valid)\n",
        "\n",
        "variance_explained = np.sum(pca5.explained_variance_ratio_)\n",
        "variance_explained #0.999"
      ],
      "metadata": {
        "colab": {
          "base_uri": "https://localhost:8080/"
        },
        "id": "E6TuSiTykniS",
        "outputId": "6f910133-3cb2-4829-9723-59986492d7e8"
      },
      "execution_count": null,
      "outputs": [
        {
          "output_type": "execute_result",
          "data": {
            "text/plain": [
              "0.8541446051615719"
            ]
          },
          "metadata": {},
          "execution_count": 84
        }
      ]
    },
    {
      "cell_type": "code",
      "source": [
        "y_train.shape\n"
      ],
      "metadata": {
        "colab": {
          "base_uri": "https://localhost:8080/"
        },
        "id": "nw4pIJ3i6i8W",
        "outputId": "cfe2aa16-552a-4107-f8cc-2cadaa0a26ab"
      },
      "execution_count": null,
      "outputs": [
        {
          "output_type": "execute_result",
          "data": {
            "text/plain": [
              "(341,)"
            ]
          },
          "metadata": {},
          "execution_count": 85
        }
      ]
    },
    {
      "cell_type": "code",
      "source": [
        "### Part 1b: Do prediction on these five components only. I will use a simple random forest ###"
      ],
      "metadata": {
        "id": "mGngLvpvkvFB"
      },
      "execution_count": null,
      "outputs": []
    },
    {
      "cell_type": "code",
      "source": [
        "from sklearn.ensemble import RandomForestClassifier\n",
        "from sklearn.metrics import mean_squared_error\n",
        "\n",
        "RF = RandomForestClassifier(max_depth=2, random_state=random_state)\n",
        "RF.fit(X_train_pca,y_train)\n",
        "\n",
        "y_pred = RF.predict(X_test_pca)\n",
        "for_rmse = np.sqrt(mean_squared_error(y_test, y_pred))\n",
        "print(for_rmse) #0.2294"
      ],
      "metadata": {
        "colab": {
          "base_uri": "https://localhost:8080/"
        },
        "id": "HEvXkByYmR8g",
        "outputId": "f79ef33a-7ca2-4fac-ed97-615b659c0d11"
      },
      "execution_count": null,
      "outputs": [
        {
          "output_type": "stream",
          "name": "stdout",
          "text": [
            "0.22941573387056177\n"
          ]
        }
      ]
    },
    {
      "cell_type": "code",
      "source": [
        "from sklearn.model_selection import cross_val_score\n",
        "\n",
        "scores = cross_val_score(RF, X_train_pca, y_train, scoring=\"neg_mean_squared_error\", cv=10)\n",
        "rmse_scores = np.sqrt(-scores)\n",
        "print(rmse_scores.mean()) #0.2464"
      ],
      "metadata": {
        "colab": {
          "base_uri": "https://localhost:8080/"
        },
        "id": "V9kLjX0arjrn",
        "outputId": "fe8b09c0-381e-4bf0-8426-fc83a84ffdab"
      },
      "execution_count": null,
      "outputs": [
        {
          "output_type": "stream",
          "name": "stdout",
          "text": [
            "0.27972711286174123\n"
          ]
        }
      ]
    },
    {
      "cell_type": "code",
      "source": [
        "from sklearn.metrics import confusion_matrix\n",
        "from sklearn.metrics import accuracy_score\n",
        "\n",
        "cm = confusion_matrix(y_test, y_pred)\n",
        "print(cm)"
      ],
      "metadata": {
        "colab": {
          "base_uri": "https://localhost:8080/"
        },
        "id": "KB-CHBGspRsM",
        "outputId": "492c1d2a-49a1-4d9d-ddf5-62689c4445c1"
      },
      "execution_count": null,
      "outputs": [
        {
          "output_type": "stream",
          "name": "stdout",
          "text": [
            "[[36  5]\n",
            " [ 1 72]]\n"
          ]
        }
      ]
    },
    {
      "cell_type": "code",
      "source": [
        "### Part 2: Fit Neural Network to predict \"Malignant\" (0) or \"Benign\" (1)"
      ],
      "metadata": {
        "id": "FuCFtq33qZII"
      },
      "execution_count": null,
      "outputs": []
    },
    {
      "cell_type": "code",
      "source": [
        "import tensorflow as tf\n",
        "from tensorflow import keras"
      ],
      "metadata": {
        "id": "er3Nn7P-uzFq"
      },
      "execution_count": null,
      "outputs": []
    },
    {
      "cell_type": "code",
      "source": [
        "#Wide and Deep Neural Network Model\n",
        "\n",
        "#Run input through two hidden layers\n",
        "#then, combine input from two hidden layers with \"fresh\" input i.e. using input data twice\n",
        "#concatenate the two data together for output\n",
        "\n",
        "input_ = keras.layers.Input(shape=X_train_pca.shape[1:])\n",
        "hidden1 = keras.layers.Dense(40, activation=\"relu\")(input_)\n",
        "hidden2 = keras.layers.Dense(20, activation=\"relu\")(hidden1)\n",
        "hidden3 = keras.layers.Dense(10, activation=\"softmax\")(hidden2) #adding this layer \n",
        "concat = keras.layers.concatenate([input_, hidden2])\n",
        "output = keras.layers.Dense(1)(concat) \n",
        "model = keras.models.Model(inputs=[input_], outputs=[output])"
      ],
      "metadata": {
        "id": "Zh0e_R_Bu1zS"
      },
      "execution_count": null,
      "outputs": []
    },
    {
      "cell_type": "code",
      "source": [
        "model.summary()"
      ],
      "metadata": {
        "colab": {
          "base_uri": "https://localhost:8080/"
        },
        "id": "S0jY-1qwbDGF",
        "outputId": "f9732552-388a-4f1d-dc9b-54442cb00c85"
      },
      "execution_count": null,
      "outputs": [
        {
          "output_type": "stream",
          "name": "stdout",
          "text": [
            "Model: \"model_11\"\n",
            "__________________________________________________________________________________________________\n",
            " Layer (type)                   Output Shape         Param #     Connected to                     \n",
            "==================================================================================================\n",
            " input_12 (InputLayer)          [(None, 5)]          0           []                               \n",
            "                                                                                                  \n",
            " dense_43 (Dense)               (None, 40)           240         ['input_12[0][0]']               \n",
            "                                                                                                  \n",
            " dense_44 (Dense)               (None, 20)           820         ['dense_43[0][0]']               \n",
            "                                                                                                  \n",
            " concatenate_11 (Concatenate)   (None, 25)           0           ['input_12[0][0]',               \n",
            "                                                                  'dense_44[0][0]']               \n",
            "                                                                                                  \n",
            " dense_46 (Dense)               (None, 1)            26          ['concatenate_11[0][0]']         \n",
            "                                                                                                  \n",
            "==================================================================================================\n",
            "Total params: 1,086\n",
            "Trainable params: 1,086\n",
            "Non-trainable params: 0\n",
            "__________________________________________________________________________________________________\n"
          ]
        }
      ]
    },
    {
      "cell_type": "code",
      "source": [
        "model.compile(loss=\"binary_crossentropy\", \n",
        "              optimizer=keras.optimizers.SGD(learning_rate=1e-3),\n",
        "              metrics=[\"accuracy\"]) \n",
        "history = model.fit(X_train_pca, y_train, epochs=30,validation_data=(X_valid_pca, y_valid))"
      ],
      "metadata": {
        "colab": {
          "base_uri": "https://localhost:8080/"
        },
        "id": "6NCIc5eha5TB",
        "outputId": "cf64b598-dd27-4d7b-e2a5-9e15823f8ed9"
      },
      "execution_count": null,
      "outputs": [
        {
          "output_type": "stream",
          "name": "stdout",
          "text": [
            "Epoch 1/30\n",
            "11/11 [==============================] - 1s 23ms/step - loss: 7.2901 - accuracy: 0.4164 - val_loss: 4.9620 - val_accuracy: 0.5526\n",
            "Epoch 2/30\n",
            "11/11 [==============================] - 0s 7ms/step - loss: 5.6675 - accuracy: 0.4721 - val_loss: 3.9611 - val_accuracy: 0.5702\n",
            "Epoch 3/30\n",
            "11/11 [==============================] - 0s 7ms/step - loss: 4.7425 - accuracy: 0.5660 - val_loss: 3.0602 - val_accuracy: 0.6140\n",
            "Epoch 4/30\n",
            "11/11 [==============================] - 0s 6ms/step - loss: 4.3524 - accuracy: 0.5982 - val_loss: 2.5998 - val_accuracy: 0.6754\n",
            "Epoch 5/30\n",
            "11/11 [==============================] - 0s 6ms/step - loss: 3.3845 - accuracy: 0.6628 - val_loss: 1.8352 - val_accuracy: 0.7368\n",
            "Epoch 6/30\n",
            "11/11 [==============================] - 0s 6ms/step - loss: 2.8259 - accuracy: 0.7155 - val_loss: 1.2258 - val_accuracy: 0.8070\n",
            "Epoch 7/30\n",
            "11/11 [==============================] - 0s 6ms/step - loss: 2.2778 - accuracy: 0.7595 - val_loss: 1.0421 - val_accuracy: 0.8246\n",
            "Epoch 8/30\n",
            "11/11 [==============================] - 0s 7ms/step - loss: 1.9025 - accuracy: 0.7771 - val_loss: 0.9716 - val_accuracy: 0.8684\n",
            "Epoch 9/30\n",
            "11/11 [==============================] - 0s 7ms/step - loss: 1.6812 - accuracy: 0.8035 - val_loss: 0.9475 - val_accuracy: 0.8772\n",
            "Epoch 10/30\n",
            "11/11 [==============================] - 0s 6ms/step - loss: 1.6139 - accuracy: 0.8123 - val_loss: 0.8216 - val_accuracy: 0.8860\n",
            "Epoch 11/30\n",
            "11/11 [==============================] - 0s 8ms/step - loss: 1.3506 - accuracy: 0.8387 - val_loss: 0.9040 - val_accuracy: 0.8860\n",
            "Epoch 12/30\n",
            "11/11 [==============================] - 0s 6ms/step - loss: 0.9105 - accuracy: 0.9091 - val_loss: 1.1510 - val_accuracy: 0.9123\n",
            "Epoch 13/30\n",
            "11/11 [==============================] - 0s 6ms/step - loss: 0.5380 - accuracy: 0.9150 - val_loss: 0.9165 - val_accuracy: 0.9123\n",
            "Epoch 14/30\n",
            "11/11 [==============================] - 0s 7ms/step - loss: 0.3951 - accuracy: 0.9355 - val_loss: 0.8974 - val_accuracy: 0.9123\n",
            "Epoch 15/30\n",
            "11/11 [==============================] - 0s 6ms/step - loss: 0.3555 - accuracy: 0.9472 - val_loss: 0.7628 - val_accuracy: 0.9211\n",
            "Epoch 16/30\n",
            "11/11 [==============================] - 0s 8ms/step - loss: 0.3373 - accuracy: 0.9531 - val_loss: 0.7597 - val_accuracy: 0.9211\n",
            "Epoch 17/30\n",
            "11/11 [==============================] - 0s 7ms/step - loss: 0.3339 - accuracy: 0.9531 - val_loss: 0.7568 - val_accuracy: 0.9211\n",
            "Epoch 18/30\n",
            "11/11 [==============================] - 0s 7ms/step - loss: 0.3306 - accuracy: 0.9531 - val_loss: 0.7548 - val_accuracy: 0.9211\n",
            "Epoch 19/30\n",
            "11/11 [==============================] - 0s 6ms/step - loss: 0.3284 - accuracy: 0.9531 - val_loss: 0.7534 - val_accuracy: 0.9211\n",
            "Epoch 20/30\n",
            "11/11 [==============================] - 0s 6ms/step - loss: 0.3263 - accuracy: 0.9531 - val_loss: 0.7516 - val_accuracy: 0.9298\n",
            "Epoch 21/30\n",
            "11/11 [==============================] - 0s 7ms/step - loss: 0.3245 - accuracy: 0.9531 - val_loss: 0.7507 - val_accuracy: 0.9298\n",
            "Epoch 22/30\n",
            "11/11 [==============================] - 0s 8ms/step - loss: 0.3231 - accuracy: 0.9531 - val_loss: 0.7494 - val_accuracy: 0.9298\n",
            "Epoch 23/30\n",
            "11/11 [==============================] - 0s 6ms/step - loss: 0.3217 - accuracy: 0.9531 - val_loss: 0.7489 - val_accuracy: 0.9298\n",
            "Epoch 24/30\n",
            "11/11 [==============================] - 0s 8ms/step - loss: 0.3206 - accuracy: 0.9531 - val_loss: 0.7487 - val_accuracy: 0.9298\n",
            "Epoch 25/30\n",
            "11/11 [==============================] - 0s 6ms/step - loss: 0.3196 - accuracy: 0.9531 - val_loss: 0.7484 - val_accuracy: 0.9298\n",
            "Epoch 26/30\n",
            "11/11 [==============================] - 0s 8ms/step - loss: 0.3185 - accuracy: 0.9560 - val_loss: 0.7489 - val_accuracy: 0.9298\n",
            "Epoch 27/30\n",
            "11/11 [==============================] - 0s 7ms/step - loss: 0.3176 - accuracy: 0.9560 - val_loss: 0.7492 - val_accuracy: 0.9298\n",
            "Epoch 28/30\n",
            "11/11 [==============================] - 0s 8ms/step - loss: 0.3169 - accuracy: 0.9560 - val_loss: 0.7495 - val_accuracy: 0.9386\n",
            "Epoch 29/30\n",
            "11/11 [==============================] - 0s 7ms/step - loss: 0.3160 - accuracy: 0.9560 - val_loss: 0.7500 - val_accuracy: 0.9386\n",
            "Epoch 30/30\n",
            "11/11 [==============================] - 0s 6ms/step - loss: 0.3155 - accuracy: 0.9560 - val_loss: 0.7506 - val_accuracy: 0.9386\n"
          ]
        }
      ]
    },
    {
      "cell_type": "code",
      "source": [
        "metrics = pd.DataFrame(history.history)\n",
        "plt.plot(metrics)\n",
        "for col in ('loss', 'accuracy','val_loss','val_accuracy'):\n",
        "    metrics[col].plot(legend=True)\n",
        "plt.grid(True)\n",
        "plt.gca().set_ylim(0, 2)\n",
        "plt.show()"
      ],
      "metadata": {
        "colab": {
          "base_uri": "https://localhost:8080/",
          "height": 435
        },
        "id": "cYE9-xYc7oJK",
        "outputId": "57fc2588-88e7-4191-ac56-d4f9c57ca56c"
      },
      "execution_count": null,
      "outputs": [
        {
          "output_type": "display_data",
          "data": {
            "text/plain": [
              "<Figure size 640x480 with 1 Axes>"
            ],
            "image/png": "[encoded data removed]"
          },
          "metadata": {}
        }
      ]
    },
    {
      "cell_type": "code",
      "source": [
        "### Adding PCA created those val_loss spikes at epoch 12. Val_loss plateau also detected after epoch 15, but it does not flatline."
      ],
      "metadata": {
        "id": "ze_VVi2yDS7U"
      },
      "execution_count": null,
      "outputs": []
    },
    {
      "cell_type": "code",
      "source": [
        "mse_test = model.evaluate(X_test_pca, y_test)\n",
        "y_pred_NN = model.predict(X_test_pca)\n",
        "print(y_pred_NN.min(),y_pred_NN.max())"
      ],
      "metadata": {
        "colab": {
          "base_uri": "https://localhost:8080/"
        },
        "id": "6NzdrDyz7u_w",
        "outputId": "41f62e0c-e387-402e-8753-14e4a08d7c04"
      },
      "execution_count": null,
      "outputs": [
        {
          "output_type": "stream",
          "name": "stdout",
          "text": [
            "4/4 [==============================] - 0s 5ms/step - loss: 0.7437 - accuracy: 0.9123\n",
            "4/4 [==============================] - 0s 3ms/step\n",
            "-5.76038 8.062515\n"
          ]
        }
      ]
    },
    {
      "cell_type": "code",
      "source": [
        "### Testing: No PCA ###"
      ],
      "metadata": {
        "id": "0bqMvuaZBbJy"
      },
      "execution_count": null,
      "outputs": []
    },
    {
      "cell_type": "code",
      "source": [
        "#Wide and Deep Neural Network Model\n",
        "\n",
        "#Run input through two hidden layers\n",
        "#then, combine input from two hidden layers with \"fresh\" input i.e. using input data twice\n",
        "#concatenate the two data together for output\n",
        "\n",
        "input_ = keras.layers.Input(shape=X_train.shape[1:])\n",
        "hidden1 = keras.layers.Dense(40, activation=\"relu\")(input_)\n",
        "hidden2 = keras.layers.Dense(20, activation=\"relu\")(hidden1)\n",
        "hidden3 = keras.layers.Dense(10, activation=\"softmax\")(hidden2)\n",
        "concat = keras.layers.concatenate([input_, hidden2])\n",
        "output = keras.layers.Dense(1)(concat) \n",
        "model = keras.models.Model(inputs=[input_], outputs=[output])\n",
        "\n",
        "model.summary()"
      ],
      "metadata": {
        "colab": {
          "base_uri": "https://localhost:8080/"
        },
        "id": "BD0St2SM-bbR",
        "outputId": "d6761c3c-f280-416c-a74f-7a3dce5d279f"
      },
      "execution_count": null,
      "outputs": [
        {
          "output_type": "stream",
          "name": "stdout",
          "text": [
            "Model: \"model_12\"\n",
            "__________________________________________________________________________________________________\n",
            " Layer (type)                   Output Shape         Param #     Connected to                     \n",
            "==================================================================================================\n",
            " input_13 (InputLayer)          [(None, 30)]         0           []                               \n",
            "                                                                                                  \n",
            " dense_47 (Dense)               (None, 40)           1240        ['input_13[0][0]']               \n",
            "                                                                                                  \n",
            " dense_48 (Dense)               (None, 20)           820         ['dense_47[0][0]']               \n",
            "                                                                                                  \n",
            " concatenate_12 (Concatenate)   (None, 50)           0           ['input_13[0][0]',               \n",
            "                                                                  'dense_48[0][0]']               \n",
            "                                                                                                  \n",
            " dense_50 (Dense)               (None, 1)            51          ['concatenate_12[0][0]']         \n",
            "                                                                                                  \n",
            "==================================================================================================\n",
            "Total params: 2,111\n",
            "Trainable params: 2,111\n",
            "Non-trainable params: 0\n",
            "__________________________________________________________________________________________________\n"
          ]
        }
      ]
    },
    {
      "cell_type": "code",
      "source": [
        "model.compile(loss=\"binary_crossentropy\", \n",
        "              optimizer=keras.optimizers.SGD(learning_rate=1e-3),\n",
        "              metrics=[\"accuracy\"]) \n",
        "history = model.fit(X_train, y_train, epochs=30,validation_data=(X_valid, y_valid))"
      ],
      "metadata": {
        "colab": {
          "base_uri": "https://localhost:8080/"
        },
        "id": "GKh6j_F--o5S",
        "outputId": "22c7039a-9ef5-442d-a199-78c620cb426f"
      },
      "execution_count": null,
      "outputs": [
        {
          "output_type": "stream",
          "name": "stdout",
          "text": [
            "Epoch 1/30\n",
            "11/11 [==============================] - 1s 25ms/step - loss: 7.1708 - accuracy: 0.3372 - val_loss: 5.9041 - val_accuracy: 0.3684\n",
            "Epoch 2/30\n",
            "11/11 [==============================] - 0s 7ms/step - loss: 4.2489 - accuracy: 0.5337 - val_loss: 2.6247 - val_accuracy: 0.6667\n",
            "Epoch 3/30\n",
            "11/11 [==============================] - 0s 6ms/step - loss: 2.6559 - accuracy: 0.6540 - val_loss: 2.1239 - val_accuracy: 0.7368\n",
            "Epoch 4/30\n",
            "11/11 [==============================] - 0s 7ms/step - loss: 2.1590 - accuracy: 0.7067 - val_loss: 1.4014 - val_accuracy: 0.7982\n",
            "Epoch 5/30\n",
            "11/11 [==============================] - 0s 7ms/step - loss: 1.1481 - accuracy: 0.7947 - val_loss: 1.0652 - val_accuracy: 0.8333\n",
            "Epoch 6/30\n",
            "11/11 [==============================] - 0s 8ms/step - loss: 0.8238 - accuracy: 0.8299 - val_loss: 1.0047 - val_accuracy: 0.8509\n",
            "Epoch 7/30\n",
            "11/11 [==============================] - 0s 7ms/step - loss: 0.6523 - accuracy: 0.8622 - val_loss: 0.9660 - val_accuracy: 0.8772\n",
            "Epoch 8/30\n",
            "11/11 [==============================] - 0s 6ms/step - loss: 0.6134 - accuracy: 0.8827 - val_loss: 0.9542 - val_accuracy: 0.8772\n",
            "Epoch 9/30\n",
            "11/11 [==============================] - 0s 7ms/step - loss: 0.5269 - accuracy: 0.9003 - val_loss: 0.7418 - val_accuracy: 0.8772\n",
            "Epoch 10/30\n",
            "11/11 [==============================] - 0s 5ms/step - loss: 0.5078 - accuracy: 0.9091 - val_loss: 0.7180 - val_accuracy: 0.8772\n",
            "Epoch 11/30\n",
            "11/11 [==============================] - 0s 7ms/step - loss: 0.4969 - accuracy: 0.9120 - val_loss: 0.7050 - val_accuracy: 0.8772\n",
            "Epoch 12/30\n",
            "11/11 [==============================] - 0s 6ms/step - loss: 0.3470 - accuracy: 0.9355 - val_loss: 0.7662 - val_accuracy: 0.8947\n",
            "Epoch 13/30\n",
            "11/11 [==============================] - 0s 8ms/step - loss: 0.2633 - accuracy: 0.9413 - val_loss: 0.7663 - val_accuracy: 0.8947\n",
            "Epoch 14/30\n",
            "11/11 [==============================] - 0s 8ms/step - loss: 0.2600 - accuracy: 0.9413 - val_loss: 0.7660 - val_accuracy: 0.8947\n",
            "Epoch 15/30\n",
            "11/11 [==============================] - 0s 6ms/step - loss: 0.2575 - accuracy: 0.9413 - val_loss: 0.7658 - val_accuracy: 0.8947\n",
            "Epoch 16/30\n",
            "11/11 [==============================] - 0s 6ms/step - loss: 0.2554 - accuracy: 0.9413 - val_loss: 0.7655 - val_accuracy: 0.8947\n",
            "Epoch 17/30\n",
            "11/11 [==============================] - 0s 6ms/step - loss: 0.2535 - accuracy: 0.9443 - val_loss: 0.7651 - val_accuracy: 0.9035\n",
            "Epoch 18/30\n",
            "11/11 [==============================] - 0s 6ms/step - loss: 0.2517 - accuracy: 0.9443 - val_loss: 0.7650 - val_accuracy: 0.9035\n",
            "Epoch 19/30\n",
            "11/11 [==============================] - 0s 6ms/step - loss: 0.2503 - accuracy: 0.9443 - val_loss: 0.7648 - val_accuracy: 0.9035\n",
            "Epoch 20/30\n",
            "11/11 [==============================] - 0s 6ms/step - loss: 0.2487 - accuracy: 0.9501 - val_loss: 0.7646 - val_accuracy: 0.9035\n",
            "Epoch 21/30\n",
            "11/11 [==============================] - 0s 7ms/step - loss: 0.2474 - accuracy: 0.9501 - val_loss: 0.7644 - val_accuracy: 0.9123\n",
            "Epoch 22/30\n",
            "11/11 [==============================] - 0s 8ms/step - loss: 0.2461 - accuracy: 0.9501 - val_loss: 0.7643 - val_accuracy: 0.9123\n",
            "Epoch 23/30\n",
            "11/11 [==============================] - 0s 6ms/step - loss: 0.2448 - accuracy: 0.9501 - val_loss: 0.7644 - val_accuracy: 0.9123\n",
            "Epoch 24/30\n",
            "11/11 [==============================] - 0s 7ms/step - loss: 0.2435 - accuracy: 0.9501 - val_loss: 0.7643 - val_accuracy: 0.9123\n",
            "Epoch 25/30\n",
            "11/11 [==============================] - 0s 6ms/step - loss: 0.2425 - accuracy: 0.9501 - val_loss: 0.7642 - val_accuracy: 0.9123\n",
            "Epoch 26/30\n",
            "11/11 [==============================] - 0s 6ms/step - loss: 0.2414 - accuracy: 0.9501 - val_loss: 0.7643 - val_accuracy: 0.9123\n",
            "Epoch 27/30\n",
            "11/11 [==============================] - 0s 7ms/step - loss: 0.2404 - accuracy: 0.9501 - val_loss: 0.7643 - val_accuracy: 0.9123\n",
            "Epoch 28/30\n",
            "11/11 [==============================] - 0s 7ms/step - loss: 0.2393 - accuracy: 0.9501 - val_loss: 0.7644 - val_accuracy: 0.9123\n",
            "Epoch 29/30\n",
            "11/11 [==============================] - 0s 7ms/step - loss: 0.2384 - accuracy: 0.9501 - val_loss: 0.6810 - val_accuracy: 0.9123\n",
            "Epoch 30/30\n",
            "11/11 [==============================] - 0s 7ms/step - loss: 0.2375 - accuracy: 0.9501 - val_loss: 0.6660 - val_accuracy: 0.9123\n"
          ]
        }
      ]
    },
    {
      "cell_type": "code",
      "source": [
        "metrics_noPCA = pd.DataFrame(history.history)\n",
        "plt.plot(metrics_noPCA)\n",
        "for col in ('loss', 'accuracy','val_loss','val_accuracy'):\n",
        "    metrics_noPCA[col].plot(legend=True)\n",
        "plt.grid(True)\n",
        "plt.gca().set_ylim(0, 2)\n",
        "plt.show()"
      ],
      "metadata": {
        "colab": {
          "base_uri": "https://localhost:8080/",
          "height": 435
        },
        "id": "nL5OZ8hj-t4-",
        "outputId": "b507ca85-1edf-46c6-ff9c-33960279aecd"
      },
      "execution_count": null,
      "outputs": [
        {
          "output_type": "display_data",
          "data": {
            "text/plain": [
              "<Figure size 640x480 with 1 Axes>"
            ],
            "image/png": "[encoded data removed]"
          },
          "metadata": {}
        }
      ]
    },
    {
      "cell_type": "code",
      "source": [],
      "metadata": {
        "id": "hO4NjJ7MAsPd"
      },
      "execution_count": null,
      "outputs": []
    }
  ]
}