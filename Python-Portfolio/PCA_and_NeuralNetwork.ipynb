{
  "nbformat": 4,
  "nbformat_minor": 0,
  "metadata": {
    "colab": {
      "provenance": [],
      "authorship_tag": "ABX9TyMivs2YEeXhyoSC1N0hUkL1",
      "include_colab_link": true
    },
    "kernelspec": {
      "name": "python3",
      "display_name": "Python 3"
    },
    "language_info": {
      "name": "python"
    }
  },
  "cells": [
    {
      "cell_type": "markdown",
      "metadata": {
        "id": "view-in-github",
        "colab_type": "text"
      },
      "source": [
        "<a href=\"https://colab.research.google.com/github/vincentandaw/portfolio/blob/main/Python-Portfolio/PCA_and_NeuralNetwork.ipynb\" target=\"_parent\"><img src=\"https://colab.research.google.com/assets/colab-badge.svg\" alt=\"Open In Colab\"/></a>"
      ]
    },
    {
      "cell_type": "code",
      "execution_count": 1,
      "metadata": {
        "id": "VBScZ95b_IE1"
      },
      "outputs": [],
      "source": [
        "import pandas as pd\n",
        "import numpy as np\n",
        "import matplotlib.pyplot as plt\n",
        "\n",
        "from sklearn.decomposition import PCA\n",
        "\n",
        "from sklearn.datasets import load_breast_cancer\n",
        "bcdat = load_breast_cancer()\n",
        "X, y = bcdat.data, bcdat.target\n",
        "\n",
        "random_state=14"
      ]
    },
    {
      "cell_type": "code",
      "source": [
        "### Preprocessing ###"
      ],
      "metadata": {
        "id": "sRsBbkh9Cht_"
      },
      "execution_count": 2,
      "outputs": []
    },
    {
      "cell_type": "code",
      "source": [
        "from sklearn.model_selection import train_test_split\n",
        "from sklearn.preprocessing import StandardScaler\n",
        "\n",
        "#we create train and test data, then carve out validation data from train\n",
        "X_train_full, X_test, y_train_full, y_test = train_test_split(X, y, test_size=0.2, random_state=random_state)\n",
        "X_train, X_valid, y_train, y_valid = train_test_split(X_train_full, y_train_full, random_state=random_state)\n",
        "\n",
        "sc = StandardScaler()\n",
        "X_train = sc.fit_transform(X_train) #fit_transform for train; only fit_transform train\n",
        "X_valid = sc.transform(X_valid) #transform uses the parameters (e.g. mean, variance) learned by train\n",
        "X_test = sc.transform(X_test) #transform uses the parameters (e.g. mean, variance) learned by train"
      ],
      "metadata": {
        "id": "_RI_QH6jomwB"
      },
      "execution_count": 3,
      "outputs": []
    },
    {
      "cell_type": "code",
      "source": [
        "### Part 1a: PCA to get only five principal components ###"
      ],
      "metadata": {
        "id": "777d9_Z0jok0"
      },
      "execution_count": 4,
      "outputs": []
    },
    {
      "cell_type": "code",
      "source": [
        "pca5 = PCA(n_components = 5) #Number of PCs we want = 5\n",
        "X_train_pca = pca5.fit_transform(X_train) #Fit it to model\n",
        "X_test_pca = pca5.transform(X_test) #Transform (do not fit) the X_test (to do predictions later)\n",
        "X_valid_pca = pca5.transform(X_valid)\n",
        "\n",
        "variance_explained = np.sum(pca5.explained_variance_ratio_)\n",
        "variance_explained #0.999"
      ],
      "metadata": {
        "colab": {
          "base_uri": "https://localhost:8080/"
        },
        "id": "E6TuSiTykniS",
        "outputId": "8848c330-102f-4051-ce4a-4f6459ec46ab"
      },
      "execution_count": 5,
      "outputs": [
        {
          "output_type": "execute_result",
          "data": {
            "text/plain": [
              "0.8541446051615719"
            ]
          },
          "metadata": {},
          "execution_count": 5
        }
      ]
    },
    {
      "cell_type": "code",
      "source": [
        "y_train.shape\n"
      ],
      "metadata": {
        "colab": {
          "base_uri": "https://localhost:8080/"
        },
        "id": "nw4pIJ3i6i8W",
        "outputId": "be41424d-7a28-414d-a6c4-8f8d4cc8735c"
      },
      "execution_count": 6,
      "outputs": [
        {
          "output_type": "execute_result",
          "data": {
            "text/plain": [
              "(341,)"
            ]
          },
          "metadata": {},
          "execution_count": 6
        }
      ]
    },
    {
      "cell_type": "code",
      "source": [
        "### Part 1b: Do prediction on these five components only. I will use a simple random forest ###"
      ],
      "metadata": {
        "id": "mGngLvpvkvFB"
      },
      "execution_count": 7,
      "outputs": []
    },
    {
      "cell_type": "code",
      "source": [
        "from sklearn.ensemble import RandomForestClassifier\n",
        "from sklearn.metrics import mean_squared_error\n",
        "\n",
        "RF = RandomForestClassifier(max_depth=2, random_state=random_state)\n",
        "RF.fit(X_train_pca,y_train)\n",
        "\n",
        "y_pred = RF.predict(X_test_pca)\n",
        "for_rmse = np.sqrt(mean_squared_error(y_test, y_pred))\n",
        "print(for_rmse) #0.2294"
      ],
      "metadata": {
        "colab": {
          "base_uri": "https://localhost:8080/"
        },
        "id": "HEvXkByYmR8g",
        "outputId": "d48b66cb-9c4b-40e8-d90f-818197a9f732"
      },
      "execution_count": 8,
      "outputs": [
        {
          "output_type": "stream",
          "name": "stdout",
          "text": [
            "0.22941573387056177\n"
          ]
        }
      ]
    },
    {
      "cell_type": "code",
      "source": [
        "from sklearn.model_selection import cross_val_score\n",
        "\n",
        "scores = cross_val_score(RF, X_train_pca, y_train, scoring=\"neg_mean_squared_error\", cv=10)\n",
        "rmse_scores = np.sqrt(-scores)\n",
        "print(rmse_scores.mean()) #0.2464"
      ],
      "metadata": {
        "colab": {
          "base_uri": "https://localhost:8080/"
        },
        "id": "V9kLjX0arjrn",
        "outputId": "51ffb388-5db2-42ea-e742-dccaee527b28"
      },
      "execution_count": 9,
      "outputs": [
        {
          "output_type": "stream",
          "name": "stdout",
          "text": [
            "0.27972711286174123\n"
          ]
        }
      ]
    },
    {
      "cell_type": "code",
      "source": [
        "from sklearn.metrics import confusion_matrix\n",
        "from sklearn.metrics import accuracy_score\n",
        "\n",
        "cm = confusion_matrix(y_test, y_pred)\n",
        "print(cm)"
      ],
      "metadata": {
        "colab": {
          "base_uri": "https://localhost:8080/"
        },
        "id": "KB-CHBGspRsM",
        "outputId": "b7248909-db99-4839-c286-e607594449ac"
      },
      "execution_count": 10,
      "outputs": [
        {
          "output_type": "stream",
          "name": "stdout",
          "text": [
            "[[36  5]\n",
            " [ 1 72]]\n"
          ]
        }
      ]
    },
    {
      "cell_type": "code",
      "source": [
        "### Part 2: Fit Neural Network to predict \"Malignant\" (0) or \"Benign\" (1)"
      ],
      "metadata": {
        "id": "FuCFtq33qZII"
      },
      "execution_count": 11,
      "outputs": []
    },
    {
      "cell_type": "code",
      "source": [
        "import tensorflow as tf\n",
        "from tensorflow import keras"
      ],
      "metadata": {
        "id": "er3Nn7P-uzFq"
      },
      "execution_count": 12,
      "outputs": []
    },
    {
      "cell_type": "code",
      "source": [
        "#Wide and Deep Neural Network Model\n",
        "\n",
        "#Run input through two hidden layers\n",
        "#then, combine input from two hidden layers with \"fresh\" input i.e. using input data twice\n",
        "#concatenate the two data together for output\n",
        "\n",
        "input_ = keras.layers.Input(shape=X_train_pca.shape[1:])\n",
        "hidden1 = keras.layers.Dense(40, activation=\"relu\")(input_)\n",
        "hidden2 = keras.layers.Dense(20, activation=\"relu\")(hidden1)\n",
        "hidden3 = keras.layers.Dense(10, activation=\"softmax\")(hidden2) #adding this layer \n",
        "concat = keras.layers.concatenate([input_, hidden2])\n",
        "output = keras.layers.Dense(1)(concat) \n",
        "model = keras.models.Model(inputs=[input_], outputs=[output])"
      ],
      "metadata": {
        "id": "Zh0e_R_Bu1zS"
      },
      "execution_count": 13,
      "outputs": []
    },
    {
      "cell_type": "code",
      "source": [
        "model.summary()"
      ],
      "metadata": {
        "colab": {
          "base_uri": "https://localhost:8080/"
        },
        "id": "S0jY-1qwbDGF",
        "outputId": "7c28b1d3-4106-4830-e033-887d6d6099f8"
      },
      "execution_count": 14,
      "outputs": [
        {
          "output_type": "stream",
          "name": "stdout",
          "text": [
            "Model: \"model\"\n",
            "__________________________________________________________________________________________________\n",
            " Layer (type)                   Output Shape         Param #     Connected to                     \n",
            "==================================================================================================\n",
            " input_1 (InputLayer)           [(None, 5)]          0           []                               \n",
            "                                                                                                  \n",
            " dense (Dense)                  (None, 40)           240         ['input_1[0][0]']                \n",
            "                                                                                                  \n",
            " dense_1 (Dense)                (None, 20)           820         ['dense[0][0]']                  \n",
            "                                                                                                  \n",
            " concatenate (Concatenate)      (None, 25)           0           ['input_1[0][0]',                \n",
            "                                                                  'dense_1[0][0]']                \n",
            "                                                                                                  \n",
            " dense_3 (Dense)                (None, 1)            26          ['concatenate[0][0]']            \n",
            "                                                                                                  \n",
            "==================================================================================================\n",
            "Total params: 1,086\n",
            "Trainable params: 1,086\n",
            "Non-trainable params: 0\n",
            "__________________________________________________________________________________________________\n"
          ]
        }
      ]
    },
    {
      "cell_type": "code",
      "source": [
        "model.compile(loss=\"binary_crossentropy\", \n",
        "              optimizer=keras.optimizers.SGD(learning_rate=1e-3),\n",
        "              metrics=[\"accuracy\"]) \n",
        "history = model.fit(X_train_pca, y_train, epochs=30,validation_data=(X_valid_pca, y_valid))"
      ],
      "metadata": {
        "colab": {
          "base_uri": "https://localhost:8080/"
        },
        "id": "6NCIc5eha5TB",
        "outputId": "6a178ee8-74b0-4960-dd37-c81fdca9093c"
      },
      "execution_count": 15,
      "outputs": [
        {
          "output_type": "stream",
          "name": "stdout",
          "text": [
            "Epoch 1/30\n",
            "11/11 [==============================] - 4s 103ms/step - loss: 9.7606 - accuracy: 0.2493 - val_loss: 7.9660 - val_accuracy: 0.3772\n",
            "Epoch 2/30\n",
            "11/11 [==============================] - 0s 9ms/step - loss: 8.9511 - accuracy: 0.3079 - val_loss: 7.4097 - val_accuracy: 0.4035\n",
            "Epoch 3/30\n",
            "11/11 [==============================] - 0s 12ms/step - loss: 8.3210 - accuracy: 0.3284 - val_loss: 6.7083 - val_accuracy: 0.4298\n",
            "Epoch 4/30\n",
            "11/11 [==============================] - 0s 20ms/step - loss: 8.1684 - accuracy: 0.3636 - val_loss: 6.4957 - val_accuracy: 0.4298\n",
            "Epoch 5/30\n",
            "11/11 [==============================] - 0s 22ms/step - loss: 7.3873 - accuracy: 0.4282 - val_loss: 5.2486 - val_accuracy: 0.5000\n",
            "Epoch 6/30\n",
            "11/11 [==============================] - 0s 15ms/step - loss: 6.6159 - accuracy: 0.4751 - val_loss: 4.4170 - val_accuracy: 0.5263\n",
            "Epoch 7/30\n",
            "11/11 [==============================] - 0s 10ms/step - loss: 5.3599 - accuracy: 0.5308 - val_loss: 3.5558 - val_accuracy: 0.6491\n",
            "Epoch 8/30\n",
            "11/11 [==============================] - 0s 12ms/step - loss: 3.6629 - accuracy: 0.6012 - val_loss: 2.1749 - val_accuracy: 0.7456\n",
            "Epoch 9/30\n",
            "11/11 [==============================] - 0s 15ms/step - loss: 2.5405 - accuracy: 0.6950 - val_loss: 1.8487 - val_accuracy: 0.7719\n",
            "Epoch 10/30\n",
            "11/11 [==============================] - 0s 22ms/step - loss: 2.0577 - accuracy: 0.7566 - val_loss: 1.6192 - val_accuracy: 0.8596\n",
            "Epoch 11/30\n",
            "11/11 [==============================] - 0s 38ms/step - loss: 1.4249 - accuracy: 0.8006 - val_loss: 0.8133 - val_accuracy: 0.8860\n",
            "Epoch 12/30\n",
            "11/11 [==============================] - 0s 13ms/step - loss: 0.8022 - accuracy: 0.8622 - val_loss: 0.7849 - val_accuracy: 0.9035\n",
            "Epoch 13/30\n",
            "11/11 [==============================] - 0s 16ms/step - loss: 0.6114 - accuracy: 0.8768 - val_loss: 0.7641 - val_accuracy: 0.9211\n",
            "Epoch 14/30\n",
            "11/11 [==============================] - 0s 14ms/step - loss: 0.5426 - accuracy: 0.8974 - val_loss: 0.7547 - val_accuracy: 0.9123\n",
            "Epoch 15/30\n",
            "11/11 [==============================] - 0s 15ms/step - loss: 0.5267 - accuracy: 0.8974 - val_loss: 0.7490 - val_accuracy: 0.9123\n",
            "Epoch 16/30\n",
            "11/11 [==============================] - 0s 10ms/step - loss: 0.4857 - accuracy: 0.9091 - val_loss: 0.7429 - val_accuracy: 0.9123\n",
            "Epoch 17/30\n",
            "11/11 [==============================] - 0s 14ms/step - loss: 0.4687 - accuracy: 0.9208 - val_loss: 0.5574 - val_accuracy: 0.9123\n",
            "Epoch 18/30\n",
            "11/11 [==============================] - 0s 11ms/step - loss: 0.3961 - accuracy: 0.9238 - val_loss: 0.5133 - val_accuracy: 0.9123\n",
            "Epoch 19/30\n",
            "11/11 [==============================] - 0s 12ms/step - loss: 0.3080 - accuracy: 0.9296 - val_loss: 0.5021 - val_accuracy: 0.9123\n",
            "Epoch 20/30\n",
            "11/11 [==============================] - 0s 10ms/step - loss: 0.2951 - accuracy: 0.9296 - val_loss: 0.4977 - val_accuracy: 0.9123\n",
            "Epoch 21/30\n",
            "11/11 [==============================] - 0s 8ms/step - loss: 0.2904 - accuracy: 0.9296 - val_loss: 0.4952 - val_accuracy: 0.9123\n",
            "Epoch 22/30\n",
            "11/11 [==============================] - 0s 15ms/step - loss: 0.2870 - accuracy: 0.9296 - val_loss: 0.4943 - val_accuracy: 0.9123\n",
            "Epoch 23/30\n",
            "11/11 [==============================] - 0s 25ms/step - loss: 0.2840 - accuracy: 0.9267 - val_loss: 0.4927 - val_accuracy: 0.9123\n",
            "Epoch 24/30\n",
            "11/11 [==============================] - 0s 17ms/step - loss: 0.2813 - accuracy: 0.9296 - val_loss: 0.4914 - val_accuracy: 0.9123\n",
            "Epoch 25/30\n",
            "11/11 [==============================] - 0s 13ms/step - loss: 0.2785 - accuracy: 0.9326 - val_loss: 0.4891 - val_accuracy: 0.9123\n",
            "Epoch 26/30\n",
            "11/11 [==============================] - 0s 17ms/step - loss: 0.2763 - accuracy: 0.9326 - val_loss: 0.4875 - val_accuracy: 0.9123\n",
            "Epoch 27/30\n",
            "11/11 [==============================] - 0s 18ms/step - loss: 0.2742 - accuracy: 0.9326 - val_loss: 0.4868 - val_accuracy: 0.9123\n",
            "Epoch 28/30\n",
            "11/11 [==============================] - 0s 8ms/step - loss: 0.2720 - accuracy: 0.9326 - val_loss: 0.4857 - val_accuracy: 0.9123\n",
            "Epoch 29/30\n",
            "11/11 [==============================] - 0s 10ms/step - loss: 0.2704 - accuracy: 0.9326 - val_loss: 0.4849 - val_accuracy: 0.9123\n",
            "Epoch 30/30\n",
            "11/11 [==============================] - 0s 10ms/step - loss: 0.2688 - accuracy: 0.9355 - val_loss: 0.4852 - val_accuracy: 0.9123\n"
          ]
        }
      ]
    },
    {
      "cell_type": "code",
      "source": [
        "metrics = pd.DataFrame(history.history)\n",
        "plt.plot(metrics)\n",
        "for col in ('loss', 'accuracy','val_loss','val_accuracy'):\n",
        "    metrics[col].plot(legend=True)\n",
        "plt.grid(True)\n",
        "plt.gca().set_ylim(0, 2)\n",
        "plt.show()"
      ],
      "metadata": {
        "colab": {
          "base_uri": "https://localhost:8080/",
          "height": 435
        },
        "id": "cYE9-xYc7oJK",
        "outputId": "5ba1ad04-4543-4b97-e096-f86c2c6fc658"
      },
      "execution_count": 16,
      "outputs": [
        {
          "output_type": "display_data",
          "data": {
            "text/plain": [
              "<Figure size 640x480 with 1 Axes>"
            ],
            "image/png": "[encoded data removed]"
          },
          "metadata": {}
        }
      ]
    },
    {
      "cell_type": "code",
      "source": [
        "### Adding PCA created those val_loss spikes at epoch 12. Val_loss plateau also detected after epoch 15, but it does not flatline."
      ],
      "metadata": {
        "id": "ze_VVi2yDS7U"
      },
      "execution_count": 17,
      "outputs": []
    },
    {
      "cell_type": "code",
      "source": [
        "mse_test = model.evaluate(X_test_pca, y_test)\n",
        "y_pred_NN = model.predict(X_test_pca)\n",
        "print(y_pred_NN.min(),y_pred_NN.max())"
      ],
      "metadata": {
        "colab": {
          "base_uri": "https://localhost:8080/"
        },
        "id": "6NzdrDyz7u_w",
        "outputId": "0a51ca71-babe-47ae-b410-323ff5e6e6c8"
      },
      "execution_count": 18,
      "outputs": [
        {
          "output_type": "stream",
          "name": "stdout",
          "text": [
            "4/4 [==============================] - 0s 4ms/step - loss: 0.1448 - accuracy: 0.9298\n",
            "4/4 [==============================] - 0s 6ms/step\n",
            "-5.7111278 4.4934506\n"
          ]
        }
      ]
    },
    {
      "cell_type": "code",
      "source": [
        "### Testing: No PCA ###"
      ],
      "metadata": {
        "id": "0bqMvuaZBbJy"
      },
      "execution_count": 19,
      "outputs": []
    },
    {
      "cell_type": "code",
      "source": [
        "#Wide and Deep Neural Network Model\n",
        "\n",
        "#Run input through two hidden layers\n",
        "#then, combine input from two hidden layers with \"fresh\" input i.e. using input data twice\n",
        "#concatenate the two data together for output\n",
        "\n",
        "input_ = keras.layers.Input(shape=X_train.shape[1:])\n",
        "hidden1 = keras.layers.Dense(40, activation=\"relu\")(input_)\n",
        "hidden2 = keras.layers.Dense(20, activation=\"relu\")(hidden1)\n",
        "hidden3 = keras.layers.Dense(10, activation=\"softmax\")(hidden2)\n",
        "concat = keras.layers.concatenate([input_, hidden2])\n",
        "output = keras.layers.Dense(1)(concat) \n",
        "model_noPCA = keras.models.Model(inputs=[input_], outputs=[output])\n",
        "\n",
        "model_noPCA.summary()"
      ],
      "metadata": {
        "colab": {
          "base_uri": "https://localhost:8080/"
        },
        "id": "BD0St2SM-bbR",
        "outputId": "6ccf2490-838a-49e7-babd-c49ad7e25021"
      },
      "execution_count": 20,
      "outputs": [
        {
          "output_type": "stream",
          "name": "stdout",
          "text": [
            "Model: \"model_1\"\n",
            "__________________________________________________________________________________________________\n",
            " Layer (type)                   Output Shape         Param #     Connected to                     \n",
            "==================================================================================================\n",
            " input_2 (InputLayer)           [(None, 30)]         0           []                               \n",
            "                                                                                                  \n",
            " dense_4 (Dense)                (None, 40)           1240        ['input_2[0][0]']                \n",
            "                                                                                                  \n",
            " dense_5 (Dense)                (None, 20)           820         ['dense_4[0][0]']                \n",
            "                                                                                                  \n",
            " concatenate_1 (Concatenate)    (None, 50)           0           ['input_2[0][0]',                \n",
            "                                                                  'dense_5[0][0]']                \n",
            "                                                                                                  \n",
            " dense_7 (Dense)                (None, 1)            51          ['concatenate_1[0][0]']          \n",
            "                                                                                                  \n",
            "==================================================================================================\n",
            "Total params: 2,111\n",
            "Trainable params: 2,111\n",
            "Non-trainable params: 0\n",
            "__________________________________________________________________________________________________\n"
          ]
        }
      ]
    },
    {
      "cell_type": "code",
      "source": [
        "model_noPCA.compile(loss=\"binary_crossentropy\", \n",
        "              optimizer=keras.optimizers.SGD(learning_rate=1e-3),\n",
        "              metrics=[\"accuracy\"]) \n",
        "history_noPCA = model_noPCA.fit(X_train, y_train, epochs=30,validation_data=(X_valid, y_valid))"
      ],
      "metadata": {
        "colab": {
          "base_uri": "https://localhost:8080/"
        },
        "id": "GKh6j_F--o5S",
        "outputId": "06ac1e55-f615-4e6d-b210-9627f6882a5e"
      },
      "execution_count": 21,
      "outputs": [
        {
          "output_type": "stream",
          "name": "stdout",
          "text": [
            "Epoch 1/30\n",
            "11/11 [==============================] - 2s 45ms/step - loss: 2.7557 - accuracy: 0.7185 - val_loss: 2.6252 - val_accuracy: 0.7719\n",
            "Epoch 2/30\n",
            "11/11 [==============================] - 0s 8ms/step - loss: 2.5233 - accuracy: 0.7419 - val_loss: 2.5619 - val_accuracy: 0.7982\n",
            "Epoch 3/30\n",
            "11/11 [==============================] - 0s 20ms/step - loss: 2.2066 - accuracy: 0.7537 - val_loss: 2.2423 - val_accuracy: 0.8070\n",
            "Epoch 4/30\n",
            "11/11 [==============================] - 0s 9ms/step - loss: 2.1316 - accuracy: 0.7683 - val_loss: 2.0885 - val_accuracy: 0.8070\n",
            "Epoch 5/30\n",
            "11/11 [==============================] - 0s 26ms/step - loss: 2.0732 - accuracy: 0.7830 - val_loss: 1.9440 - val_accuracy: 0.8070\n",
            "Epoch 6/30\n",
            "11/11 [==============================] - 0s 16ms/step - loss: 2.0492 - accuracy: 0.7977 - val_loss: 1.9246 - val_accuracy: 0.8070\n",
            "Epoch 7/30\n",
            "11/11 [==============================] - 0s 9ms/step - loss: 2.0381 - accuracy: 0.8035 - val_loss: 1.9120 - val_accuracy: 0.8070\n",
            "Epoch 8/30\n",
            "11/11 [==============================] - 0s 10ms/step - loss: 2.0286 - accuracy: 0.8094 - val_loss: 1.9017 - val_accuracy: 0.8070\n",
            "Epoch 9/30\n",
            "11/11 [==============================] - 0s 11ms/step - loss: 1.9879 - accuracy: 0.8123 - val_loss: 1.7715 - val_accuracy: 0.8070\n",
            "Epoch 10/30\n",
            "11/11 [==============================] - 0s 9ms/step - loss: 1.9246 - accuracy: 0.8240 - val_loss: 1.7604 - val_accuracy: 0.8158\n",
            "Epoch 11/30\n",
            "11/11 [==============================] - 0s 12ms/step - loss: 1.9185 - accuracy: 0.8299 - val_loss: 1.7522 - val_accuracy: 0.8158\n",
            "Epoch 12/30\n",
            "11/11 [==============================] - 0s 9ms/step - loss: 1.8829 - accuracy: 0.8299 - val_loss: 1.5985 - val_accuracy: 0.8421\n",
            "Epoch 13/30\n",
            "11/11 [==============================] - 0s 21ms/step - loss: 1.5533 - accuracy: 0.8328 - val_loss: 1.5905 - val_accuracy: 0.8509\n",
            "Epoch 14/30\n",
            "11/11 [==============================] - 0s 8ms/step - loss: 1.3984 - accuracy: 0.8446 - val_loss: 1.0121 - val_accuracy: 0.8684\n",
            "Epoch 15/30\n",
            "11/11 [==============================] - 0s 22ms/step - loss: 1.1339 - accuracy: 0.8563 - val_loss: 0.9928 - val_accuracy: 0.8684\n",
            "Epoch 16/30\n",
            "11/11 [==============================] - 0s 31ms/step - loss: 1.0948 - accuracy: 0.8563 - val_loss: 0.6404 - val_accuracy: 0.9211\n",
            "Epoch 17/30\n",
            "11/11 [==============================] - 0s 36ms/step - loss: 0.9260 - accuracy: 0.8856 - val_loss: 0.6350 - val_accuracy: 0.9211\n",
            "Epoch 18/30\n",
            "11/11 [==============================] - 0s 18ms/step - loss: 0.8092 - accuracy: 0.8856 - val_loss: 0.5244 - val_accuracy: 0.9211\n",
            "Epoch 19/30\n",
            "11/11 [==============================] - 0s 37ms/step - loss: 0.7529 - accuracy: 0.8944 - val_loss: 0.5145 - val_accuracy: 0.9211\n",
            "Epoch 20/30\n",
            "11/11 [==============================] - 0s 15ms/step - loss: 0.6785 - accuracy: 0.8944 - val_loss: 0.5001 - val_accuracy: 0.9123\n",
            "Epoch 21/30\n",
            "11/11 [==============================] - 0s 19ms/step - loss: 0.6560 - accuracy: 0.9003 - val_loss: 0.4985 - val_accuracy: 0.9123\n",
            "Epoch 22/30\n",
            "11/11 [==============================] - 0s 21ms/step - loss: 0.6516 - accuracy: 0.9003 - val_loss: 0.4967 - val_accuracy: 0.9123\n",
            "Epoch 23/30\n",
            "11/11 [==============================] - 0s 21ms/step - loss: 0.6489 - accuracy: 0.9003 - val_loss: 0.4953 - val_accuracy: 0.9123\n",
            "Epoch 24/30\n",
            "11/11 [==============================] - 0s 24ms/step - loss: 0.6460 - accuracy: 0.9062 - val_loss: 0.4939 - val_accuracy: 0.9123\n",
            "Epoch 25/30\n",
            "11/11 [==============================] - 0s 14ms/step - loss: 0.6435 - accuracy: 0.9062 - val_loss: 0.4926 - val_accuracy: 0.9123\n",
            "Epoch 26/30\n",
            "11/11 [==============================] - 0s 24ms/step - loss: 0.6416 - accuracy: 0.9062 - val_loss: 0.4915 - val_accuracy: 0.9123\n",
            "Epoch 27/30\n",
            "11/11 [==============================] - 0s 27ms/step - loss: 0.6395 - accuracy: 0.9062 - val_loss: 0.4904 - val_accuracy: 0.9123\n",
            "Epoch 28/30\n",
            "11/11 [==============================] - 0s 8ms/step - loss: 0.6377 - accuracy: 0.9091 - val_loss: 0.4896 - val_accuracy: 0.9123\n",
            "Epoch 29/30\n",
            "11/11 [==============================] - 0s 8ms/step - loss: 0.6359 - accuracy: 0.9091 - val_loss: 0.4887 - val_accuracy: 0.9211\n",
            "Epoch 30/30\n",
            "11/11 [==============================] - 0s 7ms/step - loss: 0.6033 - accuracy: 0.9120 - val_loss: 0.4940 - val_accuracy: 0.9211\n"
          ]
        }
      ]
    },
    {
      "cell_type": "code",
      "source": [
        "metrics_noPCA = pd.DataFrame(history_noPCA.history)\n",
        "plt.plot(metrics_noPCA)\n",
        "for col in ('loss', 'accuracy','val_loss','val_accuracy'):\n",
        "    metrics_noPCA[col].plot(legend=True)\n",
        "plt.grid(True)\n",
        "plt.gca().set_ylim(0, 2)\n",
        "plt.show()"
      ],
      "metadata": {
        "colab": {
          "base_uri": "https://localhost:8080/",
          "height": 435
        },
        "id": "nL5OZ8hj-t4-",
        "outputId": "7485a22d-1161-4848-e6ae-325faa0c0295"
      },
      "execution_count": 22,
      "outputs": [
        {
          "output_type": "display_data",
          "data": {
            "text/plain": [
              "<Figure size 640x480 with 1 Axes>"
            ],
            "image/png": "[encoded data removed]"
          },
          "metadata": {}
        }
      ]
    },
    {
      "cell_type": "code",
      "source": [
        "### Saving ###\n",
        "# save model in HDF5 format: architecture and hyperparameters, optimizer, starting state\n",
        "model.save(\"my_keras_model.h5\")\n",
        "\n",
        "# load model\n",
        "model = keras.models.load_model(\"my_keras_model.h5\")"
      ],
      "metadata": {
        "id": "hO4NjJ7MAsPd"
      },
      "execution_count": 23,
      "outputs": []
    },
    {
      "cell_type": "code",
      "source": [
        "### Using early stopping and/or checkpoints ###"
      ],
      "metadata": {
        "id": "QU047FMLQ-fX"
      },
      "execution_count": 25,
      "outputs": []
    },
    {
      "cell_type": "code",
      "source": [
        "model.compile(loss=\"mse\", optimizer=keras.optimizers.SGD(learning_rate=1e-3))\n",
        "\n",
        "checkpoint_cb = keras.callbacks.ModelCheckpoint(\"my_keras_model.h5\", save_best_only=True) # Save only best checkpoint, overwriting previous best model\n",
        "\n",
        "history = model.fit(X_train_pca, y_train, epochs=10,\n",
        "                    validation_data=(X_valid_pca, y_valid),\n",
        "                    callbacks=[checkpoint_cb])\n",
        "\n",
        "model = keras.models.load_model(\"my_keras_model.h5\") # rollback to best model\n",
        "mse_test = model.evaluate(X_test_pca, y_test)"
      ],
      "metadata": {
        "colab": {
          "base_uri": "https://localhost:8080/"
        },
        "id": "qIdAY2gYTBSC",
        "outputId": "69f1a282-f05a-49d2-a209-53e1f7f32874"
      },
      "execution_count": 29,
      "outputs": [
        {
          "output_type": "stream",
          "name": "stdout",
          "text": [
            "Epoch 1/10\n",
            "11/11 [==============================] - 1s 44ms/step - loss: 0.2204 - val_loss: 0.1858\n",
            "Epoch 2/10\n",
            "11/11 [==============================] - 0s 14ms/step - loss: 0.2075 - val_loss: 0.1763\n",
            "Epoch 3/10\n",
            "11/11 [==============================] - 0s 17ms/step - loss: 0.1977 - val_loss: 0.1678\n",
            "Epoch 4/10\n",
            "11/11 [==============================] - 0s 15ms/step - loss: 0.1879 - val_loss: 0.1609\n",
            "Epoch 5/10\n",
            "11/11 [==============================] - 0s 18ms/step - loss: 0.1803 - val_loss: 0.1550\n",
            "Epoch 6/10\n",
            "11/11 [==============================] - 0s 13ms/step - loss: 0.1734 - val_loss: 0.1498\n",
            "Epoch 7/10\n",
            "11/11 [==============================] - 0s 30ms/step - loss: 0.1673 - val_loss: 0.1457\n",
            "Epoch 8/10\n",
            "11/11 [==============================] - 0s 17ms/step - loss: 0.1620 - val_loss: 0.1415\n",
            "Epoch 9/10\n",
            "11/11 [==============================] - 0s 12ms/step - loss: 0.1574 - val_loss: 0.1381\n",
            "Epoch 10/10\n",
            "11/11 [==============================] - 0s 12ms/step - loss: 0.1532 - val_loss: 0.1347\n",
            "4/4 [==============================] - 0s 5ms/step - loss: 0.1542\n"
          ]
        }
      ]
    },
    {
      "cell_type": "code",
      "source": [
        "model.compile(loss=\"mse\", optimizer=keras.optimizers.SGD(learning_rate=1e-3))\n",
        "\n",
        "early_stopping_cb = keras.callbacks.EarlyStopping(patience=10, restore_best_weights=True)\n",
        "\n",
        "history = model.fit(X_train_pca, y_train, epochs=50,\n",
        "                    validation_data=(X_valid_pca, y_valid),\n",
        "                    callbacks=[checkpoint_cb,early_stopping_cb])\n",
        "\n",
        "model = keras.models.load_model(\"my_keras_model.h5\") # rollback to best model\n",
        "mse_test = model.evaluate(X_test_pca, y_test)\n",
        "\n",
        "#This will stop learning after 11 epochs"
      ],
      "metadata": {
        "colab": {
          "base_uri": "https://localhost:8080/"
        },
        "id": "E3otccVBTGvM",
        "outputId": "7db26b2b-6d07-4a35-8a12-8a0c163b4626"
      },
      "execution_count": 30,
      "outputs": [
        {
          "output_type": "stream",
          "name": "stdout",
          "text": [
            "Epoch 1/50\n",
            "11/11 [==============================] - 1s 29ms/step - loss: 0.1491 - val_loss: 0.1321\n",
            "Epoch 2/50\n",
            "11/11 [==============================] - 0s 14ms/step - loss: 0.1460 - val_loss: 0.1296\n",
            "Epoch 3/50\n",
            "11/11 [==============================] - 0s 12ms/step - loss: 0.1428 - val_loss: 0.1272\n",
            "Epoch 4/50\n",
            "11/11 [==============================] - 0s 10ms/step - loss: 0.1402 - val_loss: 0.1255\n",
            "Epoch 5/50\n",
            "11/11 [==============================] - 0s 11ms/step - loss: 0.1379 - val_loss: 0.1234\n",
            "Epoch 6/50\n",
            "11/11 [==============================] - 0s 11ms/step - loss: 0.1354 - val_loss: 0.1216\n",
            "Epoch 7/50\n",
            "11/11 [==============================] - 0s 12ms/step - loss: 0.1333 - val_loss: 0.1199\n",
            "Epoch 8/50\n",
            "11/11 [==============================] - 0s 10ms/step - loss: 0.1318 - val_loss: 0.1184\n",
            "Epoch 9/50\n",
            "11/11 [==============================] - 0s 15ms/step - loss: 0.1296 - val_loss: 0.1172\n",
            "Epoch 10/50\n",
            "11/11 [==============================] - 0s 12ms/step - loss: 0.1281 - val_loss: 0.1159\n",
            "Epoch 11/50\n",
            "11/11 [==============================] - 0s 8ms/step - loss: 0.1266 - val_loss: 0.1150\n",
            "Epoch 12/50\n",
            "11/11 [==============================] - 0s 9ms/step - loss: 0.1250 - val_loss: 0.1140\n",
            "Epoch 13/50\n",
            "11/11 [==============================] - 0s 8ms/step - loss: 0.1235 - val_loss: 0.1127\n",
            "Epoch 14/50\n",
            "11/11 [==============================] - 0s 6ms/step - loss: 0.1221 - val_loss: 0.1116\n",
            "Epoch 15/50\n",
            "11/11 [==============================] - 0s 7ms/step - loss: 0.1208 - val_loss: 0.1107\n",
            "Epoch 16/50\n",
            "11/11 [==============================] - 0s 8ms/step - loss: 0.1198 - val_loss: 0.1098\n",
            "Epoch 17/50\n",
            "11/11 [==============================] - 0s 6ms/step - loss: 0.1187 - val_loss: 0.1089\n",
            "Epoch 18/50\n",
            "11/11 [==============================] - 0s 6ms/step - loss: 0.1175 - val_loss: 0.1080\n",
            "Epoch 19/50\n",
            "11/11 [==============================] - 0s 6ms/step - loss: 0.1165 - val_loss: 0.1071\n",
            "Epoch 20/50\n",
            "11/11 [==============================] - 0s 6ms/step - loss: 0.1155 - val_loss: 0.1064\n",
            "Epoch 21/50\n",
            "11/11 [==============================] - 0s 8ms/step - loss: 0.1144 - val_loss: 0.1055\n",
            "Epoch 22/50\n",
            "11/11 [==============================] - 0s 7ms/step - loss: 0.1135 - val_loss: 0.1048\n",
            "Epoch 23/50\n",
            "11/11 [==============================] - 0s 6ms/step - loss: 0.1127 - val_loss: 0.1038\n",
            "Epoch 24/50\n",
            "11/11 [==============================] - 0s 7ms/step - loss: 0.1118 - val_loss: 0.1031\n",
            "Epoch 25/50\n",
            "11/11 [==============================] - 0s 10ms/step - loss: 0.1109 - val_loss: 0.1024\n",
            "Epoch 26/50\n",
            "11/11 [==============================] - 0s 9ms/step - loss: 0.1101 - val_loss: 0.1017\n",
            "Epoch 27/50\n",
            "11/11 [==============================] - 0s 9ms/step - loss: 0.1094 - val_loss: 0.1010\n",
            "Epoch 28/50\n",
            "11/11 [==============================] - 0s 8ms/step - loss: 0.1085 - val_loss: 0.1004\n",
            "Epoch 29/50\n",
            "11/11 [==============================] - 0s 10ms/step - loss: 0.1078 - val_loss: 0.0995\n",
            "Epoch 30/50\n",
            "11/11 [==============================] - 0s 10ms/step - loss: 0.1071 - val_loss: 0.0990\n",
            "Epoch 31/50\n",
            "11/11 [==============================] - 0s 8ms/step - loss: 0.1062 - val_loss: 0.0986\n",
            "Epoch 32/50\n",
            "11/11 [==============================] - 0s 8ms/step - loss: 0.1056 - val_loss: 0.0981\n",
            "Epoch 33/50\n",
            "11/11 [==============================] - 0s 10ms/step - loss: 0.1050 - val_loss: 0.0976\n",
            "Epoch 34/50\n",
            "11/11 [==============================] - 0s 9ms/step - loss: 0.1043 - val_loss: 0.0971\n",
            "Epoch 35/50\n",
            "11/11 [==============================] - 0s 11ms/step - loss: 0.1036 - val_loss: 0.0965\n",
            "Epoch 36/50\n",
            "11/11 [==============================] - 0s 10ms/step - loss: 0.1029 - val_loss: 0.0961\n",
            "Epoch 37/50\n",
            "11/11 [==============================] - 0s 13ms/step - loss: 0.1023 - val_loss: 0.0955\n",
            "Epoch 38/50\n",
            "11/11 [==============================] - 0s 11ms/step - loss: 0.1017 - val_loss: 0.0949\n",
            "Epoch 39/50\n",
            "11/11 [==============================] - 0s 11ms/step - loss: 0.1011 - val_loss: 0.0944\n",
            "Epoch 40/50\n",
            "11/11 [==============================] - 0s 10ms/step - loss: 0.1006 - val_loss: 0.0940\n",
            "Epoch 41/50\n",
            "11/11 [==============================] - 0s 10ms/step - loss: 0.0999 - val_loss: 0.0935\n",
            "Epoch 42/50\n",
            "11/11 [==============================] - 0s 10ms/step - loss: 0.0994 - val_loss: 0.0929\n",
            "Epoch 43/50\n",
            "11/11 [==============================] - 0s 8ms/step - loss: 0.0988 - val_loss: 0.0924\n",
            "Epoch 44/50\n",
            "11/11 [==============================] - 0s 9ms/step - loss: 0.0983 - val_loss: 0.0920\n",
            "Epoch 45/50\n",
            "11/11 [==============================] - 0s 10ms/step - loss: 0.0977 - val_loss: 0.0915\n",
            "Epoch 46/50\n",
            "11/11 [==============================] - 0s 9ms/step - loss: 0.0973 - val_loss: 0.0910\n",
            "Epoch 47/50\n",
            "11/11 [==============================] - 0s 11ms/step - loss: 0.0967 - val_loss: 0.0905\n",
            "Epoch 48/50\n",
            "11/11 [==============================] - 0s 11ms/step - loss: 0.0962 - val_loss: 0.0900\n",
            "Epoch 49/50\n",
            "11/11 [==============================] - 0s 10ms/step - loss: 0.0956 - val_loss: 0.0896\n",
            "Epoch 50/50\n",
            "11/11 [==============================] - 0s 11ms/step - loss: 0.0953 - val_loss: 0.0892\n",
            "4/4 [==============================] - 0s 3ms/step - loss: 0.0927\n"
          ]
        }
      ]
    },
    {
      "cell_type": "code",
      "source": [],
      "metadata": {
        "id": "FitmXnXCTw4s"
      },
      "execution_count": null,
      "outputs": []
    }
  ]
}