{
 "cells": [
  {
   "cell_type": "code",
   "execution_count": 1,
   "id": "d2faf70d",
   "metadata": {},
   "outputs": [],
   "source": [
    "# Import Libraries\n",
    "\n",
    "from bs4 import BeautifulSoup\n",
    "import requests\n",
    "import time\n",
    "import datetime\n",
    "import smtplib"
   ]
  },
  {
   "cell_type": "code",
   "execution_count": 2,
   "id": "013b0449",
   "metadata": {},
   "outputs": [
    {
     "name": "stdout",
     "output_type": "stream",
     "text": [
      "\n",
      "            Data Analyst: Careers in data analysis (BCS Guides to IT Roles)\n",
      "           \n",
      "\n",
      "                $20.80\n",
      "               \n"
     ]
    }
   ],
   "source": [
    "# Connect to Website\n",
    "## http://httpbin.org/get --> to get headers!\n",
    "URL = \"https://www.amazon.com.au/Data-Analyst-Careers-analysis-Guides-ebook/dp/B07P9JY5FW/ref=sr_1_6?crid=LE39L94SXWUN&keywords=data+analyst&qid=1642036087&sprefix=data+anal%2Caps%2C231&sr=8-6\"\n",
    "headers = {\"User-Agent\": \"Mozilla/5.0 (Windows NT 10.0; Win64; x64) AppleWebKit/537.36 (KHTML, like Gecko) Chrome/97.0.4692.71 Safari/537.36\"}\n",
    "page = requests.get(URL, headers=headers)\n",
    "\n",
    "page = requests.get(URL, headers=headers)\n",
    "\n",
    "soup1 = BeautifulSoup(page.content, \"html.parser\")\n",
    "\n",
    "soup2 = BeautifulSoup(soup1.prettify(), \"html.parser\")\n",
    "\n",
    "title = soup2.find(id='productTitle').get_text()\n",
    "\n",
    "price = soup2.find(id='kindle-price').get_text()\n",
    "\n",
    "\n",
    "print(title)\n",
    "print(price)\n"
   ]
  },
  {
   "cell_type": "code",
   "execution_count": 3,
   "id": "02397d29",
   "metadata": {},
   "outputs": [
    {
     "name": "stdout",
     "output_type": "stream",
     "text": [
      "Data Analyst: Careers in data analysis (BCS Guides to IT Roles)\n",
      "$20.80\n"
     ]
    }
   ],
   "source": [
    "# Clean up data \n",
    "\n",
    "price = price.strip()\n",
    "title=title.strip()\n",
    "\n",
    "print(title)\n",
    "print(price)"
   ]
  },
  {
   "cell_type": "code",
   "execution_count": 4,
   "id": "d43953eb",
   "metadata": {},
   "outputs": [
    {
     "name": "stdout",
     "output_type": "stream",
     "text": [
      "2022-01-13\n"
     ]
    }
   ],
   "source": [
    "# Create a Timestamp for your output to track when data was collected\n",
    "\n",
    "import datetime\n",
    "\n",
    "today = datetime.date.today()\n",
    "\n",
    "print(today)"
   ]
  },
  {
   "cell_type": "code",
   "execution_count": 5,
   "id": "e5b60be3",
   "metadata": {},
   "outputs": [],
   "source": [
    "# Create CSV and write headers and data into the file\n",
    "\n",
    "import csv \n",
    "\n",
    "header = ['Title', 'Price', 'Date']\n",
    "data = [title, price, today]\n",
    "\n",
    "\n",
    "with open('AmazonWebScraperDataset.csv', 'w', newline='', encoding='UTF8') as f:\n",
    "    writer = csv.writer(f)\n",
    "    writer.writerow(header)\n",
    "    writer.writerow(data)"
   ]
  },
  {
   "cell_type": "code",
   "execution_count": 6,
   "id": "6e169476",
   "metadata": {},
   "outputs": [],
   "source": [
    "# Create function to combine all codes\n",
    "\n",
    "def check_price():\n",
    "    URL = \"https://www.amazon.com.au/Data-Analyst-Careers-analysis-Guides-ebook/dp/B07P9JY5FW/ref=sr_1_6?crid=LE39L94SXWUN&keywords=data+analyst&qid=1642036087&sprefix=data+anal%2Caps%2C231&sr=8-6\"\n",
    "    headers = {\"User-Agent\": \"Mozilla/5.0 (Windows NT 10.0; Win64; x64) AppleWebKit/537.36 (KHTML, like Gecko) Chrome/97.0.4692.71 Safari/537.36\"}\n",
    "    page = requests.get(URL, headers=headers)\n",
    "\n",
    "    page = requests.get(URL, headers=headers)\n",
    "\n",
    "    soup1 = BeautifulSoup(page.content, \"html.parser\")\n",
    "\n",
    "    soup2 = BeautifulSoup(soup1.prettify(), \"html.parser\")\n",
    "\n",
    "    title = soup2.find(id='productTitle').get_text()\n",
    "\n",
    "    price = soup2.find(id='kindle-price').get_text()\n",
    "\n",
    "    price = price.strip()\n",
    "    title=title.strip()\n",
    "\n",
    "    print(title)\n",
    "    print(price)\n",
    "\n",
    "    import datetime\n",
    "\n",
    "    today = datetime.date.today()\n",
    "    \n",
    "    import csv \n",
    "\n",
    "    header = ['Title', 'Price', 'Date']\n",
    "    data = [title, price, today]\n",
    "\n",
    "    with open('AmazonWebScraperDataset.csv', 'a+', newline='', encoding='UTF8') as f:\n",
    "        writer = csv.writer(f)\n",
    "        writer.writerow(data)\n",
    "        \n",
    "    if(price<15):\n",
    "        send.mail()"
   ]
  },
  {
   "cell_type": "code",
   "execution_count": 9,
   "id": "ed23ac80",
   "metadata": {},
   "outputs": [
    {
     "name": "stdout",
     "output_type": "stream",
     "text": [
      "                                               Title   Price        Date\n",
      "0  Data Analyst: Careers in data analysis (BCS Gu...  $20.80  2022-01-13\n"
     ]
    }
   ],
   "source": [
    "import pandas as pd\n",
    "\n",
    "df = pd.read_csv(\"AmazonWebScraperDataset.csv\")\n",
    "print(df)"
   ]
  },
  {
   "cell_type": "code",
   "execution_count": null,
   "id": "16c67e5c",
   "metadata": {},
   "outputs": [],
   "source": [
    "# Runs check_price after a set time and inputs data into your CSV for 24 hours\n",
    "\n",
    "while(True):\n",
    "    check_price()\n",
    "    time.sleep(86400)"
   ]
  },
  {
   "cell_type": "code",
   "execution_count": 11,
   "id": "44ee67f9",
   "metadata": {},
   "outputs": [
    {
     "name": "stdout",
     "output_type": "stream",
     "text": [
      "                                               Title   Price        Date\n",
      "0  Data Analyst: Careers in data analysis (BCS Gu...  $20.80  2022-01-13\n",
      "1  Data Analyst: Careers in data analysis (BCS Gu...  $20.80  2022-01-13\n",
      "2  Data Analyst: Careers in data analysis (BCS Gu...  $20.80  2022-01-13\n",
      "3  Data Analyst: Careers in data analysis (BCS Gu...  $20.80  2022-01-13\n"
     ]
    }
   ],
   "source": [
    "import pandas as pd\n",
    "\n",
    "df = pd.read_csv(\"AmazonWebScraperDataset.csv\")\n",
    "print(df)"
   ]
  },
  {
   "cell_type": "code",
   "execution_count": null,
   "id": "ff96340a",
   "metadata": {},
   "outputs": [],
   "source": [
    "# sending email when a price hits below a certain level \n",
    "\n",
    "def send_mail():\n",
    "    server = smtplib.SMTP_SSL('smtp.gmail.com',465)\n",
    "    server.ehlo()\n",
    "    #server.starttls()\n",
    "    server.ehlo()\n",
    "    server.login('briansantoso28@gmail.com','xxxx'#set password here)\n",
    "    \n",
    "    subject = \"The Book you want is below $20! Now is your chance to buy!\"\n",
    "    body = \"Brian, Now is your chance to pick up the shirt of your dreams. Don't mess it up! Link here: https://www.amazon.com.au/Data-Analyst-Careers-analysis-Guides-ebook/dp/B07P9JY5FW/ref=sr_1_6?crid=LE39L94SXWUN&keywords=data+analyst&qid=1642036087&sprefix=data+anal%2Caps%2C231&sr=8-6\"\n",
    "   \n",
    "    msg = f\"Subject: {subject}\\n\\n{body}\"\n",
    "    \n",
    "    server.sendmail(\n",
    "        'briansantoso28@gmail.com',\n",
    "        msg\n",
    "     \n",
    "    )"
   ]
  }
 ],
 "metadata": {
  "kernelspec": {
   "display_name": "Python 3",
   "language": "python",
   "name": "python3"
  },
  "language_info": {
   "codemirror_mode": {
    "name": "ipython",
    "version": 3
   },
   "file_extension": ".py",
   "mimetype": "text/x-python",
   "name": "python",
   "nbconvert_exporter": "python",
   "pygments_lexer": "ipython3",
   "version": "3.8.8"
  }
 },
 "nbformat": 4,
 "nbformat_minor": 5
}
