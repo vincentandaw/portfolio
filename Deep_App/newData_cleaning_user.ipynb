{
 "metadata": {
  "language_info": {
   "codemirror_mode": {
    "name": "ipython",
    "version": 3
   },
   "file_extension": ".py",
   "mimetype": "text/x-python",
   "name": "python",
   "nbconvert_exporter": "python",
   "pygments_lexer": "ipython3",
   "version": "3.7.4-final"
  },
  "orig_nbformat": 2,
  "kernelspec": {
   "name": "python374jvsc74a57bd06038c0ee8db233780d2258e0f517839f1e0d675968383c2c072a296dd1a5eb9c",
   "display_name": "Python 3.7.4 64-bit ('base': conda)"
  }
 },
 "nbformat": 4,
 "nbformat_minor": 2,
 "cells": [
  {
   "cell_type": "code",
   "execution_count": 5,
   "metadata": {},
   "outputs": [],
   "source": [
    "# %load_ext autotime"
   ]
  },
  {
   "cell_type": "code",
   "execution_count": 6,
   "metadata": {},
   "outputs": [],
   "source": [
    "import pandas as pd\n",
    "import numpy as np\n",
    "from datetime import datetime, timedelta\n",
    "import matplotlib.pyplot as plt\n",
    "# pd.options.display.max_columns\n",
    "pd.set_option(\"display.max_colwidth\",200)\n",
    "pd.set_option(\"display.max_columns\",20)\n",
    "pd.set_option('float_format', '{:.3f}'.format)"
   ]
  },
  {
   "cell_type": "code",
   "execution_count": 7,
   "metadata": {},
   "outputs": [
    {
     "output_type": "error",
     "ename": "KeyboardInterrupt",
     "evalue": "",
     "traceback": [
      "\u001b[0;31m---------------------------------------------------------------------------\u001b[0m",
      "\u001b[0;31mKeyboardInterrupt\u001b[0m                         Traceback (most recent call last)",
      "\u001b[0;32m<ipython-input-7-ab824620df53>\u001b[0m in \u001b[0;36m<module>\u001b[0;34m\u001b[0m\n\u001b[1;32m     18\u001b[0m \u001b[0musage\u001b[0m\u001b[0;34m[\u001b[0m\u001b[0;34m'timestamp'\u001b[0m\u001b[0;34m]\u001b[0m \u001b[0;34m=\u001b[0m \u001b[0musage\u001b[0m\u001b[0;34m[\u001b[0m\u001b[0;34m'timestamp'\u001b[0m\u001b[0;34m]\u001b[0m\u001b[0;34m.\u001b[0m\u001b[0mapply\u001b[0m\u001b[0;34m(\u001b[0m\u001b[0;32mlambda\u001b[0m \u001b[0mx\u001b[0m\u001b[0;34m:\u001b[0m \u001b[0mdatetime\u001b[0m\u001b[0;34m.\u001b[0m\u001b[0mstrptime\u001b[0m\u001b[0;34m(\u001b[0m\u001b[0mx\u001b[0m\u001b[0;34m,\u001b[0m \u001b[0;34m\"%Y%m%d%H%M%S\"\u001b[0m\u001b[0;34m)\u001b[0m\u001b[0;34m)\u001b[0m \u001b[0;31m# Convert to datetime object\u001b[0m\u001b[0;34m\u001b[0m\u001b[0;34m\u001b[0m\u001b[0m\n\u001b[1;32m     19\u001b[0m \u001b[0musage\u001b[0m\u001b[0;34m[\u001b[0m\u001b[0;34m'loc'\u001b[0m\u001b[0;34m]\u001b[0m \u001b[0;34m=\u001b[0m \u001b[0musage\u001b[0m\u001b[0;34m[\u001b[0m\u001b[0;34m'loc'\u001b[0m\u001b[0;34m]\u001b[0m\u001b[0;34m.\u001b[0m\u001b[0mastype\u001b[0m\u001b[0;34m(\u001b[0m\u001b[0;34m'int64'\u001b[0m\u001b[0;34m)\u001b[0m\u001b[0;34m\u001b[0m\u001b[0;34m\u001b[0m\u001b[0m\n\u001b[0;32m---> 20\u001b[0;31m \u001b[0musage\u001b[0m\u001b[0;34m[\u001b[0m\u001b[0;34m\"date\"\u001b[0m\u001b[0;34m]\u001b[0m \u001b[0;34m=\u001b[0m \u001b[0musage\u001b[0m\u001b[0;34m[\u001b[0m\u001b[0;34m\"timestamp\"\u001b[0m\u001b[0;34m]\u001b[0m\u001b[0;34m.\u001b[0m\u001b[0mdt\u001b[0m\u001b[0;34m.\u001b[0m\u001b[0mstrftime\u001b[0m\u001b[0;34m(\u001b[0m\u001b[0;34m\"%m-%d\"\u001b[0m\u001b[0;34m)\u001b[0m\u001b[0;34m\u001b[0m\u001b[0;34m\u001b[0m\u001b[0m\n\u001b[0m\u001b[1;32m     21\u001b[0m \u001b[0musage\u001b[0m\u001b[0;34m.\u001b[0m\u001b[0mhead\u001b[0m\u001b[0;34m(\u001b[0m\u001b[0;34m)\u001b[0m\u001b[0;34m\u001b[0m\u001b[0;34m\u001b[0m\u001b[0m\n",
      "\u001b[0;32m~/anaconda3/lib/python3.7/site-packages/pandas/core/accessor.py\u001b[0m in \u001b[0;36mf\u001b[0;34m(self, *args, **kwargs)\u001b[0m\n\u001b[1;32m     97\u001b[0m         \u001b[0;32mdef\u001b[0m \u001b[0m_create_delegator_method\u001b[0m\u001b[0;34m(\u001b[0m\u001b[0mname\u001b[0m\u001b[0;34m)\u001b[0m\u001b[0;34m:\u001b[0m\u001b[0;34m\u001b[0m\u001b[0;34m\u001b[0m\u001b[0m\n\u001b[1;32m     98\u001b[0m             \u001b[0;32mdef\u001b[0m \u001b[0mf\u001b[0m\u001b[0;34m(\u001b[0m\u001b[0mself\u001b[0m\u001b[0;34m,\u001b[0m \u001b[0;34m*\u001b[0m\u001b[0margs\u001b[0m\u001b[0;34m,\u001b[0m \u001b[0;34m**\u001b[0m\u001b[0mkwargs\u001b[0m\u001b[0;34m)\u001b[0m\u001b[0;34m:\u001b[0m\u001b[0;34m\u001b[0m\u001b[0;34m\u001b[0m\u001b[0m\n\u001b[0;32m---> 99\u001b[0;31m                 \u001b[0;32mreturn\u001b[0m \u001b[0mself\u001b[0m\u001b[0;34m.\u001b[0m\u001b[0m_delegate_method\u001b[0m\u001b[0;34m(\u001b[0m\u001b[0mname\u001b[0m\u001b[0;34m,\u001b[0m \u001b[0;34m*\u001b[0m\u001b[0margs\u001b[0m\u001b[0;34m,\u001b[0m \u001b[0;34m**\u001b[0m\u001b[0mkwargs\u001b[0m\u001b[0;34m)\u001b[0m\u001b[0;34m\u001b[0m\u001b[0;34m\u001b[0m\u001b[0m\n\u001b[0m\u001b[1;32m    100\u001b[0m \u001b[0;34m\u001b[0m\u001b[0m\n\u001b[1;32m    101\u001b[0m             \u001b[0mf\u001b[0m\u001b[0;34m.\u001b[0m\u001b[0m__name__\u001b[0m \u001b[0;34m=\u001b[0m \u001b[0mname\u001b[0m\u001b[0;34m\u001b[0m\u001b[0;34m\u001b[0m\u001b[0m\n",
      "\u001b[0;32m~/anaconda3/lib/python3.7/site-packages/pandas/core/indexes/accessors.py\u001b[0m in \u001b[0;36m_delegate_method\u001b[0;34m(self, name, *args, **kwargs)\u001b[0m\n\u001b[1;32m    102\u001b[0m \u001b[0;34m\u001b[0m\u001b[0m\n\u001b[1;32m    103\u001b[0m         \u001b[0mmethod\u001b[0m \u001b[0;34m=\u001b[0m \u001b[0mgetattr\u001b[0m\u001b[0;34m(\u001b[0m\u001b[0mvalues\u001b[0m\u001b[0;34m,\u001b[0m \u001b[0mname\u001b[0m\u001b[0;34m)\u001b[0m\u001b[0;34m\u001b[0m\u001b[0;34m\u001b[0m\u001b[0m\n\u001b[0;32m--> 104\u001b[0;31m         \u001b[0mresult\u001b[0m \u001b[0;34m=\u001b[0m \u001b[0mmethod\u001b[0m\u001b[0;34m(\u001b[0m\u001b[0;34m*\u001b[0m\u001b[0margs\u001b[0m\u001b[0;34m,\u001b[0m \u001b[0;34m**\u001b[0m\u001b[0mkwargs\u001b[0m\u001b[0;34m)\u001b[0m\u001b[0;34m\u001b[0m\u001b[0;34m\u001b[0m\u001b[0m\n\u001b[0m\u001b[1;32m    105\u001b[0m \u001b[0;34m\u001b[0m\u001b[0m\n\u001b[1;32m    106\u001b[0m         \u001b[0;32mif\u001b[0m \u001b[0;32mnot\u001b[0m \u001b[0mis_list_like\u001b[0m\u001b[0;34m(\u001b[0m\u001b[0mresult\u001b[0m\u001b[0;34m)\u001b[0m\u001b[0;34m:\u001b[0m\u001b[0;34m\u001b[0m\u001b[0;34m\u001b[0m\u001b[0m\n",
      "\u001b[0;32m~/anaconda3/lib/python3.7/site-packages/pandas/core/indexes/extension.py\u001b[0m in \u001b[0;36mmethod\u001b[0;34m(self, *args, **kwargs)\u001b[0m\n\u001b[1;32m     76\u001b[0m \u001b[0;34m\u001b[0m\u001b[0m\n\u001b[1;32m     77\u001b[0m         \u001b[0;32mdef\u001b[0m \u001b[0mmethod\u001b[0m\u001b[0;34m(\u001b[0m\u001b[0mself\u001b[0m\u001b[0;34m,\u001b[0m \u001b[0;34m*\u001b[0m\u001b[0margs\u001b[0m\u001b[0;34m,\u001b[0m \u001b[0;34m**\u001b[0m\u001b[0mkwargs\u001b[0m\u001b[0;34m)\u001b[0m\u001b[0;34m:\u001b[0m\u001b[0;34m\u001b[0m\u001b[0;34m\u001b[0m\u001b[0m\n\u001b[0;32m---> 78\u001b[0;31m             \u001b[0mresult\u001b[0m \u001b[0;34m=\u001b[0m \u001b[0mattr\u001b[0m\u001b[0;34m(\u001b[0m\u001b[0mself\u001b[0m\u001b[0;34m.\u001b[0m\u001b[0m_data\u001b[0m\u001b[0;34m,\u001b[0m \u001b[0;34m*\u001b[0m\u001b[0margs\u001b[0m\u001b[0;34m,\u001b[0m \u001b[0;34m**\u001b[0m\u001b[0mkwargs\u001b[0m\u001b[0;34m)\u001b[0m\u001b[0;34m\u001b[0m\u001b[0;34m\u001b[0m\u001b[0m\n\u001b[0m\u001b[1;32m     79\u001b[0m             \u001b[0;32mif\u001b[0m \u001b[0mwrap\u001b[0m\u001b[0;34m:\u001b[0m\u001b[0;34m\u001b[0m\u001b[0;34m\u001b[0m\u001b[0m\n\u001b[1;32m     80\u001b[0m                 \u001b[0;32mif\u001b[0m \u001b[0misinstance\u001b[0m\u001b[0;34m(\u001b[0m\u001b[0mresult\u001b[0m\u001b[0;34m,\u001b[0m \u001b[0mtype\u001b[0m\u001b[0;34m(\u001b[0m\u001b[0mself\u001b[0m\u001b[0;34m.\u001b[0m\u001b[0m_data\u001b[0m\u001b[0;34m)\u001b[0m\u001b[0;34m)\u001b[0m\u001b[0;34m:\u001b[0m\u001b[0;34m\u001b[0m\u001b[0;34m\u001b[0m\u001b[0m\n",
      "\u001b[0;32m~/anaconda3/lib/python3.7/site-packages/pandas/core/arrays/datetimelike.py\u001b[0m in \u001b[0;36mstrftime\u001b[0;34m(self, date_format)\u001b[0m\n\u001b[1;32m    267\u001b[0m               dtype='object')\n\u001b[1;32m    268\u001b[0m         \"\"\"\n\u001b[0;32m--> 269\u001b[0;31m         \u001b[0mresult\u001b[0m \u001b[0;34m=\u001b[0m \u001b[0mself\u001b[0m\u001b[0;34m.\u001b[0m\u001b[0m_format_native_types\u001b[0m\u001b[0;34m(\u001b[0m\u001b[0mdate_format\u001b[0m\u001b[0;34m=\u001b[0m\u001b[0mdate_format\u001b[0m\u001b[0;34m,\u001b[0m \u001b[0mna_rep\u001b[0m\u001b[0;34m=\u001b[0m\u001b[0mnp\u001b[0m\u001b[0;34m.\u001b[0m\u001b[0mnan\u001b[0m\u001b[0;34m)\u001b[0m\u001b[0;34m\u001b[0m\u001b[0;34m\u001b[0m\u001b[0m\n\u001b[0m\u001b[1;32m    270\u001b[0m         \u001b[0;32mreturn\u001b[0m \u001b[0mresult\u001b[0m\u001b[0;34m.\u001b[0m\u001b[0mastype\u001b[0m\u001b[0;34m(\u001b[0m\u001b[0mobject\u001b[0m\u001b[0;34m)\u001b[0m\u001b[0;34m\u001b[0m\u001b[0;34m\u001b[0m\u001b[0m\n\u001b[1;32m    271\u001b[0m \u001b[0;34m\u001b[0m\u001b[0m\n",
      "\u001b[0;32m~/anaconda3/lib/python3.7/site-packages/pandas/core/arrays/datetimes.py\u001b[0m in \u001b[0;36m_format_native_types\u001b[0;34m(self, na_rep, date_format, **kwargs)\u001b[0m\n\u001b[1;32m    608\u001b[0m \u001b[0;34m\u001b[0m\u001b[0m\n\u001b[1;32m    609\u001b[0m         return tslib.format_array_from_datetime(\n\u001b[0;32m--> 610\u001b[0;31m             \u001b[0mself\u001b[0m\u001b[0;34m.\u001b[0m\u001b[0masi8\u001b[0m\u001b[0;34m.\u001b[0m\u001b[0mravel\u001b[0m\u001b[0;34m(\u001b[0m\u001b[0;34m)\u001b[0m\u001b[0;34m,\u001b[0m \u001b[0mtz\u001b[0m\u001b[0;34m=\u001b[0m\u001b[0mself\u001b[0m\u001b[0;34m.\u001b[0m\u001b[0mtz\u001b[0m\u001b[0;34m,\u001b[0m \u001b[0mformat\u001b[0m\u001b[0;34m=\u001b[0m\u001b[0mfmt\u001b[0m\u001b[0;34m,\u001b[0m \u001b[0mna_rep\u001b[0m\u001b[0;34m=\u001b[0m\u001b[0mna_rep\u001b[0m\u001b[0;34m\u001b[0m\u001b[0;34m\u001b[0m\u001b[0m\n\u001b[0m\u001b[1;32m    611\u001b[0m         ).reshape(self.shape)\n\u001b[1;32m    612\u001b[0m \u001b[0;34m\u001b[0m\u001b[0m\n",
      "\u001b[0;32mpandas/_libs/tslib.pyx\u001b[0m in \u001b[0;36mpandas._libs.tslib.format_array_from_datetime\u001b[0;34m()\u001b[0m\n",
      "\u001b[0;32mpandas/_libs/tslibs/timestamps.pyx\u001b[0m in \u001b[0;36mpandas._libs.tslibs.timestamps.Timestamp.__new__\u001b[0;34m()\u001b[0m\n",
      "\u001b[0;32mpandas/_libs/tslibs/conversion.pyx\u001b[0m in \u001b[0;36mpandas._libs.tslibs.conversion.convert_to_tsobject\u001b[0;34m()\u001b[0m\n",
      "\u001b[0;31mKeyboardInterrupt\u001b[0m: "
     ]
    }
   ],
   "source": [
    "import pandas as pd\n",
    "from datetime import datetime, timedelta\n",
    "import matplotlib.pyplot as plt\n",
    "# pd.options.display.max_columns\n",
    "pd.set_option(\"display.max_colwidth\",200)\n",
    "pd.set_option(\"display.max_columns\",20)\n",
    "pd.set_option('float_format', '{:.3f}'.format)\n",
    "\n",
    "# Load Usage data\n",
    "with open('App_usage_trace.txt') as f:\n",
    "    lines = f.readlines()#[:100000]\n",
    "    df = []\n",
    "    for line in lines:\n",
    "        data = line.split()\n",
    "        df.append(data)\n",
    "usage = pd.DataFrame(df, columns=['uid','timestamp', 'loc', 'app_id','traffic'])\n",
    "usage['traffic'] = usage['traffic'].astype('float64') / 1e6 # Convert traffic to MB\n",
    "usage['timestamp'] = usage['timestamp'].apply(lambda x: datetime.strptime(x, \"%Y%m%d%H%M%S\")) # Convert to datetime object\n",
    "usage['loc'] = usage['loc'].astype('int64')\n",
    "usage[\"date\"] = usage[\"timestamp\"].dt.strftime(\"%m-%d\")\n",
    "usage.head()"
   ]
  },
  {
   "source": [
    "# Identify users that have less than X records per day, see what is the impact of the removal"
   ],
   "cell_type": "markdown",
   "metadata": {}
  },
  {
   "cell_type": "code",
   "execution_count": 6,
   "metadata": {},
   "outputs": [
    {
     "output_type": "stream",
     "name": "stdout",
     "text": [
      "====================================================================================================\nCurrent conditions: remove user that has less than 10 records per day\n====================================================================================================\nThere are 200 users that does not meet the requirement\n----------------------------------------------------------------------------------------------------\nThere are 140 users that have less than 10 records for exact 1 day\n----------------------------------------------------------------------------------------------------\nThere are 60 users that have less than 10 records for more than 1 day\n----------------------------------------------------------------------------------------------------\nUnder current condition, 1263 rows will be removed, 0.00030% of the entire dataset \n====================================================================================================\ntime: 641 ms\n"
     ]
    }
   ],
   "source": [
    "# group uid and date, purpose is to see the number of request that a user made for each day\n",
    "user_usage_perday = usage.groupby([\"uid\", \"date\"]).size().reset_index()\n",
    "# rename columns for easy slicing\n",
    "user_usage_perday.columns = [\"uid\", \"date\", \"count\"]\n",
    "# number of users that does not have X counts per day\n",
    "# change this\n",
    "required_count = 10\n",
    "\n",
    "# slice dataset to only remain those rows that has less than 20 count\n",
    "df_less10day = user_usage_perday[user_usage_perday[\"count\"] < required_count]\n",
    "# group dataset with uid to get the count of the occurance of the uid, so we can determine which users have just 1 day or more\n",
    "uid_less10day = df_less10day.groupby([\"uid\"]).size().reset_index()\n",
    "# rename columns for easy slicing\n",
    "uid_less10day.columns = [\"uid\", \"count\"]\n",
    "print(\"=\"*100)\n",
    "print(\"Current condition: remove user that has less than {} records per day\".format(required_count))\n",
    "print(\"=\"*100)\n",
    "print(\"There are {} users that does not meet the requirement\". format(uid_less10day.shape[0]))\n",
    "print(\"-\"*100)\n",
    "print(\"There are {} users that have less than {} records for exact 1 day\".format((uid_less10day.shape[0]- uid_less10day[uid_less10day[\"count\"] != 1].shape[0]), required_count))\n",
    "print(\"-\"*100)\n",
    "print(\"There are {} users that have less than {} records for more than 1 day\".format(uid_less10day[uid_less10day[\"count\"] != 1].shape[0], required_count))\n",
    "print(\"-\"*100)\n",
    "print(\"Under current condition, {} rows will be removed, {:.5%} of the entire dataset \".format(df_less10day[\"count\"].sum(), df_less10day[\"count\"].sum()/414171950))\n",
    "print(\"=\"*100)"
   ]
  },
  {
   "source": [
    "# Implementation of the cleaning"
   ],
   "cell_type": "markdown",
   "metadata": {}
  },
  {
   "cell_type": "code",
   "execution_count": 10,
   "metadata": {},
   "outputs": [
    {
     "output_type": "stream",
     "name": "stdout",
     "text": [
      "Before removal the dataset has 4171950 rows\n",
      "After removal the dataset has 4170687 rows, 1263 rows has been removed\n",
      "time: 4min 56s\n"
     ]
    }
   ],
   "source": [
    "required_count = 10\n",
    "# slice dataset to only remain those rows that has less than 20 count\n",
    "user_usage_perday = usage.groupby([\"uid\", \"date\"]).size().reset_index()\n",
    "user_usage_perday.columns = [\"uid\", \"date\", \"count\"]\n",
    "\n",
    "df_less10day = user_usage_perday[user_usage_perday[\"count\"] < required_count]\n",
    "records_remove = np.array(df_less10day)\n",
    "usage_copy = usage.copy()\n",
    "print(\"Before removal the dataset has {} rows\".format(usage.shape[0]))\n",
    "for i in range(len(records_remove)):\n",
    "    uid = records_remove[i][0]\n",
    "    date = records_remove[i][1]\n",
    "    usage_copy = usage_copy.drop(usage_copy[(usage_copy[\"uid\"] == uid) & (usage_copy[\"date\"] == date)].index)\n",
    "print(\"After removal the dataset has {} rows, {} rows has been removed\".format(usage_copy.shape[0], (usage.shape[0] - usage_copy.shape[0])))"
   ]
  },
  {
   "source": [
    "# rename the cleaned dataset \n",
    "usage_cleaned = usage_copy.copy()"
   ],
   "cell_type": "code",
   "metadata": {},
   "execution_count": 11,
   "outputs": [
    {
     "output_type": "stream",
     "name": "stdout",
     "text": [
      "time: 125 ms\n"
     ]
    }
   ]
  },
  {
   "cell_type": "code",
   "execution_count": null,
   "metadata": {},
   "outputs": [],
   "source": [
    "usage_cleaned"
   ]
  },
  {
   "source": [
    "# Adpot Oscillation"
   ],
   "cell_type": "markdown",
   "metadata": {}
  },
  {
   "cell_type": "code",
   "execution_count": 96,
   "metadata": {},
   "outputs": [
    {
     "output_type": "stream",
     "name": "stdout",
     "text": [
      "time: 0 ns\n"
     ]
    }
   ],
   "source": [
    "# Function to align the Origin and Destination (O/D)\n",
    "def sort_movement_tuples(jump):\n",
    "    return sorted(list(jump))\n",
    "\n",
    "# Define a function that can output the frequency pair of a user's mobility pattern\n",
    "def show_frequent_pair(uid=888, threshold=5, jump_occurence=10):\n",
    "    # Nathan: replaced usage with usage_cleaned\n",
    "    user_uid = usage_cleaned[usage_cleaned['uid'] == str(uid)]\n",
    "\n",
    "    # Set the thresold of time gap allowed between movement\n",
    "    delta_threshold = timedelta(seconds=threshold)\n",
    "\n",
    "    # Create the columns of the next time and lcoation\n",
    "    user_uid['next_loc'] = user_uid['loc'].shift(-1).fillna(0).astype('int')\n",
    "    user_uid['next_timestamp'] = user_uid['timestamp'].shift(-1)\n",
    "\n",
    "    # Keep only movements\n",
    "    user_uid = user_uid[user_uid['loc'] != user_uid['next_loc']]\n",
    "\n",
    "    # Get the time gaps between movements\n",
    "    user_uid['time_delta'] = user_uid['next_timestamp'] - user_uid['timestamp']\n",
    "\n",
    "    # Get teleports and count the teleports\n",
    "    # Should be able to identify the return trips\n",
    "    teleports = user_uid[user_uid['time_delta'] < delta_threshold]\n",
    "    teleports['tele'] = list(zip(teleports['loc'], teleports['next_loc']))\n",
    "    # print(teleports['tele'].value_counts())\n",
    "\n",
    "    # # Group and count the same jump\n",
    "    tele_counts = teleports['tele'].value_counts().reset_index()\n",
    "    tele_counts.columns = ['jump', 'count']\n",
    "\n",
    "    # Align the O/D of the jump to identify the pairs\n",
    "    tele_counts['jump'] = tele_counts['jump'].apply(lambda i: sort_movement_tuples(i))\n",
    "\n",
    "    # Get the jumps that has a reasonable number of occurence\n",
    "    tele_counts = tele_counts[tele_counts['count'] > jump_occurence]\n",
    "    tele_counts['jump'] = tuple(tele_counts['jump'])\n",
    "\n",
    "    # print the record for reference\n",
    "    # Nathan: added reset_index()\n",
    "    frequent_pairs = tele_counts.groupby(['jump']).sum().reset_index()\n",
    "\n",
    "    return frequent_pairs"
   ]
  },
  {
   "cell_type": "code",
   "execution_count": 87,
   "metadata": {},
   "outputs": [
    {
     "output_type": "stream",
     "name": "stdout",
     "text": [
      "time: 0 ns\n"
     ]
    }
   ],
   "source": [
    "# Function to align the Origin and Destination (O/D)\n",
    "def sort_movement_tuples(jump):\n",
    "    return sorted(list(jump))\n",
    "\n",
    "# show the period where the oscillation happens\n",
    "def present_oscillation(uid=888, threshold=5, jump_occurence=10):\n",
    "    # Nathan: replaced usage with usage_cleaned\n",
    "    user_uid = usage_cleaned[usage_cleaned['uid'] == str(uid)]\n",
    "\n",
    "    # Set the thresold of time gap allowed between movement\n",
    "    delta_threshold = timedelta(seconds=threshold)\n",
    "\n",
    "    # Create the columns of the next time and lcoation\n",
    "    user_uid['next_loc'] = user_uid['loc'].shift(-1).fillna(0).astype('int')\n",
    "    user_uid['next_timestamp'] = user_uid['timestamp'].shift(-1)\n",
    "\n",
    "    # Keep only movements\n",
    "    user_uid = user_uid[user_uid['loc'] != user_uid['next_loc']]\n",
    "\n",
    "    # Get the time gaps between movements\n",
    "    user_uid['time_delta'] = user_uid['next_timestamp'] - user_uid['timestamp']\n",
    "\n",
    "    # Get teleports and count the teleports\n",
    "    # Should be able to identify the return trips\n",
    "    teleports = user_uid[user_uid['time_delta'] < delta_threshold]\n",
    "    teleports['tele'] = list(zip(teleports['loc'], teleports['next_loc']))\n",
    "    # teleports['tele'] = teleports['tele'].apply(lambda i: sort_movement_tuples(i))\n",
    "    # print(teleports['tele'].value_counts())\n",
    "\n",
    "    # # Group and count the same jump\n",
    "    tele_counts = teleports['tele'].value_counts().reset_index()\n",
    "    tele_counts.columns = ['jump', 'count']\n",
    "    tele_counts = tele_counts[tele_counts['count'] > jump_occurence]\n",
    "\n",
    "\n",
    "    # # Align the O/D of the jump to identify the pairs\n",
    "    # tele_counts['jump'] = tele_counts['jump'].apply(lambda i: sort_movement_tuples(i))\n",
    "\n",
    "    # Get the jumps that has a reasonable number of occurence\n",
    "    tele_counts = tele_counts[tele_counts['count'] > jump_occurence]\n",
    "    # tele_counts['jump'] = tuple(tele_counts['jump'])\n",
    "\n",
    "    #return the rows that has tele_count in the \"tele\" column, so it returns the rows where the oscillation happens\n",
    "    return teleports[teleports['tele'].isin(tele_counts[\"jump\"])]\n"
   ]
  },
  {
   "cell_type": "code",
   "execution_count": 102,
   "metadata": {},
   "outputs": [
    {
     "output_type": "stream",
     "name": "stderr",
     "text": [
      "<ipython-input-96-20c6b7ee343d>:14: SettingWithCopyWarning: \n",
      "A value is trying to be set on a copy of a slice from a DataFrame.\n",
      "Try using .loc[row_indexer,col_indexer] = value instead\n",
      "\n",
      "See the caveats in the documentation: http://pandas.pydata.org/pandas-docs/stable/indexing.html#indexing-view-versus-copy\n",
      "  user_uid['next_loc'] = user_uid['loc'].shift(-1).fillna(0).astype('int')\n",
      "<ipython-input-96-20c6b7ee343d>:15: SettingWithCopyWarning: \n",
      "A value is trying to be set on a copy of a slice from a DataFrame.\n",
      "Try using .loc[row_indexer,col_indexer] = value instead\n",
      "\n",
      "See the caveats in the documentation: http://pandas.pydata.org/pandas-docs/stable/indexing.html#indexing-view-versus-copy\n",
      "  user_uid['next_timestamp'] = user_uid['timestamp'].shift(-1)\n",
      "<ipython-input-96-20c6b7ee343d>:26: SettingWithCopyWarning: \n",
      "A value is trying to be set on a copy of a slice from a DataFrame.\n",
      "Try using .loc[row_indexer,col_indexer] = value instead\n",
      "\n",
      "See the caveats in the documentation: http://pandas.pydata.org/pandas-docs/stable/indexing.html#indexing-view-versus-copy\n",
      "  teleports['tele'] = list(zip(teleports['loc'], teleports['next_loc']))\n"
     ]
    },
    {
     "output_type": "execute_result",
     "data": {
      "text/plain": [
       "           jump  count\n",
       "0  (1361, 2304)     14"
      ],
      "text/html": "<div>\n<style scoped>\n    .dataframe tbody tr th:only-of-type {\n        vertical-align: middle;\n    }\n\n    .dataframe tbody tr th {\n        vertical-align: top;\n    }\n\n    .dataframe thead th {\n        text-align: right;\n    }\n</style>\n<table border=\"1\" class=\"dataframe\">\n  <thead>\n    <tr style=\"text-align: right;\">\n      <th></th>\n      <th>jump</th>\n      <th>count</th>\n    </tr>\n  </thead>\n  <tbody>\n    <tr>\n      <th>0</th>\n      <td>(1361, 2304)</td>\n      <td>14</td>\n    </tr>\n  </tbody>\n</table>\n</div>"
     },
     "metadata": {},
     "execution_count": 102
    },
    {
     "output_type": "stream",
     "name": "stdout",
     "text": [
      "time: 6.23 s\n"
     ]
    }
   ],
   "source": [
    "# show the frequent pair\n",
    "show_frequent_pair(0,10,5)"
   ]
  },
  {
   "cell_type": "code",
   "execution_count": 104,
   "metadata": {},
   "outputs": [
    {
     "output_type": "stream",
     "name": "stderr",
     "text": [
      "<ipython-input-87-deb54b23e21a>:14: SettingWithCopyWarning: \n",
      "A value is trying to be set on a copy of a slice from a DataFrame.\n",
      "Try using .loc[row_indexer,col_indexer] = value instead\n",
      "\n",
      "See the caveats in the documentation: http://pandas.pydata.org/pandas-docs/stable/indexing.html#indexing-view-versus-copy\n",
      "  user_uid['next_loc'] = user_uid['loc'].shift(-1).fillna(0).astype('int')\n",
      "<ipython-input-87-deb54b23e21a>:15: SettingWithCopyWarning: \n",
      "A value is trying to be set on a copy of a slice from a DataFrame.\n",
      "Try using .loc[row_indexer,col_indexer] = value instead\n",
      "\n",
      "See the caveats in the documentation: http://pandas.pydata.org/pandas-docs/stable/indexing.html#indexing-view-versus-copy\n",
      "  user_uid['next_timestamp'] = user_uid['timestamp'].shift(-1)\n",
      "<ipython-input-87-deb54b23e21a>:26: SettingWithCopyWarning: \n",
      "A value is trying to be set on a copy of a slice from a DataFrame.\n",
      "Try using .loc[row_indexer,col_indexer] = value instead\n",
      "\n",
      "See the caveats in the documentation: http://pandas.pydata.org/pandas-docs/stable/indexing.html#indexing-view-versus-copy\n",
      "  teleports['tele'] = list(zip(teleports['loc'], teleports['next_loc']))\n"
     ]
    },
    {
     "output_type": "execute_result",
     "data": {
      "text/plain": [
       "     uid           timestamp   loc app_id  traffic   date  next_loc  \\\n",
       "1787   0 2016-04-22 14:26:31  1361    361    0.001  04-22      2304   \n",
       "1789   0 2016-04-22 14:26:41  2304    361    0.003  04-22      1361   \n",
       "1792   0 2016-04-22 14:26:45  1361     41    0.001  04-22      2304   \n",
       "1794   0 2016-04-22 14:26:46  2304     41    0.007  04-22      1361   \n",
       "1795   0 2016-04-22 14:26:48  1361    361    0.001  04-22      2304   \n",
       "1796   0 2016-04-22 14:26:48  2304    361    0.002  04-22      1361   \n",
       "1797   0 2016-04-22 14:26:49  1361    361    0.073  04-22      2304   \n",
       "1798   0 2016-04-22 14:26:54  2304    361    0.006  04-22      1361   \n",
       "1799   0 2016-04-22 14:26:55  1361    361    0.002  04-22      2304   \n",
       "1800   0 2016-04-22 14:26:55  2304    361    0.003  04-22      1361   \n",
       "1801   0 2016-04-22 14:26:56  1361     41    0.001  04-22      2304   \n",
       "1802   0 2016-04-22 14:26:56  2304    361    0.002  04-22      1361   \n",
       "1803   0 2016-04-22 14:26:57  1361     41    0.003  04-22      2304   \n",
       "1804   0 2016-04-22 14:26:57  2304     41    0.001  04-22      1361   \n",
       "\n",
       "          next_timestamp time_delta          tele  \n",
       "1787 2016-04-22 14:26:31   00:00:00  (1361, 2304)  \n",
       "1789 2016-04-22 14:26:44   00:00:03  (2304, 1361)  \n",
       "1792 2016-04-22 14:26:45   00:00:00  (1361, 2304)  \n",
       "1794 2016-04-22 14:26:48   00:00:02  (2304, 1361)  \n",
       "1795 2016-04-22 14:26:48   00:00:00  (1361, 2304)  \n",
       "1796 2016-04-22 14:26:49   00:00:01  (2304, 1361)  \n",
       "1797 2016-04-22 14:26:54   00:00:05  (1361, 2304)  \n",
       "1798 2016-04-22 14:26:55   00:00:01  (2304, 1361)  \n",
       "1799 2016-04-22 14:26:55   00:00:00  (1361, 2304)  \n",
       "1800 2016-04-22 14:26:56   00:00:01  (2304, 1361)  \n",
       "1801 2016-04-22 14:26:56   00:00:00  (1361, 2304)  \n",
       "1802 2016-04-22 14:26:57   00:00:01  (2304, 1361)  \n",
       "1803 2016-04-22 14:26:57   00:00:00  (1361, 2304)  \n",
       "1804 2016-04-22 14:27:00   00:00:03  (2304, 1361)  "
      ],
      "text/html": "<div>\n<style scoped>\n    .dataframe tbody tr th:only-of-type {\n        vertical-align: middle;\n    }\n\n    .dataframe tbody tr th {\n        vertical-align: top;\n    }\n\n    .dataframe thead th {\n        text-align: right;\n    }\n</style>\n<table border=\"1\" class=\"dataframe\">\n  <thead>\n    <tr style=\"text-align: right;\">\n      <th></th>\n      <th>uid</th>\n      <th>timestamp</th>\n      <th>loc</th>\n      <th>app_id</th>\n      <th>traffic</th>\n      <th>date</th>\n      <th>next_loc</th>\n      <th>next_timestamp</th>\n      <th>time_delta</th>\n      <th>tele</th>\n    </tr>\n  </thead>\n  <tbody>\n    <tr>\n      <th>1787</th>\n      <td>0</td>\n      <td>2016-04-22 14:26:31</td>\n      <td>1361</td>\n      <td>361</td>\n      <td>0.001</td>\n      <td>04-22</td>\n      <td>2304</td>\n      <td>2016-04-22 14:26:31</td>\n      <td>00:00:00</td>\n      <td>(1361, 2304)</td>\n    </tr>\n    <tr>\n      <th>1789</th>\n      <td>0</td>\n      <td>2016-04-22 14:26:41</td>\n      <td>2304</td>\n      <td>361</td>\n      <td>0.003</td>\n      <td>04-22</td>\n      <td>1361</td>\n      <td>2016-04-22 14:26:44</td>\n      <td>00:00:03</td>\n      <td>(2304, 1361)</td>\n    </tr>\n    <tr>\n      <th>1792</th>\n      <td>0</td>\n      <td>2016-04-22 14:26:45</td>\n      <td>1361</td>\n      <td>41</td>\n      <td>0.001</td>\n      <td>04-22</td>\n      <td>2304</td>\n      <td>2016-04-22 14:26:45</td>\n      <td>00:00:00</td>\n      <td>(1361, 2304)</td>\n    </tr>\n    <tr>\n      <th>1794</th>\n      <td>0</td>\n      <td>2016-04-22 14:26:46</td>\n      <td>2304</td>\n      <td>41</td>\n      <td>0.007</td>\n      <td>04-22</td>\n      <td>1361</td>\n      <td>2016-04-22 14:26:48</td>\n      <td>00:00:02</td>\n      <td>(2304, 1361)</td>\n    </tr>\n    <tr>\n      <th>1795</th>\n      <td>0</td>\n      <td>2016-04-22 14:26:48</td>\n      <td>1361</td>\n      <td>361</td>\n      <td>0.001</td>\n      <td>04-22</td>\n      <td>2304</td>\n      <td>2016-04-22 14:26:48</td>\n      <td>00:00:00</td>\n      <td>(1361, 2304)</td>\n    </tr>\n    <tr>\n      <th>1796</th>\n      <td>0</td>\n      <td>2016-04-22 14:26:48</td>\n      <td>2304</td>\n      <td>361</td>\n      <td>0.002</td>\n      <td>04-22</td>\n      <td>1361</td>\n      <td>2016-04-22 14:26:49</td>\n      <td>00:00:01</td>\n      <td>(2304, 1361)</td>\n    </tr>\n    <tr>\n      <th>1797</th>\n      <td>0</td>\n      <td>2016-04-22 14:26:49</td>\n      <td>1361</td>\n      <td>361</td>\n      <td>0.073</td>\n      <td>04-22</td>\n      <td>2304</td>\n      <td>2016-04-22 14:26:54</td>\n      <td>00:00:05</td>\n      <td>(1361, 2304)</td>\n    </tr>\n    <tr>\n      <th>1798</th>\n      <td>0</td>\n      <td>2016-04-22 14:26:54</td>\n      <td>2304</td>\n      <td>361</td>\n      <td>0.006</td>\n      <td>04-22</td>\n      <td>1361</td>\n      <td>2016-04-22 14:26:55</td>\n      <td>00:00:01</td>\n      <td>(2304, 1361)</td>\n    </tr>\n    <tr>\n      <th>1799</th>\n      <td>0</td>\n      <td>2016-04-22 14:26:55</td>\n      <td>1361</td>\n      <td>361</td>\n      <td>0.002</td>\n      <td>04-22</td>\n      <td>2304</td>\n      <td>2016-04-22 14:26:55</td>\n      <td>00:00:00</td>\n      <td>(1361, 2304)</td>\n    </tr>\n    <tr>\n      <th>1800</th>\n      <td>0</td>\n      <td>2016-04-22 14:26:55</td>\n      <td>2304</td>\n      <td>361</td>\n      <td>0.003</td>\n      <td>04-22</td>\n      <td>1361</td>\n      <td>2016-04-22 14:26:56</td>\n      <td>00:00:01</td>\n      <td>(2304, 1361)</td>\n    </tr>\n    <tr>\n      <th>1801</th>\n      <td>0</td>\n      <td>2016-04-22 14:26:56</td>\n      <td>1361</td>\n      <td>41</td>\n      <td>0.001</td>\n      <td>04-22</td>\n      <td>2304</td>\n      <td>2016-04-22 14:26:56</td>\n      <td>00:00:00</td>\n      <td>(1361, 2304)</td>\n    </tr>\n    <tr>\n      <th>1802</th>\n      <td>0</td>\n      <td>2016-04-22 14:26:56</td>\n      <td>2304</td>\n      <td>361</td>\n      <td>0.002</td>\n      <td>04-22</td>\n      <td>1361</td>\n      <td>2016-04-22 14:26:57</td>\n      <td>00:00:01</td>\n      <td>(2304, 1361)</td>\n    </tr>\n    <tr>\n      <th>1803</th>\n      <td>0</td>\n      <td>2016-04-22 14:26:57</td>\n      <td>1361</td>\n      <td>41</td>\n      <td>0.003</td>\n      <td>04-22</td>\n      <td>2304</td>\n      <td>2016-04-22 14:26:57</td>\n      <td>00:00:00</td>\n      <td>(1361, 2304)</td>\n    </tr>\n    <tr>\n      <th>1804</th>\n      <td>0</td>\n      <td>2016-04-22 14:26:57</td>\n      <td>2304</td>\n      <td>41</td>\n      <td>0.001</td>\n      <td>04-22</td>\n      <td>1361</td>\n      <td>2016-04-22 14:27:00</td>\n      <td>00:00:03</td>\n      <td>(2304, 1361)</td>\n    </tr>\n  </tbody>\n</table>\n</div>"
     },
     "metadata": {},
     "execution_count": 104
    },
    {
     "output_type": "stream",
     "name": "stdout",
     "text": [
      "time: 5 s\n"
     ]
    }
   ],
   "source": [
    "# show the oscillation period\n",
    "present_oscillation(0,10,5)"
   ]
  },
  {
   "source": [
    "# Ignore the following cells"
   ],
   "cell_type": "markdown",
   "metadata": {}
  },
  {
   "source": [
    "\n",
    "# Replace the loc id with less count with the loc id with higher count in the frequent pair"
   ],
   "cell_type": "markdown",
   "metadata": {}
  },
  {
   "cell_type": "code",
   "execution_count": 74,
   "metadata": {},
   "outputs": [
    {
     "output_type": "stream",
     "name": "stderr",
     "text": [
      "<ipython-input-72-08347122befa>:14: SettingWithCopyWarning: \n",
      "A value is trying to be set on a copy of a slice from a DataFrame.\n",
      "Try using .loc[row_indexer,col_indexer] = value instead\n",
      "\n",
      "See the caveats in the documentation: http://pandas.pydata.org/pandas-docs/stable/indexing.html#indexing-view-versus-copy\n",
      "  user_uid['next_loc'] = user_uid['loc'].shift(-1).fillna(0).astype('int')\n",
      "<ipython-input-72-08347122befa>:15: SettingWithCopyWarning: \n",
      "A value is trying to be set on a copy of a slice from a DataFrame.\n",
      "Try using .loc[row_indexer,col_indexer] = value instead\n",
      "\n",
      "See the caveats in the documentation: http://pandas.pydata.org/pandas-docs/stable/indexing.html#indexing-view-versus-copy\n",
      "  user_uid['next_timestamp'] = user_uid['timestamp'].shift(-1)\n",
      "<ipython-input-72-08347122befa>:26: SettingWithCopyWarning: \n",
      "A value is trying to be set on a copy of a slice from a DataFrame.\n",
      "Try using .loc[row_indexer,col_indexer] = value instead\n",
      "\n",
      "See the caveats in the documentation: http://pandas.pydata.org/pandas-docs/stable/indexing.html#indexing-view-versus-copy\n",
      "  teleports['tele'] = list(zip(teleports['loc'], teleports['next_loc']))\n"
     ]
    },
    {
     "output_type": "execute_result",
     "data": {
      "text/plain": [
       "array([[(2304, 1361), 7],\n",
       "       [(1361, 2304), 7]], dtype=object)"
      ]
     },
     "metadata": {},
     "execution_count": 74
    },
    {
     "output_type": "stream",
     "name": "stdout",
     "text": [
      "time: 6.12 s\n"
     ]
    }
   ],
   "source": [
    "# # Show the frequent pairs of user 13, gap less than 3 seconds, and occurence higher than 5 times (both directions count)\n",
    "freq_pair = np.array(show_frequent_pair(0,10,5))\n",
    "freq_pair"
   ]
  },
  {
   "cell_type": "code",
   "execution_count": 75,
   "metadata": {},
   "outputs": [
    {
     "output_type": "stream",
     "name": "stdout",
     "text": [
      "(2304, 1361)\n(1361, 2304)\ntime: 0 ns\n"
     ]
    }
   ],
   "source": [
    "print(freq_pair[0][0])\n",
    "print(freq_pair[1][0])"
   ]
  },
  {
   "cell_type": "code",
   "execution_count": 18,
   "metadata": {},
   "outputs": [
    {
     "output_type": "execute_result",
     "data": {
      "text/plain": [
       "     uid           timestamp   loc app_id  traffic   date\n",
       "1787   0 2016-04-22 14:26:31  1361    361    0.001  04-22\n",
       "1790   0 2016-04-22 14:26:44  1361     41    0.012  04-22\n",
       "1791   0 2016-04-22 14:26:45  1361    361    0.005  04-22\n",
       "1792   0 2016-04-22 14:26:45  1361     41    0.001  04-22\n",
       "1795   0 2016-04-22 14:26:48  1361    361    0.001  04-22\n",
       "1797   0 2016-04-22 14:26:49  1361    361    0.073  04-22\n",
       "1799   0 2016-04-22 14:26:55  1361    361    0.002  04-22\n",
       "1801   0 2016-04-22 14:26:56  1361     41    0.001  04-22\n",
       "1803   0 2016-04-22 14:26:57  1361     41    0.003  04-22\n",
       "1805   0 2016-04-22 14:27:00  1361    361    0.003  04-22\n",
       "1806   0 2016-04-22 14:27:01  1361    361    0.003  04-22\n",
       "1807   0 2016-04-22 14:27:47  1361    361    0.002  04-22\n",
       "1808   0 2016-04-22 14:27:48  1361    361    0.001  04-22\n",
       "1809   0 2016-04-22 14:28:12  1361    361    0.003  04-22\n",
       "1810   0 2016-04-22 14:28:13  1361    361    0.003  04-22\n",
       "1811   0 2016-04-22 14:30:17  1361    361    0.001  04-22\n",
       "1812   0 2016-04-22 14:30:18  1361    361    0.002  04-22"
      ],
      "text/html": "<div>\n<style scoped>\n    .dataframe tbody tr th:only-of-type {\n        vertical-align: middle;\n    }\n\n    .dataframe tbody tr th {\n        vertical-align: top;\n    }\n\n    .dataframe thead th {\n        text-align: right;\n    }\n</style>\n<table border=\"1\" class=\"dataframe\">\n  <thead>\n    <tr style=\"text-align: right;\">\n      <th></th>\n      <th>uid</th>\n      <th>timestamp</th>\n      <th>loc</th>\n      <th>app_id</th>\n      <th>traffic</th>\n      <th>date</th>\n    </tr>\n  </thead>\n  <tbody>\n    <tr>\n      <th>1787</th>\n      <td>0</td>\n      <td>2016-04-22 14:26:31</td>\n      <td>1361</td>\n      <td>361</td>\n      <td>0.001</td>\n      <td>04-22</td>\n    </tr>\n    <tr>\n      <th>1790</th>\n      <td>0</td>\n      <td>2016-04-22 14:26:44</td>\n      <td>1361</td>\n      <td>41</td>\n      <td>0.012</td>\n      <td>04-22</td>\n    </tr>\n    <tr>\n      <th>1791</th>\n      <td>0</td>\n      <td>2016-04-22 14:26:45</td>\n      <td>1361</td>\n      <td>361</td>\n      <td>0.005</td>\n      <td>04-22</td>\n    </tr>\n    <tr>\n      <th>1792</th>\n      <td>0</td>\n      <td>2016-04-22 14:26:45</td>\n      <td>1361</td>\n      <td>41</td>\n      <td>0.001</td>\n      <td>04-22</td>\n    </tr>\n    <tr>\n      <th>1795</th>\n      <td>0</td>\n      <td>2016-04-22 14:26:48</td>\n      <td>1361</td>\n      <td>361</td>\n      <td>0.001</td>\n      <td>04-22</td>\n    </tr>\n    <tr>\n      <th>1797</th>\n      <td>0</td>\n      <td>2016-04-22 14:26:49</td>\n      <td>1361</td>\n      <td>361</td>\n      <td>0.073</td>\n      <td>04-22</td>\n    </tr>\n    <tr>\n      <th>1799</th>\n      <td>0</td>\n      <td>2016-04-22 14:26:55</td>\n      <td>1361</td>\n      <td>361</td>\n      <td>0.002</td>\n      <td>04-22</td>\n    </tr>\n    <tr>\n      <th>1801</th>\n      <td>0</td>\n      <td>2016-04-22 14:26:56</td>\n      <td>1361</td>\n      <td>41</td>\n      <td>0.001</td>\n      <td>04-22</td>\n    </tr>\n    <tr>\n      <th>1803</th>\n      <td>0</td>\n      <td>2016-04-22 14:26:57</td>\n      <td>1361</td>\n      <td>41</td>\n      <td>0.003</td>\n      <td>04-22</td>\n    </tr>\n    <tr>\n      <th>1805</th>\n      <td>0</td>\n      <td>2016-04-22 14:27:00</td>\n      <td>1361</td>\n      <td>361</td>\n      <td>0.003</td>\n      <td>04-22</td>\n    </tr>\n    <tr>\n      <th>1806</th>\n      <td>0</td>\n      <td>2016-04-22 14:27:01</td>\n      <td>1361</td>\n      <td>361</td>\n      <td>0.003</td>\n      <td>04-22</td>\n    </tr>\n    <tr>\n      <th>1807</th>\n      <td>0</td>\n      <td>2016-04-22 14:27:47</td>\n      <td>1361</td>\n      <td>361</td>\n      <td>0.002</td>\n      <td>04-22</td>\n    </tr>\n    <tr>\n      <th>1808</th>\n      <td>0</td>\n      <td>2016-04-22 14:27:48</td>\n      <td>1361</td>\n      <td>361</td>\n      <td>0.001</td>\n      <td>04-22</td>\n    </tr>\n    <tr>\n      <th>1809</th>\n      <td>0</td>\n      <td>2016-04-22 14:28:12</td>\n      <td>1361</td>\n      <td>361</td>\n      <td>0.003</td>\n      <td>04-22</td>\n    </tr>\n    <tr>\n      <th>1810</th>\n      <td>0</td>\n      <td>2016-04-22 14:28:13</td>\n      <td>1361</td>\n      <td>361</td>\n      <td>0.003</td>\n      <td>04-22</td>\n    </tr>\n    <tr>\n      <th>1811</th>\n      <td>0</td>\n      <td>2016-04-22 14:30:17</td>\n      <td>1361</td>\n      <td>361</td>\n      <td>0.001</td>\n      <td>04-22</td>\n    </tr>\n    <tr>\n      <th>1812</th>\n      <td>0</td>\n      <td>2016-04-22 14:30:18</td>\n      <td>1361</td>\n      <td>361</td>\n      <td>0.002</td>\n      <td>04-22</td>\n    </tr>\n  </tbody>\n</table>\n</div>"
     },
     "metadata": {},
     "execution_count": 18
    },
    {
     "output_type": "stream",
     "name": "stdout",
     "text": [
      "time: 281 ms\n"
     ]
    }
   ],
   "source": [
    "df_exp = usage_cleaned[(usage_cleaned[\"loc\"] == freq_pair[0][0][0]) & (usage_cleaned[\"uid\"] == str(0))]\n",
    "df_exp"
   ]
  },
  {
   "cell_type": "code",
   "execution_count": 19,
   "metadata": {},
   "outputs": [
    {
     "output_type": "execute_result",
     "data": {
      "text/plain": [
       "     uid           timestamp   loc app_id  traffic   date\n",
       "1788   0 2016-04-22 14:26:31  2304    361    0.003  04-22\n",
       "1789   0 2016-04-22 14:26:41  2304    361    0.003  04-22\n",
       "1793   0 2016-04-22 14:26:45  2304     41    0.003  04-22\n",
       "1794   0 2016-04-22 14:26:46  2304     41    0.007  04-22\n",
       "1796   0 2016-04-22 14:26:48  2304    361    0.002  04-22\n",
       "1798   0 2016-04-22 14:26:54  2304    361    0.006  04-22\n",
       "1800   0 2016-04-22 14:26:55  2304    361    0.003  04-22\n",
       "1802   0 2016-04-22 14:26:56  2304    361    0.002  04-22\n",
       "1804   0 2016-04-22 14:26:57  2304     41    0.001  04-22"
      ],
      "text/html": "<div>\n<style scoped>\n    .dataframe tbody tr th:only-of-type {\n        vertical-align: middle;\n    }\n\n    .dataframe tbody tr th {\n        vertical-align: top;\n    }\n\n    .dataframe thead th {\n        text-align: right;\n    }\n</style>\n<table border=\"1\" class=\"dataframe\">\n  <thead>\n    <tr style=\"text-align: right;\">\n      <th></th>\n      <th>uid</th>\n      <th>timestamp</th>\n      <th>loc</th>\n      <th>app_id</th>\n      <th>traffic</th>\n      <th>date</th>\n    </tr>\n  </thead>\n  <tbody>\n    <tr>\n      <th>1788</th>\n      <td>0</td>\n      <td>2016-04-22 14:26:31</td>\n      <td>2304</td>\n      <td>361</td>\n      <td>0.003</td>\n      <td>04-22</td>\n    </tr>\n    <tr>\n      <th>1789</th>\n      <td>0</td>\n      <td>2016-04-22 14:26:41</td>\n      <td>2304</td>\n      <td>361</td>\n      <td>0.003</td>\n      <td>04-22</td>\n    </tr>\n    <tr>\n      <th>1793</th>\n      <td>0</td>\n      <td>2016-04-22 14:26:45</td>\n      <td>2304</td>\n      <td>41</td>\n      <td>0.003</td>\n      <td>04-22</td>\n    </tr>\n    <tr>\n      <th>1794</th>\n      <td>0</td>\n      <td>2016-04-22 14:26:46</td>\n      <td>2304</td>\n      <td>41</td>\n      <td>0.007</td>\n      <td>04-22</td>\n    </tr>\n    <tr>\n      <th>1796</th>\n      <td>0</td>\n      <td>2016-04-22 14:26:48</td>\n      <td>2304</td>\n      <td>361</td>\n      <td>0.002</td>\n      <td>04-22</td>\n    </tr>\n    <tr>\n      <th>1798</th>\n      <td>0</td>\n      <td>2016-04-22 14:26:54</td>\n      <td>2304</td>\n      <td>361</td>\n      <td>0.006</td>\n      <td>04-22</td>\n    </tr>\n    <tr>\n      <th>1800</th>\n      <td>0</td>\n      <td>2016-04-22 14:26:55</td>\n      <td>2304</td>\n      <td>361</td>\n      <td>0.003</td>\n      <td>04-22</td>\n    </tr>\n    <tr>\n      <th>1802</th>\n      <td>0</td>\n      <td>2016-04-22 14:26:56</td>\n      <td>2304</td>\n      <td>361</td>\n      <td>0.002</td>\n      <td>04-22</td>\n    </tr>\n    <tr>\n      <th>1804</th>\n      <td>0</td>\n      <td>2016-04-22 14:26:57</td>\n      <td>2304</td>\n      <td>41</td>\n      <td>0.001</td>\n      <td>04-22</td>\n    </tr>\n  </tbody>\n</table>\n</div>"
     },
     "metadata": {},
     "execution_count": 19
    },
    {
     "output_type": "stream",
     "name": "stdout",
     "text": [
      "time: 297 ms\n"
     ]
    }
   ],
   "source": [
    "df_exp1 = usage_cleaned[(usage_cleaned[\"loc\"] == freq_pair[0][0][1]) & (usage_cleaned[\"uid\"] == str(0))]\n",
    "df_exp1"
   ]
  },
  {
   "cell_type": "code",
   "execution_count": 146,
   "metadata": {},
   "outputs": [
    {
     "output_type": "execute_result",
     "data": {
      "text/plain": [
       "     uid           timestamp   loc app_id  traffic   date\n",
       "1787   0 2016-04-22 14:26:31  1361    361    0.001  04-22\n",
       "1790   0 2016-04-22 14:26:44  1361     41    0.012  04-22\n",
       "1791   0 2016-04-22 14:26:45  1361    361    0.005  04-22\n",
       "1792   0 2016-04-22 14:26:45  1361     41    0.001  04-22\n",
       "1795   0 2016-04-22 14:26:48  1361    361    0.001  04-22\n",
       "1797   0 2016-04-22 14:26:49  1361    361    0.073  04-22\n",
       "1799   0 2016-04-22 14:26:55  1361    361    0.002  04-22\n",
       "1801   0 2016-04-22 14:26:56  1361     41    0.001  04-22\n",
       "1803   0 2016-04-22 14:26:57  1361     41    0.003  04-22\n",
       "1805   0 2016-04-22 14:27:00  1361    361    0.003  04-22\n",
       "1806   0 2016-04-22 14:27:01  1361    361    0.003  04-22\n",
       "1807   0 2016-04-22 14:27:47  1361    361    0.002  04-22\n",
       "1808   0 2016-04-22 14:27:48  1361    361    0.001  04-22\n",
       "1809   0 2016-04-22 14:28:12  1361    361    0.003  04-22\n",
       "1810   0 2016-04-22 14:28:13  1361    361    0.003  04-22\n",
       "1811   0 2016-04-22 14:30:17  1361    361    0.001  04-22\n",
       "1812   0 2016-04-22 14:30:18  1361    361    0.002  04-22\n",
       "1788   0 2016-04-22 14:26:31  2304    361    0.003  04-22\n",
       "1789   0 2016-04-22 14:26:41  2304    361    0.003  04-22\n",
       "1793   0 2016-04-22 14:26:45  2304     41    0.003  04-22\n",
       "1794   0 2016-04-22 14:26:46  2304     41    0.007  04-22\n",
       "1796   0 2016-04-22 14:26:48  2304    361    0.002  04-22\n",
       "1798   0 2016-04-22 14:26:54  2304    361    0.006  04-22\n",
       "1800   0 2016-04-22 14:26:55  2304    361    0.003  04-22\n",
       "1802   0 2016-04-22 14:26:56  2304    361    0.002  04-22\n",
       "1804   0 2016-04-22 14:26:57  2304     41    0.001  04-22"
      ],
      "text/html": "<div>\n<style scoped>\n    .dataframe tbody tr th:only-of-type {\n        vertical-align: middle;\n    }\n\n    .dataframe tbody tr th {\n        vertical-align: top;\n    }\n\n    .dataframe thead th {\n        text-align: right;\n    }\n</style>\n<table border=\"1\" class=\"dataframe\">\n  <thead>\n    <tr style=\"text-align: right;\">\n      <th></th>\n      <th>uid</th>\n      <th>timestamp</th>\n      <th>loc</th>\n      <th>app_id</th>\n      <th>traffic</th>\n      <th>date</th>\n    </tr>\n  </thead>\n  <tbody>\n    <tr>\n      <th>1787</th>\n      <td>0</td>\n      <td>2016-04-22 14:26:31</td>\n      <td>1361</td>\n      <td>361</td>\n      <td>0.001</td>\n      <td>04-22</td>\n    </tr>\n    <tr>\n      <th>1790</th>\n      <td>0</td>\n      <td>2016-04-22 14:26:44</td>\n      <td>1361</td>\n      <td>41</td>\n      <td>0.012</td>\n      <td>04-22</td>\n    </tr>\n    <tr>\n      <th>1791</th>\n      <td>0</td>\n      <td>2016-04-22 14:26:45</td>\n      <td>1361</td>\n      <td>361</td>\n      <td>0.005</td>\n      <td>04-22</td>\n    </tr>\n    <tr>\n      <th>1792</th>\n      <td>0</td>\n      <td>2016-04-22 14:26:45</td>\n      <td>1361</td>\n      <td>41</td>\n      <td>0.001</td>\n      <td>04-22</td>\n    </tr>\n    <tr>\n      <th>1795</th>\n      <td>0</td>\n      <td>2016-04-22 14:26:48</td>\n      <td>1361</td>\n      <td>361</td>\n      <td>0.001</td>\n      <td>04-22</td>\n    </tr>\n    <tr>\n      <th>1797</th>\n      <td>0</td>\n      <td>2016-04-22 14:26:49</td>\n      <td>1361</td>\n      <td>361</td>\n      <td>0.073</td>\n      <td>04-22</td>\n    </tr>\n    <tr>\n      <th>1799</th>\n      <td>0</td>\n      <td>2016-04-22 14:26:55</td>\n      <td>1361</td>\n      <td>361</td>\n      <td>0.002</td>\n      <td>04-22</td>\n    </tr>\n    <tr>\n      <th>1801</th>\n      <td>0</td>\n      <td>2016-04-22 14:26:56</td>\n      <td>1361</td>\n      <td>41</td>\n      <td>0.001</td>\n      <td>04-22</td>\n    </tr>\n    <tr>\n      <th>1803</th>\n      <td>0</td>\n      <td>2016-04-22 14:26:57</td>\n      <td>1361</td>\n      <td>41</td>\n      <td>0.003</td>\n      <td>04-22</td>\n    </tr>\n    <tr>\n      <th>1805</th>\n      <td>0</td>\n      <td>2016-04-22 14:27:00</td>\n      <td>1361</td>\n      <td>361</td>\n      <td>0.003</td>\n      <td>04-22</td>\n    </tr>\n    <tr>\n      <th>1806</th>\n      <td>0</td>\n      <td>2016-04-22 14:27:01</td>\n      <td>1361</td>\n      <td>361</td>\n      <td>0.003</td>\n      <td>04-22</td>\n    </tr>\n    <tr>\n      <th>1807</th>\n      <td>0</td>\n      <td>2016-04-22 14:27:47</td>\n      <td>1361</td>\n      <td>361</td>\n      <td>0.002</td>\n      <td>04-22</td>\n    </tr>\n    <tr>\n      <th>1808</th>\n      <td>0</td>\n      <td>2016-04-22 14:27:48</td>\n      <td>1361</td>\n      <td>361</td>\n      <td>0.001</td>\n      <td>04-22</td>\n    </tr>\n    <tr>\n      <th>1809</th>\n      <td>0</td>\n      <td>2016-04-22 14:28:12</td>\n      <td>1361</td>\n      <td>361</td>\n      <td>0.003</td>\n      <td>04-22</td>\n    </tr>\n    <tr>\n      <th>1810</th>\n      <td>0</td>\n      <td>2016-04-22 14:28:13</td>\n      <td>1361</td>\n      <td>361</td>\n      <td>0.003</td>\n      <td>04-22</td>\n    </tr>\n    <tr>\n      <th>1811</th>\n      <td>0</td>\n      <td>2016-04-22 14:30:17</td>\n      <td>1361</td>\n      <td>361</td>\n      <td>0.001</td>\n      <td>04-22</td>\n    </tr>\n    <tr>\n      <th>1812</th>\n      <td>0</td>\n      <td>2016-04-22 14:30:18</td>\n      <td>1361</td>\n      <td>361</td>\n      <td>0.002</td>\n      <td>04-22</td>\n    </tr>\n    <tr>\n      <th>1788</th>\n      <td>0</td>\n      <td>2016-04-22 14:26:31</td>\n      <td>2304</td>\n      <td>361</td>\n      <td>0.003</td>\n      <td>04-22</td>\n    </tr>\n    <tr>\n      <th>1789</th>\n      <td>0</td>\n      <td>2016-04-22 14:26:41</td>\n      <td>2304</td>\n      <td>361</td>\n      <td>0.003</td>\n      <td>04-22</td>\n    </tr>\n    <tr>\n      <th>1793</th>\n      <td>0</td>\n      <td>2016-04-22 14:26:45</td>\n      <td>2304</td>\n      <td>41</td>\n      <td>0.003</td>\n      <td>04-22</td>\n    </tr>\n    <tr>\n      <th>1794</th>\n      <td>0</td>\n      <td>2016-04-22 14:26:46</td>\n      <td>2304</td>\n      <td>41</td>\n      <td>0.007</td>\n      <td>04-22</td>\n    </tr>\n    <tr>\n      <th>1796</th>\n      <td>0</td>\n      <td>2016-04-22 14:26:48</td>\n      <td>2304</td>\n      <td>361</td>\n      <td>0.002</td>\n      <td>04-22</td>\n    </tr>\n    <tr>\n      <th>1798</th>\n      <td>0</td>\n      <td>2016-04-22 14:26:54</td>\n      <td>2304</td>\n      <td>361</td>\n      <td>0.006</td>\n      <td>04-22</td>\n    </tr>\n    <tr>\n      <th>1800</th>\n      <td>0</td>\n      <td>2016-04-22 14:26:55</td>\n      <td>2304</td>\n      <td>361</td>\n      <td>0.003</td>\n      <td>04-22</td>\n    </tr>\n    <tr>\n      <th>1802</th>\n      <td>0</td>\n      <td>2016-04-22 14:26:56</td>\n      <td>2304</td>\n      <td>361</td>\n      <td>0.002</td>\n      <td>04-22</td>\n    </tr>\n    <tr>\n      <th>1804</th>\n      <td>0</td>\n      <td>2016-04-22 14:26:57</td>\n      <td>2304</td>\n      <td>41</td>\n      <td>0.001</td>\n      <td>04-22</td>\n    </tr>\n  </tbody>\n</table>\n</div>"
     },
     "metadata": {},
     "execution_count": 146
    },
    {
     "output_type": "stream",
     "name": "stdout",
     "text": [
      "time: 16 ms\n"
     ]
    }
   ],
   "source": [
    "df_exp = pd.concat([df_exp, df_exp1])\n",
    "df_exp"
   ]
  },
  {
   "cell_type": "code",
   "execution_count": 150,
   "metadata": {},
   "outputs": [
    {
     "output_type": "execute_result",
     "data": {
      "text/plain": [
       "     uid           timestamp   loc app_id  traffic   date\n",
       "1787   0 2016-04-22 14:26:31  1361    361    0.001  04-22\n",
       "1790   0 2016-04-22 14:26:44  1361     41    0.012  04-22\n",
       "1791   0 2016-04-22 14:26:45  1361    361    0.005  04-22\n",
       "1792   0 2016-04-22 14:26:45  1361     41    0.001  04-22\n",
       "1795   0 2016-04-22 14:26:48  1361    361    0.001  04-22\n",
       "1797   0 2016-04-22 14:26:49  1361    361    0.073  04-22\n",
       "1799   0 2016-04-22 14:26:55  1361    361    0.002  04-22\n",
       "1801   0 2016-04-22 14:26:56  1361     41    0.001  04-22\n",
       "1803   0 2016-04-22 14:26:57  1361     41    0.003  04-22\n",
       "1805   0 2016-04-22 14:27:00  1361    361    0.003  04-22\n",
       "1806   0 2016-04-22 14:27:01  1361    361    0.003  04-22\n",
       "1807   0 2016-04-22 14:27:47  1361    361    0.002  04-22\n",
       "1808   0 2016-04-22 14:27:48  1361    361    0.001  04-22\n",
       "1809   0 2016-04-22 14:28:12  1361    361    0.003  04-22\n",
       "1810   0 2016-04-22 14:28:13  1361    361    0.003  04-22\n",
       "1811   0 2016-04-22 14:30:17  1361    361    0.001  04-22\n",
       "1812   0 2016-04-22 14:30:18  1361    361    0.002  04-22\n",
       "1788   0 2016-04-22 14:26:31  1361    361    0.003  04-22\n",
       "1789   0 2016-04-22 14:26:41  1361    361    0.003  04-22\n",
       "1793   0 2016-04-22 14:26:45  1361     41    0.003  04-22\n",
       "1794   0 2016-04-22 14:26:46  1361     41    0.007  04-22\n",
       "1796   0 2016-04-22 14:26:48  1361    361    0.002  04-22\n",
       "1798   0 2016-04-22 14:26:54  1361    361    0.006  04-22\n",
       "1800   0 2016-04-22 14:26:55  1361    361    0.003  04-22\n",
       "1802   0 2016-04-22 14:26:56  1361    361    0.002  04-22\n",
       "1804   0 2016-04-22 14:26:57  1361     41    0.001  04-22"
      ],
      "text/html": "<div>\n<style scoped>\n    .dataframe tbody tr th:only-of-type {\n        vertical-align: middle;\n    }\n\n    .dataframe tbody tr th {\n        vertical-align: top;\n    }\n\n    .dataframe thead th {\n        text-align: right;\n    }\n</style>\n<table border=\"1\" class=\"dataframe\">\n  <thead>\n    <tr style=\"text-align: right;\">\n      <th></th>\n      <th>uid</th>\n      <th>timestamp</th>\n      <th>loc</th>\n      <th>app_id</th>\n      <th>traffic</th>\n      <th>date</th>\n    </tr>\n  </thead>\n  <tbody>\n    <tr>\n      <th>1787</th>\n      <td>0</td>\n      <td>2016-04-22 14:26:31</td>\n      <td>1361</td>\n      <td>361</td>\n      <td>0.001</td>\n      <td>04-22</td>\n    </tr>\n    <tr>\n      <th>1790</th>\n      <td>0</td>\n      <td>2016-04-22 14:26:44</td>\n      <td>1361</td>\n      <td>41</td>\n      <td>0.012</td>\n      <td>04-22</td>\n    </tr>\n    <tr>\n      <th>1791</th>\n      <td>0</td>\n      <td>2016-04-22 14:26:45</td>\n      <td>1361</td>\n      <td>361</td>\n      <td>0.005</td>\n      <td>04-22</td>\n    </tr>\n    <tr>\n      <th>1792</th>\n      <td>0</td>\n      <td>2016-04-22 14:26:45</td>\n      <td>1361</td>\n      <td>41</td>\n      <td>0.001</td>\n      <td>04-22</td>\n    </tr>\n    <tr>\n      <th>1795</th>\n      <td>0</td>\n      <td>2016-04-22 14:26:48</td>\n      <td>1361</td>\n      <td>361</td>\n      <td>0.001</td>\n      <td>04-22</td>\n    </tr>\n    <tr>\n      <th>1797</th>\n      <td>0</td>\n      <td>2016-04-22 14:26:49</td>\n      <td>1361</td>\n      <td>361</td>\n      <td>0.073</td>\n      <td>04-22</td>\n    </tr>\n    <tr>\n      <th>1799</th>\n      <td>0</td>\n      <td>2016-04-22 14:26:55</td>\n      <td>1361</td>\n      <td>361</td>\n      <td>0.002</td>\n      <td>04-22</td>\n    </tr>\n    <tr>\n      <th>1801</th>\n      <td>0</td>\n      <td>2016-04-22 14:26:56</td>\n      <td>1361</td>\n      <td>41</td>\n      <td>0.001</td>\n      <td>04-22</td>\n    </tr>\n    <tr>\n      <th>1803</th>\n      <td>0</td>\n      <td>2016-04-22 14:26:57</td>\n      <td>1361</td>\n      <td>41</td>\n      <td>0.003</td>\n      <td>04-22</td>\n    </tr>\n    <tr>\n      <th>1805</th>\n      <td>0</td>\n      <td>2016-04-22 14:27:00</td>\n      <td>1361</td>\n      <td>361</td>\n      <td>0.003</td>\n      <td>04-22</td>\n    </tr>\n    <tr>\n      <th>1806</th>\n      <td>0</td>\n      <td>2016-04-22 14:27:01</td>\n      <td>1361</td>\n      <td>361</td>\n      <td>0.003</td>\n      <td>04-22</td>\n    </tr>\n    <tr>\n      <th>1807</th>\n      <td>0</td>\n      <td>2016-04-22 14:27:47</td>\n      <td>1361</td>\n      <td>361</td>\n      <td>0.002</td>\n      <td>04-22</td>\n    </tr>\n    <tr>\n      <th>1808</th>\n      <td>0</td>\n      <td>2016-04-22 14:27:48</td>\n      <td>1361</td>\n      <td>361</td>\n      <td>0.001</td>\n      <td>04-22</td>\n    </tr>\n    <tr>\n      <th>1809</th>\n      <td>0</td>\n      <td>2016-04-22 14:28:12</td>\n      <td>1361</td>\n      <td>361</td>\n      <td>0.003</td>\n      <td>04-22</td>\n    </tr>\n    <tr>\n      <th>1810</th>\n      <td>0</td>\n      <td>2016-04-22 14:28:13</td>\n      <td>1361</td>\n      <td>361</td>\n      <td>0.003</td>\n      <td>04-22</td>\n    </tr>\n    <tr>\n      <th>1811</th>\n      <td>0</td>\n      <td>2016-04-22 14:30:17</td>\n      <td>1361</td>\n      <td>361</td>\n      <td>0.001</td>\n      <td>04-22</td>\n    </tr>\n    <tr>\n      <th>1812</th>\n      <td>0</td>\n      <td>2016-04-22 14:30:18</td>\n      <td>1361</td>\n      <td>361</td>\n      <td>0.002</td>\n      <td>04-22</td>\n    </tr>\n    <tr>\n      <th>1788</th>\n      <td>0</td>\n      <td>2016-04-22 14:26:31</td>\n      <td>1361</td>\n      <td>361</td>\n      <td>0.003</td>\n      <td>04-22</td>\n    </tr>\n    <tr>\n      <th>1789</th>\n      <td>0</td>\n      <td>2016-04-22 14:26:41</td>\n      <td>1361</td>\n      <td>361</td>\n      <td>0.003</td>\n      <td>04-22</td>\n    </tr>\n    <tr>\n      <th>1793</th>\n      <td>0</td>\n      <td>2016-04-22 14:26:45</td>\n      <td>1361</td>\n      <td>41</td>\n      <td>0.003</td>\n      <td>04-22</td>\n    </tr>\n    <tr>\n      <th>1794</th>\n      <td>0</td>\n      <td>2016-04-22 14:26:46</td>\n      <td>1361</td>\n      <td>41</td>\n      <td>0.007</td>\n      <td>04-22</td>\n    </tr>\n    <tr>\n      <th>1796</th>\n      <td>0</td>\n      <td>2016-04-22 14:26:48</td>\n      <td>1361</td>\n      <td>361</td>\n      <td>0.002</td>\n      <td>04-22</td>\n    </tr>\n    <tr>\n      <th>1798</th>\n      <td>0</td>\n      <td>2016-04-22 14:26:54</td>\n      <td>1361</td>\n      <td>361</td>\n      <td>0.006</td>\n      <td>04-22</td>\n    </tr>\n    <tr>\n      <th>1800</th>\n      <td>0</td>\n      <td>2016-04-22 14:26:55</td>\n      <td>1361</td>\n      <td>361</td>\n      <td>0.003</td>\n      <td>04-22</td>\n    </tr>\n    <tr>\n      <th>1802</th>\n      <td>0</td>\n      <td>2016-04-22 14:26:56</td>\n      <td>1361</td>\n      <td>361</td>\n      <td>0.002</td>\n      <td>04-22</td>\n    </tr>\n    <tr>\n      <th>1804</th>\n      <td>0</td>\n      <td>2016-04-22 14:26:57</td>\n      <td>1361</td>\n      <td>41</td>\n      <td>0.001</td>\n      <td>04-22</td>\n    </tr>\n  </tbody>\n</table>\n</div>"
     },
     "metadata": {},
     "execution_count": 150
    },
    {
     "output_type": "stream",
     "name": "stdout",
     "text": [
      "time: 15 ms\n"
     ]
    }
   ],
   "source": [
    "if (df_exp[(df_exp[\"loc\"] == freq_pair[0][0][0]) & (df_exp[\"uid\"] == str(0))].shape[0]) > (df_exp[(df_exp[\"loc\"] == freq_pair[0][0][1]) & (df_exp[\"uid\"] == str(0))].shape[0]):\n",
    "    df_exp[\"loc\"] = df_exp[\"loc\"].replace(freq_pair[0][0][1], freq_pair[0][0][0])\n",
    "df_exp"
   ]
  },
  {
   "cell_type": "code",
   "execution_count": null,
   "metadata": {},
   "outputs": [],
   "source": []
  }
 ]
}