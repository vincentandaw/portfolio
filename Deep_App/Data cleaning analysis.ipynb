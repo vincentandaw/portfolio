{
 "metadata": {
  "language_info": {
   "codemirror_mode": {
    "name": "ipython",
    "version": 3
   },
   "file_extension": ".py",
   "mimetype": "text/x-python",
   "name": "python",
   "nbconvert_exporter": "python",
   "pygments_lexer": "ipython3",
   "version": "3.8.3"
  },
  "orig_nbformat": 2,
  "kernelspec": {
   "name": "python383jvsc74a57bd0d835b9d6547198496337f4d2de04abf3395832a8b4aee7b55cf3102d3ef3dae9",
   "display_name": "Python 3.8.3 64-bit ('base': conda)"
  }
 },
 "nbformat": 4,
 "nbformat_minor": 2,
 "cells": [
  {
   "cell_type": "code",
   "execution_count": 8,
   "metadata": {},
   "outputs": [
    {
     "output_type": "stream",
     "name": "stdout",
     "text": [
      "The autotime extension is already loaded. To reload it, use:\n  %reload_ext autotime\ntime: 0 ns\n"
     ]
    }
   ],
   "source": [
    "%load_ext autotime\n",
    "\n",
    "import pandas as pd\n",
    "from datetime import datetime, timedelta\n",
    "import matplotlib.pyplot as plt\n",
    "from heapq import nlargest\n",
    "import warnings\n",
    "warnings.filterwarnings('ignore')\n",
    "\n",
    "pd.set_option(\"display.max_colwidth\",200)\n",
    "pd.set_option(\"display.max_columns\",20)\n",
    "pd.set_option('float_format', '{:.3f}'.format)"
   ]
  },
  {
   "source": [
    "# Load the dataset"
   ],
   "cell_type": "markdown",
   "metadata": {}
  },
  {
   "cell_type": "code",
   "execution_count": 9,
   "metadata": {},
   "outputs": [
    {
     "output_type": "stream",
     "name": "stdout",
     "text": [
      "time: 1min 6s\n"
     ]
    }
   ],
   "source": [
    "import pandas as pd\n",
    "from datetime import datetime, timedelta\n",
    "import matplotlib.pyplot as plt\n",
    "# pd.options.display.max_columns\n",
    "pd.set_option(\"display.max_colwidth\",200)\n",
    "pd.set_option(\"display.max_columns\",20)\n",
    "pd.set_option('float_format', '{:.3f}'.format)\n",
    "\n",
    "# Load Usage data\n",
    "with open('C:\\\\Users\\\\natha\\Desktop\\\\Capstone_local_save\\\\Orginal Dataset\\\\App_usage_trace.txt') as f:\n",
    "    lines = f.readlines()#[:100000]\n",
    "    df = []\n",
    "    for line in lines:\n",
    "        data = line.split()\n",
    "        df.append(data)\n",
    "usage = pd.DataFrame(df, columns=['uid','timestamp', 'loc', 'app_id','traffic'])\n",
    "usage['traffic'] = usage['traffic'].astype('float64') / 1e6 # Convert traffic to MB\n",
    "usage['timestamp'] = usage['timestamp'].apply(lambda x: datetime.strptime(x, \"%Y%m%d%H%M%S\")) # Convert to datetime object\n",
    "usage['loc'] = usage['loc'].astype('int64')\n",
    "usage[\"date\"] = usage[\"timestamp\"].dt.strftime(\"%m-%d\")"
   ]
  },
  {
   "cell_type": "code",
   "execution_count": 10,
   "metadata": {},
   "outputs": [
    {
     "output_type": "stream",
     "name": "stdout",
     "text": [
      "====================================================================================================\nCurrent condition: remove user that has less than 200 records per day\n====================================================================================================\n----------------------------------------------------------------------------------------------------\nThere are 124 users that have less than 200 records for exact 1 day\n----------------------------------------------------------------------------------------------------\nThere are 589 users that have less than 200 records for more than 1 day\n----------------------------------------------------------------------------------------------------\nUnder current condition, 201725 rows will be removed, 4.83527% of the entire dataset \n====================================================================================================\ntime: 1.06 s\n"
     ]
    }
   ],
   "source": [
    "# group uid and date, purpose is to see the number of request that a user made for each day\n",
    "user_usage_perday = usage.groupby([\"uid\", \"date\"]).size().reset_index()\n",
    "# rename columns for easy slicing\n",
    "user_usage_perday.columns = [\"uid\", \"date\", \"count\"]\n",
    "# number of users that does not have X counts per day\n",
    "# change this\n",
    "required_count = 200\n",
    "\n",
    "# slice dataset to only remain those rows that has less than 20 count\n",
    "df_less10day = user_usage_perday[user_usage_perday[\"count\"] < required_count]\n",
    "# group dataset with uid to get the count of the occurance of the uid, so we can determine which users have just 1 day or more\n",
    "uid_less10day = df_less10day.groupby([\"uid\"]).size().reset_index()\n",
    "# rename columns for easy slicing\n",
    "uid_less10day.columns = [\"uid\", \"count\"]\n",
    "print(\"=\"*100)\n",
    "print(\"Current condition: remove user that has less than {} records per day\".format(required_count))\n",
    "print(\"=\"*100)\n",
    "# print(\"There are {} users that does not meet the requirement\". format(uid_less10day.shape[0]))\n",
    "print(\"-\"*100)\n",
    "print(\"There are {} users that have less than {} records for exact 1 day\".format((uid_less10day.shape[0]- uid_less10day[uid_less10day[\"count\"] != 1].shape[0]), required_count))\n",
    "print(\"-\"*100)\n",
    "print(\"There are {} users that have less than {} records for more than 1 day\".format(uid_less10day[uid_less10day[\"count\"] != 1].shape[0], required_count))\n",
    "print(\"-\"*100)\n",
    "print(\"Under current condition, {} rows will be removed, {:.5%} of the entire dataset \".format(df_less10day[\"count\"].sum(), df_less10day[\"count\"].sum()/4171950))\n",
    "print(\"=\"*100)"
   ]
  },
  {
   "cell_type": "code",
   "execution_count": 11,
   "metadata": {},
   "outputs": [
    {
     "output_type": "execute_result",
     "data": {
      "text/plain": [
       "   uid           timestamp   loc app_id  traffic   date\n",
       "0    0 2016-04-20 08:13:19  8194    361    0.002  04-20\n",
       "1    0 2016-04-20 08:13:20  8194    361    0.002  04-20\n",
       "2    0 2016-04-20 08:13:22  8194    361    0.004  04-20\n",
       "3    0 2016-04-20 08:13:30  8194    361    0.001  04-20\n",
       "4    0 2016-04-20 08:13:31  8194    361    0.002  04-20\n",
       "5    0 2016-04-20 08:16:44  8194    361    0.002  04-20\n",
       "6    0 2016-04-20 08:16:49  8194     31    0.002  04-20\n",
       "7    0 2016-04-20 08:16:49  8194    360    0.002  04-20\n",
       "8    0 2016-04-20 08:16:49  8194    612    0.002  04-20\n",
       "9    0 2016-04-20 08:16:50  8194     31    0.003  04-20\n",
       "10   0 2016-04-20 08:17:25  8194     31    0.005  04-20\n",
       "11   0 2016-04-20 08:17:26  8194     31    0.003  04-20\n",
       "12   0 2016-04-20 08:17:27  8194     31    0.003  04-20\n",
       "13   0 2016-04-20 08:17:28  8194    360    0.002  04-20\n",
       "14   0 2016-04-20 08:17:33  8194    361    0.001  04-20\n",
       "15   0 2016-04-20 08:17:34  8194    361    0.008  04-20\n",
       "16   0 2016-04-20 08:24:12  8192      1    0.002  04-20\n",
       "17   0 2016-04-20 08:29:20  1906     31    0.001  04-20\n",
       "18   0 2016-04-20 08:29:21  1906     31    0.000  04-20\n",
       "19   0 2016-04-20 08:29:22  1906    612    0.000  04-20\n",
       "20   0 2016-04-20 08:29:26  1906    360    0.001  04-20\n",
       "21   0 2016-04-20 08:29:52  1906     31    0.003  04-20\n",
       "22   0 2016-04-20 08:29:52  1906      4    0.002  04-20\n",
       "23   0 2016-04-20 08:31:52  1906     31    0.000  04-20\n",
       "24   0 2016-04-20 08:47:14  1307      1    0.001  04-20\n",
       "25   0 2016-04-20 08:54:06  1847      1    0.000  04-20\n",
       "26   0 2016-04-20 08:57:47  1737      1    0.002  04-20\n",
       "27   0 2016-04-20 09:03:24  6561      1    0.003  04-20\n",
       "28   0 2016-04-20 09:15:05  6709    108    0.002  04-20\n",
       "29   0 2016-04-20 09:15:07  6709    108    0.001  04-20\n",
       "..  ..                 ...   ...    ...      ...    ...\n",
       "57   0 2016-04-20 20:06:25  1633      1    0.004  04-20\n",
       "58   0 2016-04-20 20:07:36  1633    361    0.003  04-20\n",
       "59   0 2016-04-20 20:08:12  1633      1    0.002  04-20\n",
       "60   0 2016-04-20 20:08:40  1633      1    0.009  04-20\n",
       "61   0 2016-04-20 20:09:11  1633    361    0.004  04-20\n",
       "62   0 2016-04-20 20:09:12  1633    361    0.006  04-20\n",
       "63   0 2016-04-20 20:09:13  1633     41    0.008  04-20\n",
       "64   0 2016-04-20 20:11:21  1633      1    0.002  04-20\n",
       "65   0 2016-04-20 20:11:23  1633      1    0.003  04-20\n",
       "66   0 2016-04-20 20:24:18  2323    334    0.010  04-20\n",
       "67   0 2016-04-20 20:24:19  2323    334    0.126  04-20\n",
       "68   0 2016-04-20 20:24:19  2323    504    0.014  04-20\n",
       "69   0 2016-04-20 20:24:19  2323     80    0.127  04-20\n",
       "70   0 2016-04-20 20:24:20  2323    504    0.021  04-20\n",
       "71   0 2016-04-20 20:24:23  2323    334    0.006  04-20\n",
       "72   0 2016-04-20 20:24:24  2323    334    0.003  04-20\n",
       "73   0 2016-04-20 20:24:25  2323    334    0.022  04-20\n",
       "74   0 2016-04-20 20:24:25  2323    504    0.112  04-20\n",
       "75   0 2016-04-20 20:24:26  2323    334    0.002  04-20\n",
       "76   0 2016-04-20 20:24:26  2323    504    0.106  04-20\n",
       "77   0 2016-04-20 20:24:28  2323    504    0.060  04-20\n",
       "78   0 2016-04-20 20:24:29  2323    504    0.001  04-20\n",
       "79   0 2016-04-20 20:24:31  2323    334    0.020  04-20\n",
       "80   0 2016-04-20 20:24:32  2323    334    0.001  04-20\n",
       "81   0 2016-04-20 20:24:41  2323     46    0.001  04-20\n",
       "82   0 2016-04-20 20:26:08  2323    287    0.002  04-20\n",
       "83   0 2016-04-20 20:37:59  8194    361    0.004  04-20\n",
       "84   0 2016-04-20 20:38:14  8194      1    0.001  04-20\n",
       "85   0 2016-04-20 20:38:15  8194      1    0.002  04-20\n",
       "86   0 2016-04-20 20:38:16  8194    361    0.004  04-20\n",
       "\n",
       "[87 rows x 6 columns]"
      ],
      "text/html": "<div>\n<style scoped>\n    .dataframe tbody tr th:only-of-type {\n        vertical-align: middle;\n    }\n\n    .dataframe tbody tr th {\n        vertical-align: top;\n    }\n\n    .dataframe thead th {\n        text-align: right;\n    }\n</style>\n<table border=\"1\" class=\"dataframe\">\n  <thead>\n    <tr style=\"text-align: right;\">\n      <th></th>\n      <th>uid</th>\n      <th>timestamp</th>\n      <th>loc</th>\n      <th>app_id</th>\n      <th>traffic</th>\n      <th>date</th>\n    </tr>\n  </thead>\n  <tbody>\n    <tr>\n      <th>0</th>\n      <td>0</td>\n      <td>2016-04-20 08:13:19</td>\n      <td>8194</td>\n      <td>361</td>\n      <td>0.002</td>\n      <td>04-20</td>\n    </tr>\n    <tr>\n      <th>1</th>\n      <td>0</td>\n      <td>2016-04-20 08:13:20</td>\n      <td>8194</td>\n      <td>361</td>\n      <td>0.002</td>\n      <td>04-20</td>\n    </tr>\n    <tr>\n      <th>2</th>\n      <td>0</td>\n      <td>2016-04-20 08:13:22</td>\n      <td>8194</td>\n      <td>361</td>\n      <td>0.004</td>\n      <td>04-20</td>\n    </tr>\n    <tr>\n      <th>3</th>\n      <td>0</td>\n      <td>2016-04-20 08:13:30</td>\n      <td>8194</td>\n      <td>361</td>\n      <td>0.001</td>\n      <td>04-20</td>\n    </tr>\n    <tr>\n      <th>4</th>\n      <td>0</td>\n      <td>2016-04-20 08:13:31</td>\n      <td>8194</td>\n      <td>361</td>\n      <td>0.002</td>\n      <td>04-20</td>\n    </tr>\n    <tr>\n      <th>5</th>\n      <td>0</td>\n      <td>2016-04-20 08:16:44</td>\n      <td>8194</td>\n      <td>361</td>\n      <td>0.002</td>\n      <td>04-20</td>\n    </tr>\n    <tr>\n      <th>6</th>\n      <td>0</td>\n      <td>2016-04-20 08:16:49</td>\n      <td>8194</td>\n      <td>31</td>\n      <td>0.002</td>\n      <td>04-20</td>\n    </tr>\n    <tr>\n      <th>7</th>\n      <td>0</td>\n      <td>2016-04-20 08:16:49</td>\n      <td>8194</td>\n      <td>360</td>\n      <td>0.002</td>\n      <td>04-20</td>\n    </tr>\n    <tr>\n      <th>8</th>\n      <td>0</td>\n      <td>2016-04-20 08:16:49</td>\n      <td>8194</td>\n      <td>612</td>\n      <td>0.002</td>\n      <td>04-20</td>\n    </tr>\n    <tr>\n      <th>9</th>\n      <td>0</td>\n      <td>2016-04-20 08:16:50</td>\n      <td>8194</td>\n      <td>31</td>\n      <td>0.003</td>\n      <td>04-20</td>\n    </tr>\n    <tr>\n      <th>10</th>\n      <td>0</td>\n      <td>2016-04-20 08:17:25</td>\n      <td>8194</td>\n      <td>31</td>\n      <td>0.005</td>\n      <td>04-20</td>\n    </tr>\n    <tr>\n      <th>11</th>\n      <td>0</td>\n      <td>2016-04-20 08:17:26</td>\n      <td>8194</td>\n      <td>31</td>\n      <td>0.003</td>\n      <td>04-20</td>\n    </tr>\n    <tr>\n      <th>12</th>\n      <td>0</td>\n      <td>2016-04-20 08:17:27</td>\n      <td>8194</td>\n      <td>31</td>\n      <td>0.003</td>\n      <td>04-20</td>\n    </tr>\n    <tr>\n      <th>13</th>\n      <td>0</td>\n      <td>2016-04-20 08:17:28</td>\n      <td>8194</td>\n      <td>360</td>\n      <td>0.002</td>\n      <td>04-20</td>\n    </tr>\n    <tr>\n      <th>14</th>\n      <td>0</td>\n      <td>2016-04-20 08:17:33</td>\n      <td>8194</td>\n      <td>361</td>\n      <td>0.001</td>\n      <td>04-20</td>\n    </tr>\n    <tr>\n      <th>15</th>\n      <td>0</td>\n      <td>2016-04-20 08:17:34</td>\n      <td>8194</td>\n      <td>361</td>\n      <td>0.008</td>\n      <td>04-20</td>\n    </tr>\n    <tr>\n      <th>16</th>\n      <td>0</td>\n      <td>2016-04-20 08:24:12</td>\n      <td>8192</td>\n      <td>1</td>\n      <td>0.002</td>\n      <td>04-20</td>\n    </tr>\n    <tr>\n      <th>17</th>\n      <td>0</td>\n      <td>2016-04-20 08:29:20</td>\n      <td>1906</td>\n      <td>31</td>\n      <td>0.001</td>\n      <td>04-20</td>\n    </tr>\n    <tr>\n      <th>18</th>\n      <td>0</td>\n      <td>2016-04-20 08:29:21</td>\n      <td>1906</td>\n      <td>31</td>\n      <td>0.000</td>\n      <td>04-20</td>\n    </tr>\n    <tr>\n      <th>19</th>\n      <td>0</td>\n      <td>2016-04-20 08:29:22</td>\n      <td>1906</td>\n      <td>612</td>\n      <td>0.000</td>\n      <td>04-20</td>\n    </tr>\n    <tr>\n      <th>20</th>\n      <td>0</td>\n      <td>2016-04-20 08:29:26</td>\n      <td>1906</td>\n      <td>360</td>\n      <td>0.001</td>\n      <td>04-20</td>\n    </tr>\n    <tr>\n      <th>21</th>\n      <td>0</td>\n      <td>2016-04-20 08:29:52</td>\n      <td>1906</td>\n      <td>31</td>\n      <td>0.003</td>\n      <td>04-20</td>\n    </tr>\n    <tr>\n      <th>22</th>\n      <td>0</td>\n      <td>2016-04-20 08:29:52</td>\n      <td>1906</td>\n      <td>4</td>\n      <td>0.002</td>\n      <td>04-20</td>\n    </tr>\n    <tr>\n      <th>23</th>\n      <td>0</td>\n      <td>2016-04-20 08:31:52</td>\n      <td>1906</td>\n      <td>31</td>\n      <td>0.000</td>\n      <td>04-20</td>\n    </tr>\n    <tr>\n      <th>24</th>\n      <td>0</td>\n      <td>2016-04-20 08:47:14</td>\n      <td>1307</td>\n      <td>1</td>\n      <td>0.001</td>\n      <td>04-20</td>\n    </tr>\n    <tr>\n      <th>25</th>\n      <td>0</td>\n      <td>2016-04-20 08:54:06</td>\n      <td>1847</td>\n      <td>1</td>\n      <td>0.000</td>\n      <td>04-20</td>\n    </tr>\n    <tr>\n      <th>26</th>\n      <td>0</td>\n      <td>2016-04-20 08:57:47</td>\n      <td>1737</td>\n      <td>1</td>\n      <td>0.002</td>\n      <td>04-20</td>\n    </tr>\n    <tr>\n      <th>27</th>\n      <td>0</td>\n      <td>2016-04-20 09:03:24</td>\n      <td>6561</td>\n      <td>1</td>\n      <td>0.003</td>\n      <td>04-20</td>\n    </tr>\n    <tr>\n      <th>28</th>\n      <td>0</td>\n      <td>2016-04-20 09:15:05</td>\n      <td>6709</td>\n      <td>108</td>\n      <td>0.002</td>\n      <td>04-20</td>\n    </tr>\n    <tr>\n      <th>29</th>\n      <td>0</td>\n      <td>2016-04-20 09:15:07</td>\n      <td>6709</td>\n      <td>108</td>\n      <td>0.001</td>\n      <td>04-20</td>\n    </tr>\n    <tr>\n      <th>...</th>\n      <td>...</td>\n      <td>...</td>\n      <td>...</td>\n      <td>...</td>\n      <td>...</td>\n      <td>...</td>\n    </tr>\n    <tr>\n      <th>57</th>\n      <td>0</td>\n      <td>2016-04-20 20:06:25</td>\n      <td>1633</td>\n      <td>1</td>\n      <td>0.004</td>\n      <td>04-20</td>\n    </tr>\n    <tr>\n      <th>58</th>\n      <td>0</td>\n      <td>2016-04-20 20:07:36</td>\n      <td>1633</td>\n      <td>361</td>\n      <td>0.003</td>\n      <td>04-20</td>\n    </tr>\n    <tr>\n      <th>59</th>\n      <td>0</td>\n      <td>2016-04-20 20:08:12</td>\n      <td>1633</td>\n      <td>1</td>\n      <td>0.002</td>\n      <td>04-20</td>\n    </tr>\n    <tr>\n      <th>60</th>\n      <td>0</td>\n      <td>2016-04-20 20:08:40</td>\n      <td>1633</td>\n      <td>1</td>\n      <td>0.009</td>\n      <td>04-20</td>\n    </tr>\n    <tr>\n      <th>61</th>\n      <td>0</td>\n      <td>2016-04-20 20:09:11</td>\n      <td>1633</td>\n      <td>361</td>\n      <td>0.004</td>\n      <td>04-20</td>\n    </tr>\n    <tr>\n      <th>62</th>\n      <td>0</td>\n      <td>2016-04-20 20:09:12</td>\n      <td>1633</td>\n      <td>361</td>\n      <td>0.006</td>\n      <td>04-20</td>\n    </tr>\n    <tr>\n      <th>63</th>\n      <td>0</td>\n      <td>2016-04-20 20:09:13</td>\n      <td>1633</td>\n      <td>41</td>\n      <td>0.008</td>\n      <td>04-20</td>\n    </tr>\n    <tr>\n      <th>64</th>\n      <td>0</td>\n      <td>2016-04-20 20:11:21</td>\n      <td>1633</td>\n      <td>1</td>\n      <td>0.002</td>\n      <td>04-20</td>\n    </tr>\n    <tr>\n      <th>65</th>\n      <td>0</td>\n      <td>2016-04-20 20:11:23</td>\n      <td>1633</td>\n      <td>1</td>\n      <td>0.003</td>\n      <td>04-20</td>\n    </tr>\n    <tr>\n      <th>66</th>\n      <td>0</td>\n      <td>2016-04-20 20:24:18</td>\n      <td>2323</td>\n      <td>334</td>\n      <td>0.010</td>\n      <td>04-20</td>\n    </tr>\n    <tr>\n      <th>67</th>\n      <td>0</td>\n      <td>2016-04-20 20:24:19</td>\n      <td>2323</td>\n      <td>334</td>\n      <td>0.126</td>\n      <td>04-20</td>\n    </tr>\n    <tr>\n      <th>68</th>\n      <td>0</td>\n      <td>2016-04-20 20:24:19</td>\n      <td>2323</td>\n      <td>504</td>\n      <td>0.014</td>\n      <td>04-20</td>\n    </tr>\n    <tr>\n      <th>69</th>\n      <td>0</td>\n      <td>2016-04-20 20:24:19</td>\n      <td>2323</td>\n      <td>80</td>\n      <td>0.127</td>\n      <td>04-20</td>\n    </tr>\n    <tr>\n      <th>70</th>\n      <td>0</td>\n      <td>2016-04-20 20:24:20</td>\n      <td>2323</td>\n      <td>504</td>\n      <td>0.021</td>\n      <td>04-20</td>\n    </tr>\n    <tr>\n      <th>71</th>\n      <td>0</td>\n      <td>2016-04-20 20:24:23</td>\n      <td>2323</td>\n      <td>334</td>\n      <td>0.006</td>\n      <td>04-20</td>\n    </tr>\n    <tr>\n      <th>72</th>\n      <td>0</td>\n      <td>2016-04-20 20:24:24</td>\n      <td>2323</td>\n      <td>334</td>\n      <td>0.003</td>\n      <td>04-20</td>\n    </tr>\n    <tr>\n      <th>73</th>\n      <td>0</td>\n      <td>2016-04-20 20:24:25</td>\n      <td>2323</td>\n      <td>334</td>\n      <td>0.022</td>\n      <td>04-20</td>\n    </tr>\n    <tr>\n      <th>74</th>\n      <td>0</td>\n      <td>2016-04-20 20:24:25</td>\n      <td>2323</td>\n      <td>504</td>\n      <td>0.112</td>\n      <td>04-20</td>\n    </tr>\n    <tr>\n      <th>75</th>\n      <td>0</td>\n      <td>2016-04-20 20:24:26</td>\n      <td>2323</td>\n      <td>334</td>\n      <td>0.002</td>\n      <td>04-20</td>\n    </tr>\n    <tr>\n      <th>76</th>\n      <td>0</td>\n      <td>2016-04-20 20:24:26</td>\n      <td>2323</td>\n      <td>504</td>\n      <td>0.106</td>\n      <td>04-20</td>\n    </tr>\n    <tr>\n      <th>77</th>\n      <td>0</td>\n      <td>2016-04-20 20:24:28</td>\n      <td>2323</td>\n      <td>504</td>\n      <td>0.060</td>\n      <td>04-20</td>\n    </tr>\n    <tr>\n      <th>78</th>\n      <td>0</td>\n      <td>2016-04-20 20:24:29</td>\n      <td>2323</td>\n      <td>504</td>\n      <td>0.001</td>\n      <td>04-20</td>\n    </tr>\n    <tr>\n      <th>79</th>\n      <td>0</td>\n      <td>2016-04-20 20:24:31</td>\n      <td>2323</td>\n      <td>334</td>\n      <td>0.020</td>\n      <td>04-20</td>\n    </tr>\n    <tr>\n      <th>80</th>\n      <td>0</td>\n      <td>2016-04-20 20:24:32</td>\n      <td>2323</td>\n      <td>334</td>\n      <td>0.001</td>\n      <td>04-20</td>\n    </tr>\n    <tr>\n      <th>81</th>\n      <td>0</td>\n      <td>2016-04-20 20:24:41</td>\n      <td>2323</td>\n      <td>46</td>\n      <td>0.001</td>\n      <td>04-20</td>\n    </tr>\n    <tr>\n      <th>82</th>\n      <td>0</td>\n      <td>2016-04-20 20:26:08</td>\n      <td>2323</td>\n      <td>287</td>\n      <td>0.002</td>\n      <td>04-20</td>\n    </tr>\n    <tr>\n      <th>83</th>\n      <td>0</td>\n      <td>2016-04-20 20:37:59</td>\n      <td>8194</td>\n      <td>361</td>\n      <td>0.004</td>\n      <td>04-20</td>\n    </tr>\n    <tr>\n      <th>84</th>\n      <td>0</td>\n      <td>2016-04-20 20:38:14</td>\n      <td>8194</td>\n      <td>1</td>\n      <td>0.001</td>\n      <td>04-20</td>\n    </tr>\n    <tr>\n      <th>85</th>\n      <td>0</td>\n      <td>2016-04-20 20:38:15</td>\n      <td>8194</td>\n      <td>1</td>\n      <td>0.002</td>\n      <td>04-20</td>\n    </tr>\n    <tr>\n      <th>86</th>\n      <td>0</td>\n      <td>2016-04-20 20:38:16</td>\n      <td>8194</td>\n      <td>361</td>\n      <td>0.004</td>\n      <td>04-20</td>\n    </tr>\n  </tbody>\n</table>\n<p>87 rows × 6 columns</p>\n</div>"
     },
     "metadata": {},
     "execution_count": 11
    },
    {
     "output_type": "stream",
     "name": "stdout",
     "text": [
      "time: 469 ms\n"
     ]
    }
   ],
   "source": [
    "usage[(usage[\"uid\"] == str(0)) & (usage[\"date\"] == '04-20')]"
   ]
  },
  {
   "cell_type": "code",
   "execution_count": 12,
   "metadata": {},
   "outputs": [
    {
     "output_type": "execute_result",
     "data": {
      "text/plain": [
       "    uid           timestamp   loc app_id  traffic   date\n",
       "87    0 2016-04-21 08:42:21  8194    342    0.030  04-21\n",
       "88    0 2016-04-21 08:44:12  8194      1    0.008  04-21\n",
       "89    0 2016-04-21 08:44:47  8194    857    0.027  04-21\n",
       "90    0 2016-04-21 08:44:48  8194    857    0.002  04-21\n",
       "91    0 2016-04-21 08:44:49  8194     31    0.009  04-21\n",
       "92    0 2016-04-21 08:44:49  8194      4    0.002  04-21\n",
       "93    0 2016-04-21 08:44:49  8194    529    0.002  04-21\n",
       "94    0 2016-04-21 08:44:49  8194    612    0.001  04-21\n",
       "95    0 2016-04-21 08:44:49  8194    857    0.579  04-21\n",
       "96    0 2016-04-21 08:44:50  8194     31    0.307  04-21\n",
       "97    0 2016-04-21 08:44:50  8194    857    0.001  04-21\n",
       "98    0 2016-04-21 08:44:51  8194    857    0.002  04-21\n",
       "99    0 2016-04-21 08:44:52  8194    857    0.020  04-21\n",
       "100   0 2016-04-21 08:44:55  8194    857    0.010  04-21\n",
       "101   0 2016-04-21 08:44:56  8194    857    0.006  04-21\n",
       "102   0 2016-04-21 08:44:59  8194     31    0.001  04-21\n",
       "103   0 2016-04-21 08:45:02  8194     31    0.002  04-21\n",
       "104   0 2016-04-21 08:45:04  8194    360    0.002  04-21\n",
       "105   0 2016-04-21 08:48:22  8192     31    0.005  04-21\n",
       "106   0 2016-04-21 08:48:23  8192     31    0.012  04-21\n",
       "107   0 2016-04-21 08:48:23  8192      4    0.002  04-21\n",
       "108   0 2016-04-21 08:48:23  8192    529    0.002  04-21\n",
       "109   0 2016-04-21 08:48:23  8192    612    0.002  04-21\n",
       "110   0 2016-04-21 08:48:24  8192     31    0.004  04-21\n",
       "111   0 2016-04-21 08:48:24  8192    360    0.001  04-21\n",
       "112   0 2016-04-21 08:52:13  8192      1    0.002  04-21\n",
       "113   0 2016-04-21 08:56:19  7714     31    0.008  04-21\n",
       "114   0 2016-04-21 08:56:19  8119     31    0.009  04-21\n",
       "115   0 2016-04-21 08:56:19  8119      4    0.002  04-21\n",
       "116   0 2016-04-21 08:56:19  8119    529    0.002  04-21\n",
       "..   ..                 ...   ...    ...      ...    ...\n",
       "767   0 2016-04-21 21:29:22  2373     80    0.004  04-21\n",
       "768   0 2016-04-21 21:29:24  2373    189    0.009  04-21\n",
       "769   0 2016-04-21 21:29:25  2373    189    0.006  04-21\n",
       "770   0 2016-04-21 21:29:30  2373    189    0.001  04-21\n",
       "771   0 2016-04-21 21:29:37  2373    189    0.001  04-21\n",
       "772   0 2016-04-21 21:29:53  2373    189    0.103  04-21\n",
       "773   0 2016-04-21 21:29:54  2373    189    0.148  04-21\n",
       "774   0 2016-04-21 21:29:55  2373    189    0.136  04-21\n",
       "775   0 2016-04-21 21:29:56  2373    189    0.000  04-21\n",
       "776   0 2016-04-21 21:29:59  2373    189    0.002  04-21\n",
       "777   0 2016-04-21 21:30:13  2373   1447    0.002  04-21\n",
       "778   0 2016-04-21 21:35:12  1758      1    0.002  04-21\n",
       "779   0 2016-04-21 21:35:13  1758      1    0.006  04-21\n",
       "780   0 2016-04-21 21:35:14  1758      1    0.004  04-21\n",
       "781   0 2016-04-21 21:35:15  1758      1    0.004  04-21\n",
       "782   0 2016-04-21 21:35:16  1758      1    0.002  04-21\n",
       "783   0 2016-04-21 21:35:20  1758      1    0.002  04-21\n",
       "784   0 2016-04-21 21:35:25  1758      1    0.002  04-21\n",
       "785   0 2016-04-21 21:35:26  1758      1    0.002  04-21\n",
       "786   0 2016-04-21 21:35:30  1758      1    0.002  04-21\n",
       "787   0 2016-04-21 21:35:31  1758      1    0.002  04-21\n",
       "788   0 2016-04-21 21:35:32  1758      1    0.004  04-21\n",
       "789   0 2016-04-21 21:35:33  1758      1    0.002  04-21\n",
       "790   0 2016-04-21 21:35:34  1758      1    0.004  04-21\n",
       "791   0 2016-04-21 21:35:35  1758      1    0.004  04-21\n",
       "792   0 2016-04-21 21:35:36  1758      1    0.002  04-21\n",
       "793   0 2016-04-21 21:35:37  1758      1    0.004  04-21\n",
       "794   0 2016-04-21 21:35:38  1758      1    0.002  04-21\n",
       "795   0 2016-04-21 21:35:39  1758      1    0.002  04-21\n",
       "796   0 2016-04-21 21:35:58  1758      1    0.002  04-21\n",
       "\n",
       "[710 rows x 6 columns]"
      ],
      "text/html": "<div>\n<style scoped>\n    .dataframe tbody tr th:only-of-type {\n        vertical-align: middle;\n    }\n\n    .dataframe tbody tr th {\n        vertical-align: top;\n    }\n\n    .dataframe thead th {\n        text-align: right;\n    }\n</style>\n<table border=\"1\" class=\"dataframe\">\n  <thead>\n    <tr style=\"text-align: right;\">\n      <th></th>\n      <th>uid</th>\n      <th>timestamp</th>\n      <th>loc</th>\n      <th>app_id</th>\n      <th>traffic</th>\n      <th>date</th>\n    </tr>\n  </thead>\n  <tbody>\n    <tr>\n      <th>87</th>\n      <td>0</td>\n      <td>2016-04-21 08:42:21</td>\n      <td>8194</td>\n      <td>342</td>\n      <td>0.030</td>\n      <td>04-21</td>\n    </tr>\n    <tr>\n      <th>88</th>\n      <td>0</td>\n      <td>2016-04-21 08:44:12</td>\n      <td>8194</td>\n      <td>1</td>\n      <td>0.008</td>\n      <td>04-21</td>\n    </tr>\n    <tr>\n      <th>89</th>\n      <td>0</td>\n      <td>2016-04-21 08:44:47</td>\n      <td>8194</td>\n      <td>857</td>\n      <td>0.027</td>\n      <td>04-21</td>\n    </tr>\n    <tr>\n      <th>90</th>\n      <td>0</td>\n      <td>2016-04-21 08:44:48</td>\n      <td>8194</td>\n      <td>857</td>\n      <td>0.002</td>\n      <td>04-21</td>\n    </tr>\n    <tr>\n      <th>91</th>\n      <td>0</td>\n      <td>2016-04-21 08:44:49</td>\n      <td>8194</td>\n      <td>31</td>\n      <td>0.009</td>\n      <td>04-21</td>\n    </tr>\n    <tr>\n      <th>92</th>\n      <td>0</td>\n      <td>2016-04-21 08:44:49</td>\n      <td>8194</td>\n      <td>4</td>\n      <td>0.002</td>\n      <td>04-21</td>\n    </tr>\n    <tr>\n      <th>93</th>\n      <td>0</td>\n      <td>2016-04-21 08:44:49</td>\n      <td>8194</td>\n      <td>529</td>\n      <td>0.002</td>\n      <td>04-21</td>\n    </tr>\n    <tr>\n      <th>94</th>\n      <td>0</td>\n      <td>2016-04-21 08:44:49</td>\n      <td>8194</td>\n      <td>612</td>\n      <td>0.001</td>\n      <td>04-21</td>\n    </tr>\n    <tr>\n      <th>95</th>\n      <td>0</td>\n      <td>2016-04-21 08:44:49</td>\n      <td>8194</td>\n      <td>857</td>\n      <td>0.579</td>\n      <td>04-21</td>\n    </tr>\n    <tr>\n      <th>96</th>\n      <td>0</td>\n      <td>2016-04-21 08:44:50</td>\n      <td>8194</td>\n      <td>31</td>\n      <td>0.307</td>\n      <td>04-21</td>\n    </tr>\n    <tr>\n      <th>97</th>\n      <td>0</td>\n      <td>2016-04-21 08:44:50</td>\n      <td>8194</td>\n      <td>857</td>\n      <td>0.001</td>\n      <td>04-21</td>\n    </tr>\n    <tr>\n      <th>98</th>\n      <td>0</td>\n      <td>2016-04-21 08:44:51</td>\n      <td>8194</td>\n      <td>857</td>\n      <td>0.002</td>\n      <td>04-21</td>\n    </tr>\n    <tr>\n      <th>99</th>\n      <td>0</td>\n      <td>2016-04-21 08:44:52</td>\n      <td>8194</td>\n      <td>857</td>\n      <td>0.020</td>\n      <td>04-21</td>\n    </tr>\n    <tr>\n      <th>100</th>\n      <td>0</td>\n      <td>2016-04-21 08:44:55</td>\n      <td>8194</td>\n      <td>857</td>\n      <td>0.010</td>\n      <td>04-21</td>\n    </tr>\n    <tr>\n      <th>101</th>\n      <td>0</td>\n      <td>2016-04-21 08:44:56</td>\n      <td>8194</td>\n      <td>857</td>\n      <td>0.006</td>\n      <td>04-21</td>\n    </tr>\n    <tr>\n      <th>102</th>\n      <td>0</td>\n      <td>2016-04-21 08:44:59</td>\n      <td>8194</td>\n      <td>31</td>\n      <td>0.001</td>\n      <td>04-21</td>\n    </tr>\n    <tr>\n      <th>103</th>\n      <td>0</td>\n      <td>2016-04-21 08:45:02</td>\n      <td>8194</td>\n      <td>31</td>\n      <td>0.002</td>\n      <td>04-21</td>\n    </tr>\n    <tr>\n      <th>104</th>\n      <td>0</td>\n      <td>2016-04-21 08:45:04</td>\n      <td>8194</td>\n      <td>360</td>\n      <td>0.002</td>\n      <td>04-21</td>\n    </tr>\n    <tr>\n      <th>105</th>\n      <td>0</td>\n      <td>2016-04-21 08:48:22</td>\n      <td>8192</td>\n      <td>31</td>\n      <td>0.005</td>\n      <td>04-21</td>\n    </tr>\n    <tr>\n      <th>106</th>\n      <td>0</td>\n      <td>2016-04-21 08:48:23</td>\n      <td>8192</td>\n      <td>31</td>\n      <td>0.012</td>\n      <td>04-21</td>\n    </tr>\n    <tr>\n      <th>107</th>\n      <td>0</td>\n      <td>2016-04-21 08:48:23</td>\n      <td>8192</td>\n      <td>4</td>\n      <td>0.002</td>\n      <td>04-21</td>\n    </tr>\n    <tr>\n      <th>108</th>\n      <td>0</td>\n      <td>2016-04-21 08:48:23</td>\n      <td>8192</td>\n      <td>529</td>\n      <td>0.002</td>\n      <td>04-21</td>\n    </tr>\n    <tr>\n      <th>109</th>\n      <td>0</td>\n      <td>2016-04-21 08:48:23</td>\n      <td>8192</td>\n      <td>612</td>\n      <td>0.002</td>\n      <td>04-21</td>\n    </tr>\n    <tr>\n      <th>110</th>\n      <td>0</td>\n      <td>2016-04-21 08:48:24</td>\n      <td>8192</td>\n      <td>31</td>\n      <td>0.004</td>\n      <td>04-21</td>\n    </tr>\n    <tr>\n      <th>111</th>\n      <td>0</td>\n      <td>2016-04-21 08:48:24</td>\n      <td>8192</td>\n      <td>360</td>\n      <td>0.001</td>\n      <td>04-21</td>\n    </tr>\n    <tr>\n      <th>112</th>\n      <td>0</td>\n      <td>2016-04-21 08:52:13</td>\n      <td>8192</td>\n      <td>1</td>\n      <td>0.002</td>\n      <td>04-21</td>\n    </tr>\n    <tr>\n      <th>113</th>\n      <td>0</td>\n      <td>2016-04-21 08:56:19</td>\n      <td>7714</td>\n      <td>31</td>\n      <td>0.008</td>\n      <td>04-21</td>\n    </tr>\n    <tr>\n      <th>114</th>\n      <td>0</td>\n      <td>2016-04-21 08:56:19</td>\n      <td>8119</td>\n      <td>31</td>\n      <td>0.009</td>\n      <td>04-21</td>\n    </tr>\n    <tr>\n      <th>115</th>\n      <td>0</td>\n      <td>2016-04-21 08:56:19</td>\n      <td>8119</td>\n      <td>4</td>\n      <td>0.002</td>\n      <td>04-21</td>\n    </tr>\n    <tr>\n      <th>116</th>\n      <td>0</td>\n      <td>2016-04-21 08:56:19</td>\n      <td>8119</td>\n      <td>529</td>\n      <td>0.002</td>\n      <td>04-21</td>\n    </tr>\n    <tr>\n      <th>...</th>\n      <td>...</td>\n      <td>...</td>\n      <td>...</td>\n      <td>...</td>\n      <td>...</td>\n      <td>...</td>\n    </tr>\n    <tr>\n      <th>767</th>\n      <td>0</td>\n      <td>2016-04-21 21:29:22</td>\n      <td>2373</td>\n      <td>80</td>\n      <td>0.004</td>\n      <td>04-21</td>\n    </tr>\n    <tr>\n      <th>768</th>\n      <td>0</td>\n      <td>2016-04-21 21:29:24</td>\n      <td>2373</td>\n      <td>189</td>\n      <td>0.009</td>\n      <td>04-21</td>\n    </tr>\n    <tr>\n      <th>769</th>\n      <td>0</td>\n      <td>2016-04-21 21:29:25</td>\n      <td>2373</td>\n      <td>189</td>\n      <td>0.006</td>\n      <td>04-21</td>\n    </tr>\n    <tr>\n      <th>770</th>\n      <td>0</td>\n      <td>2016-04-21 21:29:30</td>\n      <td>2373</td>\n      <td>189</td>\n      <td>0.001</td>\n      <td>04-21</td>\n    </tr>\n    <tr>\n      <th>771</th>\n      <td>0</td>\n      <td>2016-04-21 21:29:37</td>\n      <td>2373</td>\n      <td>189</td>\n      <td>0.001</td>\n      <td>04-21</td>\n    </tr>\n    <tr>\n      <th>772</th>\n      <td>0</td>\n      <td>2016-04-21 21:29:53</td>\n      <td>2373</td>\n      <td>189</td>\n      <td>0.103</td>\n      <td>04-21</td>\n    </tr>\n    <tr>\n      <th>773</th>\n      <td>0</td>\n      <td>2016-04-21 21:29:54</td>\n      <td>2373</td>\n      <td>189</td>\n      <td>0.148</td>\n      <td>04-21</td>\n    </tr>\n    <tr>\n      <th>774</th>\n      <td>0</td>\n      <td>2016-04-21 21:29:55</td>\n      <td>2373</td>\n      <td>189</td>\n      <td>0.136</td>\n      <td>04-21</td>\n    </tr>\n    <tr>\n      <th>775</th>\n      <td>0</td>\n      <td>2016-04-21 21:29:56</td>\n      <td>2373</td>\n      <td>189</td>\n      <td>0.000</td>\n      <td>04-21</td>\n    </tr>\n    <tr>\n      <th>776</th>\n      <td>0</td>\n      <td>2016-04-21 21:29:59</td>\n      <td>2373</td>\n      <td>189</td>\n      <td>0.002</td>\n      <td>04-21</td>\n    </tr>\n    <tr>\n      <th>777</th>\n      <td>0</td>\n      <td>2016-04-21 21:30:13</td>\n      <td>2373</td>\n      <td>1447</td>\n      <td>0.002</td>\n      <td>04-21</td>\n    </tr>\n    <tr>\n      <th>778</th>\n      <td>0</td>\n      <td>2016-04-21 21:35:12</td>\n      <td>1758</td>\n      <td>1</td>\n      <td>0.002</td>\n      <td>04-21</td>\n    </tr>\n    <tr>\n      <th>779</th>\n      <td>0</td>\n      <td>2016-04-21 21:35:13</td>\n      <td>1758</td>\n      <td>1</td>\n      <td>0.006</td>\n      <td>04-21</td>\n    </tr>\n    <tr>\n      <th>780</th>\n      <td>0</td>\n      <td>2016-04-21 21:35:14</td>\n      <td>1758</td>\n      <td>1</td>\n      <td>0.004</td>\n      <td>04-21</td>\n    </tr>\n    <tr>\n      <th>781</th>\n      <td>0</td>\n      <td>2016-04-21 21:35:15</td>\n      <td>1758</td>\n      <td>1</td>\n      <td>0.004</td>\n      <td>04-21</td>\n    </tr>\n    <tr>\n      <th>782</th>\n      <td>0</td>\n      <td>2016-04-21 21:35:16</td>\n      <td>1758</td>\n      <td>1</td>\n      <td>0.002</td>\n      <td>04-21</td>\n    </tr>\n    <tr>\n      <th>783</th>\n      <td>0</td>\n      <td>2016-04-21 21:35:20</td>\n      <td>1758</td>\n      <td>1</td>\n      <td>0.002</td>\n      <td>04-21</td>\n    </tr>\n    <tr>\n      <th>784</th>\n      <td>0</td>\n      <td>2016-04-21 21:35:25</td>\n      <td>1758</td>\n      <td>1</td>\n      <td>0.002</td>\n      <td>04-21</td>\n    </tr>\n    <tr>\n      <th>785</th>\n      <td>0</td>\n      <td>2016-04-21 21:35:26</td>\n      <td>1758</td>\n      <td>1</td>\n      <td>0.002</td>\n      <td>04-21</td>\n    </tr>\n    <tr>\n      <th>786</th>\n      <td>0</td>\n      <td>2016-04-21 21:35:30</td>\n      <td>1758</td>\n      <td>1</td>\n      <td>0.002</td>\n      <td>04-21</td>\n    </tr>\n    <tr>\n      <th>787</th>\n      <td>0</td>\n      <td>2016-04-21 21:35:31</td>\n      <td>1758</td>\n      <td>1</td>\n      <td>0.002</td>\n      <td>04-21</td>\n    </tr>\n    <tr>\n      <th>788</th>\n      <td>0</td>\n      <td>2016-04-21 21:35:32</td>\n      <td>1758</td>\n      <td>1</td>\n      <td>0.004</td>\n      <td>04-21</td>\n    </tr>\n    <tr>\n      <th>789</th>\n      <td>0</td>\n      <td>2016-04-21 21:35:33</td>\n      <td>1758</td>\n      <td>1</td>\n      <td>0.002</td>\n      <td>04-21</td>\n    </tr>\n    <tr>\n      <th>790</th>\n      <td>0</td>\n      <td>2016-04-21 21:35:34</td>\n      <td>1758</td>\n      <td>1</td>\n      <td>0.004</td>\n      <td>04-21</td>\n    </tr>\n    <tr>\n      <th>791</th>\n      <td>0</td>\n      <td>2016-04-21 21:35:35</td>\n      <td>1758</td>\n      <td>1</td>\n      <td>0.004</td>\n      <td>04-21</td>\n    </tr>\n    <tr>\n      <th>792</th>\n      <td>0</td>\n      <td>2016-04-21 21:35:36</td>\n      <td>1758</td>\n      <td>1</td>\n      <td>0.002</td>\n      <td>04-21</td>\n    </tr>\n    <tr>\n      <th>793</th>\n      <td>0</td>\n      <td>2016-04-21 21:35:37</td>\n      <td>1758</td>\n      <td>1</td>\n      <td>0.004</td>\n      <td>04-21</td>\n    </tr>\n    <tr>\n      <th>794</th>\n      <td>0</td>\n      <td>2016-04-21 21:35:38</td>\n      <td>1758</td>\n      <td>1</td>\n      <td>0.002</td>\n      <td>04-21</td>\n    </tr>\n    <tr>\n      <th>795</th>\n      <td>0</td>\n      <td>2016-04-21 21:35:39</td>\n      <td>1758</td>\n      <td>1</td>\n      <td>0.002</td>\n      <td>04-21</td>\n    </tr>\n    <tr>\n      <th>796</th>\n      <td>0</td>\n      <td>2016-04-21 21:35:58</td>\n      <td>1758</td>\n      <td>1</td>\n      <td>0.002</td>\n      <td>04-21</td>\n    </tr>\n  </tbody>\n</table>\n<p>710 rows × 6 columns</p>\n</div>"
     },
     "metadata": {},
     "execution_count": 12
    },
    {
     "output_type": "stream",
     "name": "stdout",
     "text": [
      "time: 453 ms\n"
     ]
    }
   ],
   "source": [
    "usage[(usage[\"uid\"] == str(0)) & (usage[\"date\"] == '04-21')]"
   ]
  },
  {
   "cell_type": "code",
   "execution_count": null,
   "metadata": {},
   "outputs": [],
   "source": []
  }
 ]
}