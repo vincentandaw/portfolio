{
 "metadata": {
  "language_info": {
   "codemirror_mode": {
    "name": "ipython",
    "version": 3
   },
   "file_extension": ".py",
   "mimetype": "text/x-python",
   "name": "python",
   "nbconvert_exporter": "python",
   "pygments_lexer": "ipython3",
   "version": "3.8.3-final"
  },
  "orig_nbformat": 2,
  "kernelspec": {
   "name": "python383jvsc74a57bd0d835b9d6547198496337f4d2de04abf3395832a8b4aee7b55cf3102d3ef3dae9",
   "display_name": "Python 3.8.3 64-bit (conda)"
  }
 },
 "nbformat": 4,
 "nbformat_minor": 2,
 "cells": [
  {
   "cell_type": "code",
   "execution_count": 291,
   "metadata": {},
   "outputs": [
    {
     "output_type": "stream",
     "name": "stdout",
     "text": [
      "The autotime extension is already loaded. To reload it, use:\n  %reload_ext autotime\ntime: 0 ns\n"
     ]
    }
   ],
   "source": [
    "%load_ext autotime"
   ]
  },
  {
   "cell_type": "code",
   "execution_count": 292,
   "metadata": {},
   "outputs": [
    {
     "output_type": "stream",
     "name": "stdout",
     "text": [
      "time: 0 ns\n"
     ]
    }
   ],
   "source": [
    "import pandas as pd\n",
    "import numpy as np\n",
    "from datetime import datetime, timedelta\n",
    "import matplotlib.pyplot as plt\n",
    "# pd.options.display.max_columns\n",
    "pd.set_option(\"display.max_colwidth\",200)\n",
    "pd.set_option(\"display.max_columns\",20)\n",
    "pd.set_option('float_format', '{:.3f}'.format)"
   ]
  },
  {
   "cell_type": "code",
   "execution_count": 293,
   "metadata": {},
   "outputs": [
    {
     "output_type": "execute_result",
     "data": {
      "text/plain": [
       "  uid           timestamp   loc app_id  traffic   date\n",
       "0   0 2016-04-20 08:13:19  8194    361    0.002  04-20\n",
       "1   0 2016-04-20 08:13:20  8194    361    0.002  04-20\n",
       "2   0 2016-04-20 08:13:22  8194    361    0.004  04-20\n",
       "3   0 2016-04-20 08:13:30  8194    361    0.001  04-20\n",
       "4   0 2016-04-20 08:13:31  8194    361    0.002  04-20"
      ],
      "text/html": "<div>\n<style scoped>\n    .dataframe tbody tr th:only-of-type {\n        vertical-align: middle;\n    }\n\n    .dataframe tbody tr th {\n        vertical-align: top;\n    }\n\n    .dataframe thead th {\n        text-align: right;\n    }\n</style>\n<table border=\"1\" class=\"dataframe\">\n  <thead>\n    <tr style=\"text-align: right;\">\n      <th></th>\n      <th>uid</th>\n      <th>timestamp</th>\n      <th>loc</th>\n      <th>app_id</th>\n      <th>traffic</th>\n      <th>date</th>\n    </tr>\n  </thead>\n  <tbody>\n    <tr>\n      <th>0</th>\n      <td>0</td>\n      <td>2016-04-20 08:13:19</td>\n      <td>8194</td>\n      <td>361</td>\n      <td>0.002</td>\n      <td>04-20</td>\n    </tr>\n    <tr>\n      <th>1</th>\n      <td>0</td>\n      <td>2016-04-20 08:13:20</td>\n      <td>8194</td>\n      <td>361</td>\n      <td>0.002</td>\n      <td>04-20</td>\n    </tr>\n    <tr>\n      <th>2</th>\n      <td>0</td>\n      <td>2016-04-20 08:13:22</td>\n      <td>8194</td>\n      <td>361</td>\n      <td>0.004</td>\n      <td>04-20</td>\n    </tr>\n    <tr>\n      <th>3</th>\n      <td>0</td>\n      <td>2016-04-20 08:13:30</td>\n      <td>8194</td>\n      <td>361</td>\n      <td>0.001</td>\n      <td>04-20</td>\n    </tr>\n    <tr>\n      <th>4</th>\n      <td>0</td>\n      <td>2016-04-20 08:13:31</td>\n      <td>8194</td>\n      <td>361</td>\n      <td>0.002</td>\n      <td>04-20</td>\n    </tr>\n  </tbody>\n</table>\n</div>"
     },
     "metadata": {},
     "execution_count": 293
    },
    {
     "output_type": "stream",
     "name": "stdout",
     "text": [
      "time: 1min 5s\n"
     ]
    }
   ],
   "source": [
    "import pandas as pd\n",
    "from datetime import datetime, timedelta\n",
    "import matplotlib.pyplot as plt\n",
    "# pd.options.display.max_columns\n",
    "pd.set_option(\"display.max_colwidth\",200)\n",
    "pd.set_option(\"display.max_columns\",20)\n",
    "pd.set_option('float_format', '{:.3f}'.format)\n",
    "\n",
    "# Load Usage data\n",
    "with open('App_usage_trace.txt') as f:\n",
    "    lines = f.readlines()#[:100000]\n",
    "    df = []\n",
    "    for line in lines:\n",
    "        data = line.split()\n",
    "        df.append(data)\n",
    "usage = pd.DataFrame(df, columns=['uid','timestamp', 'loc', 'app_id','traffic'])\n",
    "usage['traffic'] = usage['traffic'].astype('float64') / 1e6 # Convert traffic to MB\n",
    "usage['timestamp'] = usage['timestamp'].apply(lambda x: datetime.strptime(x, \"%Y%m%d%H%M%S\")) # Convert to datetime object\n",
    "usage['loc'] = usage['loc'].astype('int64')\n",
    "usage[\"date\"] = usage[\"timestamp\"].dt.strftime(\"%m-%d\")\n",
    "usage.head()"
   ]
  },
  {
   "source": [
    "# Identify users that have less than X records per day, see what is the impact of the removal"
   ],
   "cell_type": "markdown",
   "metadata": {}
  },
  {
   "cell_type": "code",
   "execution_count": 294,
   "metadata": {},
   "outputs": [
    {
     "output_type": "stream",
     "name": "stdout",
     "text": [
      "====================================================================================================\nCurrent condition: remove user that has less than 10 records per day\n====================================================================================================\nThere are 200 users that does not meet the requirement\n----------------------------------------------------------------------------------------------------\nThere are 140 users that have less than 10 records for exact 1 day\n----------------------------------------------------------------------------------------------------\nThere are 60 users that have less than 10 records for more than 1 day\n----------------------------------------------------------------------------------------------------\nUnder current condition, 1263 rows will be removed, 0.00030% of the entire dataset \n====================================================================================================\ntime: 1.08 s\n"
     ]
    }
   ],
   "source": [
    "# group uid and date, purpose is to see the number of request that a user made for each day\n",
    "user_usage_perday = usage.groupby([\"uid\", \"date\"]).size().reset_index()\n",
    "# rename columns for easy slicing\n",
    "user_usage_perday.columns = [\"uid\", \"date\", \"count\"]\n",
    "# number of users that does not have X counts per day\n",
    "# change this\n",
    "required_count = 10\n",
    "\n",
    "# slice dataset to only remain those rows that has less than 20 count\n",
    "df_less10day = user_usage_perday[user_usage_perday[\"count\"] < required_count]\n",
    "# group dataset with uid to get the count of the occurance of the uid, so we can determine which users have just 1 day or more\n",
    "uid_less10day = df_less10day.groupby([\"uid\"]).size().reset_index()\n",
    "# rename columns for easy slicing\n",
    "uid_less10day.columns = [\"uid\", \"count\"]\n",
    "print(\"=\"*100)\n",
    "print(\"Current condition: remove user that has less than {} records per day\".format(required_count))\n",
    "print(\"=\"*100)\n",
    "print(\"There are {} users that does not meet the requirement\". format(uid_less10day.shape[0]))\n",
    "print(\"-\"*100)\n",
    "print(\"There are {} users that have less than {} records for exact 1 day\".format((uid_less10day.shape[0]- uid_less10day[uid_less10day[\"count\"] != 1].shape[0]), required_count))\n",
    "print(\"-\"*100)\n",
    "print(\"There are {} users that have less than {} records for more than 1 day\".format(uid_less10day[uid_less10day[\"count\"] != 1].shape[0], required_count))\n",
    "print(\"-\"*100)\n",
    "print(\"Under current condition, {} rows will be removed, {:.5%} of the entire dataset \".format(df_less10day[\"count\"].sum(), df_less10day[\"count\"].sum()/414171950))\n",
    "print(\"=\"*100)"
   ]
  },
  {
   "source": [
    "# Implementation of the cleaning"
   ],
   "cell_type": "markdown",
   "metadata": {}
  },
  {
   "cell_type": "code",
   "execution_count": 5,
   "metadata": {},
   "outputs": [
    {
     "output_type": "stream",
     "name": "stdout",
     "text": [
      "Before removal the dataset has 4171950 rows\n",
      "After removal the dataset has 4170687 rows, 1263 rows has been removed\n",
      "time: 5min 3s\n"
     ]
    }
   ],
   "source": [
    "required_count = 10\n",
    "# slice dataset to only remain those rows that has less than 20 count\n",
    "user_usage_perday = usage.groupby([\"uid\", \"date\"]).size().reset_index()\n",
    "user_usage_perday.columns = [\"uid\", \"date\", \"count\"]\n",
    "\n",
    "df_less10day = user_usage_perday[user_usage_perday[\"count\"] < required_count]\n",
    "records_remove = np.array(df_less10day)\n",
    "usage_copy = usage.copy()\n",
    "print(\"Before removal the dataset has {} rows\".format(usage.shape[0]))\n",
    "for i in range(len(records_remove)):\n",
    "    uid = records_remove[i][0]\n",
    "    date = records_remove[i][1]\n",
    "    usage_copy = usage_copy.drop(usage_copy[(usage_copy[\"uid\"] == uid) & (usage_copy[\"date\"] == date)].index)\n",
    "print(\"After removal the dataset has {} rows, {} rows has been removed\".format(usage_copy.shape[0], (usage.shape[0] - usage_copy.shape[0])))"
   ]
  },
  {
   "source": [
    "# rename the cleaned dataset \n",
    "usage_cleaned = usage.copy()"
   ],
   "cell_type": "code",
   "metadata": {},
   "execution_count": 295,
   "outputs": [
    {
     "output_type": "stream",
     "name": "stdout",
     "text": [
      "time: 219 ms\n"
     ]
    }
   ]
  },
  {
   "source": [
    "# Adpot Oscillation"
   ],
   "cell_type": "markdown",
   "metadata": {}
  },
  {
   "cell_type": "code",
   "execution_count": 233,
   "metadata": {},
   "outputs": [
    {
     "output_type": "stream",
     "name": "stdout",
     "text": [
      "time: 0 ns\n"
     ]
    }
   ],
   "source": [
    "# Function to align the Origin and Destination (O/D)\n",
    "def sort_movement_tuples(jump):\n",
    "    return sorted(list(jump))\n",
    "\n",
    "# Define a function that can output the frequency pair of a user's mobility pattern\n",
    "def show_frequent_pair(uid=888, threshold=5, jump_occurence=10):\n",
    "    # Nathan: replaced usage with usage_cleaned\n",
    "    user_uid = usage_cleaned[usage_cleaned['uid'] == str(uid)]\n",
    "\n",
    "    # Set the thresold of time gap allowed between movement\n",
    "    delta_threshold = timedelta(seconds=threshold)\n",
    "\n",
    "    # Create the columns of the next time and lcoation\n",
    "    user_uid['next_loc'] = user_uid['loc'].shift(-1).fillna(0).astype('int')\n",
    "    user_uid['next_timestamp'] = user_uid['timestamp'].shift(-1)\n",
    "\n",
    "    # Keep only movements\n",
    "    user_uid = user_uid[user_uid['loc'] != user_uid['next_loc']]\n",
    "\n",
    "    # Get the time gaps between movements\n",
    "    user_uid['time_delta'] = user_uid['next_timestamp'] - user_uid['timestamp']\n",
    "\n",
    "    # Get teleports and count the teleports\n",
    "    # Should be able to identify the return trips\n",
    "    teleports = user_uid[user_uid['time_delta'] < delta_threshold]\n",
    "    teleports['tele'] = list(zip(teleports['loc'], teleports['next_loc']))\n",
    "    # print(teleports['tele'].value_counts())\n",
    "\n",
    "    # # Group and count the same jump\n",
    "    tele_counts = teleports['tele'].value_counts().reset_index()\n",
    "    tele_counts.columns = ['jump', 'count']\n",
    "\n",
    "    # Align the O/D of the jump to identify the pairs\n",
    "    tele_counts['jump'] = tele_counts['jump'].apply(lambda i: sort_movement_tuples(i))\n",
    "\n",
    "    # Get the jumps that has a reasonable number of occurence\n",
    "    tele_counts = tele_counts[tele_counts['count'] > jump_occurence]\n",
    "    tele_counts['jump'] = tuple(tele_counts['jump'])\n",
    "\n",
    "    # print the record for reference\n",
    "    # Nathan: added reset_index()\n",
    "    frequent_pairs = tele_counts.groupby(['jump']).sum().reset_index()\n",
    "\n",
    "    return frequent_pairs"
   ]
  },
  {
   "source": [
    "## First way to solve oscillation:\n",
    "## 1) get frequent pairs with show_frequent_pair()\n",
    "## 2) call the oscillation period using present_oscillation()\n",
    "## 3) from the frequent pairs compare their overall count for that particular user \n",
    "## (This can be modify to any condition)\n",
    "## 4) get the index of roles that requires changing loc\n",
    "## 5) change loc"
   ],
   "cell_type": "markdown",
   "metadata": {}
  },
  {
   "cell_type": "code",
   "execution_count": 296,
   "metadata": {},
   "outputs": [
    {
     "output_type": "stream",
     "name": "stdout",
     "text": [
      "time: 0 ns\n"
     ]
    }
   ],
   "source": [
    "# Function to align the Origin and Destination (O/D)\n",
    "def sort_movement_tuples(jump):\n",
    "    return sorted(list(jump))\n",
    "\n",
    "# show the period where the oscillation happens\n",
    "def present_oscillation(uid=888, threshold=5, jump_occurence=10):\n",
    "    # Nathan: replaced usage with usage_cleaned\n",
    "    user_uid = usage_cleaned[usage_cleaned['uid'] == str(uid)]\n",
    "\n",
    "    # Set the thresold of time gap allowed between movement\n",
    "    delta_threshold = timedelta(seconds=threshold)\n",
    "\n",
    "    # Create the columns of the next time and lcoation\n",
    "    user_uid['next_loc'] = user_uid['loc'].shift(-1).fillna(0).astype('int')\n",
    "    user_uid['next_timestamp'] = user_uid['timestamp'].shift(-1)\n",
    "\n",
    "    # Keep only movements\n",
    "    user_uid = user_uid[user_uid['loc'] != user_uid['next_loc']]\n",
    "\n",
    "    # Get the time gaps between movements\n",
    "    user_uid['time_delta'] = user_uid['next_timestamp'] - user_uid['timestamp']\n",
    "\n",
    "    # Get teleports and count the teleports\n",
    "    # Should be able to identify the return trips\n",
    "    teleports = user_uid[user_uid['time_delta'] < delta_threshold]\n",
    "    teleports['tele'] = list(zip(teleports['loc'], teleports['next_loc']))\n",
    "    # print(teleports['tele'].value_counts())\n",
    "\n",
    "    # # Group and count the same jump\n",
    "    tele_counts = teleports['tele'].value_counts().reset_index()\n",
    "    tele_counts.columns = ['jump', 'count']\n",
    "\n",
    "    # Align the O/D of the jump to identify the pairs\n",
    "    # we want to remove this as we want to return the rows that travel from a>b and b>a\n",
    "    tele_counts['jump'] = tele_counts['jump'].apply(lambda i: sort_movement_tuples(i))\n",
    "\n",
    "    # Get the jumps that has a reasonable number of occurence\n",
    "    tele_counts = tele_counts[tele_counts['count'] > jump_occurence]\n",
    "    tele_counts['jump'] = tuple(tele_counts['jump'])\n",
    "\n",
    "    teleports['tele'] = teleports['tele'].apply(lambda j: sort_movement_tuples(j))\n",
    "    teleports['tele'] = tuple(teleports['tele'])\n",
    "\n",
    "    #return the rows that has tele_count in the \"tele\" column, so it returns the rows where the oscillation happens\n",
    "    return teleports[teleports['tele'].isin(tele_counts[\"jump\"])]\n",
    "    # return teleports"
   ]
  },
  {
   "cell_type": "code",
   "execution_count": 249,
   "metadata": {},
   "outputs": [
    {
     "output_type": "stream",
     "name": "stderr",
     "text": [
      "<ipython-input-233-20c6b7ee343d>:14: SettingWithCopyWarning: \n",
      "A value is trying to be set on a copy of a slice from a DataFrame.\n",
      "Try using .loc[row_indexer,col_indexer] = value instead\n",
      "\n",
      "See the caveats in the documentation: http://pandas.pydata.org/pandas-docs/stable/indexing.html#indexing-view-versus-copy\n",
      "  user_uid['next_loc'] = user_uid['loc'].shift(-1).fillna(0).astype('int')\n",
      "<ipython-input-233-20c6b7ee343d>:15: SettingWithCopyWarning: \n",
      "A value is trying to be set on a copy of a slice from a DataFrame.\n",
      "Try using .loc[row_indexer,col_indexer] = value instead\n",
      "\n",
      "See the caveats in the documentation: http://pandas.pydata.org/pandas-docs/stable/indexing.html#indexing-view-versus-copy\n",
      "  user_uid['next_timestamp'] = user_uid['timestamp'].shift(-1)\n",
      "<ipython-input-233-20c6b7ee343d>:26: SettingWithCopyWarning: \n",
      "A value is trying to be set on a copy of a slice from a DataFrame.\n",
      "Try using .loc[row_indexer,col_indexer] = value instead\n",
      "\n",
      "See the caveats in the documentation: http://pandas.pydata.org/pandas-docs/stable/indexing.html#indexing-view-versus-copy\n",
      "  teleports['tele'] = list(zip(teleports['loc'], teleports['next_loc']))\n"
     ]
    },
    {
     "output_type": "execute_result",
     "data": {
      "text/plain": [
       "array([[(131, 4595), 7],\n",
       "       [(131, 5029), 29],\n",
       "       [(131, 5087), 17],\n",
       "       ...,\n",
       "       [(9630, 9800), 6],\n",
       "       [(9631, 9723), 21],\n",
       "       [(9631, 9800), 61]], dtype=object)"
      ]
     },
     "metadata": {},
     "execution_count": 249
    },
    {
     "output_type": "stream",
     "name": "stdout",
     "text": [
      "time: 6.38 s\n"
     ]
    }
   ],
   "source": [
    "# show the frequent pair\n",
    "user0_freq_pair = np.array(show_frequent_pair(772,10,5))\n",
    "user0_freq_pair"
   ]
  },
  {
   "cell_type": "code",
   "execution_count": 253,
   "metadata": {},
   "outputs": [
    {
     "output_type": "execute_result",
     "data": {
      "text/plain": [
       "2453"
      ]
     },
     "metadata": {},
     "execution_count": 253
    },
    {
     "output_type": "stream",
     "name": "stdout",
     "text": [
      "time: 0 ns\n"
     ]
    }
   ],
   "source": [
    "user0_freq_pair.shape[0]"
   ]
  },
  {
   "cell_type": "code",
   "execution_count": 250,
   "metadata": {},
   "outputs": [
    {
     "output_type": "stream",
     "name": "stderr",
     "text": [
      "<ipython-input-245-f1d55fd8c473>:14: SettingWithCopyWarning: \n",
      "A value is trying to be set on a copy of a slice from a DataFrame.\n",
      "Try using .loc[row_indexer,col_indexer] = value instead\n",
      "\n",
      "See the caveats in the documentation: http://pandas.pydata.org/pandas-docs/stable/indexing.html#indexing-view-versus-copy\n",
      "  user_uid['next_loc'] = user_uid['loc'].shift(-1).fillna(0).astype('int')\n",
      "<ipython-input-245-f1d55fd8c473>:15: SettingWithCopyWarning: \n",
      "A value is trying to be set on a copy of a slice from a DataFrame.\n",
      "Try using .loc[row_indexer,col_indexer] = value instead\n",
      "\n",
      "See the caveats in the documentation: http://pandas.pydata.org/pandas-docs/stable/indexing.html#indexing-view-versus-copy\n",
      "  user_uid['next_timestamp'] = user_uid['timestamp'].shift(-1)\n",
      "<ipython-input-245-f1d55fd8c473>:26: SettingWithCopyWarning: \n",
      "A value is trying to be set on a copy of a slice from a DataFrame.\n",
      "Try using .loc[row_indexer,col_indexer] = value instead\n",
      "\n",
      "See the caveats in the documentation: http://pandas.pydata.org/pandas-docs/stable/indexing.html#indexing-view-versus-copy\n",
      "  teleports['tele'] = list(zip(teleports['loc'], teleports['next_loc']))\n",
      "<ipython-input-245-f1d55fd8c473>:41: SettingWithCopyWarning: \n",
      "A value is trying to be set on a copy of a slice from a DataFrame.\n",
      "Try using .loc[row_indexer,col_indexer] = value instead\n",
      "\n",
      "See the caveats in the documentation: http://pandas.pydata.org/pandas-docs/stable/indexing.html#indexing-view-versus-copy\n",
      "  teleports['tele'] = teleports['tele'].apply(lambda j: sort_movement_tuples(j))\n",
      "<ipython-input-245-f1d55fd8c473>:42: SettingWithCopyWarning: \n",
      "A value is trying to be set on a copy of a slice from a DataFrame.\n",
      "Try using .loc[row_indexer,col_indexer] = value instead\n",
      "\n",
      "See the caveats in the documentation: http://pandas.pydata.org/pandas-docs/stable/indexing.html#indexing-view-versus-copy\n",
      "  teleports['tele'] = tuple(teleports['tele'])\n"
     ]
    },
    {
     "output_type": "execute_result",
     "data": {
      "text/plain": [
       "         uid           timestamp   loc app_id  traffic   date  next_loc  \\\n",
       "1771575  772 2016-04-20 00:05:11  6392     68    0.006  04-20      8803   \n",
       "1771670  772 2016-04-20 07:12:00  9631      2    0.002  04-20      8951   \n",
       "1771671  772 2016-04-20 07:12:01  8951      1    0.015  04-20      9631   \n",
       "1771673  772 2016-04-20 07:12:23  8951      1    0.002  04-20      9631   \n",
       "1771676  772 2016-04-20 07:12:28  9631      2    0.003  04-20      8951   \n",
       "1771677  772 2016-04-20 07:12:34  8951      1    0.003  04-20      9631   \n",
       "1771682  772 2016-04-20 07:14:01  9631      2    0.000  04-20      8951   \n",
       "1771683  772 2016-04-20 07:14:03  8951    286    0.025  04-20      9631   \n",
       "1771684  772 2016-04-20 07:14:04  9631      2    0.000  04-20      8951   \n",
       "1771685  772 2016-04-20 07:14:08  8951    286    0.021  04-20      9631   \n",
       "1771687  772 2016-04-20 07:14:16  9631      2    0.002  04-20      8951   \n",
       "1771691  772 2016-04-20 07:14:48  8951      2    0.002  04-20      9631   \n",
       "1771698  772 2016-04-20 07:17:51  2419      5    0.003  04-20      9631   \n",
       "1771702  772 2016-04-20 07:18:09  2419      5    0.001  04-20      9631   \n",
       "1771713  772 2016-04-20 07:18:55  9631      2    0.001  04-20      2419   \n",
       "1771716  772 2016-04-20 07:19:13  2419      5    0.001  04-20      9631   \n",
       "1771739  772 2016-04-20 07:24:11  9800      2    0.000  04-20      9631   \n",
       "1771740  772 2016-04-20 07:24:13  9631      2    0.004  04-20      9800   \n",
       "1771741  772 2016-04-20 07:24:16  9800      2    0.000  04-20      9631   \n",
       "1771744  772 2016-04-20 07:24:35  2419    123    0.001  04-20      9800   \n",
       "1771745  772 2016-04-20 07:24:42  9800      2    0.001  04-20      2419   \n",
       "1771750  772 2016-04-20 07:24:53  2419    123    0.002  04-20      9800   \n",
       "1771757  772 2016-04-20 07:25:43  9800      2    0.001  04-20      2419   \n",
       "1771758  772 2016-04-20 07:25:45  2419    123    0.000  04-20      9800   \n",
       "1771759  772 2016-04-20 07:25:46  9800      2    0.001  04-20      2419   \n",
       "1771764  772 2016-04-20 07:26:01  2419    123    0.001  04-20      9800   \n",
       "1771766  772 2016-04-20 07:26:27  6392      5    0.036  04-20      9800   \n",
       "1771770  772 2016-04-20 07:26:55  9800      2    0.001  04-20      6392   \n",
       "1771771  772 2016-04-20 07:26:57  6392     80    0.012  04-20      9800   \n",
       "1771772  772 2016-04-20 07:27:00  9800      2    0.004  04-20      6392   \n",
       "...      ...                 ...   ...    ...      ...    ...       ...   \n",
       "1999711  772 2016-04-26 23:34:39  6392    843    0.016  04-26      8580   \n",
       "1999712  772 2016-04-26 23:34:39  8580    751    0.000  04-26      6392   \n",
       "1999715  772 2016-04-26 23:34:42  6392     55    0.017  04-26      8580   \n",
       "1999719  772 2016-04-26 23:34:48  8580    108    0.001  04-26      6392   \n",
       "1999721  772 2016-04-26 23:34:51  6392      5    0.028  04-26      8580   \n",
       "1999722  772 2016-04-26 23:34:51  8580    751    0.003  04-26      6392   \n",
       "1999727  772 2016-04-26 23:34:56  6392      5    0.025  04-26      8580   \n",
       "1999738  772 2016-04-26 23:36:01  8580    751    0.002  04-26      5701   \n",
       "1999739  772 2016-04-26 23:36:04  5701      1    0.020  04-26      8580   \n",
       "1999750  772 2016-04-26 23:37:09  8580    751    0.001  04-26      2853   \n",
       "1999752  772 2016-04-26 23:37:16  2853     30    0.025  04-26      8580   \n",
       "1999761  772 2016-04-26 23:37:58  8580    751    0.001  04-26      6121   \n",
       "1999762  772 2016-04-26 23:38:01  6121     78    0.027  04-26      8580   \n",
       "1999774  772 2016-04-26 23:38:50  8580    751    0.001  04-26      2853   \n",
       "1999779  772 2016-04-26 23:38:59  2853     30    0.025  04-26      8580   \n",
       "1999780  772 2016-04-26 23:39:00  8580    751    0.001  04-26      2853   \n",
       "1999782  772 2016-04-26 23:39:02  2853     30    0.001  04-26      8580   \n",
       "1999787  772 2016-04-26 23:39:25  8580    751    0.000  04-26      2853   \n",
       "1999791  772 2016-04-26 23:39:30  2853     30    0.027  04-26      8580   \n",
       "1999793  772 2016-04-26 23:39:38  8580    751    0.000  04-26      2853   \n",
       "1999794  772 2016-04-26 23:39:41  2853     30    0.023  04-26      8580   \n",
       "1999796  772 2016-04-26 23:39:49  8580    751    0.000  04-26      2853   \n",
       "1999797  772 2016-04-26 23:39:52  2853     30    0.024  04-26      8580   \n",
       "1999798  772 2016-04-26 23:39:55  8580    751    0.001  04-26      2853   \n",
       "1999802  772 2016-04-26 23:40:00  2853     78    0.024  04-26      8580   \n",
       "1999803  772 2016-04-26 23:40:00  8580    751    0.001  04-26      2853   \n",
       "1999804  772 2016-04-26 23:40:06  2853      5    0.025  04-26      8580   \n",
       "1999825  772 2016-04-26 23:41:39  8580    751    0.002  04-26      4366   \n",
       "1999826  772 2016-04-26 23:41:42  4366    128    0.026  04-26      8580   \n",
       "1999833  772 2016-04-26 23:42:48  8580    108    0.002  04-26      2853   \n",
       "\n",
       "             next_timestamp time_delta          tele  \n",
       "1771575 2016-04-20 00:05:17   00:00:06  (6392, 8803)  \n",
       "1771670 2016-04-20 07:12:01   00:00:01  (8951, 9631)  \n",
       "1771671 2016-04-20 07:12:01   00:00:00  (8951, 9631)  \n",
       "1771673 2016-04-20 07:12:26   00:00:03  (8951, 9631)  \n",
       "1771676 2016-04-20 07:12:34   00:00:06  (8951, 9631)  \n",
       "1771677 2016-04-20 07:12:41   00:00:07  (8951, 9631)  \n",
       "1771682 2016-04-20 07:14:03   00:00:02  (8951, 9631)  \n",
       "1771683 2016-04-20 07:14:04   00:00:01  (8951, 9631)  \n",
       "1771684 2016-04-20 07:14:08   00:00:04  (8951, 9631)  \n",
       "1771685 2016-04-20 07:14:14   00:00:06  (8951, 9631)  \n",
       "1771687 2016-04-20 07:14:20   00:00:04  (8951, 9631)  \n",
       "1771691 2016-04-20 07:14:51   00:00:03  (8951, 9631)  \n",
       "1771698 2016-04-20 07:17:54   00:00:03  (2419, 9631)  \n",
       "1771702 2016-04-20 07:18:16   00:00:07  (2419, 9631)  \n",
       "1771713 2016-04-20 07:19:04   00:00:09  (2419, 9631)  \n",
       "1771716 2016-04-20 07:19:15   00:00:02  (2419, 9631)  \n",
       "1771739 2016-04-20 07:24:13   00:00:02  (9631, 9800)  \n",
       "1771740 2016-04-20 07:24:16   00:00:03  (9631, 9800)  \n",
       "1771741 2016-04-20 07:24:21   00:00:05  (9631, 9800)  \n",
       "1771744 2016-04-20 07:24:42   00:00:07  (2419, 9800)  \n",
       "1771745 2016-04-20 07:24:46   00:00:04  (2419, 9800)  \n",
       "1771750 2016-04-20 07:24:57   00:00:04  (2419, 9800)  \n",
       "1771757 2016-04-20 07:25:45   00:00:02  (2419, 9800)  \n",
       "1771758 2016-04-20 07:25:46   00:00:01  (2419, 9800)  \n",
       "1771759 2016-04-20 07:25:52   00:00:06  (2419, 9800)  \n",
       "1771764 2016-04-20 07:26:08   00:00:07  (2419, 9800)  \n",
       "1771766 2016-04-20 07:26:36   00:00:09  (6392, 9800)  \n",
       "1771770 2016-04-20 07:26:57   00:00:02  (6392, 9800)  \n",
       "1771771 2016-04-20 07:27:00   00:00:03  (6392, 9800)  \n",
       "1771772 2016-04-20 07:27:04   00:00:04  (6392, 9800)  \n",
       "...                     ...        ...           ...  \n",
       "1999711 2016-04-26 23:34:39   00:00:00  (6392, 8580)  \n",
       "1999712 2016-04-26 23:34:40   00:00:01  (6392, 8580)  \n",
       "1999715 2016-04-26 23:34:43   00:00:01  (6392, 8580)  \n",
       "1999719 2016-04-26 23:34:50   00:00:02  (6392, 8580)  \n",
       "1999721 2016-04-26 23:34:51   00:00:00  (6392, 8580)  \n",
       "1999722 2016-04-26 23:34:52   00:00:01  (6392, 8580)  \n",
       "1999727 2016-04-26 23:34:57   00:00:01  (6392, 8580)  \n",
       "1999738 2016-04-26 23:36:04   00:00:03  (5701, 8580)  \n",
       "1999739 2016-04-26 23:36:06   00:00:02  (5701, 8580)  \n",
       "1999750 2016-04-26 23:37:15   00:00:06  (2853, 8580)  \n",
       "1999752 2016-04-26 23:37:18   00:00:02  (2853, 8580)  \n",
       "1999761 2016-04-26 23:38:01   00:00:03  (6121, 8580)  \n",
       "1999762 2016-04-26 23:38:03   00:00:02  (6121, 8580)  \n",
       "1999774 2016-04-26 23:38:54   00:00:04  (2853, 8580)  \n",
       "1999779 2016-04-26 23:39:00   00:00:01  (2853, 8580)  \n",
       "1999780 2016-04-26 23:39:01   00:00:01  (2853, 8580)  \n",
       "1999782 2016-04-26 23:39:06   00:00:04  (2853, 8580)  \n",
       "1999787 2016-04-26 23:39:26   00:00:01  (2853, 8580)  \n",
       "1999791 2016-04-26 23:39:31   00:00:01  (2853, 8580)  \n",
       "1999793 2016-04-26 23:39:41   00:00:03  (2853, 8580)  \n",
       "1999794 2016-04-26 23:39:45   00:00:04  (2853, 8580)  \n",
       "1999796 2016-04-26 23:39:52   00:00:03  (2853, 8580)  \n",
       "1999797 2016-04-26 23:39:55   00:00:03  (2853, 8580)  \n",
       "1999798 2016-04-26 23:39:58   00:00:03  (2853, 8580)  \n",
       "1999802 2016-04-26 23:40:00   00:00:00  (2853, 8580)  \n",
       "1999803 2016-04-26 23:40:06   00:00:06  (2853, 8580)  \n",
       "1999804 2016-04-26 23:40:06   00:00:00  (2853, 8580)  \n",
       "1999825 2016-04-26 23:41:42   00:00:03  (4366, 8580)  \n",
       "1999826 2016-04-26 23:41:46   00:00:04  (4366, 8580)  \n",
       "1999833 2016-04-26 23:42:52   00:00:04  (2853, 8580)  \n",
       "\n",
       "[88362 rows x 10 columns]"
      ],
      "text/html": "<div>\n<style scoped>\n    .dataframe tbody tr th:only-of-type {\n        vertical-align: middle;\n    }\n\n    .dataframe tbody tr th {\n        vertical-align: top;\n    }\n\n    .dataframe thead th {\n        text-align: right;\n    }\n</style>\n<table border=\"1\" class=\"dataframe\">\n  <thead>\n    <tr style=\"text-align: right;\">\n      <th></th>\n      <th>uid</th>\n      <th>timestamp</th>\n      <th>loc</th>\n      <th>app_id</th>\n      <th>traffic</th>\n      <th>date</th>\n      <th>next_loc</th>\n      <th>next_timestamp</th>\n      <th>time_delta</th>\n      <th>tele</th>\n    </tr>\n  </thead>\n  <tbody>\n    <tr>\n      <th>1771575</th>\n      <td>772</td>\n      <td>2016-04-20 00:05:11</td>\n      <td>6392</td>\n      <td>68</td>\n      <td>0.006</td>\n      <td>04-20</td>\n      <td>8803</td>\n      <td>2016-04-20 00:05:17</td>\n      <td>00:00:06</td>\n      <td>(6392, 8803)</td>\n    </tr>\n    <tr>\n      <th>1771670</th>\n      <td>772</td>\n      <td>2016-04-20 07:12:00</td>\n      <td>9631</td>\n      <td>2</td>\n      <td>0.002</td>\n      <td>04-20</td>\n      <td>8951</td>\n      <td>2016-04-20 07:12:01</td>\n      <td>00:00:01</td>\n      <td>(8951, 9631)</td>\n    </tr>\n    <tr>\n      <th>1771671</th>\n      <td>772</td>\n      <td>2016-04-20 07:12:01</td>\n      <td>8951</td>\n      <td>1</td>\n      <td>0.015</td>\n      <td>04-20</td>\n      <td>9631</td>\n      <td>2016-04-20 07:12:01</td>\n      <td>00:00:00</td>\n      <td>(8951, 9631)</td>\n    </tr>\n    <tr>\n      <th>1771673</th>\n      <td>772</td>\n      <td>2016-04-20 07:12:23</td>\n      <td>8951</td>\n      <td>1</td>\n      <td>0.002</td>\n      <td>04-20</td>\n      <td>9631</td>\n      <td>2016-04-20 07:12:26</td>\n      <td>00:00:03</td>\n      <td>(8951, 9631)</td>\n    </tr>\n    <tr>\n      <th>1771676</th>\n      <td>772</td>\n      <td>2016-04-20 07:12:28</td>\n      <td>9631</td>\n      <td>2</td>\n      <td>0.003</td>\n      <td>04-20</td>\n      <td>8951</td>\n      <td>2016-04-20 07:12:34</td>\n      <td>00:00:06</td>\n      <td>(8951, 9631)</td>\n    </tr>\n    <tr>\n      <th>1771677</th>\n      <td>772</td>\n      <td>2016-04-20 07:12:34</td>\n      <td>8951</td>\n      <td>1</td>\n      <td>0.003</td>\n      <td>04-20</td>\n      <td>9631</td>\n      <td>2016-04-20 07:12:41</td>\n      <td>00:00:07</td>\n      <td>(8951, 9631)</td>\n    </tr>\n    <tr>\n      <th>1771682</th>\n      <td>772</td>\n      <td>2016-04-20 07:14:01</td>\n      <td>9631</td>\n      <td>2</td>\n      <td>0.000</td>\n      <td>04-20</td>\n      <td>8951</td>\n      <td>2016-04-20 07:14:03</td>\n      <td>00:00:02</td>\n      <td>(8951, 9631)</td>\n    </tr>\n    <tr>\n      <th>1771683</th>\n      <td>772</td>\n      <td>2016-04-20 07:14:03</td>\n      <td>8951</td>\n      <td>286</td>\n      <td>0.025</td>\n      <td>04-20</td>\n      <td>9631</td>\n      <td>2016-04-20 07:14:04</td>\n      <td>00:00:01</td>\n      <td>(8951, 9631)</td>\n    </tr>\n    <tr>\n      <th>1771684</th>\n      <td>772</td>\n      <td>2016-04-20 07:14:04</td>\n      <td>9631</td>\n      <td>2</td>\n      <td>0.000</td>\n      <td>04-20</td>\n      <td>8951</td>\n      <td>2016-04-20 07:14:08</td>\n      <td>00:00:04</td>\n      <td>(8951, 9631)</td>\n    </tr>\n    <tr>\n      <th>1771685</th>\n      <td>772</td>\n      <td>2016-04-20 07:14:08</td>\n      <td>8951</td>\n      <td>286</td>\n      <td>0.021</td>\n      <td>04-20</td>\n      <td>9631</td>\n      <td>2016-04-20 07:14:14</td>\n      <td>00:00:06</td>\n      <td>(8951, 9631)</td>\n    </tr>\n    <tr>\n      <th>1771687</th>\n      <td>772</td>\n      <td>2016-04-20 07:14:16</td>\n      <td>9631</td>\n      <td>2</td>\n      <td>0.002</td>\n      <td>04-20</td>\n      <td>8951</td>\n      <td>2016-04-20 07:14:20</td>\n      <td>00:00:04</td>\n      <td>(8951, 9631)</td>\n    </tr>\n    <tr>\n      <th>1771691</th>\n      <td>772</td>\n      <td>2016-04-20 07:14:48</td>\n      <td>8951</td>\n      <td>2</td>\n      <td>0.002</td>\n      <td>04-20</td>\n      <td>9631</td>\n      <td>2016-04-20 07:14:51</td>\n      <td>00:00:03</td>\n      <td>(8951, 9631)</td>\n    </tr>\n    <tr>\n      <th>1771698</th>\n      <td>772</td>\n      <td>2016-04-20 07:17:51</td>\n      <td>2419</td>\n      <td>5</td>\n      <td>0.003</td>\n      <td>04-20</td>\n      <td>9631</td>\n      <td>2016-04-20 07:17:54</td>\n      <td>00:00:03</td>\n      <td>(2419, 9631)</td>\n    </tr>\n    <tr>\n      <th>1771702</th>\n      <td>772</td>\n      <td>2016-04-20 07:18:09</td>\n      <td>2419</td>\n      <td>5</td>\n      <td>0.001</td>\n      <td>04-20</td>\n      <td>9631</td>\n      <td>2016-04-20 07:18:16</td>\n      <td>00:00:07</td>\n      <td>(2419, 9631)</td>\n    </tr>\n    <tr>\n      <th>1771713</th>\n      <td>772</td>\n      <td>2016-04-20 07:18:55</td>\n      <td>9631</td>\n      <td>2</td>\n      <td>0.001</td>\n      <td>04-20</td>\n      <td>2419</td>\n      <td>2016-04-20 07:19:04</td>\n      <td>00:00:09</td>\n      <td>(2419, 9631)</td>\n    </tr>\n    <tr>\n      <th>1771716</th>\n      <td>772</td>\n      <td>2016-04-20 07:19:13</td>\n      <td>2419</td>\n      <td>5</td>\n      <td>0.001</td>\n      <td>04-20</td>\n      <td>9631</td>\n      <td>2016-04-20 07:19:15</td>\n      <td>00:00:02</td>\n      <td>(2419, 9631)</td>\n    </tr>\n    <tr>\n      <th>1771739</th>\n      <td>772</td>\n      <td>2016-04-20 07:24:11</td>\n      <td>9800</td>\n      <td>2</td>\n      <td>0.000</td>\n      <td>04-20</td>\n      <td>9631</td>\n      <td>2016-04-20 07:24:13</td>\n      <td>00:00:02</td>\n      <td>(9631, 9800)</td>\n    </tr>\n    <tr>\n      <th>1771740</th>\n      <td>772</td>\n      <td>2016-04-20 07:24:13</td>\n      <td>9631</td>\n      <td>2</td>\n      <td>0.004</td>\n      <td>04-20</td>\n      <td>9800</td>\n      <td>2016-04-20 07:24:16</td>\n      <td>00:00:03</td>\n      <td>(9631, 9800)</td>\n    </tr>\n    <tr>\n      <th>1771741</th>\n      <td>772</td>\n      <td>2016-04-20 07:24:16</td>\n      <td>9800</td>\n      <td>2</td>\n      <td>0.000</td>\n      <td>04-20</td>\n      <td>9631</td>\n      <td>2016-04-20 07:24:21</td>\n      <td>00:00:05</td>\n      <td>(9631, 9800)</td>\n    </tr>\n    <tr>\n      <th>1771744</th>\n      <td>772</td>\n      <td>2016-04-20 07:24:35</td>\n      <td>2419</td>\n      <td>123</td>\n      <td>0.001</td>\n      <td>04-20</td>\n      <td>9800</td>\n      <td>2016-04-20 07:24:42</td>\n      <td>00:00:07</td>\n      <td>(2419, 9800)</td>\n    </tr>\n    <tr>\n      <th>1771745</th>\n      <td>772</td>\n      <td>2016-04-20 07:24:42</td>\n      <td>9800</td>\n      <td>2</td>\n      <td>0.001</td>\n      <td>04-20</td>\n      <td>2419</td>\n      <td>2016-04-20 07:24:46</td>\n      <td>00:00:04</td>\n      <td>(2419, 9800)</td>\n    </tr>\n    <tr>\n      <th>1771750</th>\n      <td>772</td>\n      <td>2016-04-20 07:24:53</td>\n      <td>2419</td>\n      <td>123</td>\n      <td>0.002</td>\n      <td>04-20</td>\n      <td>9800</td>\n      <td>2016-04-20 07:24:57</td>\n      <td>00:00:04</td>\n      <td>(2419, 9800)</td>\n    </tr>\n    <tr>\n      <th>1771757</th>\n      <td>772</td>\n      <td>2016-04-20 07:25:43</td>\n      <td>9800</td>\n      <td>2</td>\n      <td>0.001</td>\n      <td>04-20</td>\n      <td>2419</td>\n      <td>2016-04-20 07:25:45</td>\n      <td>00:00:02</td>\n      <td>(2419, 9800)</td>\n    </tr>\n    <tr>\n      <th>1771758</th>\n      <td>772</td>\n      <td>2016-04-20 07:25:45</td>\n      <td>2419</td>\n      <td>123</td>\n      <td>0.000</td>\n      <td>04-20</td>\n      <td>9800</td>\n      <td>2016-04-20 07:25:46</td>\n      <td>00:00:01</td>\n      <td>(2419, 9800)</td>\n    </tr>\n    <tr>\n      <th>1771759</th>\n      <td>772</td>\n      <td>2016-04-20 07:25:46</td>\n      <td>9800</td>\n      <td>2</td>\n      <td>0.001</td>\n      <td>04-20</td>\n      <td>2419</td>\n      <td>2016-04-20 07:25:52</td>\n      <td>00:00:06</td>\n      <td>(2419, 9800)</td>\n    </tr>\n    <tr>\n      <th>1771764</th>\n      <td>772</td>\n      <td>2016-04-20 07:26:01</td>\n      <td>2419</td>\n      <td>123</td>\n      <td>0.001</td>\n      <td>04-20</td>\n      <td>9800</td>\n      <td>2016-04-20 07:26:08</td>\n      <td>00:00:07</td>\n      <td>(2419, 9800)</td>\n    </tr>\n    <tr>\n      <th>1771766</th>\n      <td>772</td>\n      <td>2016-04-20 07:26:27</td>\n      <td>6392</td>\n      <td>5</td>\n      <td>0.036</td>\n      <td>04-20</td>\n      <td>9800</td>\n      <td>2016-04-20 07:26:36</td>\n      <td>00:00:09</td>\n      <td>(6392, 9800)</td>\n    </tr>\n    <tr>\n      <th>1771770</th>\n      <td>772</td>\n      <td>2016-04-20 07:26:55</td>\n      <td>9800</td>\n      <td>2</td>\n      <td>0.001</td>\n      <td>04-20</td>\n      <td>6392</td>\n      <td>2016-04-20 07:26:57</td>\n      <td>00:00:02</td>\n      <td>(6392, 9800)</td>\n    </tr>\n    <tr>\n      <th>1771771</th>\n      <td>772</td>\n      <td>2016-04-20 07:26:57</td>\n      <td>6392</td>\n      <td>80</td>\n      <td>0.012</td>\n      <td>04-20</td>\n      <td>9800</td>\n      <td>2016-04-20 07:27:00</td>\n      <td>00:00:03</td>\n      <td>(6392, 9800)</td>\n    </tr>\n    <tr>\n      <th>1771772</th>\n      <td>772</td>\n      <td>2016-04-20 07:27:00</td>\n      <td>9800</td>\n      <td>2</td>\n      <td>0.004</td>\n      <td>04-20</td>\n      <td>6392</td>\n      <td>2016-04-20 07:27:04</td>\n      <td>00:00:04</td>\n      <td>(6392, 9800)</td>\n    </tr>\n    <tr>\n      <th>...</th>\n      <td>...</td>\n      <td>...</td>\n      <td>...</td>\n      <td>...</td>\n      <td>...</td>\n      <td>...</td>\n      <td>...</td>\n      <td>...</td>\n      <td>...</td>\n      <td>...</td>\n    </tr>\n    <tr>\n      <th>1999711</th>\n      <td>772</td>\n      <td>2016-04-26 23:34:39</td>\n      <td>6392</td>\n      <td>843</td>\n      <td>0.016</td>\n      <td>04-26</td>\n      <td>8580</td>\n      <td>2016-04-26 23:34:39</td>\n      <td>00:00:00</td>\n      <td>(6392, 8580)</td>\n    </tr>\n    <tr>\n      <th>1999712</th>\n      <td>772</td>\n      <td>2016-04-26 23:34:39</td>\n      <td>8580</td>\n      <td>751</td>\n      <td>0.000</td>\n      <td>04-26</td>\n      <td>6392</td>\n      <td>2016-04-26 23:34:40</td>\n      <td>00:00:01</td>\n      <td>(6392, 8580)</td>\n    </tr>\n    <tr>\n      <th>1999715</th>\n      <td>772</td>\n      <td>2016-04-26 23:34:42</td>\n      <td>6392</td>\n      <td>55</td>\n      <td>0.017</td>\n      <td>04-26</td>\n      <td>8580</td>\n      <td>2016-04-26 23:34:43</td>\n      <td>00:00:01</td>\n      <td>(6392, 8580)</td>\n    </tr>\n    <tr>\n      <th>1999719</th>\n      <td>772</td>\n      <td>2016-04-26 23:34:48</td>\n      <td>8580</td>\n      <td>108</td>\n      <td>0.001</td>\n      <td>04-26</td>\n      <td>6392</td>\n      <td>2016-04-26 23:34:50</td>\n      <td>00:00:02</td>\n      <td>(6392, 8580)</td>\n    </tr>\n    <tr>\n      <th>1999721</th>\n      <td>772</td>\n      <td>2016-04-26 23:34:51</td>\n      <td>6392</td>\n      <td>5</td>\n      <td>0.028</td>\n      <td>04-26</td>\n      <td>8580</td>\n      <td>2016-04-26 23:34:51</td>\n      <td>00:00:00</td>\n      <td>(6392, 8580)</td>\n    </tr>\n    <tr>\n      <th>1999722</th>\n      <td>772</td>\n      <td>2016-04-26 23:34:51</td>\n      <td>8580</td>\n      <td>751</td>\n      <td>0.003</td>\n      <td>04-26</td>\n      <td>6392</td>\n      <td>2016-04-26 23:34:52</td>\n      <td>00:00:01</td>\n      <td>(6392, 8580)</td>\n    </tr>\n    <tr>\n      <th>1999727</th>\n      <td>772</td>\n      <td>2016-04-26 23:34:56</td>\n      <td>6392</td>\n      <td>5</td>\n      <td>0.025</td>\n      <td>04-26</td>\n      <td>8580</td>\n      <td>2016-04-26 23:34:57</td>\n      <td>00:00:01</td>\n      <td>(6392, 8580)</td>\n    </tr>\n    <tr>\n      <th>1999738</th>\n      <td>772</td>\n      <td>2016-04-26 23:36:01</td>\n      <td>8580</td>\n      <td>751</td>\n      <td>0.002</td>\n      <td>04-26</td>\n      <td>5701</td>\n      <td>2016-04-26 23:36:04</td>\n      <td>00:00:03</td>\n      <td>(5701, 8580)</td>\n    </tr>\n    <tr>\n      <th>1999739</th>\n      <td>772</td>\n      <td>2016-04-26 23:36:04</td>\n      <td>5701</td>\n      <td>1</td>\n      <td>0.020</td>\n      <td>04-26</td>\n      <td>8580</td>\n      <td>2016-04-26 23:36:06</td>\n      <td>00:00:02</td>\n      <td>(5701, 8580)</td>\n    </tr>\n    <tr>\n      <th>1999750</th>\n      <td>772</td>\n      <td>2016-04-26 23:37:09</td>\n      <td>8580</td>\n      <td>751</td>\n      <td>0.001</td>\n      <td>04-26</td>\n      <td>2853</td>\n      <td>2016-04-26 23:37:15</td>\n      <td>00:00:06</td>\n      <td>(2853, 8580)</td>\n    </tr>\n    <tr>\n      <th>1999752</th>\n      <td>772</td>\n      <td>2016-04-26 23:37:16</td>\n      <td>2853</td>\n      <td>30</td>\n      <td>0.025</td>\n      <td>04-26</td>\n      <td>8580</td>\n      <td>2016-04-26 23:37:18</td>\n      <td>00:00:02</td>\n      <td>(2853, 8580)</td>\n    </tr>\n    <tr>\n      <th>1999761</th>\n      <td>772</td>\n      <td>2016-04-26 23:37:58</td>\n      <td>8580</td>\n      <td>751</td>\n      <td>0.001</td>\n      <td>04-26</td>\n      <td>6121</td>\n      <td>2016-04-26 23:38:01</td>\n      <td>00:00:03</td>\n      <td>(6121, 8580)</td>\n    </tr>\n    <tr>\n      <th>1999762</th>\n      <td>772</td>\n      <td>2016-04-26 23:38:01</td>\n      <td>6121</td>\n      <td>78</td>\n      <td>0.027</td>\n      <td>04-26</td>\n      <td>8580</td>\n      <td>2016-04-26 23:38:03</td>\n      <td>00:00:02</td>\n      <td>(6121, 8580)</td>\n    </tr>\n    <tr>\n      <th>1999774</th>\n      <td>772</td>\n      <td>2016-04-26 23:38:50</td>\n      <td>8580</td>\n      <td>751</td>\n      <td>0.001</td>\n      <td>04-26</td>\n      <td>2853</td>\n      <td>2016-04-26 23:38:54</td>\n      <td>00:00:04</td>\n      <td>(2853, 8580)</td>\n    </tr>\n    <tr>\n      <th>1999779</th>\n      <td>772</td>\n      <td>2016-04-26 23:38:59</td>\n      <td>2853</td>\n      <td>30</td>\n      <td>0.025</td>\n      <td>04-26</td>\n      <td>8580</td>\n      <td>2016-04-26 23:39:00</td>\n      <td>00:00:01</td>\n      <td>(2853, 8580)</td>\n    </tr>\n    <tr>\n      <th>1999780</th>\n      <td>772</td>\n      <td>2016-04-26 23:39:00</td>\n      <td>8580</td>\n      <td>751</td>\n      <td>0.001</td>\n      <td>04-26</td>\n      <td>2853</td>\n      <td>2016-04-26 23:39:01</td>\n      <td>00:00:01</td>\n      <td>(2853, 8580)</td>\n    </tr>\n    <tr>\n      <th>1999782</th>\n      <td>772</td>\n      <td>2016-04-26 23:39:02</td>\n      <td>2853</td>\n      <td>30</td>\n      <td>0.001</td>\n      <td>04-26</td>\n      <td>8580</td>\n      <td>2016-04-26 23:39:06</td>\n      <td>00:00:04</td>\n      <td>(2853, 8580)</td>\n    </tr>\n    <tr>\n      <th>1999787</th>\n      <td>772</td>\n      <td>2016-04-26 23:39:25</td>\n      <td>8580</td>\n      <td>751</td>\n      <td>0.000</td>\n      <td>04-26</td>\n      <td>2853</td>\n      <td>2016-04-26 23:39:26</td>\n      <td>00:00:01</td>\n      <td>(2853, 8580)</td>\n    </tr>\n    <tr>\n      <th>1999791</th>\n      <td>772</td>\n      <td>2016-04-26 23:39:30</td>\n      <td>2853</td>\n      <td>30</td>\n      <td>0.027</td>\n      <td>04-26</td>\n      <td>8580</td>\n      <td>2016-04-26 23:39:31</td>\n      <td>00:00:01</td>\n      <td>(2853, 8580)</td>\n    </tr>\n    <tr>\n      <th>1999793</th>\n      <td>772</td>\n      <td>2016-04-26 23:39:38</td>\n      <td>8580</td>\n      <td>751</td>\n      <td>0.000</td>\n      <td>04-26</td>\n      <td>2853</td>\n      <td>2016-04-26 23:39:41</td>\n      <td>00:00:03</td>\n      <td>(2853, 8580)</td>\n    </tr>\n    <tr>\n      <th>1999794</th>\n      <td>772</td>\n      <td>2016-04-26 23:39:41</td>\n      <td>2853</td>\n      <td>30</td>\n      <td>0.023</td>\n      <td>04-26</td>\n      <td>8580</td>\n      <td>2016-04-26 23:39:45</td>\n      <td>00:00:04</td>\n      <td>(2853, 8580)</td>\n    </tr>\n    <tr>\n      <th>1999796</th>\n      <td>772</td>\n      <td>2016-04-26 23:39:49</td>\n      <td>8580</td>\n      <td>751</td>\n      <td>0.000</td>\n      <td>04-26</td>\n      <td>2853</td>\n      <td>2016-04-26 23:39:52</td>\n      <td>00:00:03</td>\n      <td>(2853, 8580)</td>\n    </tr>\n    <tr>\n      <th>1999797</th>\n      <td>772</td>\n      <td>2016-04-26 23:39:52</td>\n      <td>2853</td>\n      <td>30</td>\n      <td>0.024</td>\n      <td>04-26</td>\n      <td>8580</td>\n      <td>2016-04-26 23:39:55</td>\n      <td>00:00:03</td>\n      <td>(2853, 8580)</td>\n    </tr>\n    <tr>\n      <th>1999798</th>\n      <td>772</td>\n      <td>2016-04-26 23:39:55</td>\n      <td>8580</td>\n      <td>751</td>\n      <td>0.001</td>\n      <td>04-26</td>\n      <td>2853</td>\n      <td>2016-04-26 23:39:58</td>\n      <td>00:00:03</td>\n      <td>(2853, 8580)</td>\n    </tr>\n    <tr>\n      <th>1999802</th>\n      <td>772</td>\n      <td>2016-04-26 23:40:00</td>\n      <td>2853</td>\n      <td>78</td>\n      <td>0.024</td>\n      <td>04-26</td>\n      <td>8580</td>\n      <td>2016-04-26 23:40:00</td>\n      <td>00:00:00</td>\n      <td>(2853, 8580)</td>\n    </tr>\n    <tr>\n      <th>1999803</th>\n      <td>772</td>\n      <td>2016-04-26 23:40:00</td>\n      <td>8580</td>\n      <td>751</td>\n      <td>0.001</td>\n      <td>04-26</td>\n      <td>2853</td>\n      <td>2016-04-26 23:40:06</td>\n      <td>00:00:06</td>\n      <td>(2853, 8580)</td>\n    </tr>\n    <tr>\n      <th>1999804</th>\n      <td>772</td>\n      <td>2016-04-26 23:40:06</td>\n      <td>2853</td>\n      <td>5</td>\n      <td>0.025</td>\n      <td>04-26</td>\n      <td>8580</td>\n      <td>2016-04-26 23:40:06</td>\n      <td>00:00:00</td>\n      <td>(2853, 8580)</td>\n    </tr>\n    <tr>\n      <th>1999825</th>\n      <td>772</td>\n      <td>2016-04-26 23:41:39</td>\n      <td>8580</td>\n      <td>751</td>\n      <td>0.002</td>\n      <td>04-26</td>\n      <td>4366</td>\n      <td>2016-04-26 23:41:42</td>\n      <td>00:00:03</td>\n      <td>(4366, 8580)</td>\n    </tr>\n    <tr>\n      <th>1999826</th>\n      <td>772</td>\n      <td>2016-04-26 23:41:42</td>\n      <td>4366</td>\n      <td>128</td>\n      <td>0.026</td>\n      <td>04-26</td>\n      <td>8580</td>\n      <td>2016-04-26 23:41:46</td>\n      <td>00:00:04</td>\n      <td>(4366, 8580)</td>\n    </tr>\n    <tr>\n      <th>1999833</th>\n      <td>772</td>\n      <td>2016-04-26 23:42:48</td>\n      <td>8580</td>\n      <td>108</td>\n      <td>0.002</td>\n      <td>04-26</td>\n      <td>2853</td>\n      <td>2016-04-26 23:42:52</td>\n      <td>00:00:04</td>\n      <td>(2853, 8580)</td>\n    </tr>\n  </tbody>\n</table>\n<p>88362 rows × 10 columns</p>\n</div>"
     },
     "metadata": {},
     "execution_count": 250
    },
    {
     "output_type": "stream",
     "name": "stdout",
     "text": [
      "time: 8.94 s\n"
     ]
    }
   ],
   "source": [
    "# show the oscillation period\n",
    "user0_oscillation_period = present_oscillation(772,10,5)\n",
    "user0_oscillation_period"
   ]
  },
  {
   "cell_type": "code",
   "execution_count": 251,
   "metadata": {
    "tags": [
     "outputPrepend"
    ]
   },
   "outputs": [
    {
     "output_type": "stream",
     "name": "stdout",
     "text": [
      "3,\n",
      "            1930477, 1930481, 1930499, 1930515, 1930797, 1948449, 1995028],\n",
      "           dtype='int64')\n",
      "these index in the original data should be change to 8951\n",
      "Int64Index([1930600, 1930621, 1930628, 1930634, 1930637, 1930643, 1930646,\n",
      "            1930650, 1930654, 1930659, 1930663, 1930668, 1930675, 1930680,\n",
      "            1930683, 1930686, 1930730, 1930734, 1930736, 1930748, 1930768],\n",
      "           dtype='int64')\n",
      "these index in the original data should be change to 8960\n",
      "Int64Index([1791893, 1957469, 1957472, 1957483, 1957490, 1957493, 1957499,\n",
      "            1957549, 1957559, 1957562, 1957586, 1957731, 1957904, 1957906,\n",
      "            1957976, 1957994, 1957996, 1958000, 1958263, 1958266, 1958268,\n",
      "            1958270, 1958273, 1958369, 1958809, 1958812, 1958814, 1958894,\n",
      "            1958957, 1958989, 1959000],\n",
      "           dtype='int64')\n",
      "these index in the original data should be change to 9631\n",
      "Int64Index([1918701, 1918910, 1918913, 1918916, 1919207, 1919300], dtype='int64')\n",
      "these index in the original data should be change to 8995\n",
      "Int64Index([1779310, 1779334, 1779339, 1779341, 1779352, 1779358, 1779360,\n",
      "            1779363, 1779366, 1779432, 1779554, 1779584, 1779644, 1779682,\n",
      "            1779690, 1779693, 1779713, 1779959, 1779967, 1779985, 1780010,\n",
      "            1809814, 1809846, 1809866],\n",
      "           dtype='int64')\n",
      "these index in the original data should be change to 9410\n",
      "Int64Index([1779448, 1779456, 1779459, 1779464, 1779466, 1779511, 1779996,\n",
      "            1780000, 1780006, 1780033, 1780048, 1780081, 1781177, 1781564],\n",
      "           dtype='int64')\n",
      "these index in the original data should be change to 9631\n",
      "Int64Index([1940209, 1940488, 1940490, 1940495, 1940516, 1940521], dtype='int64')\n",
      "these index in the original data should be change to 9630\n",
      "Int64Index([1803757, 1803759, 1803762, 1803803, 1803806, 1901946], dtype='int64')\n",
      "these index in the original data should be change to 9800\n",
      "Int64Index([1957182, 1957211, 1957214, 1957227, 1957238, 1957291, 1957293], dtype='int64')\n",
      "these index in the original data should be change to 8803\n",
      "Int64Index([1810725, 1810762, 1810765, 1810792, 1810796, 1810803, 1810806,\n",
      "            1810811, 1810814, 1810819, 1810828, 1810835, 1810960, 1811049,\n",
      "            1811051],\n",
      "           dtype='int64')\n",
      "these index in the original data should be change to 9341\n",
      "Int64Index([1785852, 1785856, 1915248, 1920940, 1920982, 1920987, 1920998,\n",
      "            1921002, 1921016, 1921019, 1921021, 1921023, 1921028, 1921030,\n",
      "            1921032, 1921034, 1921062, 1921065, 1921089, 1921094, 1921097,\n",
      "            1921110, 1921155, 1970639, 1970674, 1970681, 1970685, 1970688,\n",
      "            1970691, 1970696, 1970700, 1970705, 1970708, 1970710, 1970728,\n",
      "            1974498],\n",
      "           dtype='int64')\n",
      "these index in the original data should be change to 8950\n",
      "Int64Index([1787151, 1789229, 1789234, 1789237, 1789239, 1789242, 1789245,\n",
      "            1789250, 1789254, 1789257, 1789262, 1789267, 1789277, 1789281,\n",
      "            1789285, 1789289, 1789292, 1789300, 1789309, 1789314, 1789317,\n",
      "            1789321, 1789323, 1789325, 1789328, 1789336, 1789338, 1789341,\n",
      "            1789343, 1789346, 1789358, 1789365, 1789367, 1789376, 1789378,\n",
      "            1789380, 1789384, 1789386, 1789389, 1789392, 1789394, 1789396,\n",
      "            1789400, 1789405, 1789408, 1789422, 1789447, 1959648, 1962579,\n",
      "            1962734, 1963350, 1963545, 1963548, 1963560, 1995475, 1995667,\n",
      "            1995719, 1995732, 1995770, 1995962, 1995971, 1995985, 1996139,\n",
      "            1997640, 1997645],\n",
      "           dtype='int64')\n",
      "these index in the original data should be change to 8951\n",
      "Int64Index([1787575, 1787596, 1787615, 1814228, 1814238, 1814242, 1814250,\n",
      "            1814303, 1960993, 1960998, 1961002, 1963034],\n",
      "           dtype='int64')\n",
      "these index in the original data should be change to 8995\n",
      "Int64Index([1915236, 1915239, 1915245, 1915251, 1915263, 1915267, 1915269,\n",
      "            1915271, 1915287],\n",
      "           dtype='int64')\n",
      "these index in the original data should be change to 9378\n",
      "Int64Index([1797487, 1920958, 1920970, 1920980, 1920985, 1921043, 1921151,\n",
      "            1921153, 1981345, 1981347, 1981353, 1981355, 1981357, 1981360,\n",
      "            1981394],\n",
      "           dtype='int64')\n",
      "these index in the original data should be change to 9630\n",
      "Int64Index([1814221, 1814234, 1814240, 1814245, 1814280, 1814295, 1814319,\n",
      "            1814323, 1814341, 1814468, 1957362, 1957567, 1980906, 1995872,\n",
      "            1996006, 1996017, 1996025, 1996300, 1996340, 1996342, 1996345,\n",
      "            1996348, 1996363, 1996391, 1996402, 1996407, 1996415, 1996427,\n",
      "            1996451, 1996529, 1996624, 1996629, 1996639, 1996712, 1996717,\n",
      "            1996722, 1996736, 1996772, 1997176, 1997186, 1997196, 1997198,\n",
      "            1997200, 1997202, 1997206, 1997208, 1997210, 1997217, 1997219,\n",
      "            1997221, 1997230, 1997234, 1997238, 1997302, 1997986],\n",
      "           dtype='int64')\n",
      "these index in the original data should be change to 9631\n",
      "Int64Index([1809109, 1809158, 1809162, 1809198, 1809200, 1809202, 1809212,\n",
      "            1809214, 1809217, 1809230, 1809237, 1809295, 1809342, 1809345,\n",
      "            1809350, 1809352, 1809354, 1809368, 1809371],\n",
      "           dtype='int64')\n",
      "these index in the original data should be change to 9410\n",
      "Int64Index([1783496, 1783504, 1783506, 1783514, 1783516, 1783520, 1783522,\n",
      "            1783524, 1783526, 1783529, 1849563, 1921262, 1921278, 1921287,\n",
      "            1921299, 1924826, 1924830, 1924836, 1924847, 1924849, 1924851,\n",
      "            1924853, 1924855, 1924858, 1924862, 1924866, 1924868, 1924870,\n",
      "            1924874, 1924876, 1924878, 1924880, 1924883, 1924886, 1924888,\n",
      "            1924890, 1924895, 1924902, 1924904, 1924907, 1924916, 1924918,\n",
      "            1924921, 1964999, 1965005, 1965029],\n",
      "           dtype='int64')\n",
      "these index in the original data should be change to 8951\n",
      "Int64Index([1970559, 1970566, 1970570, 1970574, 1970585, 1970711, 1970717,\n",
      "            1970720, 1970722],\n",
      "           dtype='int64')\n",
      "these index in the original data should be change to 9125\n",
      "Int64Index([1955095, 1955098, 1955125, 1955130, 1955132, 1955143, 1955147,\n",
      "            1955177, 1955195, 1955211, 1955219, 1955223, 1955226, 1955255,\n",
      "            1955258, 1955266, 1955275, 1955277, 1955288, 1955290, 1955293,\n",
      "            1955296, 1955317, 1955322, 1955327, 1955355, 1955359, 1955362],\n",
      "           dtype='int64')\n",
      "these index in the original data should be change to 9305\n",
      "Int64Index([1841595, 1846049, 1975256, 1975395, 1975867, 1975873, 1975905,\n",
      "            1985673],\n",
      "           dtype='int64')\n",
      "these index in the original data should be change to 9410\n",
      "Int64Index([1873702, 1920983, 1920989, 1920991, 1920993, 1920996, 1921003,\n",
      "            1921007, 1921011, 1921014, 1921039, 1921041, 1921046, 1921050,\n",
      "            1921080, 1921086, 1921091, 1921103, 1921112, 1921115, 1921132,\n",
      "            1921138, 1921148, 1921167, 1921169, 1921173, 1921178, 1921182,\n",
      "            1921190, 1921202, 1921207, 1921211, 1921219, 1921234, 1921265,\n",
      "            1923730, 1940454, 1969886],\n",
      "           dtype='int64')\n",
      "these index in the original data should be change to 9630\n",
      "Int64Index([1783494, 1783536, 1783564, 1855970, 1878160, 1878167, 1878169,\n",
      "            1878171, 1878182, 1889198, 1889201, 1964954, 1964959, 1964962,\n",
      "            1964966, 1964969, 1964975, 1964982, 1975212, 1975250, 1990593,\n",
      "            1990617, 1990620, 1990624, 1990627, 1990656, 1990673, 1990689,\n",
      "            1991361, 1991364, 1991366, 1991368, 1991370, 1991373, 1991375,\n",
      "            1991378, 1991387, 1991395],\n",
      "           dtype='int64')\n",
      "these index in the original data should be change to 9631\n",
      "Int64Index([1890948, 1891001, 1891004, 1891020, 1891024, 1891051, 1891067], dtype='int64')\n",
      "these index in the original data should be change to 9800\n",
      "Int64Index([1772264, 1790892, 1818186, 1818191, 1818195, 1818198, 1818397,\n",
      "            1818439, 1818458, 1818465,\n",
      "            ...\n",
      "            1960279, 1960287, 1960290, 1960294, 1960297, 1960299, 1960303,\n",
      "            1960948, 1960979, 1991206],\n",
      "           dtype='int64', length=101)\n",
      "these index in the original data should be change to 8995\n",
      "Int64Index([1901197, 1901242, 1901285, 1901400, 1901406, 1901423, 1901433,\n",
      "            1901436, 1901445, 1901452, 1901454, 1901460, 1901462, 1901465,\n",
      "            1901500, 1901502, 1901512, 1901525, 1901529, 1901532, 1901535,\n",
      "            1901538, 1901545, 1901550, 1901583, 1901659, 1901663, 1901667,\n",
      "            1901670, 1901673, 1901676, 1901691, 1901695, 1901701, 1901703,\n",
      "            1901729, 1901914],\n",
      "           dtype='int64')\n",
      "these index in the original data should be change to 9259\n",
      "Int64Index([1926505, 1926548, 1926676, 1926689, 1926694, 1926698, 1926710,\n",
      "            1926712, 1926716, 1926719, 1926723, 1926725, 1926731, 1926738,\n",
      "            1926741, 1926755, 1926761, 1926766, 1926768, 1926774, 1926780,\n",
      "            1926783, 1926786, 1926789, 1926793, 1926796, 1926802, 1926808,\n",
      "            1926813, 1926817, 1926826, 1926828, 1926832, 1926835, 1926838,\n",
      "            1926858, 1926862, 1926866, 1926869, 1926872],\n",
      "           dtype='int64')\n",
      "these index in the original data should be change to 9351\n",
      "Int64Index([1794795, 1795106, 1795464, 1797874, 1797876, 1797888, 1797895,\n",
      "            1798904, 1798931, 1798934, 1798951, 1798956, 1798962, 1798969,\n",
      "            1800711, 1800721, 1800725, 1800761, 1801084, 1804294, 1804298,\n",
      "            1804303, 1804308, 1804344, 1809222, 1809232, 1817652],\n",
      "           dtype='int64')\n",
      "these index in the original data should be change to 9410\n",
      "Int64Index([1795286, 1795308, 1795312, 1795320, 1795323, 1795325, 1795341,\n",
      "            1795344, 1795356, 1795372, 1795386, 1795447, 1795451, 1795485,\n",
      "            1849458],\n",
      "           dtype='int64')\n",
      "these index in the original data should be change to 9516\n",
      "Int64Index([1921545, 1921551, 1921554, 1921557, 1921616, 1921619, 1921640,\n",
      "            1921643, 1921648, 1921697, 1921703, 1921707],\n",
      "           dtype='int64')\n",
      "these index in the original data should be change to 9549\n",
      "Int64Index([1797226, 1797235, 1819009, 1819046, 1819063, 1819066], dtype='int64')\n",
      "these index in the original data should be change to 9561\n",
      "Int64Index([1901542, 1901559, 1901562, 1901564, 1901569, 1901575, 1901580,\n",
      "            1901585, 1901589, 1901593, 1901595, 1901605, 1901617, 1901620,\n",
      "            1901634, 1901636, 1901680, 1901711, 1901714, 1901724, 1901727,\n",
      "            1921296, 1921300, 1921315, 1921318, 1921329, 1921333, 1921356,\n",
      "            1921365, 1923950, 1982993, 1982995, 1982998, 1983001, 1985101,\n",
      "            1985134],\n",
      "           dtype='int64')\n",
      "these index in the original data should be change to 9630\n",
      "Int64Index([1771671, 1771673, 1771677, 1771683, 1771685, 1771691, 1783402,\n",
      "            1783408, 1783490, 1783500,\n",
      "            ...\n",
      "            1996041, 1996045, 1996049, 1996127, 1996130, 1996160, 1996176,\n",
      "            1996229, 1997641, 1997648],\n",
      "           dtype='int64', length=145)\n",
      "these index in the original data should be change to 9631\n",
      "Int64Index([1796528, 1796579, 1796589, 1796592, 1796594, 1796600, 1796603,\n",
      "            1796605, 1796611, 1796615, 1796619, 1796621, 1796634, 1796636,\n",
      "            1796641, 1796644, 1796662, 1796673, 1796680, 1796690, 1796693,\n",
      "            1796696, 1796699, 1796703, 1796705, 1796713, 1796817, 1796824,\n",
      "            1817885, 1817915, 1817918, 1817951, 1818034, 1818038, 1818314,\n",
      "            1818475, 1818547, 1818636, 1818653, 1824407, 1859054, 1860535,\n",
      "            1860537, 1860563, 1860567, 1860688, 1901954, 1901972, 1901998,\n",
      "            1902004, 1902035, 1902058, 1902062],\n",
      "           dtype='int64')\n",
      "these index in the original data should be change to 9800\n",
      "Int64Index([1919922, 1919925, 1919928, 1919936, 1919938, 1919941, 1919944,\n",
      "            1919946],\n",
      "           dtype='int64')\n",
      "these index in the original data should be change to 8995\n",
      "Int64Index([1814796, 1814802, 1814823, 1814825, 1814827, 1814829, 1814831,\n",
      "            1814833, 1814836, 1814838, 1814840, 1814842, 1814875, 1814888,\n",
      "            1814890, 1814897, 1888071, 1888099, 1888132, 1888135, 1888168,\n",
      "            1888170, 1888187, 1888190, 1955946, 1955948, 1957733, 1957736,\n",
      "            1957739, 1957742, 1957755, 1957758, 1957766, 1957777, 1957803,\n",
      "            1957806, 1957808, 1957816, 1957818, 1957821, 1957825, 1957827,\n",
      "            1957829, 1957861, 1957867, 1957869, 1957872, 1957877],\n",
      "           dtype='int64')\n",
      "these index in the original data should be change to 9631\n",
      "Int64Index([1781040, 1954038, 1954041, 1954060, 1954066, 1954077, 1954080,\n",
      "            1954082, 1954104, 1954109, 1954122, 1954147, 1954153, 1954157,\n",
      "            1954168, 1954171, 1954173, 1954177, 1954180, 1954186, 1954188,\n",
      "            1954193, 1954200, 1954202, 1954206, 1954210, 1954212, 1954216,\n",
      "            1954219, 1954221, 1954223, 1954285],\n",
      "           dtype='int64')\n",
      "these index in the original data should be change to 9261\n",
      "Int64Index([1809871, 1809881, 1809896, 1810129, 1810221, 1810223, 1817811], dtype='int64')\n",
      "these index in the original data should be change to 9410\n",
      "Int64Index([1781046, 1781055, 1781078, 1781123, 1781944, 1782910, 1782924,\n",
      "            1782947, 1783193, 1783204,\n",
      "            ...\n",
      "            1902178, 1902216, 1958290, 1992725, 1992876, 1993146, 1993154,\n",
      "            1993306, 1993308, 1993311],\n",
      "           dtype='int64', length=150)\n",
      "these index in the original data should be change to 9631\n",
      "Int64Index([1818459, 1818473, 1818478, 1818480, 1818482, 1818484, 1818486,\n",
      "            1818505, 1818514, 1858737, 1858961, 1858968, 1890867, 1890878,\n",
      "            1890880, 1890885, 1890888, 1891035],\n",
      "           dtype='int64')\n",
      "these index in the original data should be change to 9800\n",
      "Int64Index([1853527, 1853529, 1853667, 1853672, 1853684, 1855159, 1855187,\n",
      "            1855375],\n",
      "           dtype='int64')\n",
      "these index in the original data should be change to 9631\n",
      "Int64Index([1853867, 1854646, 1856259, 1856423, 1856469], dtype='int64')\n",
      "these index in the original data should be change to 9060\n",
      "Int64Index([1987902, 1987905, 1987908, 1987915, 1987958, 1987991, 1988076,\n",
      "            1988088, 1988103, 1988115],\n",
      "           dtype='int64')\n",
      "these index in the original data should be change to 9292\n",
      "Int64Index([1902081, 1902086, 1902194, 1902196, 1902198, 1902202, 1902205,\n",
      "            1902207, 1902209, 1902219, 1902221, 1902224, 1902230, 1902241,\n",
      "            1902252],\n",
      "           dtype='int64')\n",
      "these index in the original data should be change to 9631\n",
      "Int64Index([1989343, 1989346, 1989349, 1989356, 1989367, 1989371, 1989379,\n",
      "            1989382, 1989386, 1989388, 1989392, 1989399, 1989402, 1989404,\n",
      "            1989411, 1989413, 1989421],\n",
      "           dtype='int64')\n",
      "these index in the original data should be change to 9363\n",
      "Int64Index([1901546, 1901551, 1901587, 1901671, 1901682, 1901687, 1901689,\n",
      "            1901692, 1901704],\n",
      "           dtype='int64')\n",
      "these index in the original data should be change to 9630\n",
      "Int64Index([1810578, 1810595, 1810597, 1810599, 1810623, 1810626, 1810631,\n",
      "            1810634],\n",
      "           dtype='int64')\n",
      "these index in the original data should be change to 9516\n",
      "Int64Index([1835061, 1835068, 1835107, 1835173, 1835194, 1835223, 1835230,\n",
      "            1835235, 1835243],\n",
      "           dtype='int64')\n",
      "these index in the original data should be change to 9630\n",
      "Int64Index([1773943, 1773957, 1774013, 1804382, 1804392, 1804436, 1804524,\n",
      "            1804569, 1804619, 1804902, 1804931, 1804936, 1804955, 1804995,\n",
      "            1839405, 1971371, 1971460, 1971590, 1971663, 1971667, 1971679],\n",
      "           dtype='int64')\n",
      "these index in the original data should be change to 9493\n",
      "Int64Index([1810356, 1810360, 1810366, 1810370, 1810373, 1810379, 1810381,\n",
      "            1810384, 1810387, 1810400, 1810404, 1810408, 1810443, 1810468,\n",
      "            1810470, 1810475, 1810479, 1810482, 1810484, 1810488, 1810500,\n",
      "            1810503, 1810512, 1810515, 1810525, 1810542, 1810550, 1810552,\n",
      "            1810560, 1810565, 1810569, 1810571, 1810574],\n",
      "           dtype='int64')\n",
      "these index in the original data should be change to 9516\n",
      "Int64Index([1778571, 1778573, 1798133, 1798136, 1808564, 1847233, 1847235,\n",
      "            1973826, 1973841, 1973846, 1981017, 1981234, 1981241, 1981249,\n",
      "            1981260, 1981309, 1981311, 1981317, 1981320, 1981325, 1981364,\n",
      "            1981373, 1981592, 1981599, 1981601, 1981690, 1981697, 1981834,\n",
      "            1982131, 1982145, 1982152, 1982156, 1982159, 1982174, 1982180,\n",
      "            1982275, 1982278, 1982300, 1982302, 1982309, 1982319, 1982324,\n",
      "            1982342, 1982347, 1982352, 1982355, 1982358, 1982361, 1982364,\n",
      "            1982378, 1982397, 1982423, 1982425, 1982431, 1982434, 1982448,\n",
      "            1982477, 1982484, 1982486, 1982489, 1982513, 1982867, 1982872,\n",
      "            1982875, 1982901],\n",
      "           dtype='int64')\n",
      "these index in the original data should be change to 9630\n",
      "Int64Index([1778616, 1778620, 1778626, 1778744, 1778746, 1778785, 1778804,\n",
      "            1778807, 1778809, 1779361,\n",
      "            ...\n",
      "            1975271, 1975288, 1975294, 1975322, 1975330, 1975332, 1975335,\n",
      "            1980885, 1980897, 1980901],\n",
      "           dtype='int64', length=108)\n",
      "these index in the original data should be change to 9631\n",
      "Int64Index([1877847, 1877850, 1877855, 1877868, 1877928, 1877931, 1877944,\n",
      "            1877970, 1877995, 1878014, 1878017, 1878021, 1878030, 1878038,\n",
      "            1878059, 1878069, 1878085, 1878192, 1878207, 1878209, 1878218,\n",
      "            1878253, 1878256, 1878259, 1878271, 1878279, 1878304, 1878334,\n",
      "            1878339, 1878379, 1878382, 1878388, 1878394],\n",
      "           dtype='int64')\n",
      "these index in the original data should be change to 9631\n",
      "Int64Index([1909345, 1909347, 1909349, 1909353, 1909355, 1909357, 1909360,\n",
      "            1909362, 1909525, 1909564, 1909600],\n",
      "           dtype='int64')\n",
      "these index in the original data should be change to 9493\n",
      "Int64Index([1848212, 1848218, 1848290, 1848331, 1848341, 1848346], dtype='int64')\n",
      "these index in the original data should be change to 9597\n",
      "Int64Index([1808314, 1808316, 1808334, 1808337, 1808340, 1808342, 1808358,\n",
      "            1808382, 1808386, 1808389, 1808393, 1808397, 1808407, 1808409,\n",
      "            1945613, 1984267, 1984270, 1984280, 1984291, 1984304, 1984306,\n",
      "            1984310, 1984312, 1984316, 1984324, 1984342, 1984363, 1984373,\n",
      "            1984401, 1984403, 1984491, 1984509, 1984511, 1984552, 1984636,\n",
      "            1984682, 1984685, 1984700, 1984703, 1984707, 1984718, 1984723,\n",
      "            1984823, 1984826, 1984837, 1984845, 1984854, 1984857, 1984863,\n",
      "            1984867, 1984917, 1984944, 1984946, 1984950, 1984958, 1985764],\n",
      "           dtype='int64')\n",
      "these index in the original data should be change to 9630\n",
      "Int64Index([1971556, 1971569, 1971573, 1971617, 1971659, 1971665, 1971669,\n",
      "            1971680, 1971690, 1971694],\n",
      "           dtype='int64')\n",
      "these index in the original data should be change to 9800\n",
      "Int64Index([1781668, 1781776, 1781975, 1781982, 1782001, 1782015], dtype='int64')\n",
      "these index in the original data should be change to 9631\n",
      "Int64Index([1782049, 1782051, 1782061, 1782103, 1782105, 1782109, 1782130,\n",
      "            1782133, 1782139, 1782168, 1782187],\n",
      "           dtype='int64')\n",
      "these index in the original data should be change to 9800\n",
      "Int64Index([1899539, 1899542, 1899544, 1899548, 1899551, 1899562], dtype='int64')\n",
      "these index in the original data should be change to 9631\n",
      "Int64Index([1837342, 1901917, 1901923, 1901925, 1901927, 1901929], dtype='int64')\n",
      "these index in the original data should be change to 9800\n",
      "Int64Index([1980080, 1980084, 1980087, 1980091, 1980093, 1980101, 1980115,\n",
      "            1980133, 1980266, 1980268, 1980297, 1980299],\n",
      "           dtype='int64')\n",
      "these index in the original data should be change to 9723\n",
      "Int64Index([1771740, 1782016, 1782463, 1782465, 1813180, 1813183, 1813185,\n",
      "            1813187, 1813192, 1814114, 1824378, 1824380, 1824382, 1824384,\n",
      "            1858358, 1860433, 1860437, 1860440, 1860443, 1860447, 1860449,\n",
      "            1878365, 1878369, 1878395, 1878398, 1879570, 1879586, 1879589,\n",
      "            1879597, 1879599, 1888066, 1890455, 1890471, 1890485, 1890487,\n",
      "            1902066],\n",
      "           dtype='int64')\n",
      "these index in the original data should be change to 9800\n",
      "time: 25min 26s\n"
     ]
    }
   ],
   "source": [
    "for i in range(len(user0_freq_pair)):\n",
    "    loc1 = user0_freq_pair[i][0][0]\n",
    "    loc2 = user0_freq_pair[i][0][1]\n",
    "\n",
    "        # any condition\n",
    "    if usage_cleaned[(usage_cleaned[\"uid\"] == str(0)) & (usage_cleaned[\"loc\"] == loc1)].shape[0] > usage_cleaned[(usage_cleaned[\"uid\"] == str(0)) & (usage_cleaned[\"loc\"] == loc2)].shape[0]:\n",
    "        # current use print instead of actually replace the loc \n",
    "        \n",
    "        print(user0_oscillation_period[(user0_oscillation_period[\"tele\"] == user0_freq_pair[i][0]) &(user0_oscillation_period[\"loc\"] == loc2)].index)\n",
    "        print(\"these index in the original data should be changed to {}\".format(loc1))\n",
    "    else:\n",
    "        print(user0_oscillation_period[(user0_oscillation_period[\"tele\"] == user0_freq_pair[i][0]) &(user0_oscillation_period[\"loc\"] == loc1)].index)\n",
    "        print(\"these index in the original data should be changed to {}\".format(loc2))"
   ]
  },
  {
   "source": [
    "## Index method \n",
    "## 1) get the start index and end index of the oscillation period\n",
    "## 2) get the count of the stations\n",
    "## 3) if different, replace a>b or b>a\n",
    "## 3) if same, increase the counting period by decreasing the start index and increasing the end index until one loc outnumber the other\n",
    "## 4) ?"
   ],
   "cell_type": "markdown",
   "metadata": {}
  },
  {
   "cell_type": "code",
   "execution_count": 297,
   "metadata": {},
   "outputs": [
    {
     "output_type": "stream",
     "name": "stderr",
     "text": [
      "<ipython-input-233-20c6b7ee343d>:14: SettingWithCopyWarning: \n",
      "A value is trying to be set on a copy of a slice from a DataFrame.\n",
      "Try using .loc[row_indexer,col_indexer] = value instead\n",
      "\n",
      "See the caveats in the documentation: http://pandas.pydata.org/pandas-docs/stable/indexing.html#indexing-view-versus-copy\n",
      "  user_uid['next_loc'] = user_uid['loc'].shift(-1).fillna(0).astype('int')\n",
      "<ipython-input-233-20c6b7ee343d>:15: SettingWithCopyWarning: \n",
      "A value is trying to be set on a copy of a slice from a DataFrame.\n",
      "Try using .loc[row_indexer,col_indexer] = value instead\n",
      "\n",
      "See the caveats in the documentation: http://pandas.pydata.org/pandas-docs/stable/indexing.html#indexing-view-versus-copy\n",
      "  user_uid['next_timestamp'] = user_uid['timestamp'].shift(-1)\n",
      "<ipython-input-233-20c6b7ee343d>:26: SettingWithCopyWarning: \n",
      "A value is trying to be set on a copy of a slice from a DataFrame.\n",
      "Try using .loc[row_indexer,col_indexer] = value instead\n",
      "\n",
      "See the caveats in the documentation: http://pandas.pydata.org/pandas-docs/stable/indexing.html#indexing-view-versus-copy\n",
      "  teleports['tele'] = list(zip(teleports['loc'], teleports['next_loc']))\n"
     ]
    },
    {
     "output_type": "execute_result",
     "data": {
      "text/plain": [
       "array([[(1361, 2304), 14],\n",
       "       [(2318, 8120), 10],\n",
       "       [(7031, 7692), 5]], dtype=object)"
      ]
     },
     "metadata": {},
     "execution_count": 297
    },
    {
     "output_type": "stream",
     "name": "stdout",
     "text": [
      "time: 8.66 s\n"
     ]
    }
   ],
   "source": [
    "user0_freq_pair = np.array(show_frequent_pair(0,10,4))\n",
    "user0_freq_pair"
   ]
  },
  {
   "cell_type": "code",
   "execution_count": 298,
   "metadata": {},
   "outputs": [
    {
     "output_type": "stream",
     "name": "stderr",
     "text": [
      "<ipython-input-296-f1d55fd8c473>:14: SettingWithCopyWarning: \n",
      "A value is trying to be set on a copy of a slice from a DataFrame.\n",
      "Try using .loc[row_indexer,col_indexer] = value instead\n",
      "\n",
      "See the caveats in the documentation: http://pandas.pydata.org/pandas-docs/stable/indexing.html#indexing-view-versus-copy\n",
      "  user_uid['next_loc'] = user_uid['loc'].shift(-1).fillna(0).astype('int')\n",
      "<ipython-input-296-f1d55fd8c473>:15: SettingWithCopyWarning: \n",
      "A value is trying to be set on a copy of a slice from a DataFrame.\n",
      "Try using .loc[row_indexer,col_indexer] = value instead\n",
      "\n",
      "See the caveats in the documentation: http://pandas.pydata.org/pandas-docs/stable/indexing.html#indexing-view-versus-copy\n",
      "  user_uid['next_timestamp'] = user_uid['timestamp'].shift(-1)\n",
      "<ipython-input-296-f1d55fd8c473>:26: SettingWithCopyWarning: \n",
      "A value is trying to be set on a copy of a slice from a DataFrame.\n",
      "Try using .loc[row_indexer,col_indexer] = value instead\n",
      "\n",
      "See the caveats in the documentation: http://pandas.pydata.org/pandas-docs/stable/indexing.html#indexing-view-versus-copy\n",
      "  teleports['tele'] = list(zip(teleports['loc'], teleports['next_loc']))\n",
      "<ipython-input-296-f1d55fd8c473>:41: SettingWithCopyWarning: \n",
      "A value is trying to be set on a copy of a slice from a DataFrame.\n",
      "Try using .loc[row_indexer,col_indexer] = value instead\n",
      "\n",
      "See the caveats in the documentation: http://pandas.pydata.org/pandas-docs/stable/indexing.html#indexing-view-versus-copy\n",
      "  teleports['tele'] = teleports['tele'].apply(lambda j: sort_movement_tuples(j))\n",
      "<ipython-input-296-f1d55fd8c473>:42: SettingWithCopyWarning: \n",
      "A value is trying to be set on a copy of a slice from a DataFrame.\n",
      "Try using .loc[row_indexer,col_indexer] = value instead\n",
      "\n",
      "See the caveats in the documentation: http://pandas.pydata.org/pandas-docs/stable/indexing.html#indexing-view-versus-copy\n",
      "  teleports['tele'] = tuple(teleports['tele'])\n"
     ]
    },
    {
     "output_type": "execute_result",
     "data": {
      "text/plain": [
       "     uid           timestamp   loc app_id  traffic   date  next_loc  \\\n",
       "1006   0 2016-04-22 08:45:22  2318     34    0.009  04-22      8120   \n",
       "1008   0 2016-04-22 08:45:22  8120     34    0.003  04-22      2318   \n",
       "1009   0 2016-04-22 08:45:28  2318     29    0.010  04-22      8120   \n",
       "1010   0 2016-04-22 08:45:28  8120     29    0.005  04-22      2318   \n",
       "1016   0 2016-04-22 08:45:45  2318     34    0.001  04-22      8120   \n",
       "1017   0 2016-04-22 08:45:45  8120     34    0.020  04-22      2318   \n",
       "1020   0 2016-04-22 08:45:47  2318     34    0.002  04-22      8120   \n",
       "1021   0 2016-04-22 08:45:47  8120     29    0.026  04-22      2318   \n",
       "1022   0 2016-04-22 08:45:48  2318     29    0.001  04-22      8120   \n",
       "1024   0 2016-04-22 08:45:49  8120     34    0.002  04-22      2318   \n",
       "1787   0 2016-04-22 14:26:31  1361    361    0.001  04-22      2304   \n",
       "1789   0 2016-04-22 14:26:41  2304    361    0.003  04-22      1361   \n",
       "1792   0 2016-04-22 14:26:45  1361     41    0.001  04-22      2304   \n",
       "1794   0 2016-04-22 14:26:46  2304     41    0.007  04-22      1361   \n",
       "1795   0 2016-04-22 14:26:48  1361    361    0.001  04-22      2304   \n",
       "1796   0 2016-04-22 14:26:48  2304    361    0.002  04-22      1361   \n",
       "1797   0 2016-04-22 14:26:49  1361    361    0.073  04-22      2304   \n",
       "1798   0 2016-04-22 14:26:54  2304    361    0.006  04-22      1361   \n",
       "1799   0 2016-04-22 14:26:55  1361    361    0.002  04-22      2304   \n",
       "1800   0 2016-04-22 14:26:55  2304    361    0.003  04-22      1361   \n",
       "1801   0 2016-04-22 14:26:56  1361     41    0.001  04-22      2304   \n",
       "1802   0 2016-04-22 14:26:56  2304    361    0.002  04-22      1361   \n",
       "1803   0 2016-04-22 14:26:57  1361     41    0.003  04-22      2304   \n",
       "1804   0 2016-04-22 14:26:57  2304     41    0.001  04-22      1361   \n",
       "3577   0 2016-04-26 09:36:12  7692    489    0.005  04-26      7031   \n",
       "3578   0 2016-04-26 09:36:14  7031    108    0.003  04-26      7692   \n",
       "3580   0 2016-04-26 09:36:16  7692    361    0.003  04-26      7031   \n",
       "3581   0 2016-04-26 09:36:17  7031    361    0.001  04-26      7692   \n",
       "3582   0 2016-04-26 09:36:17  7692    361    0.021  04-26      7031   \n",
       "3584   0 2016-04-26 09:36:18  7031    489    0.001  04-26      7692   \n",
       "3585   0 2016-04-26 09:36:18  7692    361    0.005  04-26      7031   \n",
       "3586   0 2016-04-26 09:36:19  7031    108    0.060  04-26      7692   \n",
       "3595   0 2016-04-26 09:36:24  7692    108    0.005  04-26      7031   \n",
       "\n",
       "          next_timestamp time_delta          tele  \n",
       "1006 2016-04-22 08:45:22   00:00:00  (2318, 8120)  \n",
       "1008 2016-04-22 08:45:28   00:00:06  (2318, 8120)  \n",
       "1009 2016-04-22 08:45:28   00:00:00  (2318, 8120)  \n",
       "1010 2016-04-22 08:45:31   00:00:03  (2318, 8120)  \n",
       "1016 2016-04-22 08:45:45   00:00:00  (2318, 8120)  \n",
       "1017 2016-04-22 08:45:46   00:00:01  (2318, 8120)  \n",
       "1020 2016-04-22 08:45:47   00:00:00  (2318, 8120)  \n",
       "1021 2016-04-22 08:45:48   00:00:01  (2318, 8120)  \n",
       "1022 2016-04-22 08:45:48   00:00:00  (2318, 8120)  \n",
       "1024 2016-04-22 08:45:50   00:00:01  (2318, 8120)  \n",
       "1787 2016-04-22 14:26:31   00:00:00  (1361, 2304)  \n",
       "1789 2016-04-22 14:26:44   00:00:03  (1361, 2304)  \n",
       "1792 2016-04-22 14:26:45   00:00:00  (1361, 2304)  \n",
       "1794 2016-04-22 14:26:48   00:00:02  (1361, 2304)  \n",
       "1795 2016-04-22 14:26:48   00:00:00  (1361, 2304)  \n",
       "1796 2016-04-22 14:26:49   00:00:01  (1361, 2304)  \n",
       "1797 2016-04-22 14:26:54   00:00:05  (1361, 2304)  \n",
       "1798 2016-04-22 14:26:55   00:00:01  (1361, 2304)  \n",
       "1799 2016-04-22 14:26:55   00:00:00  (1361, 2304)  \n",
       "1800 2016-04-22 14:26:56   00:00:01  (1361, 2304)  \n",
       "1801 2016-04-22 14:26:56   00:00:00  (1361, 2304)  \n",
       "1802 2016-04-22 14:26:57   00:00:01  (1361, 2304)  \n",
       "1803 2016-04-22 14:26:57   00:00:00  (1361, 2304)  \n",
       "1804 2016-04-22 14:27:00   00:00:03  (1361, 2304)  \n",
       "3577 2016-04-26 09:36:14   00:00:02  (7031, 7692)  \n",
       "3578 2016-04-26 09:36:15   00:00:01  (7031, 7692)  \n",
       "3580 2016-04-26 09:36:17   00:00:01  (7031, 7692)  \n",
       "3581 2016-04-26 09:36:17   00:00:00  (7031, 7692)  \n",
       "3582 2016-04-26 09:36:18   00:00:01  (7031, 7692)  \n",
       "3584 2016-04-26 09:36:18   00:00:00  (7031, 7692)  \n",
       "3585 2016-04-26 09:36:19   00:00:01  (7031, 7692)  \n",
       "3586 2016-04-26 09:36:19   00:00:00  (7031, 7692)  \n",
       "3595 2016-04-26 09:36:25   00:00:01  (7031, 7692)  "
      ],
      "text/html": "<div>\n<style scoped>\n    .dataframe tbody tr th:only-of-type {\n        vertical-align: middle;\n    }\n\n    .dataframe tbody tr th {\n        vertical-align: top;\n    }\n\n    .dataframe thead th {\n        text-align: right;\n    }\n</style>\n<table border=\"1\" class=\"dataframe\">\n  <thead>\n    <tr style=\"text-align: right;\">\n      <th></th>\n      <th>uid</th>\n      <th>timestamp</th>\n      <th>loc</th>\n      <th>app_id</th>\n      <th>traffic</th>\n      <th>date</th>\n      <th>next_loc</th>\n      <th>next_timestamp</th>\n      <th>time_delta</th>\n      <th>tele</th>\n    </tr>\n  </thead>\n  <tbody>\n    <tr>\n      <th>1006</th>\n      <td>0</td>\n      <td>2016-04-22 08:45:22</td>\n      <td>2318</td>\n      <td>34</td>\n      <td>0.009</td>\n      <td>04-22</td>\n      <td>8120</td>\n      <td>2016-04-22 08:45:22</td>\n      <td>00:00:00</td>\n      <td>(2318, 8120)</td>\n    </tr>\n    <tr>\n      <th>1008</th>\n      <td>0</td>\n      <td>2016-04-22 08:45:22</td>\n      <td>8120</td>\n      <td>34</td>\n      <td>0.003</td>\n      <td>04-22</td>\n      <td>2318</td>\n      <td>2016-04-22 08:45:28</td>\n      <td>00:00:06</td>\n      <td>(2318, 8120)</td>\n    </tr>\n    <tr>\n      <th>1009</th>\n      <td>0</td>\n      <td>2016-04-22 08:45:28</td>\n      <td>2318</td>\n      <td>29</td>\n      <td>0.010</td>\n      <td>04-22</td>\n      <td>8120</td>\n      <td>2016-04-22 08:45:28</td>\n      <td>00:00:00</td>\n      <td>(2318, 8120)</td>\n    </tr>\n    <tr>\n      <th>1010</th>\n      <td>0</td>\n      <td>2016-04-22 08:45:28</td>\n      <td>8120</td>\n      <td>29</td>\n      <td>0.005</td>\n      <td>04-22</td>\n      <td>2318</td>\n      <td>2016-04-22 08:45:31</td>\n      <td>00:00:03</td>\n      <td>(2318, 8120)</td>\n    </tr>\n    <tr>\n      <th>1016</th>\n      <td>0</td>\n      <td>2016-04-22 08:45:45</td>\n      <td>2318</td>\n      <td>34</td>\n      <td>0.001</td>\n      <td>04-22</td>\n      <td>8120</td>\n      <td>2016-04-22 08:45:45</td>\n      <td>00:00:00</td>\n      <td>(2318, 8120)</td>\n    </tr>\n    <tr>\n      <th>1017</th>\n      <td>0</td>\n      <td>2016-04-22 08:45:45</td>\n      <td>8120</td>\n      <td>34</td>\n      <td>0.020</td>\n      <td>04-22</td>\n      <td>2318</td>\n      <td>2016-04-22 08:45:46</td>\n      <td>00:00:01</td>\n      <td>(2318, 8120)</td>\n    </tr>\n    <tr>\n      <th>1020</th>\n      <td>0</td>\n      <td>2016-04-22 08:45:47</td>\n      <td>2318</td>\n      <td>34</td>\n      <td>0.002</td>\n      <td>04-22</td>\n      <td>8120</td>\n      <td>2016-04-22 08:45:47</td>\n      <td>00:00:00</td>\n      <td>(2318, 8120)</td>\n    </tr>\n    <tr>\n      <th>1021</th>\n      <td>0</td>\n      <td>2016-04-22 08:45:47</td>\n      <td>8120</td>\n      <td>29</td>\n      <td>0.026</td>\n      <td>04-22</td>\n      <td>2318</td>\n      <td>2016-04-22 08:45:48</td>\n      <td>00:00:01</td>\n      <td>(2318, 8120)</td>\n    </tr>\n    <tr>\n      <th>1022</th>\n      <td>0</td>\n      <td>2016-04-22 08:45:48</td>\n      <td>2318</td>\n      <td>29</td>\n      <td>0.001</td>\n      <td>04-22</td>\n      <td>8120</td>\n      <td>2016-04-22 08:45:48</td>\n      <td>00:00:00</td>\n      <td>(2318, 8120)</td>\n    </tr>\n    <tr>\n      <th>1024</th>\n      <td>0</td>\n      <td>2016-04-22 08:45:49</td>\n      <td>8120</td>\n      <td>34</td>\n      <td>0.002</td>\n      <td>04-22</td>\n      <td>2318</td>\n      <td>2016-04-22 08:45:50</td>\n      <td>00:00:01</td>\n      <td>(2318, 8120)</td>\n    </tr>\n    <tr>\n      <th>1787</th>\n      <td>0</td>\n      <td>2016-04-22 14:26:31</td>\n      <td>1361</td>\n      <td>361</td>\n      <td>0.001</td>\n      <td>04-22</td>\n      <td>2304</td>\n      <td>2016-04-22 14:26:31</td>\n      <td>00:00:00</td>\n      <td>(1361, 2304)</td>\n    </tr>\n    <tr>\n      <th>1789</th>\n      <td>0</td>\n      <td>2016-04-22 14:26:41</td>\n      <td>2304</td>\n      <td>361</td>\n      <td>0.003</td>\n      <td>04-22</td>\n      <td>1361</td>\n      <td>2016-04-22 14:26:44</td>\n      <td>00:00:03</td>\n      <td>(1361, 2304)</td>\n    </tr>\n    <tr>\n      <th>1792</th>\n      <td>0</td>\n      <td>2016-04-22 14:26:45</td>\n      <td>1361</td>\n      <td>41</td>\n      <td>0.001</td>\n      <td>04-22</td>\n      <td>2304</td>\n      <td>2016-04-22 14:26:45</td>\n      <td>00:00:00</td>\n      <td>(1361, 2304)</td>\n    </tr>\n    <tr>\n      <th>1794</th>\n      <td>0</td>\n      <td>2016-04-22 14:26:46</td>\n      <td>2304</td>\n      <td>41</td>\n      <td>0.007</td>\n      <td>04-22</td>\n      <td>1361</td>\n      <td>2016-04-22 14:26:48</td>\n      <td>00:00:02</td>\n      <td>(1361, 2304)</td>\n    </tr>\n    <tr>\n      <th>1795</th>\n      <td>0</td>\n      <td>2016-04-22 14:26:48</td>\n      <td>1361</td>\n      <td>361</td>\n      <td>0.001</td>\n      <td>04-22</td>\n      <td>2304</td>\n      <td>2016-04-22 14:26:48</td>\n      <td>00:00:00</td>\n      <td>(1361, 2304)</td>\n    </tr>\n    <tr>\n      <th>1796</th>\n      <td>0</td>\n      <td>2016-04-22 14:26:48</td>\n      <td>2304</td>\n      <td>361</td>\n      <td>0.002</td>\n      <td>04-22</td>\n      <td>1361</td>\n      <td>2016-04-22 14:26:49</td>\n      <td>00:00:01</td>\n      <td>(1361, 2304)</td>\n    </tr>\n    <tr>\n      <th>1797</th>\n      <td>0</td>\n      <td>2016-04-22 14:26:49</td>\n      <td>1361</td>\n      <td>361</td>\n      <td>0.073</td>\n      <td>04-22</td>\n      <td>2304</td>\n      <td>2016-04-22 14:26:54</td>\n      <td>00:00:05</td>\n      <td>(1361, 2304)</td>\n    </tr>\n    <tr>\n      <th>1798</th>\n      <td>0</td>\n      <td>2016-04-22 14:26:54</td>\n      <td>2304</td>\n      <td>361</td>\n      <td>0.006</td>\n      <td>04-22</td>\n      <td>1361</td>\n      <td>2016-04-22 14:26:55</td>\n      <td>00:00:01</td>\n      <td>(1361, 2304)</td>\n    </tr>\n    <tr>\n      <th>1799</th>\n      <td>0</td>\n      <td>2016-04-22 14:26:55</td>\n      <td>1361</td>\n      <td>361</td>\n      <td>0.002</td>\n      <td>04-22</td>\n      <td>2304</td>\n      <td>2016-04-22 14:26:55</td>\n      <td>00:00:00</td>\n      <td>(1361, 2304)</td>\n    </tr>\n    <tr>\n      <th>1800</th>\n      <td>0</td>\n      <td>2016-04-22 14:26:55</td>\n      <td>2304</td>\n      <td>361</td>\n      <td>0.003</td>\n      <td>04-22</td>\n      <td>1361</td>\n      <td>2016-04-22 14:26:56</td>\n      <td>00:00:01</td>\n      <td>(1361, 2304)</td>\n    </tr>\n    <tr>\n      <th>1801</th>\n      <td>0</td>\n      <td>2016-04-22 14:26:56</td>\n      <td>1361</td>\n      <td>41</td>\n      <td>0.001</td>\n      <td>04-22</td>\n      <td>2304</td>\n      <td>2016-04-22 14:26:56</td>\n      <td>00:00:00</td>\n      <td>(1361, 2304)</td>\n    </tr>\n    <tr>\n      <th>1802</th>\n      <td>0</td>\n      <td>2016-04-22 14:26:56</td>\n      <td>2304</td>\n      <td>361</td>\n      <td>0.002</td>\n      <td>04-22</td>\n      <td>1361</td>\n      <td>2016-04-22 14:26:57</td>\n      <td>00:00:01</td>\n      <td>(1361, 2304)</td>\n    </tr>\n    <tr>\n      <th>1803</th>\n      <td>0</td>\n      <td>2016-04-22 14:26:57</td>\n      <td>1361</td>\n      <td>41</td>\n      <td>0.003</td>\n      <td>04-22</td>\n      <td>2304</td>\n      <td>2016-04-22 14:26:57</td>\n      <td>00:00:00</td>\n      <td>(1361, 2304)</td>\n    </tr>\n    <tr>\n      <th>1804</th>\n      <td>0</td>\n      <td>2016-04-22 14:26:57</td>\n      <td>2304</td>\n      <td>41</td>\n      <td>0.001</td>\n      <td>04-22</td>\n      <td>1361</td>\n      <td>2016-04-22 14:27:00</td>\n      <td>00:00:03</td>\n      <td>(1361, 2304)</td>\n    </tr>\n    <tr>\n      <th>3577</th>\n      <td>0</td>\n      <td>2016-04-26 09:36:12</td>\n      <td>7692</td>\n      <td>489</td>\n      <td>0.005</td>\n      <td>04-26</td>\n      <td>7031</td>\n      <td>2016-04-26 09:36:14</td>\n      <td>00:00:02</td>\n      <td>(7031, 7692)</td>\n    </tr>\n    <tr>\n      <th>3578</th>\n      <td>0</td>\n      <td>2016-04-26 09:36:14</td>\n      <td>7031</td>\n      <td>108</td>\n      <td>0.003</td>\n      <td>04-26</td>\n      <td>7692</td>\n      <td>2016-04-26 09:36:15</td>\n      <td>00:00:01</td>\n      <td>(7031, 7692)</td>\n    </tr>\n    <tr>\n      <th>3580</th>\n      <td>0</td>\n      <td>2016-04-26 09:36:16</td>\n      <td>7692</td>\n      <td>361</td>\n      <td>0.003</td>\n      <td>04-26</td>\n      <td>7031</td>\n      <td>2016-04-26 09:36:17</td>\n      <td>00:00:01</td>\n      <td>(7031, 7692)</td>\n    </tr>\n    <tr>\n      <th>3581</th>\n      <td>0</td>\n      <td>2016-04-26 09:36:17</td>\n      <td>7031</td>\n      <td>361</td>\n      <td>0.001</td>\n      <td>04-26</td>\n      <td>7692</td>\n      <td>2016-04-26 09:36:17</td>\n      <td>00:00:00</td>\n      <td>(7031, 7692)</td>\n    </tr>\n    <tr>\n      <th>3582</th>\n      <td>0</td>\n      <td>2016-04-26 09:36:17</td>\n      <td>7692</td>\n      <td>361</td>\n      <td>0.021</td>\n      <td>04-26</td>\n      <td>7031</td>\n      <td>2016-04-26 09:36:18</td>\n      <td>00:00:01</td>\n      <td>(7031, 7692)</td>\n    </tr>\n    <tr>\n      <th>3584</th>\n      <td>0</td>\n      <td>2016-04-26 09:36:18</td>\n      <td>7031</td>\n      <td>489</td>\n      <td>0.001</td>\n      <td>04-26</td>\n      <td>7692</td>\n      <td>2016-04-26 09:36:18</td>\n      <td>00:00:00</td>\n      <td>(7031, 7692)</td>\n    </tr>\n    <tr>\n      <th>3585</th>\n      <td>0</td>\n      <td>2016-04-26 09:36:18</td>\n      <td>7692</td>\n      <td>361</td>\n      <td>0.005</td>\n      <td>04-26</td>\n      <td>7031</td>\n      <td>2016-04-26 09:36:19</td>\n      <td>00:00:01</td>\n      <td>(7031, 7692)</td>\n    </tr>\n    <tr>\n      <th>3586</th>\n      <td>0</td>\n      <td>2016-04-26 09:36:19</td>\n      <td>7031</td>\n      <td>108</td>\n      <td>0.060</td>\n      <td>04-26</td>\n      <td>7692</td>\n      <td>2016-04-26 09:36:19</td>\n      <td>00:00:00</td>\n      <td>(7031, 7692)</td>\n    </tr>\n    <tr>\n      <th>3595</th>\n      <td>0</td>\n      <td>2016-04-26 09:36:24</td>\n      <td>7692</td>\n      <td>108</td>\n      <td>0.005</td>\n      <td>04-26</td>\n      <td>7031</td>\n      <td>2016-04-26 09:36:25</td>\n      <td>00:00:01</td>\n      <td>(7031, 7692)</td>\n    </tr>\n  </tbody>\n</table>\n</div>"
     },
     "metadata": {},
     "execution_count": 298
    },
    {
     "output_type": "stream",
     "name": "stdout",
     "text": [
      "time: 8.64 s\n"
     ]
    }
   ],
   "source": [
    "user0_oscillation_period = present_oscillation(0,10,4)\n",
    "user0_oscillation_period"
   ]
  },
  {
   "cell_type": "code",
   "execution_count": 323,
   "metadata": {
    "tags": []
   },
   "outputs": [
    {
     "output_type": "stream",
     "name": "stdout",
     "text": [
      "start index: 1786, end_index = 1805, count_loc1:10, count_loc2:9\nstart index: 1785, end_index = 1806, count_loc1:11, count_loc2:9\nstart index: 1784, end_index = 1807, count_loc1:12, count_loc2:9\nstart index: 1783, end_index = 1808, count_loc1:13, count_loc2:9\nstart index: 1782, end_index = 1809, count_loc1:14, count_loc2:9\nfinished\ntime: 15 ms\n"
     ]
    }
   ],
   "source": [
    "start_index = 1787\r\n",
    "end_index = 1804\r\n",
    "oscillation_period = usage_cleaned.loc[start_index:end_index, \"loc\"].copy()\r\n",
    "count_loc1 = oscillation_period[oscillation_period == 1361].shape[0]\r\n",
    "count_loc2 = oscillation_period[oscillation_period == 2304].shape[0]\r\n",
    "\r\n",
    "while abs(count_loc1-count_loc2) < 5:\r\n",
    "\r\n",
    "    start_index -=1\r\n",
    "    end_index +=1\r\n",
    "\r\n",
    "    oscillation_period = usage_cleaned.loc[start_index:end_index, \"loc\"].copy()\r\n",
    "    count_loc1 = oscillation_period[oscillation_period == 1361].shape[0]\r\n",
    "    count_loc2 = oscillation_period[oscillation_period == 2304].shape[0]\r\n",
    "\r\n",
    "    print(\"start index: {}, end_index = {}, count_loc1:{}, count_loc2:{}\".format(start_index, end_index, count_loc1, count_loc2))\r\n",
    "    \r\n",
    "print(\"finished\")\r\n",
    "# if count_loc1 > count_loc2:\r\n",
    "#     oscillation_period[oscillation_period == 2304] = 1361\r\n",
    "# else:\r\n",
    "#     oscillation_period[oscillation_period == 1361] = 2304\r\n",
    "\r\n",
    "# oscillation_period\r\n"
   ]
  },
  {
   "cell_type": "code",
   "execution_count": 321,
   "metadata": {},
   "outputs": [
    {
     "output_type": "stream",
     "name": "stdout",
     "text": [
      "1782    3042\n1783    3042\n1784    3042\n1785    3042\n1786    3042\n1787    1361\n1788    1361\n1789    1361\n1790    1361\n1791    1361\n1792    1361\n1793    1361\n1794    1361\n1795    1361\n1796    1361\n1797    1361\n1798    1361\n1799    1361\n1800    1361\n1801    1361\n1802    1361\n1803    1361\n1804    1361\n1805    1361\n1806    1361\n1807    1361\n1808    1361\n1809    1361\nName: loc, dtype: int64\n1006    2318\n1007    2318\n1008    2318\n1009    2318\n1010    2318\n1011    2318\n1012    2318\n1013    2318\n1014    2318\n1015    2318\n1016    2318\n1017    2318\n1018    2318\n1019    2318\n1020    2318\n1021    2318\n1022    2318\n1023    2318\n1024    2318\nName: loc, dtype: int64\n3577    7692\n3578    7692\n3579    7692\n3580    7692\n3581    7692\n3582    7692\n3583    7692\n3584    7692\n3585    7692\n3586    7692\n3587    7692\n3588    7692\n3589    7692\n3590    7692\n3591    7692\n3592    7692\n3593    7692\n3594    7692\n3595    7692\nName: loc, dtype: int64\ntime: 16 ms\n"
     ]
    }
   ],
   "source": [
    "for i in range(len(user0_freq_pair)):\n",
    "    freq_pair = user0_freq_pair[i][0]\n",
    "    loc1 = user0_freq_pair[i][0][0]\n",
    "    loc2 = user0_freq_pair[i][0][1]\n",
    "    \n",
    "\n",
    "    start_index = user0_oscillation_period[user0_oscillation_period[\"tele\"] == freq_pair].index[0]\n",
    "    end_index = user0_oscillation_period[user0_oscillation_period[\"tele\"] == freq_pair].index[-1]\n",
    "    oscillation_period = usage_cleaned.loc[start_index:end_index, \"loc\"].copy()\n",
    "\n",
    "    count_loc1 = oscillation_period[oscillation_period == loc1].shape[0]\n",
    "    count_loc2 = oscillation_period[oscillation_period == loc2].shape[0]\n",
    "    \n",
    "    while abs(count_loc1-count_loc2) < 5:\n",
    "        start_index -= 1\n",
    "        end_index += 1\n",
    "        oscillation_period = usage_cleaned.loc[start_index:end_index, \"loc\"].copy()\n",
    "        count_loc1 = oscillation_period[oscillation_period == loc1].shape[0]\n",
    "        count_loc2 = oscillation_period[oscillation_period == loc2].shape[0]\n",
    "\n",
    "    if count_loc1 > count_loc2:\n",
    "        oscillation_period[oscillation_period == loc2] = loc1\n",
    "    else:\n",
    "        oscillation_period[oscillation_period == loc1] = loc2\n",
    "        \n",
    "    print(oscillation_period)"
   ]
  },
  {
   "source": [
    "## Turns oout this is a much faster as loc is much easier to manipulate the dataset\n",
    "## Example"
   ],
   "cell_type": "markdown",
   "metadata": {}
  },
  {
   "cell_type": "code",
   "execution_count": 325,
   "metadata": {},
   "outputs": [
    {
     "output_type": "execute_result",
     "data": {
      "text/plain": [
       "1787    1361\n",
       "1788    2304\n",
       "1789    2304\n",
       "1790    1361\n",
       "1791    1361\n",
       "1792    1361\n",
       "1793    2304\n",
       "1794    2304\n",
       "1795    1361\n",
       "1796    2304\n",
       "1797    1361\n",
       "1798    2304\n",
       "1799    1361\n",
       "1800    2304\n",
       "1801    1361\n",
       "1802    2304\n",
       "1803    1361\n",
       "1804    2304\n",
       "Name: loc, dtype: int64"
      ]
     },
     "metadata": {},
     "execution_count": 325
    },
    {
     "output_type": "stream",
     "name": "stdout",
     "text": [
      "time: 0 ns\n"
     ]
    }
   ],
   "source": [
    "#before replace value\n",
    "usage_cleaned.loc[1787:1804, \"loc\"]"
   ]
  },
  {
   "cell_type": "code",
   "execution_count": 327,
   "metadata": {},
   "outputs": [
    {
     "output_type": "stream",
     "name": "stdout",
     "text": [
      "time: 0 ns\n"
     ]
    }
   ],
   "source": [
    "indextochange = usage_cleaned.loc[1787:1804, \"loc\"]\n",
    "indextochange[indextochange == 2304] = 1361"
   ]
  },
  {
   "cell_type": "code",
   "execution_count": 329,
   "metadata": {},
   "outputs": [
    {
     "output_type": "execute_result",
     "data": {
      "text/plain": [
       "     uid           timestamp   loc app_id  traffic   date\n",
       "1787   0 2016-04-22 14:26:31  1361    361    0.001  04-22\n",
       "1788   0 2016-04-22 14:26:31  1361    361    0.003  04-22\n",
       "1789   0 2016-04-22 14:26:41  1361    361    0.003  04-22\n",
       "1790   0 2016-04-22 14:26:44  1361     41    0.012  04-22\n",
       "1791   0 2016-04-22 14:26:45  1361    361    0.005  04-22\n",
       "1792   0 2016-04-22 14:26:45  1361     41    0.001  04-22\n",
       "1793   0 2016-04-22 14:26:45  1361     41    0.003  04-22\n",
       "1794   0 2016-04-22 14:26:46  1361     41    0.007  04-22\n",
       "1795   0 2016-04-22 14:26:48  1361    361    0.001  04-22\n",
       "1796   0 2016-04-22 14:26:48  1361    361    0.002  04-22\n",
       "1797   0 2016-04-22 14:26:49  1361    361    0.073  04-22\n",
       "1798   0 2016-04-22 14:26:54  1361    361    0.006  04-22\n",
       "1799   0 2016-04-22 14:26:55  1361    361    0.002  04-22\n",
       "1800   0 2016-04-22 14:26:55  1361    361    0.003  04-22\n",
       "1801   0 2016-04-22 14:26:56  1361     41    0.001  04-22\n",
       "1802   0 2016-04-22 14:26:56  1361    361    0.002  04-22\n",
       "1803   0 2016-04-22 14:26:57  1361     41    0.003  04-22\n",
       "1804   0 2016-04-22 14:26:57  1361     41    0.001  04-22"
      ],
      "text/html": "<div>\n<style scoped>\n    .dataframe tbody tr th:only-of-type {\n        vertical-align: middle;\n    }\n\n    .dataframe tbody tr th {\n        vertical-align: top;\n    }\n\n    .dataframe thead th {\n        text-align: right;\n    }\n</style>\n<table border=\"1\" class=\"dataframe\">\n  <thead>\n    <tr style=\"text-align: right;\">\n      <th></th>\n      <th>uid</th>\n      <th>timestamp</th>\n      <th>loc</th>\n      <th>app_id</th>\n      <th>traffic</th>\n      <th>date</th>\n    </tr>\n  </thead>\n  <tbody>\n    <tr>\n      <th>1787</th>\n      <td>0</td>\n      <td>2016-04-22 14:26:31</td>\n      <td>1361</td>\n      <td>361</td>\n      <td>0.001</td>\n      <td>04-22</td>\n    </tr>\n    <tr>\n      <th>1788</th>\n      <td>0</td>\n      <td>2016-04-22 14:26:31</td>\n      <td>1361</td>\n      <td>361</td>\n      <td>0.003</td>\n      <td>04-22</td>\n    </tr>\n    <tr>\n      <th>1789</th>\n      <td>0</td>\n      <td>2016-04-22 14:26:41</td>\n      <td>1361</td>\n      <td>361</td>\n      <td>0.003</td>\n      <td>04-22</td>\n    </tr>\n    <tr>\n      <th>1790</th>\n      <td>0</td>\n      <td>2016-04-22 14:26:44</td>\n      <td>1361</td>\n      <td>41</td>\n      <td>0.012</td>\n      <td>04-22</td>\n    </tr>\n    <tr>\n      <th>1791</th>\n      <td>0</td>\n      <td>2016-04-22 14:26:45</td>\n      <td>1361</td>\n      <td>361</td>\n      <td>0.005</td>\n      <td>04-22</td>\n    </tr>\n    <tr>\n      <th>1792</th>\n      <td>0</td>\n      <td>2016-04-22 14:26:45</td>\n      <td>1361</td>\n      <td>41</td>\n      <td>0.001</td>\n      <td>04-22</td>\n    </tr>\n    <tr>\n      <th>1793</th>\n      <td>0</td>\n      <td>2016-04-22 14:26:45</td>\n      <td>1361</td>\n      <td>41</td>\n      <td>0.003</td>\n      <td>04-22</td>\n    </tr>\n    <tr>\n      <th>1794</th>\n      <td>0</td>\n      <td>2016-04-22 14:26:46</td>\n      <td>1361</td>\n      <td>41</td>\n      <td>0.007</td>\n      <td>04-22</td>\n    </tr>\n    <tr>\n      <th>1795</th>\n      <td>0</td>\n      <td>2016-04-22 14:26:48</td>\n      <td>1361</td>\n      <td>361</td>\n      <td>0.001</td>\n      <td>04-22</td>\n    </tr>\n    <tr>\n      <th>1796</th>\n      <td>0</td>\n      <td>2016-04-22 14:26:48</td>\n      <td>1361</td>\n      <td>361</td>\n      <td>0.002</td>\n      <td>04-22</td>\n    </tr>\n    <tr>\n      <th>1797</th>\n      <td>0</td>\n      <td>2016-04-22 14:26:49</td>\n      <td>1361</td>\n      <td>361</td>\n      <td>0.073</td>\n      <td>04-22</td>\n    </tr>\n    <tr>\n      <th>1798</th>\n      <td>0</td>\n      <td>2016-04-22 14:26:54</td>\n      <td>1361</td>\n      <td>361</td>\n      <td>0.006</td>\n      <td>04-22</td>\n    </tr>\n    <tr>\n      <th>1799</th>\n      <td>0</td>\n      <td>2016-04-22 14:26:55</td>\n      <td>1361</td>\n      <td>361</td>\n      <td>0.002</td>\n      <td>04-22</td>\n    </tr>\n    <tr>\n      <th>1800</th>\n      <td>0</td>\n      <td>2016-04-22 14:26:55</td>\n      <td>1361</td>\n      <td>361</td>\n      <td>0.003</td>\n      <td>04-22</td>\n    </tr>\n    <tr>\n      <th>1801</th>\n      <td>0</td>\n      <td>2016-04-22 14:26:56</td>\n      <td>1361</td>\n      <td>41</td>\n      <td>0.001</td>\n      <td>04-22</td>\n    </tr>\n    <tr>\n      <th>1802</th>\n      <td>0</td>\n      <td>2016-04-22 14:26:56</td>\n      <td>1361</td>\n      <td>361</td>\n      <td>0.002</td>\n      <td>04-22</td>\n    </tr>\n    <tr>\n      <th>1803</th>\n      <td>0</td>\n      <td>2016-04-22 14:26:57</td>\n      <td>1361</td>\n      <td>41</td>\n      <td>0.003</td>\n      <td>04-22</td>\n    </tr>\n    <tr>\n      <th>1804</th>\n      <td>0</td>\n      <td>2016-04-22 14:26:57</td>\n      <td>1361</td>\n      <td>41</td>\n      <td>0.001</td>\n      <td>04-22</td>\n    </tr>\n  </tbody>\n</table>\n</div>"
     },
     "metadata": {},
     "execution_count": 329
    },
    {
     "output_type": "stream",
     "name": "stdout",
     "text": [
      "time: 16 ms\n"
     ]
    }
   ],
   "source": [
    "usage_cleaned.loc[1787:1804]"
   ]
  },
  {
   "source": [
    "# Ignore the following cells"
   ],
   "cell_type": "markdown",
   "metadata": {}
  },
  {
   "source": [
    "\n",
    "# Replace the loc id with less count with the loc id with higher count in the frequent pair"
   ],
   "cell_type": "markdown",
   "metadata": {}
  },
  {
   "cell_type": "code",
   "execution_count": 74,
   "metadata": {},
   "outputs": [
    {
     "output_type": "stream",
     "name": "stderr",
     "text": [
      "<ipython-input-72-08347122befa>:14: SettingWithCopyWarning: \n",
      "A value is trying to be set on a copy of a slice from a DataFrame.\n",
      "Try using .loc[row_indexer,col_indexer] = value instead\n",
      "\n",
      "See the caveats in the documentation: http://pandas.pydata.org/pandas-docs/stable/indexing.html#indexing-view-versus-copy\n",
      "  user_uid['next_loc'] = user_uid['loc'].shift(-1).fillna(0).astype('int')\n",
      "<ipython-input-72-08347122befa>:15: SettingWithCopyWarning: \n",
      "A value is trying to be set on a copy of a slice from a DataFrame.\n",
      "Try using .loc[row_indexer,col_indexer] = value instead\n",
      "\n",
      "See the caveats in the documentation: http://pandas.pydata.org/pandas-docs/stable/indexing.html#indexing-view-versus-copy\n",
      "  user_uid['next_timestamp'] = user_uid['timestamp'].shift(-1)\n",
      "<ipython-input-72-08347122befa>:26: SettingWithCopyWarning: \n",
      "A value is trying to be set on a copy of a slice from a DataFrame.\n",
      "Try using .loc[row_indexer,col_indexer] = value instead\n",
      "\n",
      "See the caveats in the documentation: http://pandas.pydata.org/pandas-docs/stable/indexing.html#indexing-view-versus-copy\n",
      "  teleports['tele'] = list(zip(teleports['loc'], teleports['next_loc']))\n"
     ]
    },
    {
     "output_type": "execute_result",
     "data": {
      "text/plain": [
       "array([[(2304, 1361), 7],\n",
       "       [(1361, 2304), 7]], dtype=object)"
      ]
     },
     "metadata": {},
     "execution_count": 74
    },
    {
     "output_type": "stream",
     "name": "stdout",
     "text": [
      "time: 6.12 s\n"
     ]
    }
   ],
   "source": [
    "# # Show the frequent pairs of user 13, gap less than 3 seconds, and occurence higher than 5 times (both directions count)\n",
    "freq_pair = np.array(show_frequent_pair(0,10,5))\n",
    "freq_pair"
   ]
  },
  {
   "cell_type": "code",
   "execution_count": 75,
   "metadata": {},
   "outputs": [
    {
     "output_type": "stream",
     "name": "stdout",
     "text": [
      "(2304, 1361)\n(1361, 2304)\ntime: 0 ns\n"
     ]
    }
   ],
   "source": [
    "print(freq_pair[0][0])\n",
    "print(freq_pair[1][0])"
   ]
  },
  {
   "cell_type": "code",
   "execution_count": 18,
   "metadata": {},
   "outputs": [
    {
     "output_type": "execute_result",
     "data": {
      "text/plain": [
       "     uid           timestamp   loc app_id  traffic   date\n",
       "1787   0 2016-04-22 14:26:31  1361    361    0.001  04-22\n",
       "1790   0 2016-04-22 14:26:44  1361     41    0.012  04-22\n",
       "1791   0 2016-04-22 14:26:45  1361    361    0.005  04-22\n",
       "1792   0 2016-04-22 14:26:45  1361     41    0.001  04-22\n",
       "1795   0 2016-04-22 14:26:48  1361    361    0.001  04-22\n",
       "1797   0 2016-04-22 14:26:49  1361    361    0.073  04-22\n",
       "1799   0 2016-04-22 14:26:55  1361    361    0.002  04-22\n",
       "1801   0 2016-04-22 14:26:56  1361     41    0.001  04-22\n",
       "1803   0 2016-04-22 14:26:57  1361     41    0.003  04-22\n",
       "1805   0 2016-04-22 14:27:00  1361    361    0.003  04-22\n",
       "1806   0 2016-04-22 14:27:01  1361    361    0.003  04-22\n",
       "1807   0 2016-04-22 14:27:47  1361    361    0.002  04-22\n",
       "1808   0 2016-04-22 14:27:48  1361    361    0.001  04-22\n",
       "1809   0 2016-04-22 14:28:12  1361    361    0.003  04-22\n",
       "1810   0 2016-04-22 14:28:13  1361    361    0.003  04-22\n",
       "1811   0 2016-04-22 14:30:17  1361    361    0.001  04-22\n",
       "1812   0 2016-04-22 14:30:18  1361    361    0.002  04-22"
      ],
      "text/html": "<div>\n<style scoped>\n    .dataframe tbody tr th:only-of-type {\n        vertical-align: middle;\n    }\n\n    .dataframe tbody tr th {\n        vertical-align: top;\n    }\n\n    .dataframe thead th {\n        text-align: right;\n    }\n</style>\n<table border=\"1\" class=\"dataframe\">\n  <thead>\n    <tr style=\"text-align: right;\">\n      <th></th>\n      <th>uid</th>\n      <th>timestamp</th>\n      <th>loc</th>\n      <th>app_id</th>\n      <th>traffic</th>\n      <th>date</th>\n    </tr>\n  </thead>\n  <tbody>\n    <tr>\n      <th>1787</th>\n      <td>0</td>\n      <td>2016-04-22 14:26:31</td>\n      <td>1361</td>\n      <td>361</td>\n      <td>0.001</td>\n      <td>04-22</td>\n    </tr>\n    <tr>\n      <th>1790</th>\n      <td>0</td>\n      <td>2016-04-22 14:26:44</td>\n      <td>1361</td>\n      <td>41</td>\n      <td>0.012</td>\n      <td>04-22</td>\n    </tr>\n    <tr>\n      <th>1791</th>\n      <td>0</td>\n      <td>2016-04-22 14:26:45</td>\n      <td>1361</td>\n      <td>361</td>\n      <td>0.005</td>\n      <td>04-22</td>\n    </tr>\n    <tr>\n      <th>1792</th>\n      <td>0</td>\n      <td>2016-04-22 14:26:45</td>\n      <td>1361</td>\n      <td>41</td>\n      <td>0.001</td>\n      <td>04-22</td>\n    </tr>\n    <tr>\n      <th>1795</th>\n      <td>0</td>\n      <td>2016-04-22 14:26:48</td>\n      <td>1361</td>\n      <td>361</td>\n      <td>0.001</td>\n      <td>04-22</td>\n    </tr>\n    <tr>\n      <th>1797</th>\n      <td>0</td>\n      <td>2016-04-22 14:26:49</td>\n      <td>1361</td>\n      <td>361</td>\n      <td>0.073</td>\n      <td>04-22</td>\n    </tr>\n    <tr>\n      <th>1799</th>\n      <td>0</td>\n      <td>2016-04-22 14:26:55</td>\n      <td>1361</td>\n      <td>361</td>\n      <td>0.002</td>\n      <td>04-22</td>\n    </tr>\n    <tr>\n      <th>1801</th>\n      <td>0</td>\n      <td>2016-04-22 14:26:56</td>\n      <td>1361</td>\n      <td>41</td>\n      <td>0.001</td>\n      <td>04-22</td>\n    </tr>\n    <tr>\n      <th>1803</th>\n      <td>0</td>\n      <td>2016-04-22 14:26:57</td>\n      <td>1361</td>\n      <td>41</td>\n      <td>0.003</td>\n      <td>04-22</td>\n    </tr>\n    <tr>\n      <th>1805</th>\n      <td>0</td>\n      <td>2016-04-22 14:27:00</td>\n      <td>1361</td>\n      <td>361</td>\n      <td>0.003</td>\n      <td>04-22</td>\n    </tr>\n    <tr>\n      <th>1806</th>\n      <td>0</td>\n      <td>2016-04-22 14:27:01</td>\n      <td>1361</td>\n      <td>361</td>\n      <td>0.003</td>\n      <td>04-22</td>\n    </tr>\n    <tr>\n      <th>1807</th>\n      <td>0</td>\n      <td>2016-04-22 14:27:47</td>\n      <td>1361</td>\n      <td>361</td>\n      <td>0.002</td>\n      <td>04-22</td>\n    </tr>\n    <tr>\n      <th>1808</th>\n      <td>0</td>\n      <td>2016-04-22 14:27:48</td>\n      <td>1361</td>\n      <td>361</td>\n      <td>0.001</td>\n      <td>04-22</td>\n    </tr>\n    <tr>\n      <th>1809</th>\n      <td>0</td>\n      <td>2016-04-22 14:28:12</td>\n      <td>1361</td>\n      <td>361</td>\n      <td>0.003</td>\n      <td>04-22</td>\n    </tr>\n    <tr>\n      <th>1810</th>\n      <td>0</td>\n      <td>2016-04-22 14:28:13</td>\n      <td>1361</td>\n      <td>361</td>\n      <td>0.003</td>\n      <td>04-22</td>\n    </tr>\n    <tr>\n      <th>1811</th>\n      <td>0</td>\n      <td>2016-04-22 14:30:17</td>\n      <td>1361</td>\n      <td>361</td>\n      <td>0.001</td>\n      <td>04-22</td>\n    </tr>\n    <tr>\n      <th>1812</th>\n      <td>0</td>\n      <td>2016-04-22 14:30:18</td>\n      <td>1361</td>\n      <td>361</td>\n      <td>0.002</td>\n      <td>04-22</td>\n    </tr>\n  </tbody>\n</table>\n</div>"
     },
     "metadata": {},
     "execution_count": 18
    },
    {
     "output_type": "stream",
     "name": "stdout",
     "text": [
      "time: 281 ms\n"
     ]
    }
   ],
   "source": [
    "df_exp = usage_cleaned[(usage_cleaned[\"loc\"] == freq_pair[0][0][0]) & (usage_cleaned[\"uid\"] == str(0))]\n",
    "df_exp"
   ]
  },
  {
   "cell_type": "code",
   "execution_count": 19,
   "metadata": {},
   "outputs": [
    {
     "output_type": "execute_result",
     "data": {
      "text/plain": [
       "     uid           timestamp   loc app_id  traffic   date\n",
       "1788   0 2016-04-22 14:26:31  2304    361    0.003  04-22\n",
       "1789   0 2016-04-22 14:26:41  2304    361    0.003  04-22\n",
       "1793   0 2016-04-22 14:26:45  2304     41    0.003  04-22\n",
       "1794   0 2016-04-22 14:26:46  2304     41    0.007  04-22\n",
       "1796   0 2016-04-22 14:26:48  2304    361    0.002  04-22\n",
       "1798   0 2016-04-22 14:26:54  2304    361    0.006  04-22\n",
       "1800   0 2016-04-22 14:26:55  2304    361    0.003  04-22\n",
       "1802   0 2016-04-22 14:26:56  2304    361    0.002  04-22\n",
       "1804   0 2016-04-22 14:26:57  2304     41    0.001  04-22"
      ],
      "text/html": "<div>\n<style scoped>\n    .dataframe tbody tr th:only-of-type {\n        vertical-align: middle;\n    }\n\n    .dataframe tbody tr th {\n        vertical-align: top;\n    }\n\n    .dataframe thead th {\n        text-align: right;\n    }\n</style>\n<table border=\"1\" class=\"dataframe\">\n  <thead>\n    <tr style=\"text-align: right;\">\n      <th></th>\n      <th>uid</th>\n      <th>timestamp</th>\n      <th>loc</th>\n      <th>app_id</th>\n      <th>traffic</th>\n      <th>date</th>\n    </tr>\n  </thead>\n  <tbody>\n    <tr>\n      <th>1788</th>\n      <td>0</td>\n      <td>2016-04-22 14:26:31</td>\n      <td>2304</td>\n      <td>361</td>\n      <td>0.003</td>\n      <td>04-22</td>\n    </tr>\n    <tr>\n      <th>1789</th>\n      <td>0</td>\n      <td>2016-04-22 14:26:41</td>\n      <td>2304</td>\n      <td>361</td>\n      <td>0.003</td>\n      <td>04-22</td>\n    </tr>\n    <tr>\n      <th>1793</th>\n      <td>0</td>\n      <td>2016-04-22 14:26:45</td>\n      <td>2304</td>\n      <td>41</td>\n      <td>0.003</td>\n      <td>04-22</td>\n    </tr>\n    <tr>\n      <th>1794</th>\n      <td>0</td>\n      <td>2016-04-22 14:26:46</td>\n      <td>2304</td>\n      <td>41</td>\n      <td>0.007</td>\n      <td>04-22</td>\n    </tr>\n    <tr>\n      <th>1796</th>\n      <td>0</td>\n      <td>2016-04-22 14:26:48</td>\n      <td>2304</td>\n      <td>361</td>\n      <td>0.002</td>\n      <td>04-22</td>\n    </tr>\n    <tr>\n      <th>1798</th>\n      <td>0</td>\n      <td>2016-04-22 14:26:54</td>\n      <td>2304</td>\n      <td>361</td>\n      <td>0.006</td>\n      <td>04-22</td>\n    </tr>\n    <tr>\n      <th>1800</th>\n      <td>0</td>\n      <td>2016-04-22 14:26:55</td>\n      <td>2304</td>\n      <td>361</td>\n      <td>0.003</td>\n      <td>04-22</td>\n    </tr>\n    <tr>\n      <th>1802</th>\n      <td>0</td>\n      <td>2016-04-22 14:26:56</td>\n      <td>2304</td>\n      <td>361</td>\n      <td>0.002</td>\n      <td>04-22</td>\n    </tr>\n    <tr>\n      <th>1804</th>\n      <td>0</td>\n      <td>2016-04-22 14:26:57</td>\n      <td>2304</td>\n      <td>41</td>\n      <td>0.001</td>\n      <td>04-22</td>\n    </tr>\n  </tbody>\n</table>\n</div>"
     },
     "metadata": {},
     "execution_count": 19
    },
    {
     "output_type": "stream",
     "name": "stdout",
     "text": [
      "time: 297 ms\n"
     ]
    }
   ],
   "source": [
    "df_exp1 = usage_cleaned[(usage_cleaned[\"loc\"] == freq_pair[0][0][1]) & (usage_cleaned[\"uid\"] == str(0))]\n",
    "df_exp1"
   ]
  },
  {
   "cell_type": "code",
   "execution_count": 146,
   "metadata": {},
   "outputs": [
    {
     "output_type": "execute_result",
     "data": {
      "text/plain": [
       "     uid           timestamp   loc app_id  traffic   date\n",
       "1787   0 2016-04-22 14:26:31  1361    361    0.001  04-22\n",
       "1790   0 2016-04-22 14:26:44  1361     41    0.012  04-22\n",
       "1791   0 2016-04-22 14:26:45  1361    361    0.005  04-22\n",
       "1792   0 2016-04-22 14:26:45  1361     41    0.001  04-22\n",
       "1795   0 2016-04-22 14:26:48  1361    361    0.001  04-22\n",
       "1797   0 2016-04-22 14:26:49  1361    361    0.073  04-22\n",
       "1799   0 2016-04-22 14:26:55  1361    361    0.002  04-22\n",
       "1801   0 2016-04-22 14:26:56  1361     41    0.001  04-22\n",
       "1803   0 2016-04-22 14:26:57  1361     41    0.003  04-22\n",
       "1805   0 2016-04-22 14:27:00  1361    361    0.003  04-22\n",
       "1806   0 2016-04-22 14:27:01  1361    361    0.003  04-22\n",
       "1807   0 2016-04-22 14:27:47  1361    361    0.002  04-22\n",
       "1808   0 2016-04-22 14:27:48  1361    361    0.001  04-22\n",
       "1809   0 2016-04-22 14:28:12  1361    361    0.003  04-22\n",
       "1810   0 2016-04-22 14:28:13  1361    361    0.003  04-22\n",
       "1811   0 2016-04-22 14:30:17  1361    361    0.001  04-22\n",
       "1812   0 2016-04-22 14:30:18  1361    361    0.002  04-22\n",
       "1788   0 2016-04-22 14:26:31  2304    361    0.003  04-22\n",
       "1789   0 2016-04-22 14:26:41  2304    361    0.003  04-22\n",
       "1793   0 2016-04-22 14:26:45  2304     41    0.003  04-22\n",
       "1794   0 2016-04-22 14:26:46  2304     41    0.007  04-22\n",
       "1796   0 2016-04-22 14:26:48  2304    361    0.002  04-22\n",
       "1798   0 2016-04-22 14:26:54  2304    361    0.006  04-22\n",
       "1800   0 2016-04-22 14:26:55  2304    361    0.003  04-22\n",
       "1802   0 2016-04-22 14:26:56  2304    361    0.002  04-22\n",
       "1804   0 2016-04-22 14:26:57  2304     41    0.001  04-22"
      ],
      "text/html": "<div>\n<style scoped>\n    .dataframe tbody tr th:only-of-type {\n        vertical-align: middle;\n    }\n\n    .dataframe tbody tr th {\n        vertical-align: top;\n    }\n\n    .dataframe thead th {\n        text-align: right;\n    }\n</style>\n<table border=\"1\" class=\"dataframe\">\n  <thead>\n    <tr style=\"text-align: right;\">\n      <th></th>\n      <th>uid</th>\n      <th>timestamp</th>\n      <th>loc</th>\n      <th>app_id</th>\n      <th>traffic</th>\n      <th>date</th>\n    </tr>\n  </thead>\n  <tbody>\n    <tr>\n      <th>1787</th>\n      <td>0</td>\n      <td>2016-04-22 14:26:31</td>\n      <td>1361</td>\n      <td>361</td>\n      <td>0.001</td>\n      <td>04-22</td>\n    </tr>\n    <tr>\n      <th>1790</th>\n      <td>0</td>\n      <td>2016-04-22 14:26:44</td>\n      <td>1361</td>\n      <td>41</td>\n      <td>0.012</td>\n      <td>04-22</td>\n    </tr>\n    <tr>\n      <th>1791</th>\n      <td>0</td>\n      <td>2016-04-22 14:26:45</td>\n      <td>1361</td>\n      <td>361</td>\n      <td>0.005</td>\n      <td>04-22</td>\n    </tr>\n    <tr>\n      <th>1792</th>\n      <td>0</td>\n      <td>2016-04-22 14:26:45</td>\n      <td>1361</td>\n      <td>41</td>\n      <td>0.001</td>\n      <td>04-22</td>\n    </tr>\n    <tr>\n      <th>1795</th>\n      <td>0</td>\n      <td>2016-04-22 14:26:48</td>\n      <td>1361</td>\n      <td>361</td>\n      <td>0.001</td>\n      <td>04-22</td>\n    </tr>\n    <tr>\n      <th>1797</th>\n      <td>0</td>\n      <td>2016-04-22 14:26:49</td>\n      <td>1361</td>\n      <td>361</td>\n      <td>0.073</td>\n      <td>04-22</td>\n    </tr>\n    <tr>\n      <th>1799</th>\n      <td>0</td>\n      <td>2016-04-22 14:26:55</td>\n      <td>1361</td>\n      <td>361</td>\n      <td>0.002</td>\n      <td>04-22</td>\n    </tr>\n    <tr>\n      <th>1801</th>\n      <td>0</td>\n      <td>2016-04-22 14:26:56</td>\n      <td>1361</td>\n      <td>41</td>\n      <td>0.001</td>\n      <td>04-22</td>\n    </tr>\n    <tr>\n      <th>1803</th>\n      <td>0</td>\n      <td>2016-04-22 14:26:57</td>\n      <td>1361</td>\n      <td>41</td>\n      <td>0.003</td>\n      <td>04-22</td>\n    </tr>\n    <tr>\n      <th>1805</th>\n      <td>0</td>\n      <td>2016-04-22 14:27:00</td>\n      <td>1361</td>\n      <td>361</td>\n      <td>0.003</td>\n      <td>04-22</td>\n    </tr>\n    <tr>\n      <th>1806</th>\n      <td>0</td>\n      <td>2016-04-22 14:27:01</td>\n      <td>1361</td>\n      <td>361</td>\n      <td>0.003</td>\n      <td>04-22</td>\n    </tr>\n    <tr>\n      <th>1807</th>\n      <td>0</td>\n      <td>2016-04-22 14:27:47</td>\n      <td>1361</td>\n      <td>361</td>\n      <td>0.002</td>\n      <td>04-22</td>\n    </tr>\n    <tr>\n      <th>1808</th>\n      <td>0</td>\n      <td>2016-04-22 14:27:48</td>\n      <td>1361</td>\n      <td>361</td>\n      <td>0.001</td>\n      <td>04-22</td>\n    </tr>\n    <tr>\n      <th>1809</th>\n      <td>0</td>\n      <td>2016-04-22 14:28:12</td>\n      <td>1361</td>\n      <td>361</td>\n      <td>0.003</td>\n      <td>04-22</td>\n    </tr>\n    <tr>\n      <th>1810</th>\n      <td>0</td>\n      <td>2016-04-22 14:28:13</td>\n      <td>1361</td>\n      <td>361</td>\n      <td>0.003</td>\n      <td>04-22</td>\n    </tr>\n    <tr>\n      <th>1811</th>\n      <td>0</td>\n      <td>2016-04-22 14:30:17</td>\n      <td>1361</td>\n      <td>361</td>\n      <td>0.001</td>\n      <td>04-22</td>\n    </tr>\n    <tr>\n      <th>1812</th>\n      <td>0</td>\n      <td>2016-04-22 14:30:18</td>\n      <td>1361</td>\n      <td>361</td>\n      <td>0.002</td>\n      <td>04-22</td>\n    </tr>\n    <tr>\n      <th>1788</th>\n      <td>0</td>\n      <td>2016-04-22 14:26:31</td>\n      <td>2304</td>\n      <td>361</td>\n      <td>0.003</td>\n      <td>04-22</td>\n    </tr>\n    <tr>\n      <th>1789</th>\n      <td>0</td>\n      <td>2016-04-22 14:26:41</td>\n      <td>2304</td>\n      <td>361</td>\n      <td>0.003</td>\n      <td>04-22</td>\n    </tr>\n    <tr>\n      <th>1793</th>\n      <td>0</td>\n      <td>2016-04-22 14:26:45</td>\n      <td>2304</td>\n      <td>41</td>\n      <td>0.003</td>\n      <td>04-22</td>\n    </tr>\n    <tr>\n      <th>1794</th>\n      <td>0</td>\n      <td>2016-04-22 14:26:46</td>\n      <td>2304</td>\n      <td>41</td>\n      <td>0.007</td>\n      <td>04-22</td>\n    </tr>\n    <tr>\n      <th>1796</th>\n      <td>0</td>\n      <td>2016-04-22 14:26:48</td>\n      <td>2304</td>\n      <td>361</td>\n      <td>0.002</td>\n      <td>04-22</td>\n    </tr>\n    <tr>\n      <th>1798</th>\n      <td>0</td>\n      <td>2016-04-22 14:26:54</td>\n      <td>2304</td>\n      <td>361</td>\n      <td>0.006</td>\n      <td>04-22</td>\n    </tr>\n    <tr>\n      <th>1800</th>\n      <td>0</td>\n      <td>2016-04-22 14:26:55</td>\n      <td>2304</td>\n      <td>361</td>\n      <td>0.003</td>\n      <td>04-22</td>\n    </tr>\n    <tr>\n      <th>1802</th>\n      <td>0</td>\n      <td>2016-04-22 14:26:56</td>\n      <td>2304</td>\n      <td>361</td>\n      <td>0.002</td>\n      <td>04-22</td>\n    </tr>\n    <tr>\n      <th>1804</th>\n      <td>0</td>\n      <td>2016-04-22 14:26:57</td>\n      <td>2304</td>\n      <td>41</td>\n      <td>0.001</td>\n      <td>04-22</td>\n    </tr>\n  </tbody>\n</table>\n</div>"
     },
     "metadata": {},
     "execution_count": 146
    },
    {
     "output_type": "stream",
     "name": "stdout",
     "text": [
      "time: 16 ms\n"
     ]
    }
   ],
   "source": [
    "df_exp = pd.concat([df_exp, df_exp1])\n",
    "df_exp"
   ]
  },
  {
   "cell_type": "code",
   "execution_count": 150,
   "metadata": {},
   "outputs": [
    {
     "output_type": "execute_result",
     "data": {
      "text/plain": [
       "     uid           timestamp   loc app_id  traffic   date\n",
       "1787   0 2016-04-22 14:26:31  1361    361    0.001  04-22\n",
       "1790   0 2016-04-22 14:26:44  1361     41    0.012  04-22\n",
       "1791   0 2016-04-22 14:26:45  1361    361    0.005  04-22\n",
       "1792   0 2016-04-22 14:26:45  1361     41    0.001  04-22\n",
       "1795   0 2016-04-22 14:26:48  1361    361    0.001  04-22\n",
       "1797   0 2016-04-22 14:26:49  1361    361    0.073  04-22\n",
       "1799   0 2016-04-22 14:26:55  1361    361    0.002  04-22\n",
       "1801   0 2016-04-22 14:26:56  1361     41    0.001  04-22\n",
       "1803   0 2016-04-22 14:26:57  1361     41    0.003  04-22\n",
       "1805   0 2016-04-22 14:27:00  1361    361    0.003  04-22\n",
       "1806   0 2016-04-22 14:27:01  1361    361    0.003  04-22\n",
       "1807   0 2016-04-22 14:27:47  1361    361    0.002  04-22\n",
       "1808   0 2016-04-22 14:27:48  1361    361    0.001  04-22\n",
       "1809   0 2016-04-22 14:28:12  1361    361    0.003  04-22\n",
       "1810   0 2016-04-22 14:28:13  1361    361    0.003  04-22\n",
       "1811   0 2016-04-22 14:30:17  1361    361    0.001  04-22\n",
       "1812   0 2016-04-22 14:30:18  1361    361    0.002  04-22\n",
       "1788   0 2016-04-22 14:26:31  1361    361    0.003  04-22\n",
       "1789   0 2016-04-22 14:26:41  1361    361    0.003  04-22\n",
       "1793   0 2016-04-22 14:26:45  1361     41    0.003  04-22\n",
       "1794   0 2016-04-22 14:26:46  1361     41    0.007  04-22\n",
       "1796   0 2016-04-22 14:26:48  1361    361    0.002  04-22\n",
       "1798   0 2016-04-22 14:26:54  1361    361    0.006  04-22\n",
       "1800   0 2016-04-22 14:26:55  1361    361    0.003  04-22\n",
       "1802   0 2016-04-22 14:26:56  1361    361    0.002  04-22\n",
       "1804   0 2016-04-22 14:26:57  1361     41    0.001  04-22"
      ],
      "text/html": "<div>\n<style scoped>\n    .dataframe tbody tr th:only-of-type {\n        vertical-align: middle;\n    }\n\n    .dataframe tbody tr th {\n        vertical-align: top;\n    }\n\n    .dataframe thead th {\n        text-align: right;\n    }\n</style>\n<table border=\"1\" class=\"dataframe\">\n  <thead>\n    <tr style=\"text-align: right;\">\n      <th></th>\n      <th>uid</th>\n      <th>timestamp</th>\n      <th>loc</th>\n      <th>app_id</th>\n      <th>traffic</th>\n      <th>date</th>\n    </tr>\n  </thead>\n  <tbody>\n    <tr>\n      <th>1787</th>\n      <td>0</td>\n      <td>2016-04-22 14:26:31</td>\n      <td>1361</td>\n      <td>361</td>\n      <td>0.001</td>\n      <td>04-22</td>\n    </tr>\n    <tr>\n      <th>1790</th>\n      <td>0</td>\n      <td>2016-04-22 14:26:44</td>\n      <td>1361</td>\n      <td>41</td>\n      <td>0.012</td>\n      <td>04-22</td>\n    </tr>\n    <tr>\n      <th>1791</th>\n      <td>0</td>\n      <td>2016-04-22 14:26:45</td>\n      <td>1361</td>\n      <td>361</td>\n      <td>0.005</td>\n      <td>04-22</td>\n    </tr>\n    <tr>\n      <th>1792</th>\n      <td>0</td>\n      <td>2016-04-22 14:26:45</td>\n      <td>1361</td>\n      <td>41</td>\n      <td>0.001</td>\n      <td>04-22</td>\n    </tr>\n    <tr>\n      <th>1795</th>\n      <td>0</td>\n      <td>2016-04-22 14:26:48</td>\n      <td>1361</td>\n      <td>361</td>\n      <td>0.001</td>\n      <td>04-22</td>\n    </tr>\n    <tr>\n      <th>1797</th>\n      <td>0</td>\n      <td>2016-04-22 14:26:49</td>\n      <td>1361</td>\n      <td>361</td>\n      <td>0.073</td>\n      <td>04-22</td>\n    </tr>\n    <tr>\n      <th>1799</th>\n      <td>0</td>\n      <td>2016-04-22 14:26:55</td>\n      <td>1361</td>\n      <td>361</td>\n      <td>0.002</td>\n      <td>04-22</td>\n    </tr>\n    <tr>\n      <th>1801</th>\n      <td>0</td>\n      <td>2016-04-22 14:26:56</td>\n      <td>1361</td>\n      <td>41</td>\n      <td>0.001</td>\n      <td>04-22</td>\n    </tr>\n    <tr>\n      <th>1803</th>\n      <td>0</td>\n      <td>2016-04-22 14:26:57</td>\n      <td>1361</td>\n      <td>41</td>\n      <td>0.003</td>\n      <td>04-22</td>\n    </tr>\n    <tr>\n      <th>1805</th>\n      <td>0</td>\n      <td>2016-04-22 14:27:00</td>\n      <td>1361</td>\n      <td>361</td>\n      <td>0.003</td>\n      <td>04-22</td>\n    </tr>\n    <tr>\n      <th>1806</th>\n      <td>0</td>\n      <td>2016-04-22 14:27:01</td>\n      <td>1361</td>\n      <td>361</td>\n      <td>0.003</td>\n      <td>04-22</td>\n    </tr>\n    <tr>\n      <th>1807</th>\n      <td>0</td>\n      <td>2016-04-22 14:27:47</td>\n      <td>1361</td>\n      <td>361</td>\n      <td>0.002</td>\n      <td>04-22</td>\n    </tr>\n    <tr>\n      <th>1808</th>\n      <td>0</td>\n      <td>2016-04-22 14:27:48</td>\n      <td>1361</td>\n      <td>361</td>\n      <td>0.001</td>\n      <td>04-22</td>\n    </tr>\n    <tr>\n      <th>1809</th>\n      <td>0</td>\n      <td>2016-04-22 14:28:12</td>\n      <td>1361</td>\n      <td>361</td>\n      <td>0.003</td>\n      <td>04-22</td>\n    </tr>\n    <tr>\n      <th>1810</th>\n      <td>0</td>\n      <td>2016-04-22 14:28:13</td>\n      <td>1361</td>\n      <td>361</td>\n      <td>0.003</td>\n      <td>04-22</td>\n    </tr>\n    <tr>\n      <th>1811</th>\n      <td>0</td>\n      <td>2016-04-22 14:30:17</td>\n      <td>1361</td>\n      <td>361</td>\n      <td>0.001</td>\n      <td>04-22</td>\n    </tr>\n    <tr>\n      <th>1812</th>\n      <td>0</td>\n      <td>2016-04-22 14:30:18</td>\n      <td>1361</td>\n      <td>361</td>\n      <td>0.002</td>\n      <td>04-22</td>\n    </tr>\n    <tr>\n      <th>1788</th>\n      <td>0</td>\n      <td>2016-04-22 14:26:31</td>\n      <td>1361</td>\n      <td>361</td>\n      <td>0.003</td>\n      <td>04-22</td>\n    </tr>\n    <tr>\n      <th>1789</th>\n      <td>0</td>\n      <td>2016-04-22 14:26:41</td>\n      <td>1361</td>\n      <td>361</td>\n      <td>0.003</td>\n      <td>04-22</td>\n    </tr>\n    <tr>\n      <th>1793</th>\n      <td>0</td>\n      <td>2016-04-22 14:26:45</td>\n      <td>1361</td>\n      <td>41</td>\n      <td>0.003</td>\n      <td>04-22</td>\n    </tr>\n    <tr>\n      <th>1794</th>\n      <td>0</td>\n      <td>2016-04-22 14:26:46</td>\n      <td>1361</td>\n      <td>41</td>\n      <td>0.007</td>\n      <td>04-22</td>\n    </tr>\n    <tr>\n      <th>1796</th>\n      <td>0</td>\n      <td>2016-04-22 14:26:48</td>\n      <td>1361</td>\n      <td>361</td>\n      <td>0.002</td>\n      <td>04-22</td>\n    </tr>\n    <tr>\n      <th>1798</th>\n      <td>0</td>\n      <td>2016-04-22 14:26:54</td>\n      <td>1361</td>\n      <td>361</td>\n      <td>0.006</td>\n      <td>04-22</td>\n    </tr>\n    <tr>\n      <th>1800</th>\n      <td>0</td>\n      <td>2016-04-22 14:26:55</td>\n      <td>1361</td>\n      <td>361</td>\n      <td>0.003</td>\n      <td>04-22</td>\n    </tr>\n    <tr>\n      <th>1802</th>\n      <td>0</td>\n      <td>2016-04-22 14:26:56</td>\n      <td>1361</td>\n      <td>361</td>\n      <td>0.002</td>\n      <td>04-22</td>\n    </tr>\n    <tr>\n      <th>1804</th>\n      <td>0</td>\n      <td>2016-04-22 14:26:57</td>\n      <td>1361</td>\n      <td>41</td>\n      <td>0.001</td>\n      <td>04-22</td>\n    </tr>\n  </tbody>\n</table>\n</div>"
     },
     "metadata": {},
     "execution_count": 150
    },
    {
     "output_type": "stream",
     "name": "stdout",
     "text": [
      "time: 15 ms\n"
     ]
    }
   ],
   "source": [
    "if (df_exp[(df_exp[\"loc\"] == freq_pair[0][0][0]) & (df_exp[\"uid\"] == str(0))].shape[0]) > (df_exp[(df_exp[\"loc\"] == freq_pair[0][0][1]) & (df_exp[\"uid\"] == str(0))].shape[0]):\n",
    "    df_exp[\"loc\"] = df_exp[\"loc\"].replace(freq_pair[0][0][1], freq_pair[0][0][0])\n",
    "df_exp"
   ]
  },
  {
   "cell_type": "code",
   "execution_count": null,
   "metadata": {},
   "outputs": [],
   "source": []
  }
 ]
}