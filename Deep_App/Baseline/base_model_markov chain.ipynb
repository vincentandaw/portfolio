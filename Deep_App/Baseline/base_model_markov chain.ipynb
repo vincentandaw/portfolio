{
 "metadata": {
  "language_info": {
   "codemirror_mode": {
    "name": "ipython",
    "version": 3
   },
   "file_extension": ".py",
   "mimetype": "text/x-python",
   "name": "python",
   "nbconvert_exporter": "python",
   "pygments_lexer": "ipython3",
   "version": "3.8.3"
  },
  "orig_nbformat": 2,
  "kernelspec": {
   "name": "python383jvsc74a57bd0d835b9d6547198496337f4d2de04abf3395832a8b4aee7b55cf3102d3ef3dae9",
   "display_name": "Python 3.8.3 64-bit ('base': conda)"
  }
 },
 "nbformat": 4,
 "nbformat_minor": 2,
 "cells": [
  {
   "cell_type": "code",
   "execution_count": 1,
   "metadata": {},
   "outputs": [
    {
     "output_type": "stream",
     "name": "stdout",
     "text": [
      "time: 609 ms\n"
     ]
    }
   ],
   "source": [
    "%load_ext autotime\n",
    "\n",
    "import pandas as pd\n",
    "from datetime import datetime, timedelta\n",
    "import matplotlib.pyplot as plt\n",
    "from heapq import nlargest\n",
    "import warnings\n",
    "import numpy as np\n",
    "warnings.filterwarnings('ignore')\n",
    "\n",
    "pd.set_option(\"display.max_colwidth\",200)\n",
    "pd.set_option(\"display.max_columns\",20)\n",
    "pd.set_option('float_format', '{:.3f}'.format)"
   ]
  },
  {
   "cell_type": "code",
   "execution_count": 2,
   "metadata": {},
   "outputs": [
    {
     "output_type": "stream",
     "name": "stdout",
     "text": [
      "Successfully loaded data\n------------------------------\nNumber of users 697\n  uid            datetime   loc app_id  traffic    day\n0   0 2016-04-21 08:42:21  8194    342    0.030  04-21\n1   0 2016-04-21 08:44:12  8194      1    0.008  04-21\n2   0 2016-04-21 08:44:47  8194    857    0.027  04-21\n3   0 2016-04-21 08:44:48  8194    857    0.002  04-21\n4   0 2016-04-21 08:44:49  8194     31    0.009  04-21\ntime: 56.2 s\n"
     ]
    }
   ],
   "source": [
    "# path = \"C://Users//natha//Desktop//Capstone_local_save//Orginal Dataset\"\n",
    "cleaned_df = pd.read_csv(\"C://Users//natha//OneDrive - The University of Sydney (Students)//CS48-CAPSTONE Project 2021 Sem1//dataset//Cleaned Dataset//rm_oscillated_cleaned_data.txt\", delimiter=',', \\\n",
    "    names=['uid','datetime','loc','app_id','traffic'], \\\n",
    "    dtype={'uid': str, 'datetime': str, 'loc': str, 'app_id': str, 'trafific': float})\n",
    "\n",
    "cleaned_df['datetime'] = cleaned_df['datetime'].apply(lambda x: datetime.strptime(x, '%Y-%m-%d %H:%M:%S')) # Convert to datetime object\n",
    "cleaned_df['day'] = cleaned_df['datetime'].dt.strftime(\"%m-%d\")\n",
    "\n",
    "n_users = len(cleaned_df['uid'].unique())\n",
    "print(\"Successfully loaded data\")\n",
    "print(\"-\"*30)\n",
    "print('Number of users', n_users)\n",
    "print(cleaned_df.head())"
   ]
  },
  {
   "cell_type": "code",
   "execution_count": 3,
   "metadata": {},
   "outputs": [
    {
     "output_type": "execute_result",
     "data": {
      "text/plain": [
       "  app_id cat_id\n",
       "0      1      4\n",
       "1      2      4\n",
       "2      3      4\n",
       "3      4     13\n",
       "4      5      4"
      ],
      "text/html": "<div>\n<style scoped>\n    .dataframe tbody tr th:only-of-type {\n        vertical-align: middle;\n    }\n\n    .dataframe tbody tr th {\n        vertical-align: top;\n    }\n\n    .dataframe thead th {\n        text-align: right;\n    }\n</style>\n<table border=\"1\" class=\"dataframe\">\n  <thead>\n    <tr style=\"text-align: right;\">\n      <th></th>\n      <th>app_id</th>\n      <th>cat_id</th>\n    </tr>\n  </thead>\n  <tbody>\n    <tr>\n      <th>0</th>\n      <td>1</td>\n      <td>4</td>\n    </tr>\n    <tr>\n      <th>1</th>\n      <td>2</td>\n      <td>4</td>\n    </tr>\n    <tr>\n      <th>2</th>\n      <td>3</td>\n      <td>4</td>\n    </tr>\n    <tr>\n      <th>3</th>\n      <td>4</td>\n      <td>13</td>\n    </tr>\n    <tr>\n      <th>4</th>\n      <td>5</td>\n      <td>4</td>\n    </tr>\n  </tbody>\n</table>\n</div>"
     },
     "metadata": {},
     "execution_count": 3
    },
    {
     "output_type": "stream",
     "name": "stdout",
     "text": [
      "time: 16 ms\n"
     ]
    }
   ],
   "source": [
    "# Load App2Category data\n",
    "with open('C:\\\\Users\\\\natha\\\\Desktop\\\\Capstone_local_save\\\\Orginal Dataset\\\\App2Category.txt') as f:\n",
    "\n",
    "    lines = f.readlines()\n",
    "    df = []\n",
    "    for line in lines:\n",
    "        data = line.split()\n",
    "        df.append(data)\n",
    "app2cat = pd.DataFrame(df, columns=['app_id','cat_id'])\n",
    "app2cat.head()"
   ]
  },
  {
   "cell_type": "code",
   "execution_count": 4,
   "metadata": {},
   "outputs": [
    {
     "output_type": "execute_result",
     "data": {
      "text/plain": [
       "  uid            datetime   loc app_id  traffic    day cat_id\n",
       "0   0 2016-04-21 08:42:21  8194    342    0.030  04-21      0\n",
       "1   0 2016-04-21 11:06:36  7210    342    0.004  04-21      0\n",
       "2   0 2016-04-21 11:06:39  7210    342    0.002  04-21      0\n",
       "3   0 2016-04-21 18:44:24  7549    342    0.001  04-21      0\n",
       "4   0 2016-04-21 18:44:28  7549    342    0.002  04-21      0"
      ],
      "text/html": "<div>\n<style scoped>\n    .dataframe tbody tr th:only-of-type {\n        vertical-align: middle;\n    }\n\n    .dataframe tbody tr th {\n        vertical-align: top;\n    }\n\n    .dataframe thead th {\n        text-align: right;\n    }\n</style>\n<table border=\"1\" class=\"dataframe\">\n  <thead>\n    <tr style=\"text-align: right;\">\n      <th></th>\n      <th>uid</th>\n      <th>datetime</th>\n      <th>loc</th>\n      <th>app_id</th>\n      <th>traffic</th>\n      <th>day</th>\n      <th>cat_id</th>\n    </tr>\n  </thead>\n  <tbody>\n    <tr>\n      <th>0</th>\n      <td>0</td>\n      <td>2016-04-21 08:42:21</td>\n      <td>8194</td>\n      <td>342</td>\n      <td>0.030</td>\n      <td>04-21</td>\n      <td>0</td>\n    </tr>\n    <tr>\n      <th>1</th>\n      <td>0</td>\n      <td>2016-04-21 11:06:36</td>\n      <td>7210</td>\n      <td>342</td>\n      <td>0.004</td>\n      <td>04-21</td>\n      <td>0</td>\n    </tr>\n    <tr>\n      <th>2</th>\n      <td>0</td>\n      <td>2016-04-21 11:06:39</td>\n      <td>7210</td>\n      <td>342</td>\n      <td>0.002</td>\n      <td>04-21</td>\n      <td>0</td>\n    </tr>\n    <tr>\n      <th>3</th>\n      <td>0</td>\n      <td>2016-04-21 18:44:24</td>\n      <td>7549</td>\n      <td>342</td>\n      <td>0.001</td>\n      <td>04-21</td>\n      <td>0</td>\n    </tr>\n    <tr>\n      <th>4</th>\n      <td>0</td>\n      <td>2016-04-21 18:44:28</td>\n      <td>7549</td>\n      <td>342</td>\n      <td>0.002</td>\n      <td>04-21</td>\n      <td>0</td>\n    </tr>\n  </tbody>\n</table>\n</div>"
     },
     "metadata": {},
     "execution_count": 4
    },
    {
     "output_type": "stream",
     "name": "stdout",
     "text": [
      "time: 1.06 s\n"
     ]
    }
   ],
   "source": [
    "cleaned_df_cat = pd.merge(cleaned_df, app2cat, on=\"app_id\")\n",
    "cleaned_df_cat.head()"
   ]
  },
  {
   "source": [
    "# Testing on user 0"
   ],
   "cell_type": "markdown",
   "metadata": {}
  },
  {
   "cell_type": "code",
   "execution_count": 6,
   "metadata": {},
   "outputs": [
    {
     "output_type": "execute_result",
     "data": {
      "text/plain": [
       "        uid            datetime   loc app_id  traffic    day cat_id\n",
       "0         0 2016-04-21 08:42:21  8194    342    0.030  04-21      0\n",
       "1636      0 2016-04-21 08:44:12  8194      1    0.008  04-21      4\n",
       "345626    0 2016-04-21 08:44:47  8194    857    0.027  04-21      8\n",
       "345627    0 2016-04-21 08:44:48  8194    857    0.002  04-21      8\n",
       "472513    0 2016-04-21 08:44:49  8194    612    0.001  04-21      8\n",
       "390870    0 2016-04-21 08:44:49  8194      4    0.002  04-21     13\n",
       "347033    0 2016-04-21 08:44:49  8194     31    0.009  04-21      8\n",
       "471142    0 2016-04-21 08:44:49  8194    529    0.002  04-21      8\n",
       "345628    0 2016-04-21 08:44:49  8194    857    0.579  04-21      8\n",
       "347034    0 2016-04-21 08:44:50  8194     31    0.307  04-21      8\n",
       "345629    0 2016-04-21 08:44:50  8194    857    0.001  04-21      8\n",
       "345630    0 2016-04-21 08:44:51  8194    857    0.002  04-21      8\n",
       "345631    0 2016-04-21 08:44:52  8194    857    0.020  04-21      8\n",
       "345632    0 2016-04-21 08:44:55  8194    857    0.010  04-21      8\n",
       "345633    0 2016-04-21 08:44:56  8194    857    0.006  04-21      8\n",
       "347035    0 2016-04-21 08:44:59  8194     31    0.001  04-21      8\n",
       "347036    0 2016-04-21 08:45:02  8194     31    0.002  04-21      8\n",
       "473754    0 2016-04-21 08:45:04  8194    360    0.002  04-21      8\n",
       "347037    0 2016-04-21 08:48:22  8192     31    0.005  04-21      8\n",
       "472514    0 2016-04-21 08:48:23  8192    612    0.002  04-21      8\n",
       "347038    0 2016-04-21 08:48:23  8192     31    0.012  04-21      8\n",
       "471143    0 2016-04-21 08:48:23  8192    529    0.002  04-21      8\n",
       "390871    0 2016-04-21 08:48:23  8192      4    0.002  04-21     13\n",
       "473755    0 2016-04-21 08:48:24  8192    360    0.001  04-21      8\n",
       "347039    0 2016-04-21 08:48:24  8192     31    0.004  04-21      8\n",
       "1637      0 2016-04-21 08:52:13  8192      1    0.002  04-21      4\n",
       "471144    0 2016-04-21 08:56:19  8119    529    0.002  04-21      8\n",
       "390872    0 2016-04-21 08:56:19  8119      4    0.002  04-21     13\n",
       "472515    0 2016-04-21 08:56:19  8119    612    0.002  04-21      8\n",
       "347040    0 2016-04-21 08:56:19  7714     31    0.008  04-21      8\n",
       "...      ..                 ...   ...    ...      ...    ...    ...\n",
       "945386    0 2016-04-26 15:28:02  8118     37    0.013  04-26      8\n",
       "940926    0 2016-04-26 15:28:03  8118    259    0.001  04-26      8\n",
       "347204    0 2016-04-26 15:28:03  8118     31    0.005  04-26      8\n",
       "984195    0 2016-04-26 15:28:03  8118    199    0.002  04-26      0\n",
       "945387    0 2016-04-26 15:28:03  8118     37    0.003  04-26      8\n",
       "347205    0 2016-04-26 15:28:04  8118     31    0.001  04-26      8\n",
       "945388    0 2016-04-26 15:28:04  8118     37    0.002  04-26      8\n",
       "945389    0 2016-04-26 15:28:05  8118     37    0.003  04-26      8\n",
       "945390    0 2016-04-26 15:28:07  8118     37    0.003  04-26      8\n",
       "945391    0 2016-04-26 15:28:08  8118     37    0.005  04-26      8\n",
       "945392    0 2016-04-26 15:28:09  8118     37    0.002  04-26      8\n",
       "945393    0 2016-04-26 15:28:12  8118     37    0.002  04-26      8\n",
       "995596    0 2016-04-26 15:28:18  8118    281    0.002  04-26      0\n",
       "968238    0 2016-04-26 15:28:19  8118    184    0.003  04-26      8\n",
       "945394    0 2016-04-26 15:28:19  8118     37    0.002  04-26      8\n",
       "940927    0 2016-04-26 15:28:29  8118    259    0.005  04-26      8\n",
       "390952    0 2016-04-26 15:28:38  8118      4    0.003  04-26     13\n",
       "480442    0 2016-04-26 15:28:48  8118    361    0.001  04-26     15\n",
       "945395    0 2016-04-26 15:29:09  8118     37    0.001  04-26      8\n",
       "945396    0 2016-04-26 15:29:42  8118     37    0.001  04-26      8\n",
       "480443    0 2016-04-26 15:29:48  8118    361    0.012  04-26     15\n",
       "480444    0 2016-04-26 15:29:49  8118    361    0.003  04-26     15\n",
       "945397    0 2016-04-26 15:29:59  8118     37    0.001  04-26      8\n",
       "945398    0 2016-04-26 15:30:28  8194     37    0.001  04-26      8\n",
       "945399    0 2016-04-26 15:30:49  8194     37    0.006  04-26      8\n",
       "480445    0 2016-04-26 15:33:08  8194    361    0.011  04-26     15\n",
       "480446    0 2016-04-26 15:33:09  8194    361    0.001  04-26     15\n",
       "480447    0 2016-04-26 15:33:10  8194    361    0.010  04-26     15\n",
       "480448    0 2016-04-26 15:33:11  8194    361    0.003  04-26     15\n",
       "1021936   0 2016-04-26 15:34:17  8194   1549    0.001  04-26      0\n",
       "\n",
       "[3911 rows x 7 columns]"
      ],
      "text/html": "<div>\n<style scoped>\n    .dataframe tbody tr th:only-of-type {\n        vertical-align: middle;\n    }\n\n    .dataframe tbody tr th {\n        vertical-align: top;\n    }\n\n    .dataframe thead th {\n        text-align: right;\n    }\n</style>\n<table border=\"1\" class=\"dataframe\">\n  <thead>\n    <tr style=\"text-align: right;\">\n      <th></th>\n      <th>uid</th>\n      <th>datetime</th>\n      <th>loc</th>\n      <th>app_id</th>\n      <th>traffic</th>\n      <th>day</th>\n      <th>cat_id</th>\n    </tr>\n  </thead>\n  <tbody>\n    <tr>\n      <th>0</th>\n      <td>0</td>\n      <td>2016-04-21 08:42:21</td>\n      <td>8194</td>\n      <td>342</td>\n      <td>0.030</td>\n      <td>04-21</td>\n      <td>0</td>\n    </tr>\n    <tr>\n      <th>1636</th>\n      <td>0</td>\n      <td>2016-04-21 08:44:12</td>\n      <td>8194</td>\n      <td>1</td>\n      <td>0.008</td>\n      <td>04-21</td>\n      <td>4</td>\n    </tr>\n    <tr>\n      <th>345626</th>\n      <td>0</td>\n      <td>2016-04-21 08:44:47</td>\n      <td>8194</td>\n      <td>857</td>\n      <td>0.027</td>\n      <td>04-21</td>\n      <td>8</td>\n    </tr>\n    <tr>\n      <th>345627</th>\n      <td>0</td>\n      <td>2016-04-21 08:44:48</td>\n      <td>8194</td>\n      <td>857</td>\n      <td>0.002</td>\n      <td>04-21</td>\n      <td>8</td>\n    </tr>\n    <tr>\n      <th>472513</th>\n      <td>0</td>\n      <td>2016-04-21 08:44:49</td>\n      <td>8194</td>\n      <td>612</td>\n      <td>0.001</td>\n      <td>04-21</td>\n      <td>8</td>\n    </tr>\n    <tr>\n      <th>390870</th>\n      <td>0</td>\n      <td>2016-04-21 08:44:49</td>\n      <td>8194</td>\n      <td>4</td>\n      <td>0.002</td>\n      <td>04-21</td>\n      <td>13</td>\n    </tr>\n    <tr>\n      <th>347033</th>\n      <td>0</td>\n      <td>2016-04-21 08:44:49</td>\n      <td>8194</td>\n      <td>31</td>\n      <td>0.009</td>\n      <td>04-21</td>\n      <td>8</td>\n    </tr>\n    <tr>\n      <th>471142</th>\n      <td>0</td>\n      <td>2016-04-21 08:44:49</td>\n      <td>8194</td>\n      <td>529</td>\n      <td>0.002</td>\n      <td>04-21</td>\n      <td>8</td>\n    </tr>\n    <tr>\n      <th>345628</th>\n      <td>0</td>\n      <td>2016-04-21 08:44:49</td>\n      <td>8194</td>\n      <td>857</td>\n      <td>0.579</td>\n      <td>04-21</td>\n      <td>8</td>\n    </tr>\n    <tr>\n      <th>347034</th>\n      <td>0</td>\n      <td>2016-04-21 08:44:50</td>\n      <td>8194</td>\n      <td>31</td>\n      <td>0.307</td>\n      <td>04-21</td>\n      <td>8</td>\n    </tr>\n    <tr>\n      <th>345629</th>\n      <td>0</td>\n      <td>2016-04-21 08:44:50</td>\n      <td>8194</td>\n      <td>857</td>\n      <td>0.001</td>\n      <td>04-21</td>\n      <td>8</td>\n    </tr>\n    <tr>\n      <th>345630</th>\n      <td>0</td>\n      <td>2016-04-21 08:44:51</td>\n      <td>8194</td>\n      <td>857</td>\n      <td>0.002</td>\n      <td>04-21</td>\n      <td>8</td>\n    </tr>\n    <tr>\n      <th>345631</th>\n      <td>0</td>\n      <td>2016-04-21 08:44:52</td>\n      <td>8194</td>\n      <td>857</td>\n      <td>0.020</td>\n      <td>04-21</td>\n      <td>8</td>\n    </tr>\n    <tr>\n      <th>345632</th>\n      <td>0</td>\n      <td>2016-04-21 08:44:55</td>\n      <td>8194</td>\n      <td>857</td>\n      <td>0.010</td>\n      <td>04-21</td>\n      <td>8</td>\n    </tr>\n    <tr>\n      <th>345633</th>\n      <td>0</td>\n      <td>2016-04-21 08:44:56</td>\n      <td>8194</td>\n      <td>857</td>\n      <td>0.006</td>\n      <td>04-21</td>\n      <td>8</td>\n    </tr>\n    <tr>\n      <th>347035</th>\n      <td>0</td>\n      <td>2016-04-21 08:44:59</td>\n      <td>8194</td>\n      <td>31</td>\n      <td>0.001</td>\n      <td>04-21</td>\n      <td>8</td>\n    </tr>\n    <tr>\n      <th>347036</th>\n      <td>0</td>\n      <td>2016-04-21 08:45:02</td>\n      <td>8194</td>\n      <td>31</td>\n      <td>0.002</td>\n      <td>04-21</td>\n      <td>8</td>\n    </tr>\n    <tr>\n      <th>473754</th>\n      <td>0</td>\n      <td>2016-04-21 08:45:04</td>\n      <td>8194</td>\n      <td>360</td>\n      <td>0.002</td>\n      <td>04-21</td>\n      <td>8</td>\n    </tr>\n    <tr>\n      <th>347037</th>\n      <td>0</td>\n      <td>2016-04-21 08:48:22</td>\n      <td>8192</td>\n      <td>31</td>\n      <td>0.005</td>\n      <td>04-21</td>\n      <td>8</td>\n    </tr>\n    <tr>\n      <th>472514</th>\n      <td>0</td>\n      <td>2016-04-21 08:48:23</td>\n      <td>8192</td>\n      <td>612</td>\n      <td>0.002</td>\n      <td>04-21</td>\n      <td>8</td>\n    </tr>\n    <tr>\n      <th>347038</th>\n      <td>0</td>\n      <td>2016-04-21 08:48:23</td>\n      <td>8192</td>\n      <td>31</td>\n      <td>0.012</td>\n      <td>04-21</td>\n      <td>8</td>\n    </tr>\n    <tr>\n      <th>471143</th>\n      <td>0</td>\n      <td>2016-04-21 08:48:23</td>\n      <td>8192</td>\n      <td>529</td>\n      <td>0.002</td>\n      <td>04-21</td>\n      <td>8</td>\n    </tr>\n    <tr>\n      <th>390871</th>\n      <td>0</td>\n      <td>2016-04-21 08:48:23</td>\n      <td>8192</td>\n      <td>4</td>\n      <td>0.002</td>\n      <td>04-21</td>\n      <td>13</td>\n    </tr>\n    <tr>\n      <th>473755</th>\n      <td>0</td>\n      <td>2016-04-21 08:48:24</td>\n      <td>8192</td>\n      <td>360</td>\n      <td>0.001</td>\n      <td>04-21</td>\n      <td>8</td>\n    </tr>\n    <tr>\n      <th>347039</th>\n      <td>0</td>\n      <td>2016-04-21 08:48:24</td>\n      <td>8192</td>\n      <td>31</td>\n      <td>0.004</td>\n      <td>04-21</td>\n      <td>8</td>\n    </tr>\n    <tr>\n      <th>1637</th>\n      <td>0</td>\n      <td>2016-04-21 08:52:13</td>\n      <td>8192</td>\n      <td>1</td>\n      <td>0.002</td>\n      <td>04-21</td>\n      <td>4</td>\n    </tr>\n    <tr>\n      <th>471144</th>\n      <td>0</td>\n      <td>2016-04-21 08:56:19</td>\n      <td>8119</td>\n      <td>529</td>\n      <td>0.002</td>\n      <td>04-21</td>\n      <td>8</td>\n    </tr>\n    <tr>\n      <th>390872</th>\n      <td>0</td>\n      <td>2016-04-21 08:56:19</td>\n      <td>8119</td>\n      <td>4</td>\n      <td>0.002</td>\n      <td>04-21</td>\n      <td>13</td>\n    </tr>\n    <tr>\n      <th>472515</th>\n      <td>0</td>\n      <td>2016-04-21 08:56:19</td>\n      <td>8119</td>\n      <td>612</td>\n      <td>0.002</td>\n      <td>04-21</td>\n      <td>8</td>\n    </tr>\n    <tr>\n      <th>347040</th>\n      <td>0</td>\n      <td>2016-04-21 08:56:19</td>\n      <td>7714</td>\n      <td>31</td>\n      <td>0.008</td>\n      <td>04-21</td>\n      <td>8</td>\n    </tr>\n    <tr>\n      <th>...</th>\n      <td>...</td>\n      <td>...</td>\n      <td>...</td>\n      <td>...</td>\n      <td>...</td>\n      <td>...</td>\n      <td>...</td>\n    </tr>\n    <tr>\n      <th>945386</th>\n      <td>0</td>\n      <td>2016-04-26 15:28:02</td>\n      <td>8118</td>\n      <td>37</td>\n      <td>0.013</td>\n      <td>04-26</td>\n      <td>8</td>\n    </tr>\n    <tr>\n      <th>940926</th>\n      <td>0</td>\n      <td>2016-04-26 15:28:03</td>\n      <td>8118</td>\n      <td>259</td>\n      <td>0.001</td>\n      <td>04-26</td>\n      <td>8</td>\n    </tr>\n    <tr>\n      <th>347204</th>\n      <td>0</td>\n      <td>2016-04-26 15:28:03</td>\n      <td>8118</td>\n      <td>31</td>\n      <td>0.005</td>\n      <td>04-26</td>\n      <td>8</td>\n    </tr>\n    <tr>\n      <th>984195</th>\n      <td>0</td>\n      <td>2016-04-26 15:28:03</td>\n      <td>8118</td>\n      <td>199</td>\n      <td>0.002</td>\n      <td>04-26</td>\n      <td>0</td>\n    </tr>\n    <tr>\n      <th>945387</th>\n      <td>0</td>\n      <td>2016-04-26 15:28:03</td>\n      <td>8118</td>\n      <td>37</td>\n      <td>0.003</td>\n      <td>04-26</td>\n      <td>8</td>\n    </tr>\n    <tr>\n      <th>347205</th>\n      <td>0</td>\n      <td>2016-04-26 15:28:04</td>\n      <td>8118</td>\n      <td>31</td>\n      <td>0.001</td>\n      <td>04-26</td>\n      <td>8</td>\n    </tr>\n    <tr>\n      <th>945388</th>\n      <td>0</td>\n      <td>2016-04-26 15:28:04</td>\n      <td>8118</td>\n      <td>37</td>\n      <td>0.002</td>\n      <td>04-26</td>\n      <td>8</td>\n    </tr>\n    <tr>\n      <th>945389</th>\n      <td>0</td>\n      <td>2016-04-26 15:28:05</td>\n      <td>8118</td>\n      <td>37</td>\n      <td>0.003</td>\n      <td>04-26</td>\n      <td>8</td>\n    </tr>\n    <tr>\n      <th>945390</th>\n      <td>0</td>\n      <td>2016-04-26 15:28:07</td>\n      <td>8118</td>\n      <td>37</td>\n      <td>0.003</td>\n      <td>04-26</td>\n      <td>8</td>\n    </tr>\n    <tr>\n      <th>945391</th>\n      <td>0</td>\n      <td>2016-04-26 15:28:08</td>\n      <td>8118</td>\n      <td>37</td>\n      <td>0.005</td>\n      <td>04-26</td>\n      <td>8</td>\n    </tr>\n    <tr>\n      <th>945392</th>\n      <td>0</td>\n      <td>2016-04-26 15:28:09</td>\n      <td>8118</td>\n      <td>37</td>\n      <td>0.002</td>\n      <td>04-26</td>\n      <td>8</td>\n    </tr>\n    <tr>\n      <th>945393</th>\n      <td>0</td>\n      <td>2016-04-26 15:28:12</td>\n      <td>8118</td>\n      <td>37</td>\n      <td>0.002</td>\n      <td>04-26</td>\n      <td>8</td>\n    </tr>\n    <tr>\n      <th>995596</th>\n      <td>0</td>\n      <td>2016-04-26 15:28:18</td>\n      <td>8118</td>\n      <td>281</td>\n      <td>0.002</td>\n      <td>04-26</td>\n      <td>0</td>\n    </tr>\n    <tr>\n      <th>968238</th>\n      <td>0</td>\n      <td>2016-04-26 15:28:19</td>\n      <td>8118</td>\n      <td>184</td>\n      <td>0.003</td>\n      <td>04-26</td>\n      <td>8</td>\n    </tr>\n    <tr>\n      <th>945394</th>\n      <td>0</td>\n      <td>2016-04-26 15:28:19</td>\n      <td>8118</td>\n      <td>37</td>\n      <td>0.002</td>\n      <td>04-26</td>\n      <td>8</td>\n    </tr>\n    <tr>\n      <th>940927</th>\n      <td>0</td>\n      <td>2016-04-26 15:28:29</td>\n      <td>8118</td>\n      <td>259</td>\n      <td>0.005</td>\n      <td>04-26</td>\n      <td>8</td>\n    </tr>\n    <tr>\n      <th>390952</th>\n      <td>0</td>\n      <td>2016-04-26 15:28:38</td>\n      <td>8118</td>\n      <td>4</td>\n      <td>0.003</td>\n      <td>04-26</td>\n      <td>13</td>\n    </tr>\n    <tr>\n      <th>480442</th>\n      <td>0</td>\n      <td>2016-04-26 15:28:48</td>\n      <td>8118</td>\n      <td>361</td>\n      <td>0.001</td>\n      <td>04-26</td>\n      <td>15</td>\n    </tr>\n    <tr>\n      <th>945395</th>\n      <td>0</td>\n      <td>2016-04-26 15:29:09</td>\n      <td>8118</td>\n      <td>37</td>\n      <td>0.001</td>\n      <td>04-26</td>\n      <td>8</td>\n    </tr>\n    <tr>\n      <th>945396</th>\n      <td>0</td>\n      <td>2016-04-26 15:29:42</td>\n      <td>8118</td>\n      <td>37</td>\n      <td>0.001</td>\n      <td>04-26</td>\n      <td>8</td>\n    </tr>\n    <tr>\n      <th>480443</th>\n      <td>0</td>\n      <td>2016-04-26 15:29:48</td>\n      <td>8118</td>\n      <td>361</td>\n      <td>0.012</td>\n      <td>04-26</td>\n      <td>15</td>\n    </tr>\n    <tr>\n      <th>480444</th>\n      <td>0</td>\n      <td>2016-04-26 15:29:49</td>\n      <td>8118</td>\n      <td>361</td>\n      <td>0.003</td>\n      <td>04-26</td>\n      <td>15</td>\n    </tr>\n    <tr>\n      <th>945397</th>\n      <td>0</td>\n      <td>2016-04-26 15:29:59</td>\n      <td>8118</td>\n      <td>37</td>\n      <td>0.001</td>\n      <td>04-26</td>\n      <td>8</td>\n    </tr>\n    <tr>\n      <th>945398</th>\n      <td>0</td>\n      <td>2016-04-26 15:30:28</td>\n      <td>8194</td>\n      <td>37</td>\n      <td>0.001</td>\n      <td>04-26</td>\n      <td>8</td>\n    </tr>\n    <tr>\n      <th>945399</th>\n      <td>0</td>\n      <td>2016-04-26 15:30:49</td>\n      <td>8194</td>\n      <td>37</td>\n      <td>0.006</td>\n      <td>04-26</td>\n      <td>8</td>\n    </tr>\n    <tr>\n      <th>480445</th>\n      <td>0</td>\n      <td>2016-04-26 15:33:08</td>\n      <td>8194</td>\n      <td>361</td>\n      <td>0.011</td>\n      <td>04-26</td>\n      <td>15</td>\n    </tr>\n    <tr>\n      <th>480446</th>\n      <td>0</td>\n      <td>2016-04-26 15:33:09</td>\n      <td>8194</td>\n      <td>361</td>\n      <td>0.001</td>\n      <td>04-26</td>\n      <td>15</td>\n    </tr>\n    <tr>\n      <th>480447</th>\n      <td>0</td>\n      <td>2016-04-26 15:33:10</td>\n      <td>8194</td>\n      <td>361</td>\n      <td>0.010</td>\n      <td>04-26</td>\n      <td>15</td>\n    </tr>\n    <tr>\n      <th>480448</th>\n      <td>0</td>\n      <td>2016-04-26 15:33:11</td>\n      <td>8194</td>\n      <td>361</td>\n      <td>0.003</td>\n      <td>04-26</td>\n      <td>15</td>\n    </tr>\n    <tr>\n      <th>1021936</th>\n      <td>0</td>\n      <td>2016-04-26 15:34:17</td>\n      <td>8194</td>\n      <td>1549</td>\n      <td>0.001</td>\n      <td>04-26</td>\n      <td>0</td>\n    </tr>\n  </tbody>\n</table>\n<p>3911 rows × 7 columns</p>\n</div>"
     },
     "metadata": {},
     "execution_count": 6
    },
    {
     "output_type": "stream",
     "name": "stdout",
     "text": [
      "time: 485 ms\n"
     ]
    }
   ],
   "source": [
    "user_0_data = cleaned_df_cat[cleaned_df_cat[\"uid\"] == str(0)]\n",
    "user_0_data = user_0_data.sort_values(by = \"datetime\")\n",
    "user_0_data"
   ]
  },
  {
   "cell_type": "code",
   "execution_count": 7,
   "metadata": {},
   "outputs": [
    {
     "output_type": "execute_result",
     "data": {
      "text/plain": [
       "       uid            datetime   loc app_id  traffic    day cat_id\n",
       "0        0 2016-04-21 08:42:21  8194    342    0.030  04-21      0\n",
       "1636     0 2016-04-21 08:44:12  8194      1    0.008  04-21      4\n",
       "345626   0 2016-04-21 08:44:47  8194    857    0.027  04-21      8\n",
       "345627   0 2016-04-21 08:44:48  8194    857    0.002  04-21      8\n",
       "472513   0 2016-04-21 08:44:49  8194    612    0.001  04-21      8\n",
       "390870   0 2016-04-21 08:44:49  8194      4    0.002  04-21     13\n",
       "347033   0 2016-04-21 08:44:49  8194     31    0.009  04-21      8\n",
       "471142   0 2016-04-21 08:44:49  8194    529    0.002  04-21      8\n",
       "345628   0 2016-04-21 08:44:49  8194    857    0.579  04-21      8\n",
       "347034   0 2016-04-21 08:44:50  8194     31    0.307  04-21      8\n",
       "345629   0 2016-04-21 08:44:50  8194    857    0.001  04-21      8\n",
       "345630   0 2016-04-21 08:44:51  8194    857    0.002  04-21      8\n",
       "345631   0 2016-04-21 08:44:52  8194    857    0.020  04-21      8\n",
       "345632   0 2016-04-21 08:44:55  8194    857    0.010  04-21      8\n",
       "345633   0 2016-04-21 08:44:56  8194    857    0.006  04-21      8\n",
       "347035   0 2016-04-21 08:44:59  8194     31    0.001  04-21      8\n",
       "347036   0 2016-04-21 08:45:02  8194     31    0.002  04-21      8\n",
       "473754   0 2016-04-21 08:45:04  8194    360    0.002  04-21      8\n",
       "347037   0 2016-04-21 08:48:22  8192     31    0.005  04-21      8\n",
       "472514   0 2016-04-21 08:48:23  8192    612    0.002  04-21      8\n",
       "347038   0 2016-04-21 08:48:23  8192     31    0.012  04-21      8\n",
       "471143   0 2016-04-21 08:48:23  8192    529    0.002  04-21      8\n",
       "390871   0 2016-04-21 08:48:23  8192      4    0.002  04-21     13\n",
       "473755   0 2016-04-21 08:48:24  8192    360    0.001  04-21      8\n",
       "347039   0 2016-04-21 08:48:24  8192     31    0.004  04-21      8\n",
       "1637     0 2016-04-21 08:52:13  8192      1    0.002  04-21      4\n",
       "471144   0 2016-04-21 08:56:19  8119    529    0.002  04-21      8\n",
       "390872   0 2016-04-21 08:56:19  8119      4    0.002  04-21     13\n",
       "472515   0 2016-04-21 08:56:19  8119    612    0.002  04-21      8\n",
       "347040   0 2016-04-21 08:56:19  7714     31    0.008  04-21      8\n",
       "...     ..                 ...   ...    ...      ...    ...    ...\n",
       "511095   0 2016-04-25 16:02:04  7210      5    0.001  04-25      4\n",
       "743005   0 2016-04-25 17:33:14  7210     70    0.001  04-25      5\n",
       "743006   0 2016-04-25 17:33:15  7210     70    0.002  04-25      5\n",
       "480349   0 2016-04-25 18:29:16  7210    361    0.002  04-25     15\n",
       "480350   0 2016-04-25 18:29:17  7210    361    0.015  04-25     15\n",
       "2015     0 2016-04-25 18:29:25  7210      1    0.072  04-25      4\n",
       "2016     0 2016-04-25 18:30:25  7210      1    0.002  04-25      4\n",
       "480351   0 2016-04-25 18:33:24  7210    361    0.001  04-25     15\n",
       "480352   0 2016-04-25 18:33:25  7210    361    0.000  04-25     15\n",
       "2017     0 2016-04-25 18:35:29  7129      1    0.001  04-25      4\n",
       "480353   0 2016-04-25 18:35:53  7129    361    0.005  04-25     15\n",
       "480354   0 2016-04-25 18:39:41  6708    361    0.003  04-25     15\n",
       "480355   0 2016-04-25 18:43:13  6708    361    0.002  04-25     15\n",
       "480356   0 2016-04-25 18:43:14  6708    361    0.001  04-25     15\n",
       "390944   0 2016-04-25 18:43:21  6708      4    0.007  04-25     13\n",
       "480357   0 2016-04-25 18:43:31  6708    361    0.002  04-25     15\n",
       "480358   0 2016-04-25 18:46:02  6708    361    0.005  04-25     15\n",
       "480359   0 2016-04-25 18:46:03  6708    361    0.002  04-25     15\n",
       "999313   0 2016-04-25 18:46:08  6708     41    0.014  04-25     13\n",
       "2018     0 2016-04-25 18:47:28  6708      1    0.005  04-25      4\n",
       "2019     0 2016-04-25 18:47:46  6708      1    0.000  04-25      4\n",
       "2020     0 2016-04-25 19:11:17  2160      1    0.004  04-25      4\n",
       "480360   0 2016-04-25 19:42:31  8118    361    0.001  04-25     15\n",
       "390945   0 2016-04-25 19:42:31  8118      4    0.001  04-25     13\n",
       "480361   0 2016-04-25 19:42:32  8118    361    0.005  04-25     15\n",
       "480362   0 2016-04-25 19:42:41  8118    361    0.002  04-25     15\n",
       "480363   0 2016-04-25 19:42:46  8118    361    0.002  04-25     15\n",
       "480364   0 2016-04-25 19:42:53  8118    361    0.002  04-25     15\n",
       "480365   0 2016-04-25 19:42:56  8118    361    0.006  04-25     15\n",
       "480366   0 2016-04-25 19:42:57  8118    361    0.003  04-25     15\n",
       "\n",
       "[2600 rows x 7 columns]"
      ],
      "text/html": "<div>\n<style scoped>\n    .dataframe tbody tr th:only-of-type {\n        vertical-align: middle;\n    }\n\n    .dataframe tbody tr th {\n        vertical-align: top;\n    }\n\n    .dataframe thead th {\n        text-align: right;\n    }\n</style>\n<table border=\"1\" class=\"dataframe\">\n  <thead>\n    <tr style=\"text-align: right;\">\n      <th></th>\n      <th>uid</th>\n      <th>datetime</th>\n      <th>loc</th>\n      <th>app_id</th>\n      <th>traffic</th>\n      <th>day</th>\n      <th>cat_id</th>\n    </tr>\n  </thead>\n  <tbody>\n    <tr>\n      <th>0</th>\n      <td>0</td>\n      <td>2016-04-21 08:42:21</td>\n      <td>8194</td>\n      <td>342</td>\n      <td>0.030</td>\n      <td>04-21</td>\n      <td>0</td>\n    </tr>\n    <tr>\n      <th>1636</th>\n      <td>0</td>\n      <td>2016-04-21 08:44:12</td>\n      <td>8194</td>\n      <td>1</td>\n      <td>0.008</td>\n      <td>04-21</td>\n      <td>4</td>\n    </tr>\n    <tr>\n      <th>345626</th>\n      <td>0</td>\n      <td>2016-04-21 08:44:47</td>\n      <td>8194</td>\n      <td>857</td>\n      <td>0.027</td>\n      <td>04-21</td>\n      <td>8</td>\n    </tr>\n    <tr>\n      <th>345627</th>\n      <td>0</td>\n      <td>2016-04-21 08:44:48</td>\n      <td>8194</td>\n      <td>857</td>\n      <td>0.002</td>\n      <td>04-21</td>\n      <td>8</td>\n    </tr>\n    <tr>\n      <th>472513</th>\n      <td>0</td>\n      <td>2016-04-21 08:44:49</td>\n      <td>8194</td>\n      <td>612</td>\n      <td>0.001</td>\n      <td>04-21</td>\n      <td>8</td>\n    </tr>\n    <tr>\n      <th>390870</th>\n      <td>0</td>\n      <td>2016-04-21 08:44:49</td>\n      <td>8194</td>\n      <td>4</td>\n      <td>0.002</td>\n      <td>04-21</td>\n      <td>13</td>\n    </tr>\n    <tr>\n      <th>347033</th>\n      <td>0</td>\n      <td>2016-04-21 08:44:49</td>\n      <td>8194</td>\n      <td>31</td>\n      <td>0.009</td>\n      <td>04-21</td>\n      <td>8</td>\n    </tr>\n    <tr>\n      <th>471142</th>\n      <td>0</td>\n      <td>2016-04-21 08:44:49</td>\n      <td>8194</td>\n      <td>529</td>\n      <td>0.002</td>\n      <td>04-21</td>\n      <td>8</td>\n    </tr>\n    <tr>\n      <th>345628</th>\n      <td>0</td>\n      <td>2016-04-21 08:44:49</td>\n      <td>8194</td>\n      <td>857</td>\n      <td>0.579</td>\n      <td>04-21</td>\n      <td>8</td>\n    </tr>\n    <tr>\n      <th>347034</th>\n      <td>0</td>\n      <td>2016-04-21 08:44:50</td>\n      <td>8194</td>\n      <td>31</td>\n      <td>0.307</td>\n      <td>04-21</td>\n      <td>8</td>\n    </tr>\n    <tr>\n      <th>345629</th>\n      <td>0</td>\n      <td>2016-04-21 08:44:50</td>\n      <td>8194</td>\n      <td>857</td>\n      <td>0.001</td>\n      <td>04-21</td>\n      <td>8</td>\n    </tr>\n    <tr>\n      <th>345630</th>\n      <td>0</td>\n      <td>2016-04-21 08:44:51</td>\n      <td>8194</td>\n      <td>857</td>\n      <td>0.002</td>\n      <td>04-21</td>\n      <td>8</td>\n    </tr>\n    <tr>\n      <th>345631</th>\n      <td>0</td>\n      <td>2016-04-21 08:44:52</td>\n      <td>8194</td>\n      <td>857</td>\n      <td>0.020</td>\n      <td>04-21</td>\n      <td>8</td>\n    </tr>\n    <tr>\n      <th>345632</th>\n      <td>0</td>\n      <td>2016-04-21 08:44:55</td>\n      <td>8194</td>\n      <td>857</td>\n      <td>0.010</td>\n      <td>04-21</td>\n      <td>8</td>\n    </tr>\n    <tr>\n      <th>345633</th>\n      <td>0</td>\n      <td>2016-04-21 08:44:56</td>\n      <td>8194</td>\n      <td>857</td>\n      <td>0.006</td>\n      <td>04-21</td>\n      <td>8</td>\n    </tr>\n    <tr>\n      <th>347035</th>\n      <td>0</td>\n      <td>2016-04-21 08:44:59</td>\n      <td>8194</td>\n      <td>31</td>\n      <td>0.001</td>\n      <td>04-21</td>\n      <td>8</td>\n    </tr>\n    <tr>\n      <th>347036</th>\n      <td>0</td>\n      <td>2016-04-21 08:45:02</td>\n      <td>8194</td>\n      <td>31</td>\n      <td>0.002</td>\n      <td>04-21</td>\n      <td>8</td>\n    </tr>\n    <tr>\n      <th>473754</th>\n      <td>0</td>\n      <td>2016-04-21 08:45:04</td>\n      <td>8194</td>\n      <td>360</td>\n      <td>0.002</td>\n      <td>04-21</td>\n      <td>8</td>\n    </tr>\n    <tr>\n      <th>347037</th>\n      <td>0</td>\n      <td>2016-04-21 08:48:22</td>\n      <td>8192</td>\n      <td>31</td>\n      <td>0.005</td>\n      <td>04-21</td>\n      <td>8</td>\n    </tr>\n    <tr>\n      <th>472514</th>\n      <td>0</td>\n      <td>2016-04-21 08:48:23</td>\n      <td>8192</td>\n      <td>612</td>\n      <td>0.002</td>\n      <td>04-21</td>\n      <td>8</td>\n    </tr>\n    <tr>\n      <th>347038</th>\n      <td>0</td>\n      <td>2016-04-21 08:48:23</td>\n      <td>8192</td>\n      <td>31</td>\n      <td>0.012</td>\n      <td>04-21</td>\n      <td>8</td>\n    </tr>\n    <tr>\n      <th>471143</th>\n      <td>0</td>\n      <td>2016-04-21 08:48:23</td>\n      <td>8192</td>\n      <td>529</td>\n      <td>0.002</td>\n      <td>04-21</td>\n      <td>8</td>\n    </tr>\n    <tr>\n      <th>390871</th>\n      <td>0</td>\n      <td>2016-04-21 08:48:23</td>\n      <td>8192</td>\n      <td>4</td>\n      <td>0.002</td>\n      <td>04-21</td>\n      <td>13</td>\n    </tr>\n    <tr>\n      <th>473755</th>\n      <td>0</td>\n      <td>2016-04-21 08:48:24</td>\n      <td>8192</td>\n      <td>360</td>\n      <td>0.001</td>\n      <td>04-21</td>\n      <td>8</td>\n    </tr>\n    <tr>\n      <th>347039</th>\n      <td>0</td>\n      <td>2016-04-21 08:48:24</td>\n      <td>8192</td>\n      <td>31</td>\n      <td>0.004</td>\n      <td>04-21</td>\n      <td>8</td>\n    </tr>\n    <tr>\n      <th>1637</th>\n      <td>0</td>\n      <td>2016-04-21 08:52:13</td>\n      <td>8192</td>\n      <td>1</td>\n      <td>0.002</td>\n      <td>04-21</td>\n      <td>4</td>\n    </tr>\n    <tr>\n      <th>471144</th>\n      <td>0</td>\n      <td>2016-04-21 08:56:19</td>\n      <td>8119</td>\n      <td>529</td>\n      <td>0.002</td>\n      <td>04-21</td>\n      <td>8</td>\n    </tr>\n    <tr>\n      <th>390872</th>\n      <td>0</td>\n      <td>2016-04-21 08:56:19</td>\n      <td>8119</td>\n      <td>4</td>\n      <td>0.002</td>\n      <td>04-21</td>\n      <td>13</td>\n    </tr>\n    <tr>\n      <th>472515</th>\n      <td>0</td>\n      <td>2016-04-21 08:56:19</td>\n      <td>8119</td>\n      <td>612</td>\n      <td>0.002</td>\n      <td>04-21</td>\n      <td>8</td>\n    </tr>\n    <tr>\n      <th>347040</th>\n      <td>0</td>\n      <td>2016-04-21 08:56:19</td>\n      <td>7714</td>\n      <td>31</td>\n      <td>0.008</td>\n      <td>04-21</td>\n      <td>8</td>\n    </tr>\n    <tr>\n      <th>...</th>\n      <td>...</td>\n      <td>...</td>\n      <td>...</td>\n      <td>...</td>\n      <td>...</td>\n      <td>...</td>\n      <td>...</td>\n    </tr>\n    <tr>\n      <th>511095</th>\n      <td>0</td>\n      <td>2016-04-25 16:02:04</td>\n      <td>7210</td>\n      <td>5</td>\n      <td>0.001</td>\n      <td>04-25</td>\n      <td>4</td>\n    </tr>\n    <tr>\n      <th>743005</th>\n      <td>0</td>\n      <td>2016-04-25 17:33:14</td>\n      <td>7210</td>\n      <td>70</td>\n      <td>0.001</td>\n      <td>04-25</td>\n      <td>5</td>\n    </tr>\n    <tr>\n      <th>743006</th>\n      <td>0</td>\n      <td>2016-04-25 17:33:15</td>\n      <td>7210</td>\n      <td>70</td>\n      <td>0.002</td>\n      <td>04-25</td>\n      <td>5</td>\n    </tr>\n    <tr>\n      <th>480349</th>\n      <td>0</td>\n      <td>2016-04-25 18:29:16</td>\n      <td>7210</td>\n      <td>361</td>\n      <td>0.002</td>\n      <td>04-25</td>\n      <td>15</td>\n    </tr>\n    <tr>\n      <th>480350</th>\n      <td>0</td>\n      <td>2016-04-25 18:29:17</td>\n      <td>7210</td>\n      <td>361</td>\n      <td>0.015</td>\n      <td>04-25</td>\n      <td>15</td>\n    </tr>\n    <tr>\n      <th>2015</th>\n      <td>0</td>\n      <td>2016-04-25 18:29:25</td>\n      <td>7210</td>\n      <td>1</td>\n      <td>0.072</td>\n      <td>04-25</td>\n      <td>4</td>\n    </tr>\n    <tr>\n      <th>2016</th>\n      <td>0</td>\n      <td>2016-04-25 18:30:25</td>\n      <td>7210</td>\n      <td>1</td>\n      <td>0.002</td>\n      <td>04-25</td>\n      <td>4</td>\n    </tr>\n    <tr>\n      <th>480351</th>\n      <td>0</td>\n      <td>2016-04-25 18:33:24</td>\n      <td>7210</td>\n      <td>361</td>\n      <td>0.001</td>\n      <td>04-25</td>\n      <td>15</td>\n    </tr>\n    <tr>\n      <th>480352</th>\n      <td>0</td>\n      <td>2016-04-25 18:33:25</td>\n      <td>7210</td>\n      <td>361</td>\n      <td>0.000</td>\n      <td>04-25</td>\n      <td>15</td>\n    </tr>\n    <tr>\n      <th>2017</th>\n      <td>0</td>\n      <td>2016-04-25 18:35:29</td>\n      <td>7129</td>\n      <td>1</td>\n      <td>0.001</td>\n      <td>04-25</td>\n      <td>4</td>\n    </tr>\n    <tr>\n      <th>480353</th>\n      <td>0</td>\n      <td>2016-04-25 18:35:53</td>\n      <td>7129</td>\n      <td>361</td>\n      <td>0.005</td>\n      <td>04-25</td>\n      <td>15</td>\n    </tr>\n    <tr>\n      <th>480354</th>\n      <td>0</td>\n      <td>2016-04-25 18:39:41</td>\n      <td>6708</td>\n      <td>361</td>\n      <td>0.003</td>\n      <td>04-25</td>\n      <td>15</td>\n    </tr>\n    <tr>\n      <th>480355</th>\n      <td>0</td>\n      <td>2016-04-25 18:43:13</td>\n      <td>6708</td>\n      <td>361</td>\n      <td>0.002</td>\n      <td>04-25</td>\n      <td>15</td>\n    </tr>\n    <tr>\n      <th>480356</th>\n      <td>0</td>\n      <td>2016-04-25 18:43:14</td>\n      <td>6708</td>\n      <td>361</td>\n      <td>0.001</td>\n      <td>04-25</td>\n      <td>15</td>\n    </tr>\n    <tr>\n      <th>390944</th>\n      <td>0</td>\n      <td>2016-04-25 18:43:21</td>\n      <td>6708</td>\n      <td>4</td>\n      <td>0.007</td>\n      <td>04-25</td>\n      <td>13</td>\n    </tr>\n    <tr>\n      <th>480357</th>\n      <td>0</td>\n      <td>2016-04-25 18:43:31</td>\n      <td>6708</td>\n      <td>361</td>\n      <td>0.002</td>\n      <td>04-25</td>\n      <td>15</td>\n    </tr>\n    <tr>\n      <th>480358</th>\n      <td>0</td>\n      <td>2016-04-25 18:46:02</td>\n      <td>6708</td>\n      <td>361</td>\n      <td>0.005</td>\n      <td>04-25</td>\n      <td>15</td>\n    </tr>\n    <tr>\n      <th>480359</th>\n      <td>0</td>\n      <td>2016-04-25 18:46:03</td>\n      <td>6708</td>\n      <td>361</td>\n      <td>0.002</td>\n      <td>04-25</td>\n      <td>15</td>\n    </tr>\n    <tr>\n      <th>999313</th>\n      <td>0</td>\n      <td>2016-04-25 18:46:08</td>\n      <td>6708</td>\n      <td>41</td>\n      <td>0.014</td>\n      <td>04-25</td>\n      <td>13</td>\n    </tr>\n    <tr>\n      <th>2018</th>\n      <td>0</td>\n      <td>2016-04-25 18:47:28</td>\n      <td>6708</td>\n      <td>1</td>\n      <td>0.005</td>\n      <td>04-25</td>\n      <td>4</td>\n    </tr>\n    <tr>\n      <th>2019</th>\n      <td>0</td>\n      <td>2016-04-25 18:47:46</td>\n      <td>6708</td>\n      <td>1</td>\n      <td>0.000</td>\n      <td>04-25</td>\n      <td>4</td>\n    </tr>\n    <tr>\n      <th>2020</th>\n      <td>0</td>\n      <td>2016-04-25 19:11:17</td>\n      <td>2160</td>\n      <td>1</td>\n      <td>0.004</td>\n      <td>04-25</td>\n      <td>4</td>\n    </tr>\n    <tr>\n      <th>480360</th>\n      <td>0</td>\n      <td>2016-04-25 19:42:31</td>\n      <td>8118</td>\n      <td>361</td>\n      <td>0.001</td>\n      <td>04-25</td>\n      <td>15</td>\n    </tr>\n    <tr>\n      <th>390945</th>\n      <td>0</td>\n      <td>2016-04-25 19:42:31</td>\n      <td>8118</td>\n      <td>4</td>\n      <td>0.001</td>\n      <td>04-25</td>\n      <td>13</td>\n    </tr>\n    <tr>\n      <th>480361</th>\n      <td>0</td>\n      <td>2016-04-25 19:42:32</td>\n      <td>8118</td>\n      <td>361</td>\n      <td>0.005</td>\n      <td>04-25</td>\n      <td>15</td>\n    </tr>\n    <tr>\n      <th>480362</th>\n      <td>0</td>\n      <td>2016-04-25 19:42:41</td>\n      <td>8118</td>\n      <td>361</td>\n      <td>0.002</td>\n      <td>04-25</td>\n      <td>15</td>\n    </tr>\n    <tr>\n      <th>480363</th>\n      <td>0</td>\n      <td>2016-04-25 19:42:46</td>\n      <td>8118</td>\n      <td>361</td>\n      <td>0.002</td>\n      <td>04-25</td>\n      <td>15</td>\n    </tr>\n    <tr>\n      <th>480364</th>\n      <td>0</td>\n      <td>2016-04-25 19:42:53</td>\n      <td>8118</td>\n      <td>361</td>\n      <td>0.002</td>\n      <td>04-25</td>\n      <td>15</td>\n    </tr>\n    <tr>\n      <th>480365</th>\n      <td>0</td>\n      <td>2016-04-25 19:42:56</td>\n      <td>8118</td>\n      <td>361</td>\n      <td>0.006</td>\n      <td>04-25</td>\n      <td>15</td>\n    </tr>\n    <tr>\n      <th>480366</th>\n      <td>0</td>\n      <td>2016-04-25 19:42:57</td>\n      <td>8118</td>\n      <td>361</td>\n      <td>0.003</td>\n      <td>04-25</td>\n      <td>15</td>\n    </tr>\n  </tbody>\n</table>\n<p>2600 rows × 7 columns</p>\n</div>"
     },
     "metadata": {},
     "execution_count": 7
    },
    {
     "output_type": "stream",
     "name": "stdout",
     "text": [
      "time: 15 ms\n"
     ]
    }
   ],
   "source": [
    "user_0_data_first3days = user_0_data[(user_0_data['day'] == '04-21') |(user_0_data['day'] == '04-22')| (user_0_data['day'] == '04-25')]\n",
    "user_0_data_first3days"
   ]
  },
  {
   "cell_type": "code",
   "execution_count": 8,
   "metadata": {},
   "outputs": [
    {
     "output_type": "execute_result",
     "data": {
      "text/plain": [
       "     state_code loc_id cat_id  count\n",
       "0             0   1361     13      4\n",
       "1             1   1361     15     13\n",
       "2             2   1611      0      2\n",
       "3             3   1611     13      5\n",
       "4             4   1611     15      1\n",
       "5             5   1611      4      1\n",
       "6             6   1736     15      8\n",
       "7             7   1736      4      2\n",
       "8             8   1758      0      4\n",
       "9             9   1758     13      3\n",
       "10           10   1758     15      7\n",
       "11           11   1758      4     20\n",
       "12           12   1758      8     26\n",
       "13           13   1763     15      1\n",
       "14           14   1763     17      6\n",
       "15           15   1765     13      3\n",
       "16           16   1765     15     14\n",
       "17           17   1765      4      2\n",
       "18           18   1856     13      1\n",
       "19           19   1856     15      1\n",
       "20           20   1856      4     81\n",
       "21           21   1883      4      6\n",
       "22           22   1899     13      5\n",
       "23           23   1899      8     15\n",
       "24           24   1906      8      2\n",
       "25           25   1959      0      1\n",
       "26           26   1959     13      4\n",
       "27           27   1959     15     17\n",
       "28           28   1959      2      9\n",
       "29           29   1959      4      8\n",
       "..          ...    ...    ...    ...\n",
       "130         130   7549      8     93\n",
       "131         131   7549      9     90\n",
       "132         132   7704      0      1\n",
       "133         133   7704     15      8\n",
       "134         134   7704     17      1\n",
       "135         135   7704      4      2\n",
       "136         136   7714     13      1\n",
       "137         137   7714     15      3\n",
       "138         138   7714      8     10\n",
       "139         139   8118     13      1\n",
       "140         140   8118     15      7\n",
       "141         141   8119     13      1\n",
       "142         142   8119      8      4\n",
       "143         143   8120      0     34\n",
       "144         144   8120     13      7\n",
       "145         145   8120     15     13\n",
       "146         146   8120      4     33\n",
       "147         147   8120      8     27\n",
       "148         148   8120      9     57\n",
       "149         149   8192     13      1\n",
       "150         150   8192      4      3\n",
       "151         151   8192      8      6\n",
       "152         152   8194      0     13\n",
       "153         153   8194     13     41\n",
       "154         154   8194     15     13\n",
       "155         155   8194     17      1\n",
       "156         156   8194      4      4\n",
       "157         157   8194      5      3\n",
       "158         158   8194      8     59\n",
       "159         159   8194      9      3\n",
       "\n",
       "[160 rows x 4 columns]"
      ],
      "text/html": "<div>\n<style scoped>\n    .dataframe tbody tr th:only-of-type {\n        vertical-align: middle;\n    }\n\n    .dataframe tbody tr th {\n        vertical-align: top;\n    }\n\n    .dataframe thead th {\n        text-align: right;\n    }\n</style>\n<table border=\"1\" class=\"dataframe\">\n  <thead>\n    <tr style=\"text-align: right;\">\n      <th></th>\n      <th>state_code</th>\n      <th>loc_id</th>\n      <th>cat_id</th>\n      <th>count</th>\n    </tr>\n  </thead>\n  <tbody>\n    <tr>\n      <th>0</th>\n      <td>0</td>\n      <td>1361</td>\n      <td>13</td>\n      <td>4</td>\n    </tr>\n    <tr>\n      <th>1</th>\n      <td>1</td>\n      <td>1361</td>\n      <td>15</td>\n      <td>13</td>\n    </tr>\n    <tr>\n      <th>2</th>\n      <td>2</td>\n      <td>1611</td>\n      <td>0</td>\n      <td>2</td>\n    </tr>\n    <tr>\n      <th>3</th>\n      <td>3</td>\n      <td>1611</td>\n      <td>13</td>\n      <td>5</td>\n    </tr>\n    <tr>\n      <th>4</th>\n      <td>4</td>\n      <td>1611</td>\n      <td>15</td>\n      <td>1</td>\n    </tr>\n    <tr>\n      <th>5</th>\n      <td>5</td>\n      <td>1611</td>\n      <td>4</td>\n      <td>1</td>\n    </tr>\n    <tr>\n      <th>6</th>\n      <td>6</td>\n      <td>1736</td>\n      <td>15</td>\n      <td>8</td>\n    </tr>\n    <tr>\n      <th>7</th>\n      <td>7</td>\n      <td>1736</td>\n      <td>4</td>\n      <td>2</td>\n    </tr>\n    <tr>\n      <th>8</th>\n      <td>8</td>\n      <td>1758</td>\n      <td>0</td>\n      <td>4</td>\n    </tr>\n    <tr>\n      <th>9</th>\n      <td>9</td>\n      <td>1758</td>\n      <td>13</td>\n      <td>3</td>\n    </tr>\n    <tr>\n      <th>10</th>\n      <td>10</td>\n      <td>1758</td>\n      <td>15</td>\n      <td>7</td>\n    </tr>\n    <tr>\n      <th>11</th>\n      <td>11</td>\n      <td>1758</td>\n      <td>4</td>\n      <td>20</td>\n    </tr>\n    <tr>\n      <th>12</th>\n      <td>12</td>\n      <td>1758</td>\n      <td>8</td>\n      <td>26</td>\n    </tr>\n    <tr>\n      <th>13</th>\n      <td>13</td>\n      <td>1763</td>\n      <td>15</td>\n      <td>1</td>\n    </tr>\n    <tr>\n      <th>14</th>\n      <td>14</td>\n      <td>1763</td>\n      <td>17</td>\n      <td>6</td>\n    </tr>\n    <tr>\n      <th>15</th>\n      <td>15</td>\n      <td>1765</td>\n      <td>13</td>\n      <td>3</td>\n    </tr>\n    <tr>\n      <th>16</th>\n      <td>16</td>\n      <td>1765</td>\n      <td>15</td>\n      <td>14</td>\n    </tr>\n    <tr>\n      <th>17</th>\n      <td>17</td>\n      <td>1765</td>\n      <td>4</td>\n      <td>2</td>\n    </tr>\n    <tr>\n      <th>18</th>\n      <td>18</td>\n      <td>1856</td>\n      <td>13</td>\n      <td>1</td>\n    </tr>\n    <tr>\n      <th>19</th>\n      <td>19</td>\n      <td>1856</td>\n      <td>15</td>\n      <td>1</td>\n    </tr>\n    <tr>\n      <th>20</th>\n      <td>20</td>\n      <td>1856</td>\n      <td>4</td>\n      <td>81</td>\n    </tr>\n    <tr>\n      <th>21</th>\n      <td>21</td>\n      <td>1883</td>\n      <td>4</td>\n      <td>6</td>\n    </tr>\n    <tr>\n      <th>22</th>\n      <td>22</td>\n      <td>1899</td>\n      <td>13</td>\n      <td>5</td>\n    </tr>\n    <tr>\n      <th>23</th>\n      <td>23</td>\n      <td>1899</td>\n      <td>8</td>\n      <td>15</td>\n    </tr>\n    <tr>\n      <th>24</th>\n      <td>24</td>\n      <td>1906</td>\n      <td>8</td>\n      <td>2</td>\n    </tr>\n    <tr>\n      <th>25</th>\n      <td>25</td>\n      <td>1959</td>\n      <td>0</td>\n      <td>1</td>\n    </tr>\n    <tr>\n      <th>26</th>\n      <td>26</td>\n      <td>1959</td>\n      <td>13</td>\n      <td>4</td>\n    </tr>\n    <tr>\n      <th>27</th>\n      <td>27</td>\n      <td>1959</td>\n      <td>15</td>\n      <td>17</td>\n    </tr>\n    <tr>\n      <th>28</th>\n      <td>28</td>\n      <td>1959</td>\n      <td>2</td>\n      <td>9</td>\n    </tr>\n    <tr>\n      <th>29</th>\n      <td>29</td>\n      <td>1959</td>\n      <td>4</td>\n      <td>8</td>\n    </tr>\n    <tr>\n      <th>...</th>\n      <td>...</td>\n      <td>...</td>\n      <td>...</td>\n      <td>...</td>\n    </tr>\n    <tr>\n      <th>130</th>\n      <td>130</td>\n      <td>7549</td>\n      <td>8</td>\n      <td>93</td>\n    </tr>\n    <tr>\n      <th>131</th>\n      <td>131</td>\n      <td>7549</td>\n      <td>9</td>\n      <td>90</td>\n    </tr>\n    <tr>\n      <th>132</th>\n      <td>132</td>\n      <td>7704</td>\n      <td>0</td>\n      <td>1</td>\n    </tr>\n    <tr>\n      <th>133</th>\n      <td>133</td>\n      <td>7704</td>\n      <td>15</td>\n      <td>8</td>\n    </tr>\n    <tr>\n      <th>134</th>\n      <td>134</td>\n      <td>7704</td>\n      <td>17</td>\n      <td>1</td>\n    </tr>\n    <tr>\n      <th>135</th>\n      <td>135</td>\n      <td>7704</td>\n      <td>4</td>\n      <td>2</td>\n    </tr>\n    <tr>\n      <th>136</th>\n      <td>136</td>\n      <td>7714</td>\n      <td>13</td>\n      <td>1</td>\n    </tr>\n    <tr>\n      <th>137</th>\n      <td>137</td>\n      <td>7714</td>\n      <td>15</td>\n      <td>3</td>\n    </tr>\n    <tr>\n      <th>138</th>\n      <td>138</td>\n      <td>7714</td>\n      <td>8</td>\n      <td>10</td>\n    </tr>\n    <tr>\n      <th>139</th>\n      <td>139</td>\n      <td>8118</td>\n      <td>13</td>\n      <td>1</td>\n    </tr>\n    <tr>\n      <th>140</th>\n      <td>140</td>\n      <td>8118</td>\n      <td>15</td>\n      <td>7</td>\n    </tr>\n    <tr>\n      <th>141</th>\n      <td>141</td>\n      <td>8119</td>\n      <td>13</td>\n      <td>1</td>\n    </tr>\n    <tr>\n      <th>142</th>\n      <td>142</td>\n      <td>8119</td>\n      <td>8</td>\n      <td>4</td>\n    </tr>\n    <tr>\n      <th>143</th>\n      <td>143</td>\n      <td>8120</td>\n      <td>0</td>\n      <td>34</td>\n    </tr>\n    <tr>\n      <th>144</th>\n      <td>144</td>\n      <td>8120</td>\n      <td>13</td>\n      <td>7</td>\n    </tr>\n    <tr>\n      <th>145</th>\n      <td>145</td>\n      <td>8120</td>\n      <td>15</td>\n      <td>13</td>\n    </tr>\n    <tr>\n      <th>146</th>\n      <td>146</td>\n      <td>8120</td>\n      <td>4</td>\n      <td>33</td>\n    </tr>\n    <tr>\n      <th>147</th>\n      <td>147</td>\n      <td>8120</td>\n      <td>8</td>\n      <td>27</td>\n    </tr>\n    <tr>\n      <th>148</th>\n      <td>148</td>\n      <td>8120</td>\n      <td>9</td>\n      <td>57</td>\n    </tr>\n    <tr>\n      <th>149</th>\n      <td>149</td>\n      <td>8192</td>\n      <td>13</td>\n      <td>1</td>\n    </tr>\n    <tr>\n      <th>150</th>\n      <td>150</td>\n      <td>8192</td>\n      <td>4</td>\n      <td>3</td>\n    </tr>\n    <tr>\n      <th>151</th>\n      <td>151</td>\n      <td>8192</td>\n      <td>8</td>\n      <td>6</td>\n    </tr>\n    <tr>\n      <th>152</th>\n      <td>152</td>\n      <td>8194</td>\n      <td>0</td>\n      <td>13</td>\n    </tr>\n    <tr>\n      <th>153</th>\n      <td>153</td>\n      <td>8194</td>\n      <td>13</td>\n      <td>41</td>\n    </tr>\n    <tr>\n      <th>154</th>\n      <td>154</td>\n      <td>8194</td>\n      <td>15</td>\n      <td>13</td>\n    </tr>\n    <tr>\n      <th>155</th>\n      <td>155</td>\n      <td>8194</td>\n      <td>17</td>\n      <td>1</td>\n    </tr>\n    <tr>\n      <th>156</th>\n      <td>156</td>\n      <td>8194</td>\n      <td>4</td>\n      <td>4</td>\n    </tr>\n    <tr>\n      <th>157</th>\n      <td>157</td>\n      <td>8194</td>\n      <td>5</td>\n      <td>3</td>\n    </tr>\n    <tr>\n      <th>158</th>\n      <td>158</td>\n      <td>8194</td>\n      <td>8</td>\n      <td>59</td>\n    </tr>\n    <tr>\n      <th>159</th>\n      <td>159</td>\n      <td>8194</td>\n      <td>9</td>\n      <td>3</td>\n    </tr>\n  </tbody>\n</table>\n<p>160 rows × 4 columns</p>\n</div>"
     },
     "metadata": {},
     "execution_count": 8
    },
    {
     "output_type": "stream",
     "name": "stdout",
     "text": [
      "time: 16 ms\n"
     ]
    }
   ],
   "source": [
    "user_0_state_set = user_0_data_first3days.groupby([\"loc\", \"cat_id\"]).size().reset_index().reset_index()\n",
    "user_0_state_set.columns = ['state_code','loc_id','cat_id','count']\n",
    "user_0_state_set"
   ]
  },
  {
   "cell_type": "code",
   "execution_count": 9,
   "metadata": {},
   "outputs": [
    {
     "output_type": "execute_result",
     "data": {
      "text/plain": [
       "     uid            datetime   loc app_id  traffic    day cat_id  state_code  \\\n",
       "0      0 2016-04-21 08:42:21  8194    342    0.030  04-21      0     152.000   \n",
       "1      0 2016-04-21 08:44:12  8194      1    0.008  04-21      4     156.000   \n",
       "2      0 2016-04-21 08:44:47  8194    857    0.027  04-21      8     158.000   \n",
       "3      0 2016-04-21 08:44:48  8194    857    0.002  04-21      8     158.000   \n",
       "4      0 2016-04-21 08:44:49  8194    612    0.001  04-21      8     158.000   \n",
       "5      0 2016-04-21 08:44:49  8194      4    0.002  04-21     13     153.000   \n",
       "6      0 2016-04-21 08:44:49  8194     31    0.009  04-21      8     158.000   \n",
       "7      0 2016-04-21 08:44:49  8194    529    0.002  04-21      8     158.000   \n",
       "8      0 2016-04-21 08:44:49  8194    857    0.579  04-21      8     158.000   \n",
       "9      0 2016-04-21 08:44:50  8194     31    0.307  04-21      8     158.000   \n",
       "10     0 2016-04-21 08:44:50  8194    857    0.001  04-21      8     158.000   \n",
       "11     0 2016-04-21 08:44:51  8194    857    0.002  04-21      8     158.000   \n",
       "12     0 2016-04-21 08:44:52  8194    857    0.020  04-21      8     158.000   \n",
       "13     0 2016-04-21 08:44:55  8194    857    0.010  04-21      8     158.000   \n",
       "14     0 2016-04-21 08:44:56  8194    857    0.006  04-21      8     158.000   \n",
       "15     0 2016-04-21 08:44:59  8194     31    0.001  04-21      8     158.000   \n",
       "16     0 2016-04-21 08:45:02  8194     31    0.002  04-21      8     158.000   \n",
       "17     0 2016-04-21 08:45:04  8194    360    0.002  04-21      8     158.000   \n",
       "18     0 2016-04-21 08:48:22  8192     31    0.005  04-21      8     151.000   \n",
       "19     0 2016-04-21 08:48:23  8192    612    0.002  04-21      8     151.000   \n",
       "20     0 2016-04-21 08:48:23  8192     31    0.012  04-21      8     151.000   \n",
       "21     0 2016-04-21 08:48:23  8192    529    0.002  04-21      8     151.000   \n",
       "22     0 2016-04-21 08:48:23  8192      4    0.002  04-21     13     149.000   \n",
       "23     0 2016-04-21 08:48:24  8192    360    0.001  04-21      8     151.000   \n",
       "24     0 2016-04-21 08:48:24  8192     31    0.004  04-21      8     151.000   \n",
       "25     0 2016-04-21 08:52:13  8192      1    0.002  04-21      4     150.000   \n",
       "26     0 2016-04-21 08:56:19  8119    529    0.002  04-21      8     142.000   \n",
       "27     0 2016-04-21 08:56:19  8119      4    0.002  04-21     13     141.000   \n",
       "28     0 2016-04-21 08:56:19  8119    612    0.002  04-21      8     142.000   \n",
       "29     0 2016-04-21 08:56:19  7714     31    0.008  04-21      8     138.000   \n",
       "...   ..                 ...   ...    ...      ...    ...    ...         ...   \n",
       "3881   0 2016-04-26 15:28:02  8118     37    0.013  04-26      8         nan   \n",
       "3882   0 2016-04-26 15:28:03  8118    259    0.001  04-26      8         nan   \n",
       "3883   0 2016-04-26 15:28:03  8118     31    0.005  04-26      8         nan   \n",
       "3884   0 2016-04-26 15:28:03  8118    199    0.002  04-26      0         nan   \n",
       "3885   0 2016-04-26 15:28:03  8118     37    0.003  04-26      8         nan   \n",
       "3886   0 2016-04-26 15:28:04  8118     31    0.001  04-26      8         nan   \n",
       "3887   0 2016-04-26 15:28:04  8118     37    0.002  04-26      8         nan   \n",
       "3888   0 2016-04-26 15:28:05  8118     37    0.003  04-26      8         nan   \n",
       "3889   0 2016-04-26 15:28:07  8118     37    0.003  04-26      8         nan   \n",
       "3890   0 2016-04-26 15:28:08  8118     37    0.005  04-26      8         nan   \n",
       "3891   0 2016-04-26 15:28:09  8118     37    0.002  04-26      8         nan   \n",
       "3892   0 2016-04-26 15:28:12  8118     37    0.002  04-26      8         nan   \n",
       "3893   0 2016-04-26 15:28:18  8118    281    0.002  04-26      0         nan   \n",
       "3894   0 2016-04-26 15:28:19  8118    184    0.003  04-26      8         nan   \n",
       "3895   0 2016-04-26 15:28:19  8118     37    0.002  04-26      8         nan   \n",
       "3896   0 2016-04-26 15:28:29  8118    259    0.005  04-26      8         nan   \n",
       "3897   0 2016-04-26 15:28:38  8118      4    0.003  04-26     13     139.000   \n",
       "3898   0 2016-04-26 15:28:48  8118    361    0.001  04-26     15     140.000   \n",
       "3899   0 2016-04-26 15:29:09  8118     37    0.001  04-26      8         nan   \n",
       "3900   0 2016-04-26 15:29:42  8118     37    0.001  04-26      8         nan   \n",
       "3901   0 2016-04-26 15:29:48  8118    361    0.012  04-26     15     140.000   \n",
       "3902   0 2016-04-26 15:29:49  8118    361    0.003  04-26     15     140.000   \n",
       "3903   0 2016-04-26 15:29:59  8118     37    0.001  04-26      8         nan   \n",
       "3904   0 2016-04-26 15:30:28  8194     37    0.001  04-26      8     158.000   \n",
       "3905   0 2016-04-26 15:30:49  8194     37    0.006  04-26      8     158.000   \n",
       "3906   0 2016-04-26 15:33:08  8194    361    0.011  04-26     15     154.000   \n",
       "3907   0 2016-04-26 15:33:09  8194    361    0.001  04-26     15     154.000   \n",
       "3908   0 2016-04-26 15:33:10  8194    361    0.010  04-26     15     154.000   \n",
       "3909   0 2016-04-26 15:33:11  8194    361    0.003  04-26     15     154.000   \n",
       "3910   0 2016-04-26 15:34:17  8194   1549    0.001  04-26      0     152.000   \n",
       "\n",
       "      count  \n",
       "0    13.000  \n",
       "1     4.000  \n",
       "2    59.000  \n",
       "3    59.000  \n",
       "4    59.000  \n",
       "5    41.000  \n",
       "6    59.000  \n",
       "7    59.000  \n",
       "8    59.000  \n",
       "9    59.000  \n",
       "10   59.000  \n",
       "11   59.000  \n",
       "12   59.000  \n",
       "13   59.000  \n",
       "14   59.000  \n",
       "15   59.000  \n",
       "16   59.000  \n",
       "17   59.000  \n",
       "18    6.000  \n",
       "19    6.000  \n",
       "20    6.000  \n",
       "21    6.000  \n",
       "22    1.000  \n",
       "23    6.000  \n",
       "24    6.000  \n",
       "25    3.000  \n",
       "26    4.000  \n",
       "27    1.000  \n",
       "28    4.000  \n",
       "29   10.000  \n",
       "...     ...  \n",
       "3881    nan  \n",
       "3882    nan  \n",
       "3883    nan  \n",
       "3884    nan  \n",
       "3885    nan  \n",
       "3886    nan  \n",
       "3887    nan  \n",
       "3888    nan  \n",
       "3889    nan  \n",
       "3890    nan  \n",
       "3891    nan  \n",
       "3892    nan  \n",
       "3893    nan  \n",
       "3894    nan  \n",
       "3895    nan  \n",
       "3896    nan  \n",
       "3897  1.000  \n",
       "3898  7.000  \n",
       "3899    nan  \n",
       "3900    nan  \n",
       "3901  7.000  \n",
       "3902  7.000  \n",
       "3903    nan  \n",
       "3904 59.000  \n",
       "3905 59.000  \n",
       "3906 13.000  \n",
       "3907 13.000  \n",
       "3908 13.000  \n",
       "3909 13.000  \n",
       "3910 13.000  \n",
       "\n",
       "[3911 rows x 9 columns]"
      ],
      "text/html": "<div>\n<style scoped>\n    .dataframe tbody tr th:only-of-type {\n        vertical-align: middle;\n    }\n\n    .dataframe tbody tr th {\n        vertical-align: top;\n    }\n\n    .dataframe thead th {\n        text-align: right;\n    }\n</style>\n<table border=\"1\" class=\"dataframe\">\n  <thead>\n    <tr style=\"text-align: right;\">\n      <th></th>\n      <th>uid</th>\n      <th>datetime</th>\n      <th>loc</th>\n      <th>app_id</th>\n      <th>traffic</th>\n      <th>day</th>\n      <th>cat_id</th>\n      <th>state_code</th>\n      <th>count</th>\n    </tr>\n  </thead>\n  <tbody>\n    <tr>\n      <th>0</th>\n      <td>0</td>\n      <td>2016-04-21 08:42:21</td>\n      <td>8194</td>\n      <td>342</td>\n      <td>0.030</td>\n      <td>04-21</td>\n      <td>0</td>\n      <td>152.000</td>\n      <td>13.000</td>\n    </tr>\n    <tr>\n      <th>1</th>\n      <td>0</td>\n      <td>2016-04-21 08:44:12</td>\n      <td>8194</td>\n      <td>1</td>\n      <td>0.008</td>\n      <td>04-21</td>\n      <td>4</td>\n      <td>156.000</td>\n      <td>4.000</td>\n    </tr>\n    <tr>\n      <th>2</th>\n      <td>0</td>\n      <td>2016-04-21 08:44:47</td>\n      <td>8194</td>\n      <td>857</td>\n      <td>0.027</td>\n      <td>04-21</td>\n      <td>8</td>\n      <td>158.000</td>\n      <td>59.000</td>\n    </tr>\n    <tr>\n      <th>3</th>\n      <td>0</td>\n      <td>2016-04-21 08:44:48</td>\n      <td>8194</td>\n      <td>857</td>\n      <td>0.002</td>\n      <td>04-21</td>\n      <td>8</td>\n      <td>158.000</td>\n      <td>59.000</td>\n    </tr>\n    <tr>\n      <th>4</th>\n      <td>0</td>\n      <td>2016-04-21 08:44:49</td>\n      <td>8194</td>\n      <td>612</td>\n      <td>0.001</td>\n      <td>04-21</td>\n      <td>8</td>\n      <td>158.000</td>\n      <td>59.000</td>\n    </tr>\n    <tr>\n      <th>5</th>\n      <td>0</td>\n      <td>2016-04-21 08:44:49</td>\n      <td>8194</td>\n      <td>4</td>\n      <td>0.002</td>\n      <td>04-21</td>\n      <td>13</td>\n      <td>153.000</td>\n      <td>41.000</td>\n    </tr>\n    <tr>\n      <th>6</th>\n      <td>0</td>\n      <td>2016-04-21 08:44:49</td>\n      <td>8194</td>\n      <td>31</td>\n      <td>0.009</td>\n      <td>04-21</td>\n      <td>8</td>\n      <td>158.000</td>\n      <td>59.000</td>\n    </tr>\n    <tr>\n      <th>7</th>\n      <td>0</td>\n      <td>2016-04-21 08:44:49</td>\n      <td>8194</td>\n      <td>529</td>\n      <td>0.002</td>\n      <td>04-21</td>\n      <td>8</td>\n      <td>158.000</td>\n      <td>59.000</td>\n    </tr>\n    <tr>\n      <th>8</th>\n      <td>0</td>\n      <td>2016-04-21 08:44:49</td>\n      <td>8194</td>\n      <td>857</td>\n      <td>0.579</td>\n      <td>04-21</td>\n      <td>8</td>\n      <td>158.000</td>\n      <td>59.000</td>\n    </tr>\n    <tr>\n      <th>9</th>\n      <td>0</td>\n      <td>2016-04-21 08:44:50</td>\n      <td>8194</td>\n      <td>31</td>\n      <td>0.307</td>\n      <td>04-21</td>\n      <td>8</td>\n      <td>158.000</td>\n      <td>59.000</td>\n    </tr>\n    <tr>\n      <th>10</th>\n      <td>0</td>\n      <td>2016-04-21 08:44:50</td>\n      <td>8194</td>\n      <td>857</td>\n      <td>0.001</td>\n      <td>04-21</td>\n      <td>8</td>\n      <td>158.000</td>\n      <td>59.000</td>\n    </tr>\n    <tr>\n      <th>11</th>\n      <td>0</td>\n      <td>2016-04-21 08:44:51</td>\n      <td>8194</td>\n      <td>857</td>\n      <td>0.002</td>\n      <td>04-21</td>\n      <td>8</td>\n      <td>158.000</td>\n      <td>59.000</td>\n    </tr>\n    <tr>\n      <th>12</th>\n      <td>0</td>\n      <td>2016-04-21 08:44:52</td>\n      <td>8194</td>\n      <td>857</td>\n      <td>0.020</td>\n      <td>04-21</td>\n      <td>8</td>\n      <td>158.000</td>\n      <td>59.000</td>\n    </tr>\n    <tr>\n      <th>13</th>\n      <td>0</td>\n      <td>2016-04-21 08:44:55</td>\n      <td>8194</td>\n      <td>857</td>\n      <td>0.010</td>\n      <td>04-21</td>\n      <td>8</td>\n      <td>158.000</td>\n      <td>59.000</td>\n    </tr>\n    <tr>\n      <th>14</th>\n      <td>0</td>\n      <td>2016-04-21 08:44:56</td>\n      <td>8194</td>\n      <td>857</td>\n      <td>0.006</td>\n      <td>04-21</td>\n      <td>8</td>\n      <td>158.000</td>\n      <td>59.000</td>\n    </tr>\n    <tr>\n      <th>15</th>\n      <td>0</td>\n      <td>2016-04-21 08:44:59</td>\n      <td>8194</td>\n      <td>31</td>\n      <td>0.001</td>\n      <td>04-21</td>\n      <td>8</td>\n      <td>158.000</td>\n      <td>59.000</td>\n    </tr>\n    <tr>\n      <th>16</th>\n      <td>0</td>\n      <td>2016-04-21 08:45:02</td>\n      <td>8194</td>\n      <td>31</td>\n      <td>0.002</td>\n      <td>04-21</td>\n      <td>8</td>\n      <td>158.000</td>\n      <td>59.000</td>\n    </tr>\n    <tr>\n      <th>17</th>\n      <td>0</td>\n      <td>2016-04-21 08:45:04</td>\n      <td>8194</td>\n      <td>360</td>\n      <td>0.002</td>\n      <td>04-21</td>\n      <td>8</td>\n      <td>158.000</td>\n      <td>59.000</td>\n    </tr>\n    <tr>\n      <th>18</th>\n      <td>0</td>\n      <td>2016-04-21 08:48:22</td>\n      <td>8192</td>\n      <td>31</td>\n      <td>0.005</td>\n      <td>04-21</td>\n      <td>8</td>\n      <td>151.000</td>\n      <td>6.000</td>\n    </tr>\n    <tr>\n      <th>19</th>\n      <td>0</td>\n      <td>2016-04-21 08:48:23</td>\n      <td>8192</td>\n      <td>612</td>\n      <td>0.002</td>\n      <td>04-21</td>\n      <td>8</td>\n      <td>151.000</td>\n      <td>6.000</td>\n    </tr>\n    <tr>\n      <th>20</th>\n      <td>0</td>\n      <td>2016-04-21 08:48:23</td>\n      <td>8192</td>\n      <td>31</td>\n      <td>0.012</td>\n      <td>04-21</td>\n      <td>8</td>\n      <td>151.000</td>\n      <td>6.000</td>\n    </tr>\n    <tr>\n      <th>21</th>\n      <td>0</td>\n      <td>2016-04-21 08:48:23</td>\n      <td>8192</td>\n      <td>529</td>\n      <td>0.002</td>\n      <td>04-21</td>\n      <td>8</td>\n      <td>151.000</td>\n      <td>6.000</td>\n    </tr>\n    <tr>\n      <th>22</th>\n      <td>0</td>\n      <td>2016-04-21 08:48:23</td>\n      <td>8192</td>\n      <td>4</td>\n      <td>0.002</td>\n      <td>04-21</td>\n      <td>13</td>\n      <td>149.000</td>\n      <td>1.000</td>\n    </tr>\n    <tr>\n      <th>23</th>\n      <td>0</td>\n      <td>2016-04-21 08:48:24</td>\n      <td>8192</td>\n      <td>360</td>\n      <td>0.001</td>\n      <td>04-21</td>\n      <td>8</td>\n      <td>151.000</td>\n      <td>6.000</td>\n    </tr>\n    <tr>\n      <th>24</th>\n      <td>0</td>\n      <td>2016-04-21 08:48:24</td>\n      <td>8192</td>\n      <td>31</td>\n      <td>0.004</td>\n      <td>04-21</td>\n      <td>8</td>\n      <td>151.000</td>\n      <td>6.000</td>\n    </tr>\n    <tr>\n      <th>25</th>\n      <td>0</td>\n      <td>2016-04-21 08:52:13</td>\n      <td>8192</td>\n      <td>1</td>\n      <td>0.002</td>\n      <td>04-21</td>\n      <td>4</td>\n      <td>150.000</td>\n      <td>3.000</td>\n    </tr>\n    <tr>\n      <th>26</th>\n      <td>0</td>\n      <td>2016-04-21 08:56:19</td>\n      <td>8119</td>\n      <td>529</td>\n      <td>0.002</td>\n      <td>04-21</td>\n      <td>8</td>\n      <td>142.000</td>\n      <td>4.000</td>\n    </tr>\n    <tr>\n      <th>27</th>\n      <td>0</td>\n      <td>2016-04-21 08:56:19</td>\n      <td>8119</td>\n      <td>4</td>\n      <td>0.002</td>\n      <td>04-21</td>\n      <td>13</td>\n      <td>141.000</td>\n      <td>1.000</td>\n    </tr>\n    <tr>\n      <th>28</th>\n      <td>0</td>\n      <td>2016-04-21 08:56:19</td>\n      <td>8119</td>\n      <td>612</td>\n      <td>0.002</td>\n      <td>04-21</td>\n      <td>8</td>\n      <td>142.000</td>\n      <td>4.000</td>\n    </tr>\n    <tr>\n      <th>29</th>\n      <td>0</td>\n      <td>2016-04-21 08:56:19</td>\n      <td>7714</td>\n      <td>31</td>\n      <td>0.008</td>\n      <td>04-21</td>\n      <td>8</td>\n      <td>138.000</td>\n      <td>10.000</td>\n    </tr>\n    <tr>\n      <th>...</th>\n      <td>...</td>\n      <td>...</td>\n      <td>...</td>\n      <td>...</td>\n      <td>...</td>\n      <td>...</td>\n      <td>...</td>\n      <td>...</td>\n      <td>...</td>\n    </tr>\n    <tr>\n      <th>3881</th>\n      <td>0</td>\n      <td>2016-04-26 15:28:02</td>\n      <td>8118</td>\n      <td>37</td>\n      <td>0.013</td>\n      <td>04-26</td>\n      <td>8</td>\n      <td>nan</td>\n      <td>nan</td>\n    </tr>\n    <tr>\n      <th>3882</th>\n      <td>0</td>\n      <td>2016-04-26 15:28:03</td>\n      <td>8118</td>\n      <td>259</td>\n      <td>0.001</td>\n      <td>04-26</td>\n      <td>8</td>\n      <td>nan</td>\n      <td>nan</td>\n    </tr>\n    <tr>\n      <th>3883</th>\n      <td>0</td>\n      <td>2016-04-26 15:28:03</td>\n      <td>8118</td>\n      <td>31</td>\n      <td>0.005</td>\n      <td>04-26</td>\n      <td>8</td>\n      <td>nan</td>\n      <td>nan</td>\n    </tr>\n    <tr>\n      <th>3884</th>\n      <td>0</td>\n      <td>2016-04-26 15:28:03</td>\n      <td>8118</td>\n      <td>199</td>\n      <td>0.002</td>\n      <td>04-26</td>\n      <td>0</td>\n      <td>nan</td>\n      <td>nan</td>\n    </tr>\n    <tr>\n      <th>3885</th>\n      <td>0</td>\n      <td>2016-04-26 15:28:03</td>\n      <td>8118</td>\n      <td>37</td>\n      <td>0.003</td>\n      <td>04-26</td>\n      <td>8</td>\n      <td>nan</td>\n      <td>nan</td>\n    </tr>\n    <tr>\n      <th>3886</th>\n      <td>0</td>\n      <td>2016-04-26 15:28:04</td>\n      <td>8118</td>\n      <td>31</td>\n      <td>0.001</td>\n      <td>04-26</td>\n      <td>8</td>\n      <td>nan</td>\n      <td>nan</td>\n    </tr>\n    <tr>\n      <th>3887</th>\n      <td>0</td>\n      <td>2016-04-26 15:28:04</td>\n      <td>8118</td>\n      <td>37</td>\n      <td>0.002</td>\n      <td>04-26</td>\n      <td>8</td>\n      <td>nan</td>\n      <td>nan</td>\n    </tr>\n    <tr>\n      <th>3888</th>\n      <td>0</td>\n      <td>2016-04-26 15:28:05</td>\n      <td>8118</td>\n      <td>37</td>\n      <td>0.003</td>\n      <td>04-26</td>\n      <td>8</td>\n      <td>nan</td>\n      <td>nan</td>\n    </tr>\n    <tr>\n      <th>3889</th>\n      <td>0</td>\n      <td>2016-04-26 15:28:07</td>\n      <td>8118</td>\n      <td>37</td>\n      <td>0.003</td>\n      <td>04-26</td>\n      <td>8</td>\n      <td>nan</td>\n      <td>nan</td>\n    </tr>\n    <tr>\n      <th>3890</th>\n      <td>0</td>\n      <td>2016-04-26 15:28:08</td>\n      <td>8118</td>\n      <td>37</td>\n      <td>0.005</td>\n      <td>04-26</td>\n      <td>8</td>\n      <td>nan</td>\n      <td>nan</td>\n    </tr>\n    <tr>\n      <th>3891</th>\n      <td>0</td>\n      <td>2016-04-26 15:28:09</td>\n      <td>8118</td>\n      <td>37</td>\n      <td>0.002</td>\n      <td>04-26</td>\n      <td>8</td>\n      <td>nan</td>\n      <td>nan</td>\n    </tr>\n    <tr>\n      <th>3892</th>\n      <td>0</td>\n      <td>2016-04-26 15:28:12</td>\n      <td>8118</td>\n      <td>37</td>\n      <td>0.002</td>\n      <td>04-26</td>\n      <td>8</td>\n      <td>nan</td>\n      <td>nan</td>\n    </tr>\n    <tr>\n      <th>3893</th>\n      <td>0</td>\n      <td>2016-04-26 15:28:18</td>\n      <td>8118</td>\n      <td>281</td>\n      <td>0.002</td>\n      <td>04-26</td>\n      <td>0</td>\n      <td>nan</td>\n      <td>nan</td>\n    </tr>\n    <tr>\n      <th>3894</th>\n      <td>0</td>\n      <td>2016-04-26 15:28:19</td>\n      <td>8118</td>\n      <td>184</td>\n      <td>0.003</td>\n      <td>04-26</td>\n      <td>8</td>\n      <td>nan</td>\n      <td>nan</td>\n    </tr>\n    <tr>\n      <th>3895</th>\n      <td>0</td>\n      <td>2016-04-26 15:28:19</td>\n      <td>8118</td>\n      <td>37</td>\n      <td>0.002</td>\n      <td>04-26</td>\n      <td>8</td>\n      <td>nan</td>\n      <td>nan</td>\n    </tr>\n    <tr>\n      <th>3896</th>\n      <td>0</td>\n      <td>2016-04-26 15:28:29</td>\n      <td>8118</td>\n      <td>259</td>\n      <td>0.005</td>\n      <td>04-26</td>\n      <td>8</td>\n      <td>nan</td>\n      <td>nan</td>\n    </tr>\n    <tr>\n      <th>3897</th>\n      <td>0</td>\n      <td>2016-04-26 15:28:38</td>\n      <td>8118</td>\n      <td>4</td>\n      <td>0.003</td>\n      <td>04-26</td>\n      <td>13</td>\n      <td>139.000</td>\n      <td>1.000</td>\n    </tr>\n    <tr>\n      <th>3898</th>\n      <td>0</td>\n      <td>2016-04-26 15:28:48</td>\n      <td>8118</td>\n      <td>361</td>\n      <td>0.001</td>\n      <td>04-26</td>\n      <td>15</td>\n      <td>140.000</td>\n      <td>7.000</td>\n    </tr>\n    <tr>\n      <th>3899</th>\n      <td>0</td>\n      <td>2016-04-26 15:29:09</td>\n      <td>8118</td>\n      <td>37</td>\n      <td>0.001</td>\n      <td>04-26</td>\n      <td>8</td>\n      <td>nan</td>\n      <td>nan</td>\n    </tr>\n    <tr>\n      <th>3900</th>\n      <td>0</td>\n      <td>2016-04-26 15:29:42</td>\n      <td>8118</td>\n      <td>37</td>\n      <td>0.001</td>\n      <td>04-26</td>\n      <td>8</td>\n      <td>nan</td>\n      <td>nan</td>\n    </tr>\n    <tr>\n      <th>3901</th>\n      <td>0</td>\n      <td>2016-04-26 15:29:48</td>\n      <td>8118</td>\n      <td>361</td>\n      <td>0.012</td>\n      <td>04-26</td>\n      <td>15</td>\n      <td>140.000</td>\n      <td>7.000</td>\n    </tr>\n    <tr>\n      <th>3902</th>\n      <td>0</td>\n      <td>2016-04-26 15:29:49</td>\n      <td>8118</td>\n      <td>361</td>\n      <td>0.003</td>\n      <td>04-26</td>\n      <td>15</td>\n      <td>140.000</td>\n      <td>7.000</td>\n    </tr>\n    <tr>\n      <th>3903</th>\n      <td>0</td>\n      <td>2016-04-26 15:29:59</td>\n      <td>8118</td>\n      <td>37</td>\n      <td>0.001</td>\n      <td>04-26</td>\n      <td>8</td>\n      <td>nan</td>\n      <td>nan</td>\n    </tr>\n    <tr>\n      <th>3904</th>\n      <td>0</td>\n      <td>2016-04-26 15:30:28</td>\n      <td>8194</td>\n      <td>37</td>\n      <td>0.001</td>\n      <td>04-26</td>\n      <td>8</td>\n      <td>158.000</td>\n      <td>59.000</td>\n    </tr>\n    <tr>\n      <th>3905</th>\n      <td>0</td>\n      <td>2016-04-26 15:30:49</td>\n      <td>8194</td>\n      <td>37</td>\n      <td>0.006</td>\n      <td>04-26</td>\n      <td>8</td>\n      <td>158.000</td>\n      <td>59.000</td>\n    </tr>\n    <tr>\n      <th>3906</th>\n      <td>0</td>\n      <td>2016-04-26 15:33:08</td>\n      <td>8194</td>\n      <td>361</td>\n      <td>0.011</td>\n      <td>04-26</td>\n      <td>15</td>\n      <td>154.000</td>\n      <td>13.000</td>\n    </tr>\n    <tr>\n      <th>3907</th>\n      <td>0</td>\n      <td>2016-04-26 15:33:09</td>\n      <td>8194</td>\n      <td>361</td>\n      <td>0.001</td>\n      <td>04-26</td>\n      <td>15</td>\n      <td>154.000</td>\n      <td>13.000</td>\n    </tr>\n    <tr>\n      <th>3908</th>\n      <td>0</td>\n      <td>2016-04-26 15:33:10</td>\n      <td>8194</td>\n      <td>361</td>\n      <td>0.010</td>\n      <td>04-26</td>\n      <td>15</td>\n      <td>154.000</td>\n      <td>13.000</td>\n    </tr>\n    <tr>\n      <th>3909</th>\n      <td>0</td>\n      <td>2016-04-26 15:33:11</td>\n      <td>8194</td>\n      <td>361</td>\n      <td>0.003</td>\n      <td>04-26</td>\n      <td>15</td>\n      <td>154.000</td>\n      <td>13.000</td>\n    </tr>\n    <tr>\n      <th>3910</th>\n      <td>0</td>\n      <td>2016-04-26 15:34:17</td>\n      <td>8194</td>\n      <td>1549</td>\n      <td>0.001</td>\n      <td>04-26</td>\n      <td>0</td>\n      <td>152.000</td>\n      <td>13.000</td>\n    </tr>\n  </tbody>\n</table>\n<p>3911 rows × 9 columns</p>\n</div>"
     },
     "metadata": {},
     "execution_count": 9
    },
    {
     "output_type": "stream",
     "name": "stdout",
     "text": [
      "time: 31 ms\n"
     ]
    }
   ],
   "source": [
    "user_0_state = pd.merge(user_0_data, user_0_state_set,  how='left', left_on=['loc','cat_id'], right_on = ['loc_id','cat_id'])\n",
    "user_0_state = user_0_state.drop(columns= [\"loc_id\"])\n",
    "user_0_state"
   ]
  },
  {
   "cell_type": "code",
   "execution_count": 10,
   "metadata": {},
   "outputs": [
    {
     "output_type": "stream",
     "name": "stdout",
     "text": [
      "(3248, 9) (663, 9)\ntime: 0 ns\n"
     ]
    }
   ],
   "source": [
    "user_0_train_stat = user_0_state[~(user_0_state['day'] == '04-26')]\n",
    "user_0_test_stat = user_0_state[user_0_state['day'] == '04-26']\n",
    "print(user_0_train_stat.shape, user_0_test_stat.shape)"
   ]
  },
  {
   "cell_type": "code",
   "execution_count": 58,
   "metadata": {},
   "outputs": [
    {
     "output_type": "stream",
     "name": "stdout",
     "text": [
      "time: 0 ns\n"
     ]
    }
   ],
   "source": [
    "state_train = list(np.int_(user_0_train_stat['state_code']))"
   ]
  },
  {
   "cell_type": "code",
   "execution_count": 60,
   "metadata": {},
   "outputs": [
    {
     "output_type": "stream",
     "name": "stdout",
     "text": [
      "time: 0 ns\n"
     ]
    }
   ],
   "source": [
    "def transition_matrix(transitions):\n",
    "    #number of states\n",
    "    n = max(transitions)\n",
    "    M = [[0]*n for _ in range(n)]\n",
    "\n",
    "    for (i,j) in zip(transitions,transitions[1:]):\n",
    "        M[i-1][j-1] += 1\n",
    "\n",
    "    #now convert to probabilities:\n",
    "    for row in M:\n",
    "        s = sum(row)\n",
    "        if s > 0:\n",
    "            row[:] = [f/s for f in row]\n",
    "    return M"
   ]
  },
  {
   "cell_type": "code",
   "execution_count": 66,
   "metadata": {},
   "outputs": [
    {
     "output_type": "error",
     "ename": "IndexError",
     "evalue": "list index out of range",
     "traceback": [
      "\u001b[1;31m---------------------------------------------------------------------------\u001b[0m",
      "\u001b[1;31mIndexError\u001b[0m                                Traceback (most recent call last)",
      "\u001b[1;32m<ipython-input-66-cee1abba9953>\u001b[0m in \u001b[0;36m<module>\u001b[1;34m\u001b[0m\n\u001b[1;32m----> 1\u001b[1;33m \u001b[0mtransition_matrix\u001b[0m\u001b[1;33m(\u001b[0m\u001b[0mstate_train\u001b[0m\u001b[1;33m)\u001b[0m\u001b[1;33m\u001b[0m\u001b[1;33m\u001b[0m\u001b[0m\n\u001b[0m",
      "\u001b[1;32m<ipython-input-60-febd132ad3a6>\u001b[0m in \u001b[0;36mtransition_matrix\u001b[1;34m(transitions)\u001b[0m\n\u001b[0;32m      5\u001b[0m \u001b[1;33m\u001b[0m\u001b[0m\n\u001b[0;32m      6\u001b[0m     \u001b[1;32mfor\u001b[0m \u001b[1;33m(\u001b[0m\u001b[0mi\u001b[0m\u001b[1;33m,\u001b[0m\u001b[0mj\u001b[0m\u001b[1;33m)\u001b[0m \u001b[1;32min\u001b[0m \u001b[0mzip\u001b[0m\u001b[1;33m(\u001b[0m\u001b[0mtransitions\u001b[0m\u001b[1;33m,\u001b[0m\u001b[0mtransitions\u001b[0m\u001b[1;33m[\u001b[0m\u001b[1;36m1\u001b[0m\u001b[1;33m:\u001b[0m\u001b[1;33m]\u001b[0m\u001b[1;33m)\u001b[0m\u001b[1;33m:\u001b[0m\u001b[1;33m\u001b[0m\u001b[1;33m\u001b[0m\u001b[0m\n\u001b[1;32m----> 7\u001b[1;33m         \u001b[0mM\u001b[0m\u001b[1;33m[\u001b[0m\u001b[0mi\u001b[0m\u001b[1;33m-\u001b[0m\u001b[1;36m1\u001b[0m\u001b[1;33m]\u001b[0m\u001b[1;33m[\u001b[0m\u001b[0mj\u001b[0m\u001b[1;33m-\u001b[0m\u001b[1;36m1\u001b[0m\u001b[1;33m]\u001b[0m \u001b[1;33m+=\u001b[0m \u001b[1;36m1\u001b[0m\u001b[1;33m\u001b[0m\u001b[1;33m\u001b[0m\u001b[0m\n\u001b[0m\u001b[0;32m      8\u001b[0m \u001b[1;33m\u001b[0m\u001b[0m\n\u001b[0;32m      9\u001b[0m     \u001b[1;31m#now convert to probabilities:\u001b[0m\u001b[1;33m\u001b[0m\u001b[1;33m\u001b[0m\u001b[1;33m\u001b[0m\u001b[0m\n",
      "\u001b[1;31mIndexError\u001b[0m: list index out of range"
     ]
    }
   ],
   "source": [
    "transition_matrix(state_train)"
   ]
  },
  {
   "cell_type": "code",
   "execution_count": 16,
   "metadata": {},
   "outputs": [
    {
     "output_type": "stream",
     "name": "stdout",
     "text": [
      "time: 0 ns\n"
     ]
    }
   ],
   "source": [
    "actaul_state_code = np.array(user_0_state[\"state_code\"])\n",
    "predit_state_code = [np.argmax(user_0_transmat[i]) for i in actaul_state_code]"
   ]
  },
  {
   "cell_type": "code",
   "execution_count": 17,
   "metadata": {},
   "outputs": [
    {
     "output_type": "stream",
     "name": "stdout",
     "text": [
      "time: 0 ns\n"
     ]
    }
   ],
   "source": [
    "actaul_state_code = actaul_state_code[1:]\n",
    "predit_state_code = predit_state_code[:-1]"
   ]
  },
  {
   "cell_type": "code",
   "execution_count": 18,
   "metadata": {},
   "outputs": [
    {
     "output_type": "execute_result",
     "data": {
      "text/plain": [
       "0.24229585697328745"
      ]
     },
     "metadata": {},
     "execution_count": 18
    },
    {
     "output_type": "stream",
     "name": "stdout",
     "text": [
      "time: 563 ms\n"
     ]
    }
   ],
   "source": [
    "from sklearn.metrics import balanced_accuracy_score\n",
    "balanced_accuracy_score(actaul_state_code, predit_state_code)"
   ]
  },
  {
   "cell_type": "code",
   "execution_count": 19,
   "metadata": {},
   "outputs": [
    {
     "output_type": "execute_result",
     "data": {
      "text/plain": [
       "0.4048593350383632"
      ]
     },
     "metadata": {},
     "execution_count": 19
    },
    {
     "output_type": "stream",
     "name": "stdout",
     "text": [
      "time: 16 ms\n"
     ]
    }
   ],
   "source": [
    "from sklearn.metrics import accuracy_score\n",
    "accuracy_score(actaul_state_code, predit_state_code)"
   ]
  },
  {
   "cell_type": "code",
   "execution_count": 20,
   "metadata": {},
   "outputs": [
    {
     "output_type": "execute_result",
     "data": {
      "text/plain": [
       "0.2049360834705059"
      ]
     },
     "metadata": {},
     "execution_count": 20
    },
    {
     "output_type": "stream",
     "name": "stdout",
     "text": [
      "time: 15 ms\n"
     ]
    }
   ],
   "source": [
    "from sklearn.metrics import f1_score\n",
    "f1_score(actaul_state_code, predit_state_code, average='macro')"
   ]
  },
  {
   "cell_type": "code",
   "execution_count": 21,
   "metadata": {},
   "outputs": [
    {
     "output_type": "execute_result",
     "data": {
      "text/plain": [
       "array([[ 2,  0,  0, ...,  0,  0,  0],\n",
       "       [ 2,  8,  0, ...,  0,  0,  0],\n",
       "       [ 0,  0,  1, ...,  0,  0,  0],\n",
       "       ...,\n",
       "       [ 0,  0,  0, ..., 10,  2,  0],\n",
       "       [ 0,  0,  0, ...,  0, 29,  0],\n",
       "       [ 0,  0,  0, ...,  0,  0,  0]], dtype=int64)"
      ]
     },
     "metadata": {},
     "execution_count": 21
    },
    {
     "output_type": "stream",
     "name": "stdout",
     "text": [
      "time: 0 ns\n"
     ]
    }
   ],
   "source": [
    "from sklearn.metrics import confusion_matrix\n",
    "confusion_matrix(actaul_state_code, predit_state_code)"
   ]
  },
  {
   "source": [
    "# Transitional matrix for N random user"
   ],
   "cell_type": "markdown",
   "metadata": {}
  },
  {
   "cell_type": "code",
   "execution_count": 138,
   "metadata": {},
   "outputs": [
    {
     "output_type": "stream",
     "name": "stdout",
     "text": [
      "time: 0 ns\n"
     ]
    }
   ],
   "source": [
    "##Random sample\n",
    "\n",
    "import random\n",
    "from sklearn.metrics import balanced_accuracy_score\n",
    "from sklearn.metrics import accuracy_score\n",
    "from sklearn.metrics import f1_score\n",
    "\n",
    "def transition_matrix(transitions):\n",
    "    #number of states\n",
    "    n = 1+max(transitions)\n",
    "    M = [[0]*n for _ in range(n)]\n",
    "\n",
    "    for (i,j) in zip(transitions,transitions[1:]):\n",
    "        M[i][j] += 1\n",
    "\n",
    "    #now convert to probabilities:\n",
    "    for row in M:\n",
    "        s = sum(row)\n",
    "        if s > 0:\n",
    "            row[:] = [f/s for f in row]\n",
    "    return M\n",
    "\n",
    "def random_sample(n_users,n_times):\n",
    "    all_b_acc = []\n",
    "    all_acc = []\n",
    "    all_f1 = []\n",
    "    user_list = pd.unique(cleaned_df_cat['uid'])\n",
    "    for i in range(n_times):\n",
    "        random_50_user = random.choices(user_list, k = int(n_users))\n",
    "        rand_50_user_df = cleaned_df_cat[cleaned_df_cat[\"uid\"].isin(random_50_user)]\n",
    "        state_50_rand_user = rand_50_user_df.groupby([\"loc\", \"cat_id\"]).size().reset_index().reset_index()\n",
    "        state_50_rand_user.columns = ['state_code','loc_id','cat_id','count']\n",
    "        users_state = pd.merge(rand_50_user_df, state_50_rand_user,  how='left', left_on=['loc','cat_id'], right_on = ['loc_id','cat_id'])\n",
    "        users_state = users_state.drop(columns= [\"loc_id\"])\n",
    "        users_state = users_state.sort_values(by = ['uid', 'datetime'])\n",
    "        series = np.array(users_state[\"state_code\"])\n",
    "        trans_mat_all = transition_matrix(series)\n",
    "        trans_mat_all = np.matrix(trans_mat_all)\n",
    "        actaul_state_code = np.array(users_state[\"state_code\"])\n",
    "        predit_state_code = [np.argmax(trans_mat_all[i]) for i in actaul_state_code]\n",
    "        actaul_state_code = actaul_state_code[1:]\n",
    "        predit_state_code = predit_state_code[:-1]\n",
    "        b_acc = balanced_accuracy_score(actaul_state_code, predit_state_code)\n",
    "        acc = accuracy_score(actaul_state_code, predit_state_code)\n",
    "        f1 = f1_score(actaul_state_code, predit_state_code, average='macro')\n",
    "        all_b_acc.append(b_acc)\n",
    "        all_acc.append(acc)\n",
    "        all_f1.append(f1)\n",
    "    print(\"Mean balanced Acc: {:.2f}, Mean Acc: {:.2f}, Mean f1-score: {:.2f} on random {} users for {} times\".format(np.mean(all_b_acc),np.mean(all_acc), np.mean(all_f1), n_users, n_times))\n",
    "    return"
   ]
  },
  {
   "cell_type": "code",
   "execution_count": 137,
   "metadata": {},
   "outputs": [
    {
     "output_type": "stream",
     "name": "stdout",
     "text": [
      "Mean balanced Acc: 0.49, Mean Acc: 0.78, Mean f1-score: 0.47 on random 50 users for 50 times\ntime: 5min 21s\n"
     ]
    }
   ],
   "source": [
    "random_sample(50, 50)"
   ]
  },
  {
   "source": [
    "### Compute the entire transitonal matrix for all user will lead to out of memory problem, random sampling could be a solution"
   ],
   "cell_type": "markdown",
   "metadata": {}
  },
  {
   "cell_type": "code",
   "execution_count": null,
   "metadata": {},
   "outputs": [],
   "source": []
  }
 ]
}