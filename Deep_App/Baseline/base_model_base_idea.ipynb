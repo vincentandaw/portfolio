{
 "metadata": {
  "language_info": {
   "codemirror_mode": {
    "name": "ipython",
    "version": 3
   },
   "file_extension": ".py",
   "mimetype": "text/x-python",
   "name": "python",
   "nbconvert_exporter": "python",
   "pygments_lexer": "ipython3",
   "version": "3.8.3"
  },
  "orig_nbformat": 2,
  "kernelspec": {
   "name": "python383jvsc74a57bd0d835b9d6547198496337f4d2de04abf3395832a8b4aee7b55cf3102d3ef3dae9",
   "display_name": "Python 3.8.3 64-bit ('base': conda)"
  },
  "metadata": {
   "interpreter": {
    "hash": "ff3c76c5aebb89467a643a5bc47ad0f7f4b7ae33ec5de3111a5b1ac554d066ac"
   }
  }
 },
 "nbformat": 4,
 "nbformat_minor": 2,
 "cells": [
  {
   "source": [
    "# Base model for baseline comparison\n",
    "## Implement on 1 user sample"
   ],
   "cell_type": "markdown",
   "metadata": {}
  },
  {
   "cell_type": "code",
   "execution_count": 1,
   "metadata": {},
   "outputs": [
    {
     "output_type": "stream",
     "name": "stdout",
     "text": [
      "time: 1.75 s\n"
     ]
    }
   ],
   "source": [
    "%load_ext autotime\n",
    "\n",
    "import pandas as pd\n",
    "from datetime import datetime, timedelta\n",
    "import matplotlib.pyplot as plt\n",
    "from heapq import nlargest\n",
    "import warnings\n",
    "import numpy as np\n",
    "warnings.filterwarnings('ignore')\n",
    "from scipy import stats\n",
    "from tqdm.notebook import tqdm\n",
    "\n",
    "pd.set_option(\"display.max_colwidth\",200)\n",
    "pd.set_option(\"display.max_columns\",20)\n",
    "pd.set_option('float_format', '{:.3f}'.format)"
   ]
  },
  {
   "source": [
    "# Data Preprocessing\n",
    "\n",
    "From the DeepApp paper, they preprocess the data according to their definition. <br>\n",
    "They use 30-min interval as a session. A window is 24 hours which consists of 48 intervals. <br>\n",
    "They did not implement a dataloader. Rather they treat each window as a batch. (**Can be fine-tuned**)<br>\n",
    "<br>\n",
    "The preprocessed data should look like this: <br>\n",
    "\n",
    "<br>data: {\n",
    "    <br>user: \n",
    "        <br>'20-Apr': {\n",
    "            <br>'tim' : [list of time in the window Shape(48,1)],\n",
    "            <br>'loc' : [lsit of loc in the window Shape(48,1)],\n",
    "            <br>'app': [list of multi-hot-code vector in the window. Shape(48, 2000)]    \n",
    "        <br>},\n",
    "        <br>'21-Apr': {\n",
    "            <br>'tim' : [list of time in the window Shape(48,1)],\n",
    "            <br>'loc' : [lsit of loc in the window Shape(48,1)],\n",
    "            <br>'app': [list of multi-hot-code vector in the window. Shape(48, 2000)]\n",
    "        <br>}, ........\n",
    "    <br>},\n",
    "    <br>user2: {\n",
    "        <br>Same pattern........\n",
    "    <br>}\n",
    "<br>}\n",
    "<br>\n",
    "<br>\n",
    "**Brief summary of the helper functions**\n",
    "- generate_input returns a train set and a test set, adds more field like ptim, app_target, loc_target, uid, tim_o, loc_o, topk, etc.\n",
    "- generate_queue returns a queue so it pops a window of a user everytime and feed to the model\n",
    "\n",
    "<br>\n",
    "<br>\n",
    "In other words, if we use a dataloader instead. For each user, trainloader has 3 batches, Vall has 1. Each batch has 48 samples. If we want to use dataloader instead, we have to make sure each iteration of it contains the information of one user?? Or order does not matter at all."
   ],
   "cell_type": "markdown",
   "metadata": {}
  },
  {
   "cell_type": "code",
   "execution_count": 2,
   "metadata": {
    "tags": []
   },
   "outputs": [
    {
     "output_type": "stream",
     "name": "stdout",
     "text": [
      "time: 0 ns\n"
     ]
    }
   ],
   "source": [
    "#import preprocessed per user dataset from onedrive prickled file\n",
    "import pickle\n",
    "import os\n",
    "import numpy as np\n",
    "\n",
    "path = r\"C:/Users/natha/OneDrive - The University of Sydney (Students)/CS48-CAPSTONE Project 2021 Sem1/dataset\"\n",
    "#create output dictionary\n",
    "#enter number of user here\n",
    "N_user = 1\n",
    "\n",
    "data = {}\n",
    "for u in os.listdir(path+'/user_preprocessed_pickle')[:N_user]: #import N users\n",
    "\n",
    "    uid = int(u[:-7])\n",
    "    file_name = '/'.join([path,'/user_preprocessed_pickle', u])\n",
    "\n",
    "    try:\n",
    "        with open(file_name, 'rb') as f:\n",
    "            dic = pickle.load(f)\n",
    "            data[uid] = dic[uid]\n",
    "    except:\n",
    "        print(dic)"
   ]
  },
  {
   "cell_type": "code",
   "execution_count": 3,
   "metadata": {},
   "outputs": [
    {
     "output_type": "execute_result",
     "data": {
      "text/plain": [
       "{0: {20: array([[0., 0., 0., ..., 0., 0., 0.],\n",
       "         [0., 0., 0., ..., 0., 0., 0.],\n",
       "         [0., 0., 0., ..., 0., 0., 0.],\n",
       "         ...,\n",
       "         [0., 0., 0., ..., 0., 0., 0.],\n",
       "         [0., 0., 0., ..., 0., 0., 0.],\n",
       "         [0., 0., 0., ..., 0., 0., 0.]]),\n",
       "  21: array([[0., 0., 0., ..., 0., 0., 0.],\n",
       "         [0., 0., 0., ..., 0., 0., 0.],\n",
       "         [0., 0., 0., ..., 0., 0., 0.],\n",
       "         ...,\n",
       "         [0., 0., 0., ..., 0., 0., 0.],\n",
       "         [0., 0., 0., ..., 0., 0., 0.],\n",
       "         [0., 0., 0., ..., 0., 0., 0.]]),\n",
       "  22: array([[0., 0., 0., ..., 0., 0., 0.],\n",
       "         [0., 0., 0., ..., 0., 0., 0.],\n",
       "         [0., 0., 0., ..., 0., 0., 0.],\n",
       "         ...,\n",
       "         [0., 0., 0., ..., 0., 0., 0.],\n",
       "         [0., 0., 0., ..., 0., 0., 0.],\n",
       "         [0., 0., 0., ..., 0., 0., 0.]]),\n",
       "  25: array([[0., 0., 0., ..., 0., 0., 0.],\n",
       "         [0., 0., 0., ..., 0., 0., 0.],\n",
       "         [0., 0., 0., ..., 0., 0., 0.],\n",
       "         ...,\n",
       "         [0., 0., 0., ..., 0., 0., 0.],\n",
       "         [0., 0., 0., ..., 0., 0., 0.],\n",
       "         [0., 0., 0., ..., 0., 0., 0.]]),\n",
       "  26: array([[0., 0., 0., ..., 0., 0., 0.],\n",
       "         [0., 0., 0., ..., 0., 0., 0.],\n",
       "         [0., 0., 0., ..., 0., 0., 0.],\n",
       "         ...,\n",
       "         [0., 0., 0., ..., 0., 0., 0.],\n",
       "         [0., 0., 0., ..., 0., 0., 0.],\n",
       "         [0., 0., 0., ..., 0., 0., 0.]])}}"
      ]
     },
     "metadata": {},
     "execution_count": 3
    },
    {
     "output_type": "stream",
     "name": "stdout",
     "text": [
      "time: 0 ns\n"
     ]
    }
   ],
   "source": [
    "#Print out the data\n",
    "data"
   ]
  },
  {
   "cell_type": "code",
   "execution_count": 4,
   "metadata": {},
   "outputs": [
    {
     "output_type": "execute_result",
     "data": {
      "text/plain": [
       "array([1, 2, 3, 4, 5, 6])"
      ]
     },
     "metadata": {},
     "execution_count": 4
    },
    {
     "output_type": "stream",
     "name": "stdout",
     "text": [
      "time: 0 ns\n"
     ]
    }
   ],
   "source": [
    "#we want to make use of the app count of prev session, therefore we will need to concate 2 vector\n",
    "list_a = [1,2,3]\n",
    "list_b = [4,5,6]\n",
    "list_c = np.concatenate((list_a, list_b), axis = 0)\n",
    "list_c"
   ]
  },
  {
   "source": [
    "## The following shows the way we wanted to concate data, with value represent the index of rows\n",
    "## every row: session, loc + prev app count as feature, current app count as label"
   ],
   "cell_type": "markdown",
   "metadata": {}
  },
  {
   "cell_type": "code",
   "execution_count": 5,
   "metadata": {},
   "outputs": [
    {
     "output_type": "stream",
     "name": "stdout",
     "text": [
      "time: 0 ns\n"
     ]
    }
   ],
   "source": [
    "# from IPython import display\n",
    "# display.Image(r\"C:/Users/natha/Desktop/Base_model.png\")"
   ]
  },
  {
   "cell_type": "code",
   "execution_count": 6,
   "metadata": {},
   "outputs": [
    {
     "output_type": "execute_result",
     "data": {
      "text/plain": [
       "     0        1      2     3     4      5      6     7     8     9     ...  \\\n",
       "0   0.000    0.000  0.000 0.000 0.000  0.000  0.000 0.000 0.000 0.000  ...   \n",
       "1   0.000    0.000  0.000 0.000 0.000  0.000  0.000 0.000 0.000 0.000  ...   \n",
       "2   0.000    0.000  0.000 0.000 0.000  0.000  0.000 0.000 0.000 0.000  ...   \n",
       "3   0.000    0.000  0.000 0.000 0.000  0.000  0.000 0.000 0.000 0.000  ...   \n",
       "4   0.000    0.000  0.000 0.000 0.000  0.000  0.000 0.000 0.000 0.000  ...   \n",
       "5   0.000    0.000  0.000 0.000 0.000  0.000  0.000 0.000 0.000 0.000  ...   \n",
       "6   0.000    0.000  0.000 0.000 0.000  0.000  0.000 0.000 0.000 0.000  ...   \n",
       "7   0.000    0.000  0.000 0.000 0.000  0.000  0.000 0.000 0.000 0.000  ...   \n",
       "8   0.000    0.000  0.000 0.000 0.000  0.000  0.000 0.000 0.000 0.000  ...   \n",
       "9   0.000    0.000  0.000 0.000 0.000  0.000  0.000 0.000 0.000 0.000  ...   \n",
       "10  0.000    0.000  0.000 0.000 0.000  0.000  0.000 0.000 0.000 0.000  ...   \n",
       "11  0.000    0.000  0.000 0.000 0.000  0.000  0.000 0.000 0.000 0.000  ...   \n",
       "12  0.000    0.000  0.000 0.000 0.000  0.000  0.000 0.000 0.000 0.000  ...   \n",
       "13  0.000    0.000  0.000 0.000 0.000  0.000  0.000 0.000 0.000 0.000  ...   \n",
       "14  0.000    0.000  0.000 0.000 0.000  0.000  0.000 0.000 0.000 0.000  ...   \n",
       "15  0.000    0.000  0.000 0.000 0.000  0.000  0.000 0.000 0.000 0.000  ...   \n",
       "16  0.000    0.000  0.000 0.000 0.000  0.000  0.000 0.000 0.000 0.000  ...   \n",
       "17 17.000 8194.000  2.000 0.000 0.000  5.000  0.000 0.000 0.000 0.000  ...   \n",
       "18  0.000    0.000  0.000 0.000 0.000  0.000  0.000 0.000 0.000 0.000  ...   \n",
       "19 19.000 6708.000  8.000 0.000 0.000  2.000 10.000 0.000 0.000 0.000  ...   \n",
       "20  0.000    0.000  0.000 0.000 0.000  0.000  0.000 0.000 0.000 0.000  ...   \n",
       "21 21.000 7209.000  0.000 0.000 0.000  0.000  0.000 0.000 0.000 0.000  ...   \n",
       "22 22.000 7210.000  3.000 0.000 0.000  0.000  3.000 0.000 0.000 0.000  ...   \n",
       "23  0.000    0.000  0.000 0.000 0.000  0.000  0.000 0.000 0.000 0.000  ...   \n",
       "24 24.000 7210.000  0.000 0.000 0.000  0.000  0.000 0.000 0.000 0.000  ...   \n",
       "25 25.000 6537.000  1.000 0.000 0.000  0.000  0.000 0.000 0.000 0.000  ...   \n",
       "26  0.000    0.000  0.000 0.000 0.000  0.000  0.000 0.000 0.000 0.000  ...   \n",
       "27 27.000 6708.000  5.000 0.000 0.000  0.000  0.000 0.000 0.000 0.000  ...   \n",
       "28 28.000 7210.000  0.000 0.000 0.000  0.000  0.000 0.000 0.000 0.000  ...   \n",
       "29  0.000    0.000  0.000 0.000 0.000  0.000  0.000 0.000 0.000 0.000  ...   \n",
       "30  0.000    0.000  0.000 0.000 0.000  0.000  0.000 0.000 0.000 0.000  ...   \n",
       "31  0.000    0.000  0.000 0.000 0.000  0.000  0.000 0.000 0.000 0.000  ...   \n",
       "32  0.000    0.000  0.000 0.000 0.000  0.000  0.000 0.000 0.000 0.000  ...   \n",
       "33  0.000    0.000  0.000 0.000 0.000  0.000  0.000 0.000 0.000 0.000  ...   \n",
       "34  0.000    0.000  0.000 0.000 0.000  0.000  0.000 0.000 0.000 0.000  ...   \n",
       "35 35.000 7210.000  1.000 0.000 0.000  0.000  0.000 0.000 0.000 0.000  ...   \n",
       "36 36.000 7549.000  6.000 0.000 0.000  2.000  0.000 0.000 0.000 0.000  ...   \n",
       "37 37.000 7549.000  1.000 0.000 0.000  0.000  4.000 0.000 0.000 0.000  ...   \n",
       "38 38.000 7549.000 17.000 0.000 0.000  0.000  1.000 0.000 0.000 0.000  ...   \n",
       "39 39.000 7549.000  2.000 0.000 0.000  0.000  0.000 0.000 0.000 0.000  ...   \n",
       "40 40.000 7548.000  7.000 0.000 0.000  0.000  9.000 0.000 0.000 0.000  ...   \n",
       "41 41.000 7549.000  5.000 0.000 0.000  0.000  0.000 0.000 0.000 0.000  ...   \n",
       "42 42.000 7549.000  9.000 0.000 0.000 27.000 13.000 0.000 0.000 0.000  ...   \n",
       "43  0.000    0.000  0.000 0.000 0.000  0.000  0.000 0.000 0.000 0.000  ...   \n",
       "44  0.000    0.000  0.000 0.000 0.000  0.000  0.000 0.000 0.000 0.000  ...   \n",
       "45  0.000    0.000  0.000 0.000 0.000  0.000  0.000 0.000 0.000 0.000  ...   \n",
       "46  0.000    0.000  0.000 0.000 0.000  0.000  0.000 0.000 0.000 0.000  ...   \n",
       "47  0.000    0.000  0.000 0.000 0.000  0.000  0.000 0.000 0.000 0.000  ...   \n",
       "\n",
       "    1992  1993  1994  1995  1996  1997  1998  1999  2000  2001  \n",
       "0  0.000 0.000 0.000 0.000 0.000 0.000 0.000 0.000 0.000 0.000  \n",
       "1  0.000 0.000 0.000 0.000 0.000 0.000 0.000 0.000 0.000 0.000  \n",
       "2  0.000 0.000 0.000 0.000 0.000 0.000 0.000 0.000 0.000 0.000  \n",
       "3  0.000 0.000 0.000 0.000 0.000 0.000 0.000 0.000 0.000 0.000  \n",
       "4  0.000 0.000 0.000 0.000 0.000 0.000 0.000 0.000 0.000 0.000  \n",
       "5  0.000 0.000 0.000 0.000 0.000 0.000 0.000 0.000 0.000 0.000  \n",
       "6  0.000 0.000 0.000 0.000 0.000 0.000 0.000 0.000 0.000 0.000  \n",
       "7  0.000 0.000 0.000 0.000 0.000 0.000 0.000 0.000 0.000 0.000  \n",
       "8  0.000 0.000 0.000 0.000 0.000 0.000 0.000 0.000 0.000 0.000  \n",
       "9  0.000 0.000 0.000 0.000 0.000 0.000 0.000 0.000 0.000 0.000  \n",
       "10 0.000 0.000 0.000 0.000 0.000 0.000 0.000 0.000 0.000 0.000  \n",
       "11 0.000 0.000 0.000 0.000 0.000 0.000 0.000 0.000 0.000 0.000  \n",
       "12 0.000 0.000 0.000 0.000 0.000 0.000 0.000 0.000 0.000 0.000  \n",
       "13 0.000 0.000 0.000 0.000 0.000 0.000 0.000 0.000 0.000 0.000  \n",
       "14 0.000 0.000 0.000 0.000 0.000 0.000 0.000 0.000 0.000 0.000  \n",
       "15 0.000 0.000 0.000 0.000 0.000 0.000 0.000 0.000 0.000 0.000  \n",
       "16 0.000 0.000 0.000 0.000 0.000 0.000 0.000 0.000 0.000 0.000  \n",
       "17 0.000 0.000 0.000 0.000 0.000 0.000 0.000 0.000 0.000 0.000  \n",
       "18 0.000 0.000 0.000 0.000 0.000 0.000 0.000 0.000 0.000 0.000  \n",
       "19 0.000 0.000 0.000 0.000 0.000 0.000 0.000 0.000 0.000 0.000  \n",
       "20 0.000 0.000 0.000 0.000 0.000 0.000 0.000 0.000 0.000 0.000  \n",
       "21 0.000 0.000 0.000 0.000 0.000 0.000 0.000 0.000 0.000 0.000  \n",
       "22 0.000 0.000 0.000 0.000 0.000 0.000 0.000 0.000 0.000 0.000  \n",
       "23 0.000 0.000 0.000 0.000 0.000 0.000 0.000 0.000 0.000 0.000  \n",
       "24 0.000 0.000 0.000 0.000 0.000 0.000 0.000 0.000 0.000 0.000  \n",
       "25 0.000 0.000 0.000 0.000 0.000 0.000 0.000 0.000 0.000 0.000  \n",
       "26 0.000 0.000 0.000 0.000 0.000 0.000 0.000 0.000 0.000 0.000  \n",
       "27 0.000 0.000 0.000 0.000 0.000 0.000 0.000 0.000 0.000 0.000  \n",
       "28 0.000 0.000 0.000 0.000 0.000 0.000 0.000 0.000 0.000 0.000  \n",
       "29 0.000 0.000 0.000 0.000 0.000 0.000 0.000 0.000 0.000 0.000  \n",
       "30 0.000 0.000 0.000 0.000 0.000 0.000 0.000 0.000 0.000 0.000  \n",
       "31 0.000 0.000 0.000 0.000 0.000 0.000 0.000 0.000 0.000 0.000  \n",
       "32 0.000 0.000 0.000 0.000 0.000 0.000 0.000 0.000 0.000 0.000  \n",
       "33 0.000 0.000 0.000 0.000 0.000 0.000 0.000 0.000 0.000 0.000  \n",
       "34 0.000 0.000 0.000 0.000 0.000 0.000 0.000 0.000 0.000 0.000  \n",
       "35 0.000 0.000 0.000 0.000 0.000 0.000 0.000 0.000 0.000 0.000  \n",
       "36 0.000 0.000 0.000 0.000 0.000 0.000 0.000 0.000 0.000 0.000  \n",
       "37 0.000 0.000 0.000 0.000 0.000 0.000 0.000 0.000 0.000 0.000  \n",
       "38 0.000 0.000 0.000 0.000 0.000 0.000 0.000 0.000 0.000 0.000  \n",
       "39 0.000 0.000 0.000 0.000 0.000 0.000 0.000 0.000 0.000 0.000  \n",
       "40 0.000 0.000 0.000 0.000 0.000 0.000 0.000 0.000 0.000 0.000  \n",
       "41 0.000 0.000 0.000 0.000 0.000 0.000 0.000 0.000 0.000 0.000  \n",
       "42 0.000 0.000 0.000 0.000 0.000 0.000 0.000 0.000 0.000 0.000  \n",
       "43 0.000 0.000 0.000 0.000 0.000 0.000 0.000 0.000 0.000 0.000  \n",
       "44 0.000 0.000 0.000 0.000 0.000 0.000 0.000 0.000 0.000 0.000  \n",
       "45 0.000 0.000 0.000 0.000 0.000 0.000 0.000 0.000 0.000 0.000  \n",
       "46 0.000 0.000 0.000 0.000 0.000 0.000 0.000 0.000 0.000 0.000  \n",
       "47 0.000 0.000 0.000 0.000 0.000 0.000 0.000 0.000 0.000 0.000  \n",
       "\n",
       "[48 rows x 2002 columns]"
      ],
      "text/html": "<div>\n<style scoped>\n    .dataframe tbody tr th:only-of-type {\n        vertical-align: middle;\n    }\n\n    .dataframe tbody tr th {\n        vertical-align: top;\n    }\n\n    .dataframe thead th {\n        text-align: right;\n    }\n</style>\n<table border=\"1\" class=\"dataframe\">\n  <thead>\n    <tr style=\"text-align: right;\">\n      <th></th>\n      <th>0</th>\n      <th>1</th>\n      <th>2</th>\n      <th>3</th>\n      <th>4</th>\n      <th>5</th>\n      <th>6</th>\n      <th>7</th>\n      <th>8</th>\n      <th>9</th>\n      <th>...</th>\n      <th>1992</th>\n      <th>1993</th>\n      <th>1994</th>\n      <th>1995</th>\n      <th>1996</th>\n      <th>1997</th>\n      <th>1998</th>\n      <th>1999</th>\n      <th>2000</th>\n      <th>2001</th>\n    </tr>\n  </thead>\n  <tbody>\n    <tr>\n      <th>0</th>\n      <td>0.000</td>\n      <td>0.000</td>\n      <td>0.000</td>\n      <td>0.000</td>\n      <td>0.000</td>\n      <td>0.000</td>\n      <td>0.000</td>\n      <td>0.000</td>\n      <td>0.000</td>\n      <td>0.000</td>\n      <td>...</td>\n      <td>0.000</td>\n      <td>0.000</td>\n      <td>0.000</td>\n      <td>0.000</td>\n      <td>0.000</td>\n      <td>0.000</td>\n      <td>0.000</td>\n      <td>0.000</td>\n      <td>0.000</td>\n      <td>0.000</td>\n    </tr>\n    <tr>\n      <th>1</th>\n      <td>0.000</td>\n      <td>0.000</td>\n      <td>0.000</td>\n      <td>0.000</td>\n      <td>0.000</td>\n      <td>0.000</td>\n      <td>0.000</td>\n      <td>0.000</td>\n      <td>0.000</td>\n      <td>0.000</td>\n      <td>...</td>\n      <td>0.000</td>\n      <td>0.000</td>\n      <td>0.000</td>\n      <td>0.000</td>\n      <td>0.000</td>\n      <td>0.000</td>\n      <td>0.000</td>\n      <td>0.000</td>\n      <td>0.000</td>\n      <td>0.000</td>\n    </tr>\n    <tr>\n      <th>2</th>\n      <td>0.000</td>\n      <td>0.000</td>\n      <td>0.000</td>\n      <td>0.000</td>\n      <td>0.000</td>\n      <td>0.000</td>\n      <td>0.000</td>\n      <td>0.000</td>\n      <td>0.000</td>\n      <td>0.000</td>\n      <td>...</td>\n      <td>0.000</td>\n      <td>0.000</td>\n      <td>0.000</td>\n      <td>0.000</td>\n      <td>0.000</td>\n      <td>0.000</td>\n      <td>0.000</td>\n      <td>0.000</td>\n      <td>0.000</td>\n      <td>0.000</td>\n    </tr>\n    <tr>\n      <th>3</th>\n      <td>0.000</td>\n      <td>0.000</td>\n      <td>0.000</td>\n      <td>0.000</td>\n      <td>0.000</td>\n      <td>0.000</td>\n      <td>0.000</td>\n      <td>0.000</td>\n      <td>0.000</td>\n      <td>0.000</td>\n      <td>...</td>\n      <td>0.000</td>\n      <td>0.000</td>\n      <td>0.000</td>\n      <td>0.000</td>\n      <td>0.000</td>\n      <td>0.000</td>\n      <td>0.000</td>\n      <td>0.000</td>\n      <td>0.000</td>\n      <td>0.000</td>\n    </tr>\n    <tr>\n      <th>4</th>\n      <td>0.000</td>\n      <td>0.000</td>\n      <td>0.000</td>\n      <td>0.000</td>\n      <td>0.000</td>\n      <td>0.000</td>\n      <td>0.000</td>\n      <td>0.000</td>\n      <td>0.000</td>\n      <td>0.000</td>\n      <td>...</td>\n      <td>0.000</td>\n      <td>0.000</td>\n      <td>0.000</td>\n      <td>0.000</td>\n      <td>0.000</td>\n      <td>0.000</td>\n      <td>0.000</td>\n      <td>0.000</td>\n      <td>0.000</td>\n      <td>0.000</td>\n    </tr>\n    <tr>\n      <th>5</th>\n      <td>0.000</td>\n      <td>0.000</td>\n      <td>0.000</td>\n      <td>0.000</td>\n      <td>0.000</td>\n      <td>0.000</td>\n      <td>0.000</td>\n      <td>0.000</td>\n      <td>0.000</td>\n      <td>0.000</td>\n      <td>...</td>\n      <td>0.000</td>\n      <td>0.000</td>\n      <td>0.000</td>\n      <td>0.000</td>\n      <td>0.000</td>\n      <td>0.000</td>\n      <td>0.000</td>\n      <td>0.000</td>\n      <td>0.000</td>\n      <td>0.000</td>\n    </tr>\n    <tr>\n      <th>6</th>\n      <td>0.000</td>\n      <td>0.000</td>\n      <td>0.000</td>\n      <td>0.000</td>\n      <td>0.000</td>\n      <td>0.000</td>\n      <td>0.000</td>\n      <td>0.000</td>\n      <td>0.000</td>\n      <td>0.000</td>\n      <td>...</td>\n      <td>0.000</td>\n      <td>0.000</td>\n      <td>0.000</td>\n      <td>0.000</td>\n      <td>0.000</td>\n      <td>0.000</td>\n      <td>0.000</td>\n      <td>0.000</td>\n      <td>0.000</td>\n      <td>0.000</td>\n    </tr>\n    <tr>\n      <th>7</th>\n      <td>0.000</td>\n      <td>0.000</td>\n      <td>0.000</td>\n      <td>0.000</td>\n      <td>0.000</td>\n      <td>0.000</td>\n      <td>0.000</td>\n      <td>0.000</td>\n      <td>0.000</td>\n      <td>0.000</td>\n      <td>...</td>\n      <td>0.000</td>\n      <td>0.000</td>\n      <td>0.000</td>\n      <td>0.000</td>\n      <td>0.000</td>\n      <td>0.000</td>\n      <td>0.000</td>\n      <td>0.000</td>\n      <td>0.000</td>\n      <td>0.000</td>\n    </tr>\n    <tr>\n      <th>8</th>\n      <td>0.000</td>\n      <td>0.000</td>\n      <td>0.000</td>\n      <td>0.000</td>\n      <td>0.000</td>\n      <td>0.000</td>\n      <td>0.000</td>\n      <td>0.000</td>\n      <td>0.000</td>\n      <td>0.000</td>\n      <td>...</td>\n      <td>0.000</td>\n      <td>0.000</td>\n      <td>0.000</td>\n      <td>0.000</td>\n      <td>0.000</td>\n      <td>0.000</td>\n      <td>0.000</td>\n      <td>0.000</td>\n      <td>0.000</td>\n      <td>0.000</td>\n    </tr>\n    <tr>\n      <th>9</th>\n      <td>0.000</td>\n      <td>0.000</td>\n      <td>0.000</td>\n      <td>0.000</td>\n      <td>0.000</td>\n      <td>0.000</td>\n      <td>0.000</td>\n      <td>0.000</td>\n      <td>0.000</td>\n      <td>0.000</td>\n      <td>...</td>\n      <td>0.000</td>\n      <td>0.000</td>\n      <td>0.000</td>\n      <td>0.000</td>\n      <td>0.000</td>\n      <td>0.000</td>\n      <td>0.000</td>\n      <td>0.000</td>\n      <td>0.000</td>\n      <td>0.000</td>\n    </tr>\n    <tr>\n      <th>10</th>\n      <td>0.000</td>\n      <td>0.000</td>\n      <td>0.000</td>\n      <td>0.000</td>\n      <td>0.000</td>\n      <td>0.000</td>\n      <td>0.000</td>\n      <td>0.000</td>\n      <td>0.000</td>\n      <td>0.000</td>\n      <td>...</td>\n      <td>0.000</td>\n      <td>0.000</td>\n      <td>0.000</td>\n      <td>0.000</td>\n      <td>0.000</td>\n      <td>0.000</td>\n      <td>0.000</td>\n      <td>0.000</td>\n      <td>0.000</td>\n      <td>0.000</td>\n    </tr>\n    <tr>\n      <th>11</th>\n      <td>0.000</td>\n      <td>0.000</td>\n      <td>0.000</td>\n      <td>0.000</td>\n      <td>0.000</td>\n      <td>0.000</td>\n      <td>0.000</td>\n      <td>0.000</td>\n      <td>0.000</td>\n      <td>0.000</td>\n      <td>...</td>\n      <td>0.000</td>\n      <td>0.000</td>\n      <td>0.000</td>\n      <td>0.000</td>\n      <td>0.000</td>\n      <td>0.000</td>\n      <td>0.000</td>\n      <td>0.000</td>\n      <td>0.000</td>\n      <td>0.000</td>\n    </tr>\n    <tr>\n      <th>12</th>\n      <td>0.000</td>\n      <td>0.000</td>\n      <td>0.000</td>\n      <td>0.000</td>\n      <td>0.000</td>\n      <td>0.000</td>\n      <td>0.000</td>\n      <td>0.000</td>\n      <td>0.000</td>\n      <td>0.000</td>\n      <td>...</td>\n      <td>0.000</td>\n      <td>0.000</td>\n      <td>0.000</td>\n      <td>0.000</td>\n      <td>0.000</td>\n      <td>0.000</td>\n      <td>0.000</td>\n      <td>0.000</td>\n      <td>0.000</td>\n      <td>0.000</td>\n    </tr>\n    <tr>\n      <th>13</th>\n      <td>0.000</td>\n      <td>0.000</td>\n      <td>0.000</td>\n      <td>0.000</td>\n      <td>0.000</td>\n      <td>0.000</td>\n      <td>0.000</td>\n      <td>0.000</td>\n      <td>0.000</td>\n      <td>0.000</td>\n      <td>...</td>\n      <td>0.000</td>\n      <td>0.000</td>\n      <td>0.000</td>\n      <td>0.000</td>\n      <td>0.000</td>\n      <td>0.000</td>\n      <td>0.000</td>\n      <td>0.000</td>\n      <td>0.000</td>\n      <td>0.000</td>\n    </tr>\n    <tr>\n      <th>14</th>\n      <td>0.000</td>\n      <td>0.000</td>\n      <td>0.000</td>\n      <td>0.000</td>\n      <td>0.000</td>\n      <td>0.000</td>\n      <td>0.000</td>\n      <td>0.000</td>\n      <td>0.000</td>\n      <td>0.000</td>\n      <td>...</td>\n      <td>0.000</td>\n      <td>0.000</td>\n      <td>0.000</td>\n      <td>0.000</td>\n      <td>0.000</td>\n      <td>0.000</td>\n      <td>0.000</td>\n      <td>0.000</td>\n      <td>0.000</td>\n      <td>0.000</td>\n    </tr>\n    <tr>\n      <th>15</th>\n      <td>0.000</td>\n      <td>0.000</td>\n      <td>0.000</td>\n      <td>0.000</td>\n      <td>0.000</td>\n      <td>0.000</td>\n      <td>0.000</td>\n      <td>0.000</td>\n      <td>0.000</td>\n      <td>0.000</td>\n      <td>...</td>\n      <td>0.000</td>\n      <td>0.000</td>\n      <td>0.000</td>\n      <td>0.000</td>\n      <td>0.000</td>\n      <td>0.000</td>\n      <td>0.000</td>\n      <td>0.000</td>\n      <td>0.000</td>\n      <td>0.000</td>\n    </tr>\n    <tr>\n      <th>16</th>\n      <td>0.000</td>\n      <td>0.000</td>\n      <td>0.000</td>\n      <td>0.000</td>\n      <td>0.000</td>\n      <td>0.000</td>\n      <td>0.000</td>\n      <td>0.000</td>\n      <td>0.000</td>\n      <td>0.000</td>\n      <td>...</td>\n      <td>0.000</td>\n      <td>0.000</td>\n      <td>0.000</td>\n      <td>0.000</td>\n      <td>0.000</td>\n      <td>0.000</td>\n      <td>0.000</td>\n      <td>0.000</td>\n      <td>0.000</td>\n      <td>0.000</td>\n    </tr>\n    <tr>\n      <th>17</th>\n      <td>17.000</td>\n      <td>8194.000</td>\n      <td>2.000</td>\n      <td>0.000</td>\n      <td>0.000</td>\n      <td>5.000</td>\n      <td>0.000</td>\n      <td>0.000</td>\n      <td>0.000</td>\n      <td>0.000</td>\n      <td>...</td>\n      <td>0.000</td>\n      <td>0.000</td>\n      <td>0.000</td>\n      <td>0.000</td>\n      <td>0.000</td>\n      <td>0.000</td>\n      <td>0.000</td>\n      <td>0.000</td>\n      <td>0.000</td>\n      <td>0.000</td>\n    </tr>\n    <tr>\n      <th>18</th>\n      <td>0.000</td>\n      <td>0.000</td>\n      <td>0.000</td>\n      <td>0.000</td>\n      <td>0.000</td>\n      <td>0.000</td>\n      <td>0.000</td>\n      <td>0.000</td>\n      <td>0.000</td>\n      <td>0.000</td>\n      <td>...</td>\n      <td>0.000</td>\n      <td>0.000</td>\n      <td>0.000</td>\n      <td>0.000</td>\n      <td>0.000</td>\n      <td>0.000</td>\n      <td>0.000</td>\n      <td>0.000</td>\n      <td>0.000</td>\n      <td>0.000</td>\n    </tr>\n    <tr>\n      <th>19</th>\n      <td>19.000</td>\n      <td>6708.000</td>\n      <td>8.000</td>\n      <td>0.000</td>\n      <td>0.000</td>\n      <td>2.000</td>\n      <td>10.000</td>\n      <td>0.000</td>\n      <td>0.000</td>\n      <td>0.000</td>\n      <td>...</td>\n      <td>0.000</td>\n      <td>0.000</td>\n      <td>0.000</td>\n      <td>0.000</td>\n      <td>0.000</td>\n      <td>0.000</td>\n      <td>0.000</td>\n      <td>0.000</td>\n      <td>0.000</td>\n      <td>0.000</td>\n    </tr>\n    <tr>\n      <th>20</th>\n      <td>0.000</td>\n      <td>0.000</td>\n      <td>0.000</td>\n      <td>0.000</td>\n      <td>0.000</td>\n      <td>0.000</td>\n      <td>0.000</td>\n      <td>0.000</td>\n      <td>0.000</td>\n      <td>0.000</td>\n      <td>...</td>\n      <td>0.000</td>\n      <td>0.000</td>\n      <td>0.000</td>\n      <td>0.000</td>\n      <td>0.000</td>\n      <td>0.000</td>\n      <td>0.000</td>\n      <td>0.000</td>\n      <td>0.000</td>\n      <td>0.000</td>\n    </tr>\n    <tr>\n      <th>21</th>\n      <td>21.000</td>\n      <td>7209.000</td>\n      <td>0.000</td>\n      <td>0.000</td>\n      <td>0.000</td>\n      <td>0.000</td>\n      <td>0.000</td>\n      <td>0.000</td>\n      <td>0.000</td>\n      <td>0.000</td>\n      <td>...</td>\n      <td>0.000</td>\n      <td>0.000</td>\n      <td>0.000</td>\n      <td>0.000</td>\n      <td>0.000</td>\n      <td>0.000</td>\n      <td>0.000</td>\n      <td>0.000</td>\n      <td>0.000</td>\n      <td>0.000</td>\n    </tr>\n    <tr>\n      <th>22</th>\n      <td>22.000</td>\n      <td>7210.000</td>\n      <td>3.000</td>\n      <td>0.000</td>\n      <td>0.000</td>\n      <td>0.000</td>\n      <td>3.000</td>\n      <td>0.000</td>\n      <td>0.000</td>\n      <td>0.000</td>\n      <td>...</td>\n      <td>0.000</td>\n      <td>0.000</td>\n      <td>0.000</td>\n      <td>0.000</td>\n      <td>0.000</td>\n      <td>0.000</td>\n      <td>0.000</td>\n      <td>0.000</td>\n      <td>0.000</td>\n      <td>0.000</td>\n    </tr>\n    <tr>\n      <th>23</th>\n      <td>0.000</td>\n      <td>0.000</td>\n      <td>0.000</td>\n      <td>0.000</td>\n      <td>0.000</td>\n      <td>0.000</td>\n      <td>0.000</td>\n      <td>0.000</td>\n      <td>0.000</td>\n      <td>0.000</td>\n      <td>...</td>\n      <td>0.000</td>\n      <td>0.000</td>\n      <td>0.000</td>\n      <td>0.000</td>\n      <td>0.000</td>\n      <td>0.000</td>\n      <td>0.000</td>\n      <td>0.000</td>\n      <td>0.000</td>\n      <td>0.000</td>\n    </tr>\n    <tr>\n      <th>24</th>\n      <td>24.000</td>\n      <td>7210.000</td>\n      <td>0.000</td>\n      <td>0.000</td>\n      <td>0.000</td>\n      <td>0.000</td>\n      <td>0.000</td>\n      <td>0.000</td>\n      <td>0.000</td>\n      <td>0.000</td>\n      <td>...</td>\n      <td>0.000</td>\n      <td>0.000</td>\n      <td>0.000</td>\n      <td>0.000</td>\n      <td>0.000</td>\n      <td>0.000</td>\n      <td>0.000</td>\n      <td>0.000</td>\n      <td>0.000</td>\n      <td>0.000</td>\n    </tr>\n    <tr>\n      <th>25</th>\n      <td>25.000</td>\n      <td>6537.000</td>\n      <td>1.000</td>\n      <td>0.000</td>\n      <td>0.000</td>\n      <td>0.000</td>\n      <td>0.000</td>\n      <td>0.000</td>\n      <td>0.000</td>\n      <td>0.000</td>\n      <td>...</td>\n      <td>0.000</td>\n      <td>0.000</td>\n      <td>0.000</td>\n      <td>0.000</td>\n      <td>0.000</td>\n      <td>0.000</td>\n      <td>0.000</td>\n      <td>0.000</td>\n      <td>0.000</td>\n      <td>0.000</td>\n    </tr>\n    <tr>\n      <th>26</th>\n      <td>0.000</td>\n      <td>0.000</td>\n      <td>0.000</td>\n      <td>0.000</td>\n      <td>0.000</td>\n      <td>0.000</td>\n      <td>0.000</td>\n      <td>0.000</td>\n      <td>0.000</td>\n      <td>0.000</td>\n      <td>...</td>\n      <td>0.000</td>\n      <td>0.000</td>\n      <td>0.000</td>\n      <td>0.000</td>\n      <td>0.000</td>\n      <td>0.000</td>\n      <td>0.000</td>\n      <td>0.000</td>\n      <td>0.000</td>\n      <td>0.000</td>\n    </tr>\n    <tr>\n      <th>27</th>\n      <td>27.000</td>\n      <td>6708.000</td>\n      <td>5.000</td>\n      <td>0.000</td>\n      <td>0.000</td>\n      <td>0.000</td>\n      <td>0.000</td>\n      <td>0.000</td>\n      <td>0.000</td>\n      <td>0.000</td>\n      <td>...</td>\n      <td>0.000</td>\n      <td>0.000</td>\n      <td>0.000</td>\n      <td>0.000</td>\n      <td>0.000</td>\n      <td>0.000</td>\n      <td>0.000</td>\n      <td>0.000</td>\n      <td>0.000</td>\n      <td>0.000</td>\n    </tr>\n    <tr>\n      <th>28</th>\n      <td>28.000</td>\n      <td>7210.000</td>\n      <td>0.000</td>\n      <td>0.000</td>\n      <td>0.000</td>\n      <td>0.000</td>\n      <td>0.000</td>\n      <td>0.000</td>\n      <td>0.000</td>\n      <td>0.000</td>\n      <td>...</td>\n      <td>0.000</td>\n      <td>0.000</td>\n      <td>0.000</td>\n      <td>0.000</td>\n      <td>0.000</td>\n      <td>0.000</td>\n      <td>0.000</td>\n      <td>0.000</td>\n      <td>0.000</td>\n      <td>0.000</td>\n    </tr>\n    <tr>\n      <th>29</th>\n      <td>0.000</td>\n      <td>0.000</td>\n      <td>0.000</td>\n      <td>0.000</td>\n      <td>0.000</td>\n      <td>0.000</td>\n      <td>0.000</td>\n      <td>0.000</td>\n      <td>0.000</td>\n      <td>0.000</td>\n      <td>...</td>\n      <td>0.000</td>\n      <td>0.000</td>\n      <td>0.000</td>\n      <td>0.000</td>\n      <td>0.000</td>\n      <td>0.000</td>\n      <td>0.000</td>\n      <td>0.000</td>\n      <td>0.000</td>\n      <td>0.000</td>\n    </tr>\n    <tr>\n      <th>30</th>\n      <td>0.000</td>\n      <td>0.000</td>\n      <td>0.000</td>\n      <td>0.000</td>\n      <td>0.000</td>\n      <td>0.000</td>\n      <td>0.000</td>\n      <td>0.000</td>\n      <td>0.000</td>\n      <td>0.000</td>\n      <td>...</td>\n      <td>0.000</td>\n      <td>0.000</td>\n      <td>0.000</td>\n      <td>0.000</td>\n      <td>0.000</td>\n      <td>0.000</td>\n      <td>0.000</td>\n      <td>0.000</td>\n      <td>0.000</td>\n      <td>0.000</td>\n    </tr>\n    <tr>\n      <th>31</th>\n      <td>0.000</td>\n      <td>0.000</td>\n      <td>0.000</td>\n      <td>0.000</td>\n      <td>0.000</td>\n      <td>0.000</td>\n      <td>0.000</td>\n      <td>0.000</td>\n      <td>0.000</td>\n      <td>0.000</td>\n      <td>...</td>\n      <td>0.000</td>\n      <td>0.000</td>\n      <td>0.000</td>\n      <td>0.000</td>\n      <td>0.000</td>\n      <td>0.000</td>\n      <td>0.000</td>\n      <td>0.000</td>\n      <td>0.000</td>\n      <td>0.000</td>\n    </tr>\n    <tr>\n      <th>32</th>\n      <td>0.000</td>\n      <td>0.000</td>\n      <td>0.000</td>\n      <td>0.000</td>\n      <td>0.000</td>\n      <td>0.000</td>\n      <td>0.000</td>\n      <td>0.000</td>\n      <td>0.000</td>\n      <td>0.000</td>\n      <td>...</td>\n      <td>0.000</td>\n      <td>0.000</td>\n      <td>0.000</td>\n      <td>0.000</td>\n      <td>0.000</td>\n      <td>0.000</td>\n      <td>0.000</td>\n      <td>0.000</td>\n      <td>0.000</td>\n      <td>0.000</td>\n    </tr>\n    <tr>\n      <th>33</th>\n      <td>0.000</td>\n      <td>0.000</td>\n      <td>0.000</td>\n      <td>0.000</td>\n      <td>0.000</td>\n      <td>0.000</td>\n      <td>0.000</td>\n      <td>0.000</td>\n      <td>0.000</td>\n      <td>0.000</td>\n      <td>...</td>\n      <td>0.000</td>\n      <td>0.000</td>\n      <td>0.000</td>\n      <td>0.000</td>\n      <td>0.000</td>\n      <td>0.000</td>\n      <td>0.000</td>\n      <td>0.000</td>\n      <td>0.000</td>\n      <td>0.000</td>\n    </tr>\n    <tr>\n      <th>34</th>\n      <td>0.000</td>\n      <td>0.000</td>\n      <td>0.000</td>\n      <td>0.000</td>\n      <td>0.000</td>\n      <td>0.000</td>\n      <td>0.000</td>\n      <td>0.000</td>\n      <td>0.000</td>\n      <td>0.000</td>\n      <td>...</td>\n      <td>0.000</td>\n      <td>0.000</td>\n      <td>0.000</td>\n      <td>0.000</td>\n      <td>0.000</td>\n      <td>0.000</td>\n      <td>0.000</td>\n      <td>0.000</td>\n      <td>0.000</td>\n      <td>0.000</td>\n    </tr>\n    <tr>\n      <th>35</th>\n      <td>35.000</td>\n      <td>7210.000</td>\n      <td>1.000</td>\n      <td>0.000</td>\n      <td>0.000</td>\n      <td>0.000</td>\n      <td>0.000</td>\n      <td>0.000</td>\n      <td>0.000</td>\n      <td>0.000</td>\n      <td>...</td>\n      <td>0.000</td>\n      <td>0.000</td>\n      <td>0.000</td>\n      <td>0.000</td>\n      <td>0.000</td>\n      <td>0.000</td>\n      <td>0.000</td>\n      <td>0.000</td>\n      <td>0.000</td>\n      <td>0.000</td>\n    </tr>\n    <tr>\n      <th>36</th>\n      <td>36.000</td>\n      <td>7549.000</td>\n      <td>6.000</td>\n      <td>0.000</td>\n      <td>0.000</td>\n      <td>2.000</td>\n      <td>0.000</td>\n      <td>0.000</td>\n      <td>0.000</td>\n      <td>0.000</td>\n      <td>...</td>\n      <td>0.000</td>\n      <td>0.000</td>\n      <td>0.000</td>\n      <td>0.000</td>\n      <td>0.000</td>\n      <td>0.000</td>\n      <td>0.000</td>\n      <td>0.000</td>\n      <td>0.000</td>\n      <td>0.000</td>\n    </tr>\n    <tr>\n      <th>37</th>\n      <td>37.000</td>\n      <td>7549.000</td>\n      <td>1.000</td>\n      <td>0.000</td>\n      <td>0.000</td>\n      <td>0.000</td>\n      <td>4.000</td>\n      <td>0.000</td>\n      <td>0.000</td>\n      <td>0.000</td>\n      <td>...</td>\n      <td>0.000</td>\n      <td>0.000</td>\n      <td>0.000</td>\n      <td>0.000</td>\n      <td>0.000</td>\n      <td>0.000</td>\n      <td>0.000</td>\n      <td>0.000</td>\n      <td>0.000</td>\n      <td>0.000</td>\n    </tr>\n    <tr>\n      <th>38</th>\n      <td>38.000</td>\n      <td>7549.000</td>\n      <td>17.000</td>\n      <td>0.000</td>\n      <td>0.000</td>\n      <td>0.000</td>\n      <td>1.000</td>\n      <td>0.000</td>\n      <td>0.000</td>\n      <td>0.000</td>\n      <td>...</td>\n      <td>0.000</td>\n      <td>0.000</td>\n      <td>0.000</td>\n      <td>0.000</td>\n      <td>0.000</td>\n      <td>0.000</td>\n      <td>0.000</td>\n      <td>0.000</td>\n      <td>0.000</td>\n      <td>0.000</td>\n    </tr>\n    <tr>\n      <th>39</th>\n      <td>39.000</td>\n      <td>7549.000</td>\n      <td>2.000</td>\n      <td>0.000</td>\n      <td>0.000</td>\n      <td>0.000</td>\n      <td>0.000</td>\n      <td>0.000</td>\n      <td>0.000</td>\n      <td>0.000</td>\n      <td>...</td>\n      <td>0.000</td>\n      <td>0.000</td>\n      <td>0.000</td>\n      <td>0.000</td>\n      <td>0.000</td>\n      <td>0.000</td>\n      <td>0.000</td>\n      <td>0.000</td>\n      <td>0.000</td>\n      <td>0.000</td>\n    </tr>\n    <tr>\n      <th>40</th>\n      <td>40.000</td>\n      <td>7548.000</td>\n      <td>7.000</td>\n      <td>0.000</td>\n      <td>0.000</td>\n      <td>0.000</td>\n      <td>9.000</td>\n      <td>0.000</td>\n      <td>0.000</td>\n      <td>0.000</td>\n      <td>...</td>\n      <td>0.000</td>\n      <td>0.000</td>\n      <td>0.000</td>\n      <td>0.000</td>\n      <td>0.000</td>\n      <td>0.000</td>\n      <td>0.000</td>\n      <td>0.000</td>\n      <td>0.000</td>\n      <td>0.000</td>\n    </tr>\n    <tr>\n      <th>41</th>\n      <td>41.000</td>\n      <td>7549.000</td>\n      <td>5.000</td>\n      <td>0.000</td>\n      <td>0.000</td>\n      <td>0.000</td>\n      <td>0.000</td>\n      <td>0.000</td>\n      <td>0.000</td>\n      <td>0.000</td>\n      <td>...</td>\n      <td>0.000</td>\n      <td>0.000</td>\n      <td>0.000</td>\n      <td>0.000</td>\n      <td>0.000</td>\n      <td>0.000</td>\n      <td>0.000</td>\n      <td>0.000</td>\n      <td>0.000</td>\n      <td>0.000</td>\n    </tr>\n    <tr>\n      <th>42</th>\n      <td>42.000</td>\n      <td>7549.000</td>\n      <td>9.000</td>\n      <td>0.000</td>\n      <td>0.000</td>\n      <td>27.000</td>\n      <td>13.000</td>\n      <td>0.000</td>\n      <td>0.000</td>\n      <td>0.000</td>\n      <td>...</td>\n      <td>0.000</td>\n      <td>0.000</td>\n      <td>0.000</td>\n      <td>0.000</td>\n      <td>0.000</td>\n      <td>0.000</td>\n      <td>0.000</td>\n      <td>0.000</td>\n      <td>0.000</td>\n      <td>0.000</td>\n    </tr>\n    <tr>\n      <th>43</th>\n      <td>0.000</td>\n      <td>0.000</td>\n      <td>0.000</td>\n      <td>0.000</td>\n      <td>0.000</td>\n      <td>0.000</td>\n      <td>0.000</td>\n      <td>0.000</td>\n      <td>0.000</td>\n      <td>0.000</td>\n      <td>...</td>\n      <td>0.000</td>\n      <td>0.000</td>\n      <td>0.000</td>\n      <td>0.000</td>\n      <td>0.000</td>\n      <td>0.000</td>\n      <td>0.000</td>\n      <td>0.000</td>\n      <td>0.000</td>\n      <td>0.000</td>\n    </tr>\n    <tr>\n      <th>44</th>\n      <td>0.000</td>\n      <td>0.000</td>\n      <td>0.000</td>\n      <td>0.000</td>\n      <td>0.000</td>\n      <td>0.000</td>\n      <td>0.000</td>\n      <td>0.000</td>\n      <td>0.000</td>\n      <td>0.000</td>\n      <td>...</td>\n      <td>0.000</td>\n      <td>0.000</td>\n      <td>0.000</td>\n      <td>0.000</td>\n      <td>0.000</td>\n      <td>0.000</td>\n      <td>0.000</td>\n      <td>0.000</td>\n      <td>0.000</td>\n      <td>0.000</td>\n    </tr>\n    <tr>\n      <th>45</th>\n      <td>0.000</td>\n      <td>0.000</td>\n      <td>0.000</td>\n      <td>0.000</td>\n      <td>0.000</td>\n      <td>0.000</td>\n      <td>0.000</td>\n      <td>0.000</td>\n      <td>0.000</td>\n      <td>0.000</td>\n      <td>...</td>\n      <td>0.000</td>\n      <td>0.000</td>\n      <td>0.000</td>\n      <td>0.000</td>\n      <td>0.000</td>\n      <td>0.000</td>\n      <td>0.000</td>\n      <td>0.000</td>\n      <td>0.000</td>\n      <td>0.000</td>\n    </tr>\n    <tr>\n      <th>46</th>\n      <td>0.000</td>\n      <td>0.000</td>\n      <td>0.000</td>\n      <td>0.000</td>\n      <td>0.000</td>\n      <td>0.000</td>\n      <td>0.000</td>\n      <td>0.000</td>\n      <td>0.000</td>\n      <td>0.000</td>\n      <td>...</td>\n      <td>0.000</td>\n      <td>0.000</td>\n      <td>0.000</td>\n      <td>0.000</td>\n      <td>0.000</td>\n      <td>0.000</td>\n      <td>0.000</td>\n      <td>0.000</td>\n      <td>0.000</td>\n      <td>0.000</td>\n    </tr>\n    <tr>\n      <th>47</th>\n      <td>0.000</td>\n      <td>0.000</td>\n      <td>0.000</td>\n      <td>0.000</td>\n      <td>0.000</td>\n      <td>0.000</td>\n      <td>0.000</td>\n      <td>0.000</td>\n      <td>0.000</td>\n      <td>0.000</td>\n      <td>...</td>\n      <td>0.000</td>\n      <td>0.000</td>\n      <td>0.000</td>\n      <td>0.000</td>\n      <td>0.000</td>\n      <td>0.000</td>\n      <td>0.000</td>\n      <td>0.000</td>\n      <td>0.000</td>\n      <td>0.000</td>\n    </tr>\n  </tbody>\n</table>\n<p>48 rows × 2002 columns</p>\n</div>"
     },
     "metadata": {},
     "execution_count": 6
    },
    {
     "output_type": "stream",
     "name": "stdout",
     "text": [
      "time: 31 ms\n"
     ]
    }
   ],
   "source": [
    "#original dataset on 21\n",
    "df_orignal_21 = pd.DataFrame(data = data[0][21])\n",
    "df_orignal_21"
   ]
  },
  {
   "cell_type": "code",
   "execution_count": 7,
   "metadata": {},
   "outputs": [
    {
     "output_type": "execute_result",
     "data": {
      "text/plain": [
       "     0        1      2     3     4      5      6     7     8     9     ...  \\\n",
       "0   0.000    0.000  0.000 0.000 0.000  0.000  0.000 0.000 0.000 0.000  ...   \n",
       "1   0.000    0.000  0.000 0.000 0.000  0.000  0.000 0.000 0.000 0.000  ...   \n",
       "2   0.000    0.000  0.000 0.000 0.000  0.000  0.000 0.000 0.000 0.000  ...   \n",
       "3   0.000    0.000  0.000 0.000 0.000  0.000  0.000 0.000 0.000 0.000  ...   \n",
       "4   0.000    0.000  0.000 0.000 0.000  0.000  0.000 0.000 0.000 0.000  ...   \n",
       "5   0.000    0.000  0.000 0.000 0.000  0.000  0.000 0.000 0.000 0.000  ...   \n",
       "6   0.000    0.000  0.000 0.000 0.000  0.000  0.000 0.000 0.000 0.000  ...   \n",
       "7   0.000    0.000  0.000 0.000 0.000  0.000  0.000 0.000 0.000 0.000  ...   \n",
       "8   0.000    0.000  0.000 0.000 0.000  0.000  0.000 0.000 0.000 0.000  ...   \n",
       "9   0.000    0.000  0.000 0.000 0.000  0.000  0.000 0.000 0.000 0.000  ...   \n",
       "10  0.000    0.000  0.000 0.000 0.000  0.000  0.000 0.000 0.000 0.000  ...   \n",
       "11  0.000    0.000  0.000 0.000 0.000  0.000  0.000 0.000 0.000 0.000  ...   \n",
       "12  0.000    0.000  0.000 0.000 0.000  0.000  0.000 0.000 0.000 0.000  ...   \n",
       "13  0.000    0.000  0.000 0.000 0.000  0.000  0.000 0.000 0.000 0.000  ...   \n",
       "14  0.000    0.000  0.000 0.000 0.000  0.000  0.000 0.000 0.000 0.000  ...   \n",
       "15  0.000    0.000  0.000 0.000 0.000  0.000  0.000 0.000 0.000 0.000  ...   \n",
       "16 17.000 8194.000  0.000 0.000 0.000  0.000  0.000 0.000 0.000 0.000  ...   \n",
       "17  0.000    0.000  2.000 0.000 0.000  5.000  0.000 0.000 0.000 0.000  ...   \n",
       "18 19.000 6708.000  0.000 0.000 0.000  0.000  0.000 0.000 0.000 0.000  ...   \n",
       "19  0.000    0.000  8.000 0.000 0.000  2.000 10.000 0.000 0.000 0.000  ...   \n",
       "20 21.000 7209.000  0.000 0.000 0.000  0.000  0.000 0.000 0.000 0.000  ...   \n",
       "21 22.000 7210.000  0.000 0.000 0.000  0.000  0.000 0.000 0.000 0.000  ...   \n",
       "22  0.000    0.000  3.000 0.000 0.000  0.000  3.000 0.000 0.000 0.000  ...   \n",
       "23 24.000 7210.000  0.000 0.000 0.000  0.000  0.000 0.000 0.000 0.000  ...   \n",
       "24 25.000 6537.000  0.000 0.000 0.000  0.000  0.000 0.000 0.000 0.000  ...   \n",
       "25  0.000    0.000  1.000 0.000 0.000  0.000  0.000 0.000 0.000 0.000  ...   \n",
       "26 27.000 6708.000  0.000 0.000 0.000  0.000  0.000 0.000 0.000 0.000  ...   \n",
       "27 28.000 7210.000  5.000 0.000 0.000  0.000  0.000 0.000 0.000 0.000  ...   \n",
       "28  0.000    0.000  0.000 0.000 0.000  0.000  0.000 0.000 0.000 0.000  ...   \n",
       "29  0.000    0.000  0.000 0.000 0.000  0.000  0.000 0.000 0.000 0.000  ...   \n",
       "30  0.000    0.000  0.000 0.000 0.000  0.000  0.000 0.000 0.000 0.000  ...   \n",
       "31  0.000    0.000  0.000 0.000 0.000  0.000  0.000 0.000 0.000 0.000  ...   \n",
       "32  0.000    0.000  0.000 0.000 0.000  0.000  0.000 0.000 0.000 0.000  ...   \n",
       "33  0.000    0.000  0.000 0.000 0.000  0.000  0.000 0.000 0.000 0.000  ...   \n",
       "34 35.000 7210.000  0.000 0.000 0.000  0.000  0.000 0.000 0.000 0.000  ...   \n",
       "35 36.000 7549.000  1.000 0.000 0.000  0.000  0.000 0.000 0.000 0.000  ...   \n",
       "36 37.000 7549.000  6.000 0.000 0.000  2.000  0.000 0.000 0.000 0.000  ...   \n",
       "37 38.000 7549.000  1.000 0.000 0.000  0.000  4.000 0.000 0.000 0.000  ...   \n",
       "38 39.000 7549.000 17.000 0.000 0.000  0.000  1.000 0.000 0.000 0.000  ...   \n",
       "39 40.000 7548.000  2.000 0.000 0.000  0.000  0.000 0.000 0.000 0.000  ...   \n",
       "40 41.000 7549.000  7.000 0.000 0.000  0.000  9.000 0.000 0.000 0.000  ...   \n",
       "41 42.000 7549.000  5.000 0.000 0.000  0.000  0.000 0.000 0.000 0.000  ...   \n",
       "42  0.000    0.000  9.000 0.000 0.000 27.000 13.000 0.000 0.000 0.000  ...   \n",
       "43  0.000    0.000  0.000 0.000 0.000  0.000  0.000 0.000 0.000 0.000  ...   \n",
       "44  0.000    0.000  0.000 0.000 0.000  0.000  0.000 0.000 0.000 0.000  ...   \n",
       "45  0.000    0.000  0.000 0.000 0.000  0.000  0.000 0.000 0.000 0.000  ...   \n",
       "46  0.000    0.000  0.000 0.000 0.000  0.000  0.000 0.000 0.000 0.000  ...   \n",
       "\n",
       "    1992  1993  1994  1995  1996  1997  1998  1999  2000  2001  \n",
       "0  0.000 0.000 0.000 0.000 0.000 0.000 0.000 0.000 0.000 0.000  \n",
       "1  0.000 0.000 0.000 0.000 0.000 0.000 0.000 0.000 0.000 0.000  \n",
       "2  0.000 0.000 0.000 0.000 0.000 0.000 0.000 0.000 0.000 0.000  \n",
       "3  0.000 0.000 0.000 0.000 0.000 0.000 0.000 0.000 0.000 0.000  \n",
       "4  0.000 0.000 0.000 0.000 0.000 0.000 0.000 0.000 0.000 0.000  \n",
       "5  0.000 0.000 0.000 0.000 0.000 0.000 0.000 0.000 0.000 0.000  \n",
       "6  0.000 0.000 0.000 0.000 0.000 0.000 0.000 0.000 0.000 0.000  \n",
       "7  0.000 0.000 0.000 0.000 0.000 0.000 0.000 0.000 0.000 0.000  \n",
       "8  0.000 0.000 0.000 0.000 0.000 0.000 0.000 0.000 0.000 0.000  \n",
       "9  0.000 0.000 0.000 0.000 0.000 0.000 0.000 0.000 0.000 0.000  \n",
       "10 0.000 0.000 0.000 0.000 0.000 0.000 0.000 0.000 0.000 0.000  \n",
       "11 0.000 0.000 0.000 0.000 0.000 0.000 0.000 0.000 0.000 0.000  \n",
       "12 0.000 0.000 0.000 0.000 0.000 0.000 0.000 0.000 0.000 0.000  \n",
       "13 0.000 0.000 0.000 0.000 0.000 0.000 0.000 0.000 0.000 0.000  \n",
       "14 0.000 0.000 0.000 0.000 0.000 0.000 0.000 0.000 0.000 0.000  \n",
       "15 0.000 0.000 0.000 0.000 0.000 0.000 0.000 0.000 0.000 0.000  \n",
       "16 0.000 0.000 0.000 0.000 0.000 0.000 0.000 0.000 0.000 0.000  \n",
       "17 0.000 0.000 0.000 0.000 0.000 0.000 0.000 0.000 0.000 0.000  \n",
       "18 0.000 0.000 0.000 0.000 0.000 0.000 0.000 0.000 0.000 0.000  \n",
       "19 0.000 0.000 0.000 0.000 0.000 0.000 0.000 0.000 0.000 0.000  \n",
       "20 0.000 0.000 0.000 0.000 0.000 0.000 0.000 0.000 0.000 0.000  \n",
       "21 0.000 0.000 0.000 0.000 0.000 0.000 0.000 0.000 0.000 0.000  \n",
       "22 0.000 0.000 0.000 0.000 0.000 0.000 0.000 0.000 0.000 0.000  \n",
       "23 0.000 0.000 0.000 0.000 0.000 0.000 0.000 0.000 0.000 0.000  \n",
       "24 0.000 0.000 0.000 0.000 0.000 0.000 0.000 0.000 0.000 0.000  \n",
       "25 0.000 0.000 0.000 0.000 0.000 0.000 0.000 0.000 0.000 0.000  \n",
       "26 0.000 0.000 0.000 0.000 0.000 0.000 0.000 0.000 0.000 0.000  \n",
       "27 0.000 0.000 0.000 0.000 0.000 0.000 0.000 0.000 0.000 0.000  \n",
       "28 0.000 0.000 0.000 0.000 0.000 0.000 0.000 0.000 0.000 0.000  \n",
       "29 0.000 0.000 0.000 0.000 0.000 0.000 0.000 0.000 0.000 0.000  \n",
       "30 0.000 0.000 0.000 0.000 0.000 0.000 0.000 0.000 0.000 0.000  \n",
       "31 0.000 0.000 0.000 0.000 0.000 0.000 0.000 0.000 0.000 0.000  \n",
       "32 0.000 0.000 0.000 0.000 0.000 0.000 0.000 0.000 0.000 0.000  \n",
       "33 0.000 0.000 0.000 0.000 0.000 0.000 0.000 0.000 0.000 0.000  \n",
       "34 0.000 0.000 0.000 0.000 0.000 0.000 0.000 0.000 0.000 0.000  \n",
       "35 0.000 0.000 0.000 0.000 0.000 0.000 0.000 0.000 0.000 0.000  \n",
       "36 0.000 0.000 0.000 0.000 0.000 0.000 0.000 0.000 0.000 0.000  \n",
       "37 0.000 0.000 0.000 0.000 0.000 0.000 0.000 0.000 0.000 0.000  \n",
       "38 0.000 0.000 0.000 0.000 0.000 0.000 0.000 0.000 0.000 0.000  \n",
       "39 0.000 0.000 0.000 0.000 0.000 0.000 0.000 0.000 0.000 0.000  \n",
       "40 0.000 0.000 0.000 0.000 0.000 0.000 0.000 0.000 0.000 0.000  \n",
       "41 0.000 0.000 0.000 0.000 0.000 0.000 0.000 0.000 0.000 0.000  \n",
       "42 0.000 0.000 0.000 0.000 0.000 0.000 0.000 0.000 0.000 0.000  \n",
       "43 0.000 0.000 0.000 0.000 0.000 0.000 0.000 0.000 0.000 0.000  \n",
       "44 0.000 0.000 0.000 0.000 0.000 0.000 0.000 0.000 0.000 0.000  \n",
       "45 0.000 0.000 0.000 0.000 0.000 0.000 0.000 0.000 0.000 0.000  \n",
       "46 0.000 0.000 0.000 0.000 0.000 0.000 0.000 0.000 0.000 0.000  \n",
       "\n",
       "[47 rows x 2002 columns]"
      ],
      "text/html": "<div>\n<style scoped>\n    .dataframe tbody tr th:only-of-type {\n        vertical-align: middle;\n    }\n\n    .dataframe tbody tr th {\n        vertical-align: top;\n    }\n\n    .dataframe thead th {\n        text-align: right;\n    }\n</style>\n<table border=\"1\" class=\"dataframe\">\n  <thead>\n    <tr style=\"text-align: right;\">\n      <th></th>\n      <th>0</th>\n      <th>1</th>\n      <th>2</th>\n      <th>3</th>\n      <th>4</th>\n      <th>5</th>\n      <th>6</th>\n      <th>7</th>\n      <th>8</th>\n      <th>9</th>\n      <th>...</th>\n      <th>1992</th>\n      <th>1993</th>\n      <th>1994</th>\n      <th>1995</th>\n      <th>1996</th>\n      <th>1997</th>\n      <th>1998</th>\n      <th>1999</th>\n      <th>2000</th>\n      <th>2001</th>\n    </tr>\n  </thead>\n  <tbody>\n    <tr>\n      <th>0</th>\n      <td>0.000</td>\n      <td>0.000</td>\n      <td>0.000</td>\n      <td>0.000</td>\n      <td>0.000</td>\n      <td>0.000</td>\n      <td>0.000</td>\n      <td>0.000</td>\n      <td>0.000</td>\n      <td>0.000</td>\n      <td>...</td>\n      <td>0.000</td>\n      <td>0.000</td>\n      <td>0.000</td>\n      <td>0.000</td>\n      <td>0.000</td>\n      <td>0.000</td>\n      <td>0.000</td>\n      <td>0.000</td>\n      <td>0.000</td>\n      <td>0.000</td>\n    </tr>\n    <tr>\n      <th>1</th>\n      <td>0.000</td>\n      <td>0.000</td>\n      <td>0.000</td>\n      <td>0.000</td>\n      <td>0.000</td>\n      <td>0.000</td>\n      <td>0.000</td>\n      <td>0.000</td>\n      <td>0.000</td>\n      <td>0.000</td>\n      <td>...</td>\n      <td>0.000</td>\n      <td>0.000</td>\n      <td>0.000</td>\n      <td>0.000</td>\n      <td>0.000</td>\n      <td>0.000</td>\n      <td>0.000</td>\n      <td>0.000</td>\n      <td>0.000</td>\n      <td>0.000</td>\n    </tr>\n    <tr>\n      <th>2</th>\n      <td>0.000</td>\n      <td>0.000</td>\n      <td>0.000</td>\n      <td>0.000</td>\n      <td>0.000</td>\n      <td>0.000</td>\n      <td>0.000</td>\n      <td>0.000</td>\n      <td>0.000</td>\n      <td>0.000</td>\n      <td>...</td>\n      <td>0.000</td>\n      <td>0.000</td>\n      <td>0.000</td>\n      <td>0.000</td>\n      <td>0.000</td>\n      <td>0.000</td>\n      <td>0.000</td>\n      <td>0.000</td>\n      <td>0.000</td>\n      <td>0.000</td>\n    </tr>\n    <tr>\n      <th>3</th>\n      <td>0.000</td>\n      <td>0.000</td>\n      <td>0.000</td>\n      <td>0.000</td>\n      <td>0.000</td>\n      <td>0.000</td>\n      <td>0.000</td>\n      <td>0.000</td>\n      <td>0.000</td>\n      <td>0.000</td>\n      <td>...</td>\n      <td>0.000</td>\n      <td>0.000</td>\n      <td>0.000</td>\n      <td>0.000</td>\n      <td>0.000</td>\n      <td>0.000</td>\n      <td>0.000</td>\n      <td>0.000</td>\n      <td>0.000</td>\n      <td>0.000</td>\n    </tr>\n    <tr>\n      <th>4</th>\n      <td>0.000</td>\n      <td>0.000</td>\n      <td>0.000</td>\n      <td>0.000</td>\n      <td>0.000</td>\n      <td>0.000</td>\n      <td>0.000</td>\n      <td>0.000</td>\n      <td>0.000</td>\n      <td>0.000</td>\n      <td>...</td>\n      <td>0.000</td>\n      <td>0.000</td>\n      <td>0.000</td>\n      <td>0.000</td>\n      <td>0.000</td>\n      <td>0.000</td>\n      <td>0.000</td>\n      <td>0.000</td>\n      <td>0.000</td>\n      <td>0.000</td>\n    </tr>\n    <tr>\n      <th>5</th>\n      <td>0.000</td>\n      <td>0.000</td>\n      <td>0.000</td>\n      <td>0.000</td>\n      <td>0.000</td>\n      <td>0.000</td>\n      <td>0.000</td>\n      <td>0.000</td>\n      <td>0.000</td>\n      <td>0.000</td>\n      <td>...</td>\n      <td>0.000</td>\n      <td>0.000</td>\n      <td>0.000</td>\n      <td>0.000</td>\n      <td>0.000</td>\n      <td>0.000</td>\n      <td>0.000</td>\n      <td>0.000</td>\n      <td>0.000</td>\n      <td>0.000</td>\n    </tr>\n    <tr>\n      <th>6</th>\n      <td>0.000</td>\n      <td>0.000</td>\n      <td>0.000</td>\n      <td>0.000</td>\n      <td>0.000</td>\n      <td>0.000</td>\n      <td>0.000</td>\n      <td>0.000</td>\n      <td>0.000</td>\n      <td>0.000</td>\n      <td>...</td>\n      <td>0.000</td>\n      <td>0.000</td>\n      <td>0.000</td>\n      <td>0.000</td>\n      <td>0.000</td>\n      <td>0.000</td>\n      <td>0.000</td>\n      <td>0.000</td>\n      <td>0.000</td>\n      <td>0.000</td>\n    </tr>\n    <tr>\n      <th>7</th>\n      <td>0.000</td>\n      <td>0.000</td>\n      <td>0.000</td>\n      <td>0.000</td>\n      <td>0.000</td>\n      <td>0.000</td>\n      <td>0.000</td>\n      <td>0.000</td>\n      <td>0.000</td>\n      <td>0.000</td>\n      <td>...</td>\n      <td>0.000</td>\n      <td>0.000</td>\n      <td>0.000</td>\n      <td>0.000</td>\n      <td>0.000</td>\n      <td>0.000</td>\n      <td>0.000</td>\n      <td>0.000</td>\n      <td>0.000</td>\n      <td>0.000</td>\n    </tr>\n    <tr>\n      <th>8</th>\n      <td>0.000</td>\n      <td>0.000</td>\n      <td>0.000</td>\n      <td>0.000</td>\n      <td>0.000</td>\n      <td>0.000</td>\n      <td>0.000</td>\n      <td>0.000</td>\n      <td>0.000</td>\n      <td>0.000</td>\n      <td>...</td>\n      <td>0.000</td>\n      <td>0.000</td>\n      <td>0.000</td>\n      <td>0.000</td>\n      <td>0.000</td>\n      <td>0.000</td>\n      <td>0.000</td>\n      <td>0.000</td>\n      <td>0.000</td>\n      <td>0.000</td>\n    </tr>\n    <tr>\n      <th>9</th>\n      <td>0.000</td>\n      <td>0.000</td>\n      <td>0.000</td>\n      <td>0.000</td>\n      <td>0.000</td>\n      <td>0.000</td>\n      <td>0.000</td>\n      <td>0.000</td>\n      <td>0.000</td>\n      <td>0.000</td>\n      <td>...</td>\n      <td>0.000</td>\n      <td>0.000</td>\n      <td>0.000</td>\n      <td>0.000</td>\n      <td>0.000</td>\n      <td>0.000</td>\n      <td>0.000</td>\n      <td>0.000</td>\n      <td>0.000</td>\n      <td>0.000</td>\n    </tr>\n    <tr>\n      <th>10</th>\n      <td>0.000</td>\n      <td>0.000</td>\n      <td>0.000</td>\n      <td>0.000</td>\n      <td>0.000</td>\n      <td>0.000</td>\n      <td>0.000</td>\n      <td>0.000</td>\n      <td>0.000</td>\n      <td>0.000</td>\n      <td>...</td>\n      <td>0.000</td>\n      <td>0.000</td>\n      <td>0.000</td>\n      <td>0.000</td>\n      <td>0.000</td>\n      <td>0.000</td>\n      <td>0.000</td>\n      <td>0.000</td>\n      <td>0.000</td>\n      <td>0.000</td>\n    </tr>\n    <tr>\n      <th>11</th>\n      <td>0.000</td>\n      <td>0.000</td>\n      <td>0.000</td>\n      <td>0.000</td>\n      <td>0.000</td>\n      <td>0.000</td>\n      <td>0.000</td>\n      <td>0.000</td>\n      <td>0.000</td>\n      <td>0.000</td>\n      <td>...</td>\n      <td>0.000</td>\n      <td>0.000</td>\n      <td>0.000</td>\n      <td>0.000</td>\n      <td>0.000</td>\n      <td>0.000</td>\n      <td>0.000</td>\n      <td>0.000</td>\n      <td>0.000</td>\n      <td>0.000</td>\n    </tr>\n    <tr>\n      <th>12</th>\n      <td>0.000</td>\n      <td>0.000</td>\n      <td>0.000</td>\n      <td>0.000</td>\n      <td>0.000</td>\n      <td>0.000</td>\n      <td>0.000</td>\n      <td>0.000</td>\n      <td>0.000</td>\n      <td>0.000</td>\n      <td>...</td>\n      <td>0.000</td>\n      <td>0.000</td>\n      <td>0.000</td>\n      <td>0.000</td>\n      <td>0.000</td>\n      <td>0.000</td>\n      <td>0.000</td>\n      <td>0.000</td>\n      <td>0.000</td>\n      <td>0.000</td>\n    </tr>\n    <tr>\n      <th>13</th>\n      <td>0.000</td>\n      <td>0.000</td>\n      <td>0.000</td>\n      <td>0.000</td>\n      <td>0.000</td>\n      <td>0.000</td>\n      <td>0.000</td>\n      <td>0.000</td>\n      <td>0.000</td>\n      <td>0.000</td>\n      <td>...</td>\n      <td>0.000</td>\n      <td>0.000</td>\n      <td>0.000</td>\n      <td>0.000</td>\n      <td>0.000</td>\n      <td>0.000</td>\n      <td>0.000</td>\n      <td>0.000</td>\n      <td>0.000</td>\n      <td>0.000</td>\n    </tr>\n    <tr>\n      <th>14</th>\n      <td>0.000</td>\n      <td>0.000</td>\n      <td>0.000</td>\n      <td>0.000</td>\n      <td>0.000</td>\n      <td>0.000</td>\n      <td>0.000</td>\n      <td>0.000</td>\n      <td>0.000</td>\n      <td>0.000</td>\n      <td>...</td>\n      <td>0.000</td>\n      <td>0.000</td>\n      <td>0.000</td>\n      <td>0.000</td>\n      <td>0.000</td>\n      <td>0.000</td>\n      <td>0.000</td>\n      <td>0.000</td>\n      <td>0.000</td>\n      <td>0.000</td>\n    </tr>\n    <tr>\n      <th>15</th>\n      <td>0.000</td>\n      <td>0.000</td>\n      <td>0.000</td>\n      <td>0.000</td>\n      <td>0.000</td>\n      <td>0.000</td>\n      <td>0.000</td>\n      <td>0.000</td>\n      <td>0.000</td>\n      <td>0.000</td>\n      <td>...</td>\n      <td>0.000</td>\n      <td>0.000</td>\n      <td>0.000</td>\n      <td>0.000</td>\n      <td>0.000</td>\n      <td>0.000</td>\n      <td>0.000</td>\n      <td>0.000</td>\n      <td>0.000</td>\n      <td>0.000</td>\n    </tr>\n    <tr>\n      <th>16</th>\n      <td>17.000</td>\n      <td>8194.000</td>\n      <td>0.000</td>\n      <td>0.000</td>\n      <td>0.000</td>\n      <td>0.000</td>\n      <td>0.000</td>\n      <td>0.000</td>\n      <td>0.000</td>\n      <td>0.000</td>\n      <td>...</td>\n      <td>0.000</td>\n      <td>0.000</td>\n      <td>0.000</td>\n      <td>0.000</td>\n      <td>0.000</td>\n      <td>0.000</td>\n      <td>0.000</td>\n      <td>0.000</td>\n      <td>0.000</td>\n      <td>0.000</td>\n    </tr>\n    <tr>\n      <th>17</th>\n      <td>0.000</td>\n      <td>0.000</td>\n      <td>2.000</td>\n      <td>0.000</td>\n      <td>0.000</td>\n      <td>5.000</td>\n      <td>0.000</td>\n      <td>0.000</td>\n      <td>0.000</td>\n      <td>0.000</td>\n      <td>...</td>\n      <td>0.000</td>\n      <td>0.000</td>\n      <td>0.000</td>\n      <td>0.000</td>\n      <td>0.000</td>\n      <td>0.000</td>\n      <td>0.000</td>\n      <td>0.000</td>\n      <td>0.000</td>\n      <td>0.000</td>\n    </tr>\n    <tr>\n      <th>18</th>\n      <td>19.000</td>\n      <td>6708.000</td>\n      <td>0.000</td>\n      <td>0.000</td>\n      <td>0.000</td>\n      <td>0.000</td>\n      <td>0.000</td>\n      <td>0.000</td>\n      <td>0.000</td>\n      <td>0.000</td>\n      <td>...</td>\n      <td>0.000</td>\n      <td>0.000</td>\n      <td>0.000</td>\n      <td>0.000</td>\n      <td>0.000</td>\n      <td>0.000</td>\n      <td>0.000</td>\n      <td>0.000</td>\n      <td>0.000</td>\n      <td>0.000</td>\n    </tr>\n    <tr>\n      <th>19</th>\n      <td>0.000</td>\n      <td>0.000</td>\n      <td>8.000</td>\n      <td>0.000</td>\n      <td>0.000</td>\n      <td>2.000</td>\n      <td>10.000</td>\n      <td>0.000</td>\n      <td>0.000</td>\n      <td>0.000</td>\n      <td>...</td>\n      <td>0.000</td>\n      <td>0.000</td>\n      <td>0.000</td>\n      <td>0.000</td>\n      <td>0.000</td>\n      <td>0.000</td>\n      <td>0.000</td>\n      <td>0.000</td>\n      <td>0.000</td>\n      <td>0.000</td>\n    </tr>\n    <tr>\n      <th>20</th>\n      <td>21.000</td>\n      <td>7209.000</td>\n      <td>0.000</td>\n      <td>0.000</td>\n      <td>0.000</td>\n      <td>0.000</td>\n      <td>0.000</td>\n      <td>0.000</td>\n      <td>0.000</td>\n      <td>0.000</td>\n      <td>...</td>\n      <td>0.000</td>\n      <td>0.000</td>\n      <td>0.000</td>\n      <td>0.000</td>\n      <td>0.000</td>\n      <td>0.000</td>\n      <td>0.000</td>\n      <td>0.000</td>\n      <td>0.000</td>\n      <td>0.000</td>\n    </tr>\n    <tr>\n      <th>21</th>\n      <td>22.000</td>\n      <td>7210.000</td>\n      <td>0.000</td>\n      <td>0.000</td>\n      <td>0.000</td>\n      <td>0.000</td>\n      <td>0.000</td>\n      <td>0.000</td>\n      <td>0.000</td>\n      <td>0.000</td>\n      <td>...</td>\n      <td>0.000</td>\n      <td>0.000</td>\n      <td>0.000</td>\n      <td>0.000</td>\n      <td>0.000</td>\n      <td>0.000</td>\n      <td>0.000</td>\n      <td>0.000</td>\n      <td>0.000</td>\n      <td>0.000</td>\n    </tr>\n    <tr>\n      <th>22</th>\n      <td>0.000</td>\n      <td>0.000</td>\n      <td>3.000</td>\n      <td>0.000</td>\n      <td>0.000</td>\n      <td>0.000</td>\n      <td>3.000</td>\n      <td>0.000</td>\n      <td>0.000</td>\n      <td>0.000</td>\n      <td>...</td>\n      <td>0.000</td>\n      <td>0.000</td>\n      <td>0.000</td>\n      <td>0.000</td>\n      <td>0.000</td>\n      <td>0.000</td>\n      <td>0.000</td>\n      <td>0.000</td>\n      <td>0.000</td>\n      <td>0.000</td>\n    </tr>\n    <tr>\n      <th>23</th>\n      <td>24.000</td>\n      <td>7210.000</td>\n      <td>0.000</td>\n      <td>0.000</td>\n      <td>0.000</td>\n      <td>0.000</td>\n      <td>0.000</td>\n      <td>0.000</td>\n      <td>0.000</td>\n      <td>0.000</td>\n      <td>...</td>\n      <td>0.000</td>\n      <td>0.000</td>\n      <td>0.000</td>\n      <td>0.000</td>\n      <td>0.000</td>\n      <td>0.000</td>\n      <td>0.000</td>\n      <td>0.000</td>\n      <td>0.000</td>\n      <td>0.000</td>\n    </tr>\n    <tr>\n      <th>24</th>\n      <td>25.000</td>\n      <td>6537.000</td>\n      <td>0.000</td>\n      <td>0.000</td>\n      <td>0.000</td>\n      <td>0.000</td>\n      <td>0.000</td>\n      <td>0.000</td>\n      <td>0.000</td>\n      <td>0.000</td>\n      <td>...</td>\n      <td>0.000</td>\n      <td>0.000</td>\n      <td>0.000</td>\n      <td>0.000</td>\n      <td>0.000</td>\n      <td>0.000</td>\n      <td>0.000</td>\n      <td>0.000</td>\n      <td>0.000</td>\n      <td>0.000</td>\n    </tr>\n    <tr>\n      <th>25</th>\n      <td>0.000</td>\n      <td>0.000</td>\n      <td>1.000</td>\n      <td>0.000</td>\n      <td>0.000</td>\n      <td>0.000</td>\n      <td>0.000</td>\n      <td>0.000</td>\n      <td>0.000</td>\n      <td>0.000</td>\n      <td>...</td>\n      <td>0.000</td>\n      <td>0.000</td>\n      <td>0.000</td>\n      <td>0.000</td>\n      <td>0.000</td>\n      <td>0.000</td>\n      <td>0.000</td>\n      <td>0.000</td>\n      <td>0.000</td>\n      <td>0.000</td>\n    </tr>\n    <tr>\n      <th>26</th>\n      <td>27.000</td>\n      <td>6708.000</td>\n      <td>0.000</td>\n      <td>0.000</td>\n      <td>0.000</td>\n      <td>0.000</td>\n      <td>0.000</td>\n      <td>0.000</td>\n      <td>0.000</td>\n      <td>0.000</td>\n      <td>...</td>\n      <td>0.000</td>\n      <td>0.000</td>\n      <td>0.000</td>\n      <td>0.000</td>\n      <td>0.000</td>\n      <td>0.000</td>\n      <td>0.000</td>\n      <td>0.000</td>\n      <td>0.000</td>\n      <td>0.000</td>\n    </tr>\n    <tr>\n      <th>27</th>\n      <td>28.000</td>\n      <td>7210.000</td>\n      <td>5.000</td>\n      <td>0.000</td>\n      <td>0.000</td>\n      <td>0.000</td>\n      <td>0.000</td>\n      <td>0.000</td>\n      <td>0.000</td>\n      <td>0.000</td>\n      <td>...</td>\n      <td>0.000</td>\n      <td>0.000</td>\n      <td>0.000</td>\n      <td>0.000</td>\n      <td>0.000</td>\n      <td>0.000</td>\n      <td>0.000</td>\n      <td>0.000</td>\n      <td>0.000</td>\n      <td>0.000</td>\n    </tr>\n    <tr>\n      <th>28</th>\n      <td>0.000</td>\n      <td>0.000</td>\n      <td>0.000</td>\n      <td>0.000</td>\n      <td>0.000</td>\n      <td>0.000</td>\n      <td>0.000</td>\n      <td>0.000</td>\n      <td>0.000</td>\n      <td>0.000</td>\n      <td>...</td>\n      <td>0.000</td>\n      <td>0.000</td>\n      <td>0.000</td>\n      <td>0.000</td>\n      <td>0.000</td>\n      <td>0.000</td>\n      <td>0.000</td>\n      <td>0.000</td>\n      <td>0.000</td>\n      <td>0.000</td>\n    </tr>\n    <tr>\n      <th>29</th>\n      <td>0.000</td>\n      <td>0.000</td>\n      <td>0.000</td>\n      <td>0.000</td>\n      <td>0.000</td>\n      <td>0.000</td>\n      <td>0.000</td>\n      <td>0.000</td>\n      <td>0.000</td>\n      <td>0.000</td>\n      <td>...</td>\n      <td>0.000</td>\n      <td>0.000</td>\n      <td>0.000</td>\n      <td>0.000</td>\n      <td>0.000</td>\n      <td>0.000</td>\n      <td>0.000</td>\n      <td>0.000</td>\n      <td>0.000</td>\n      <td>0.000</td>\n    </tr>\n    <tr>\n      <th>30</th>\n      <td>0.000</td>\n      <td>0.000</td>\n      <td>0.000</td>\n      <td>0.000</td>\n      <td>0.000</td>\n      <td>0.000</td>\n      <td>0.000</td>\n      <td>0.000</td>\n      <td>0.000</td>\n      <td>0.000</td>\n      <td>...</td>\n      <td>0.000</td>\n      <td>0.000</td>\n      <td>0.000</td>\n      <td>0.000</td>\n      <td>0.000</td>\n      <td>0.000</td>\n      <td>0.000</td>\n      <td>0.000</td>\n      <td>0.000</td>\n      <td>0.000</td>\n    </tr>\n    <tr>\n      <th>31</th>\n      <td>0.000</td>\n      <td>0.000</td>\n      <td>0.000</td>\n      <td>0.000</td>\n      <td>0.000</td>\n      <td>0.000</td>\n      <td>0.000</td>\n      <td>0.000</td>\n      <td>0.000</td>\n      <td>0.000</td>\n      <td>...</td>\n      <td>0.000</td>\n      <td>0.000</td>\n      <td>0.000</td>\n      <td>0.000</td>\n      <td>0.000</td>\n      <td>0.000</td>\n      <td>0.000</td>\n      <td>0.000</td>\n      <td>0.000</td>\n      <td>0.000</td>\n    </tr>\n    <tr>\n      <th>32</th>\n      <td>0.000</td>\n      <td>0.000</td>\n      <td>0.000</td>\n      <td>0.000</td>\n      <td>0.000</td>\n      <td>0.000</td>\n      <td>0.000</td>\n      <td>0.000</td>\n      <td>0.000</td>\n      <td>0.000</td>\n      <td>...</td>\n      <td>0.000</td>\n      <td>0.000</td>\n      <td>0.000</td>\n      <td>0.000</td>\n      <td>0.000</td>\n      <td>0.000</td>\n      <td>0.000</td>\n      <td>0.000</td>\n      <td>0.000</td>\n      <td>0.000</td>\n    </tr>\n    <tr>\n      <th>33</th>\n      <td>0.000</td>\n      <td>0.000</td>\n      <td>0.000</td>\n      <td>0.000</td>\n      <td>0.000</td>\n      <td>0.000</td>\n      <td>0.000</td>\n      <td>0.000</td>\n      <td>0.000</td>\n      <td>0.000</td>\n      <td>...</td>\n      <td>0.000</td>\n      <td>0.000</td>\n      <td>0.000</td>\n      <td>0.000</td>\n      <td>0.000</td>\n      <td>0.000</td>\n      <td>0.000</td>\n      <td>0.000</td>\n      <td>0.000</td>\n      <td>0.000</td>\n    </tr>\n    <tr>\n      <th>34</th>\n      <td>35.000</td>\n      <td>7210.000</td>\n      <td>0.000</td>\n      <td>0.000</td>\n      <td>0.000</td>\n      <td>0.000</td>\n      <td>0.000</td>\n      <td>0.000</td>\n      <td>0.000</td>\n      <td>0.000</td>\n      <td>...</td>\n      <td>0.000</td>\n      <td>0.000</td>\n      <td>0.000</td>\n      <td>0.000</td>\n      <td>0.000</td>\n      <td>0.000</td>\n      <td>0.000</td>\n      <td>0.000</td>\n      <td>0.000</td>\n      <td>0.000</td>\n    </tr>\n    <tr>\n      <th>35</th>\n      <td>36.000</td>\n      <td>7549.000</td>\n      <td>1.000</td>\n      <td>0.000</td>\n      <td>0.000</td>\n      <td>0.000</td>\n      <td>0.000</td>\n      <td>0.000</td>\n      <td>0.000</td>\n      <td>0.000</td>\n      <td>...</td>\n      <td>0.000</td>\n      <td>0.000</td>\n      <td>0.000</td>\n      <td>0.000</td>\n      <td>0.000</td>\n      <td>0.000</td>\n      <td>0.000</td>\n      <td>0.000</td>\n      <td>0.000</td>\n      <td>0.000</td>\n    </tr>\n    <tr>\n      <th>36</th>\n      <td>37.000</td>\n      <td>7549.000</td>\n      <td>6.000</td>\n      <td>0.000</td>\n      <td>0.000</td>\n      <td>2.000</td>\n      <td>0.000</td>\n      <td>0.000</td>\n      <td>0.000</td>\n      <td>0.000</td>\n      <td>...</td>\n      <td>0.000</td>\n      <td>0.000</td>\n      <td>0.000</td>\n      <td>0.000</td>\n      <td>0.000</td>\n      <td>0.000</td>\n      <td>0.000</td>\n      <td>0.000</td>\n      <td>0.000</td>\n      <td>0.000</td>\n    </tr>\n    <tr>\n      <th>37</th>\n      <td>38.000</td>\n      <td>7549.000</td>\n      <td>1.000</td>\n      <td>0.000</td>\n      <td>0.000</td>\n      <td>0.000</td>\n      <td>4.000</td>\n      <td>0.000</td>\n      <td>0.000</td>\n      <td>0.000</td>\n      <td>...</td>\n      <td>0.000</td>\n      <td>0.000</td>\n      <td>0.000</td>\n      <td>0.000</td>\n      <td>0.000</td>\n      <td>0.000</td>\n      <td>0.000</td>\n      <td>0.000</td>\n      <td>0.000</td>\n      <td>0.000</td>\n    </tr>\n    <tr>\n      <th>38</th>\n      <td>39.000</td>\n      <td>7549.000</td>\n      <td>17.000</td>\n      <td>0.000</td>\n      <td>0.000</td>\n      <td>0.000</td>\n      <td>1.000</td>\n      <td>0.000</td>\n      <td>0.000</td>\n      <td>0.000</td>\n      <td>...</td>\n      <td>0.000</td>\n      <td>0.000</td>\n      <td>0.000</td>\n      <td>0.000</td>\n      <td>0.000</td>\n      <td>0.000</td>\n      <td>0.000</td>\n      <td>0.000</td>\n      <td>0.000</td>\n      <td>0.000</td>\n    </tr>\n    <tr>\n      <th>39</th>\n      <td>40.000</td>\n      <td>7548.000</td>\n      <td>2.000</td>\n      <td>0.000</td>\n      <td>0.000</td>\n      <td>0.000</td>\n      <td>0.000</td>\n      <td>0.000</td>\n      <td>0.000</td>\n      <td>0.000</td>\n      <td>...</td>\n      <td>0.000</td>\n      <td>0.000</td>\n      <td>0.000</td>\n      <td>0.000</td>\n      <td>0.000</td>\n      <td>0.000</td>\n      <td>0.000</td>\n      <td>0.000</td>\n      <td>0.000</td>\n      <td>0.000</td>\n    </tr>\n    <tr>\n      <th>40</th>\n      <td>41.000</td>\n      <td>7549.000</td>\n      <td>7.000</td>\n      <td>0.000</td>\n      <td>0.000</td>\n      <td>0.000</td>\n      <td>9.000</td>\n      <td>0.000</td>\n      <td>0.000</td>\n      <td>0.000</td>\n      <td>...</td>\n      <td>0.000</td>\n      <td>0.000</td>\n      <td>0.000</td>\n      <td>0.000</td>\n      <td>0.000</td>\n      <td>0.000</td>\n      <td>0.000</td>\n      <td>0.000</td>\n      <td>0.000</td>\n      <td>0.000</td>\n    </tr>\n    <tr>\n      <th>41</th>\n      <td>42.000</td>\n      <td>7549.000</td>\n      <td>5.000</td>\n      <td>0.000</td>\n      <td>0.000</td>\n      <td>0.000</td>\n      <td>0.000</td>\n      <td>0.000</td>\n      <td>0.000</td>\n      <td>0.000</td>\n      <td>...</td>\n      <td>0.000</td>\n      <td>0.000</td>\n      <td>0.000</td>\n      <td>0.000</td>\n      <td>0.000</td>\n      <td>0.000</td>\n      <td>0.000</td>\n      <td>0.000</td>\n      <td>0.000</td>\n      <td>0.000</td>\n    </tr>\n    <tr>\n      <th>42</th>\n      <td>0.000</td>\n      <td>0.000</td>\n      <td>9.000</td>\n      <td>0.000</td>\n      <td>0.000</td>\n      <td>27.000</td>\n      <td>13.000</td>\n      <td>0.000</td>\n      <td>0.000</td>\n      <td>0.000</td>\n      <td>...</td>\n      <td>0.000</td>\n      <td>0.000</td>\n      <td>0.000</td>\n      <td>0.000</td>\n      <td>0.000</td>\n      <td>0.000</td>\n      <td>0.000</td>\n      <td>0.000</td>\n      <td>0.000</td>\n      <td>0.000</td>\n    </tr>\n    <tr>\n      <th>43</th>\n      <td>0.000</td>\n      <td>0.000</td>\n      <td>0.000</td>\n      <td>0.000</td>\n      <td>0.000</td>\n      <td>0.000</td>\n      <td>0.000</td>\n      <td>0.000</td>\n      <td>0.000</td>\n      <td>0.000</td>\n      <td>...</td>\n      <td>0.000</td>\n      <td>0.000</td>\n      <td>0.000</td>\n      <td>0.000</td>\n      <td>0.000</td>\n      <td>0.000</td>\n      <td>0.000</td>\n      <td>0.000</td>\n      <td>0.000</td>\n      <td>0.000</td>\n    </tr>\n    <tr>\n      <th>44</th>\n      <td>0.000</td>\n      <td>0.000</td>\n      <td>0.000</td>\n      <td>0.000</td>\n      <td>0.000</td>\n      <td>0.000</td>\n      <td>0.000</td>\n      <td>0.000</td>\n      <td>0.000</td>\n      <td>0.000</td>\n      <td>...</td>\n      <td>0.000</td>\n      <td>0.000</td>\n      <td>0.000</td>\n      <td>0.000</td>\n      <td>0.000</td>\n      <td>0.000</td>\n      <td>0.000</td>\n      <td>0.000</td>\n      <td>0.000</td>\n      <td>0.000</td>\n    </tr>\n    <tr>\n      <th>45</th>\n      <td>0.000</td>\n      <td>0.000</td>\n      <td>0.000</td>\n      <td>0.000</td>\n      <td>0.000</td>\n      <td>0.000</td>\n      <td>0.000</td>\n      <td>0.000</td>\n      <td>0.000</td>\n      <td>0.000</td>\n      <td>...</td>\n      <td>0.000</td>\n      <td>0.000</td>\n      <td>0.000</td>\n      <td>0.000</td>\n      <td>0.000</td>\n      <td>0.000</td>\n      <td>0.000</td>\n      <td>0.000</td>\n      <td>0.000</td>\n      <td>0.000</td>\n    </tr>\n    <tr>\n      <th>46</th>\n      <td>0.000</td>\n      <td>0.000</td>\n      <td>0.000</td>\n      <td>0.000</td>\n      <td>0.000</td>\n      <td>0.000</td>\n      <td>0.000</td>\n      <td>0.000</td>\n      <td>0.000</td>\n      <td>0.000</td>\n      <td>...</td>\n      <td>0.000</td>\n      <td>0.000</td>\n      <td>0.000</td>\n      <td>0.000</td>\n      <td>0.000</td>\n      <td>0.000</td>\n      <td>0.000</td>\n      <td>0.000</td>\n      <td>0.000</td>\n      <td>0.000</td>\n    </tr>\n  </tbody>\n</table>\n<p>47 rows × 2002 columns</p>\n</div>"
     },
     "metadata": {},
     "execution_count": 7
    },
    {
     "output_type": "stream",
     "name": "stdout",
     "text": [
      "time: 31 ms\n"
     ]
    }
   ],
   "source": [
    "#data manipulation, refer to the png\n",
    "timeloc = data[0][21][1:,:2]\n",
    "prev_app_count = data[0][21][:-1,2:]\n",
    "target_app_count = data[0][21][1:,2:]\n",
    "feature = np.concatenate((timeloc, prev_app_count),axis = 1)\n",
    "# print(feature.shape)\n",
    "# print(prev_app_count.shape)\n",
    "# print(target_app_count.shape)\n",
    "# print(feature.shape)\n",
    "df_trans_21 = pd.DataFrame(feature)\n",
    "df_trans_21"
   ]
  },
  {
   "cell_type": "code",
   "execution_count": 8,
   "metadata": {},
   "outputs": [
    {
     "output_type": "execute_result",
     "data": {
      "text/plain": [
       "     0     1     2      3      4     5     6     7     8     9     ...  1990  \\\n",
       "0   0.000 0.000 0.000  0.000  0.000 0.000 0.000 0.000 0.000 0.000  ... 0.000   \n",
       "1   0.000 0.000 0.000  0.000  0.000 0.000 0.000 0.000 0.000 0.000  ... 0.000   \n",
       "2   0.000 0.000 0.000  0.000  0.000 0.000 0.000 0.000 0.000 0.000  ... 0.000   \n",
       "3   0.000 0.000 0.000  0.000  0.000 0.000 0.000 0.000 0.000 0.000  ... 0.000   \n",
       "4   0.000 0.000 0.000  0.000  0.000 0.000 0.000 0.000 0.000 0.000  ... 0.000   \n",
       "5   0.000 0.000 0.000  0.000  0.000 0.000 0.000 0.000 0.000 0.000  ... 0.000   \n",
       "6   0.000 0.000 0.000  0.000  0.000 0.000 0.000 0.000 0.000 0.000  ... 0.000   \n",
       "7   0.000 0.000 0.000  0.000  0.000 0.000 0.000 0.000 0.000 0.000  ... 0.000   \n",
       "8   0.000 0.000 0.000  0.000  0.000 0.000 0.000 0.000 0.000 0.000  ... 0.000   \n",
       "9   0.000 0.000 0.000  0.000  0.000 0.000 0.000 0.000 0.000 0.000  ... 0.000   \n",
       "10  0.000 0.000 0.000  0.000  0.000 0.000 0.000 0.000 0.000 0.000  ... 0.000   \n",
       "11  0.000 0.000 0.000  0.000  0.000 0.000 0.000 0.000 0.000 0.000  ... 0.000   \n",
       "12  0.000 0.000 0.000  0.000  0.000 0.000 0.000 0.000 0.000 0.000  ... 0.000   \n",
       "13  0.000 0.000 0.000  0.000  0.000 0.000 0.000 0.000 0.000 0.000  ... 0.000   \n",
       "14  0.000 0.000 0.000  0.000  0.000 0.000 0.000 0.000 0.000 0.000  ... 0.000   \n",
       "15  0.000 0.000 0.000  0.000  0.000 0.000 0.000 0.000 0.000 0.000  ... 0.000   \n",
       "16  2.000 0.000 0.000  5.000  0.000 0.000 0.000 0.000 0.000 0.000  ... 0.000   \n",
       "17  0.000 0.000 0.000  0.000  0.000 0.000 0.000 0.000 0.000 0.000  ... 0.000   \n",
       "18  8.000 0.000 0.000  2.000 10.000 0.000 0.000 0.000 0.000 0.000  ... 0.000   \n",
       "19  0.000 0.000 0.000  0.000  0.000 0.000 0.000 0.000 0.000 0.000  ... 0.000   \n",
       "20  0.000 0.000 0.000  0.000  0.000 0.000 0.000 0.000 0.000 0.000  ... 0.000   \n",
       "21  3.000 0.000 0.000  0.000  3.000 0.000 0.000 0.000 0.000 0.000  ... 0.000   \n",
       "22  0.000 0.000 0.000  0.000  0.000 0.000 0.000 0.000 0.000 0.000  ... 0.000   \n",
       "23  0.000 0.000 0.000  0.000  0.000 0.000 0.000 0.000 0.000 0.000  ... 0.000   \n",
       "24  1.000 0.000 0.000  0.000  0.000 0.000 0.000 0.000 0.000 0.000  ... 0.000   \n",
       "25  0.000 0.000 0.000  0.000  0.000 0.000 0.000 0.000 0.000 0.000  ... 0.000   \n",
       "26  5.000 0.000 0.000  0.000  0.000 0.000 0.000 0.000 0.000 0.000  ... 0.000   \n",
       "27  0.000 0.000 0.000  0.000  0.000 0.000 0.000 0.000 0.000 0.000  ... 0.000   \n",
       "28  0.000 0.000 0.000  0.000  0.000 0.000 0.000 0.000 0.000 0.000  ... 0.000   \n",
       "29  0.000 0.000 0.000  0.000  0.000 0.000 0.000 0.000 0.000 0.000  ... 0.000   \n",
       "30  0.000 0.000 0.000  0.000  0.000 0.000 0.000 0.000 0.000 0.000  ... 0.000   \n",
       "31  0.000 0.000 0.000  0.000  0.000 0.000 0.000 0.000 0.000 0.000  ... 0.000   \n",
       "32  0.000 0.000 0.000  0.000  0.000 0.000 0.000 0.000 0.000 0.000  ... 0.000   \n",
       "33  0.000 0.000 0.000  0.000  0.000 0.000 0.000 0.000 0.000 0.000  ... 0.000   \n",
       "34  1.000 0.000 0.000  0.000  0.000 0.000 0.000 0.000 0.000 0.000  ... 0.000   \n",
       "35  6.000 0.000 0.000  2.000  0.000 0.000 0.000 0.000 0.000 0.000  ... 0.000   \n",
       "36  1.000 0.000 0.000  0.000  4.000 0.000 0.000 0.000 0.000 0.000  ... 0.000   \n",
       "37 17.000 0.000 0.000  0.000  1.000 0.000 0.000 0.000 0.000 0.000  ... 0.000   \n",
       "38  2.000 0.000 0.000  0.000  0.000 0.000 0.000 0.000 0.000 0.000  ... 0.000   \n",
       "39  7.000 0.000 0.000  0.000  9.000 0.000 0.000 0.000 0.000 0.000  ... 0.000   \n",
       "40  5.000 0.000 0.000  0.000  0.000 0.000 0.000 0.000 0.000 0.000  ... 0.000   \n",
       "41  9.000 0.000 0.000 27.000 13.000 0.000 0.000 0.000 0.000 0.000  ... 0.000   \n",
       "42  0.000 0.000 0.000  0.000  0.000 0.000 0.000 0.000 0.000 0.000  ... 0.000   \n",
       "43  0.000 0.000 0.000  0.000  0.000 0.000 0.000 0.000 0.000 0.000  ... 0.000   \n",
       "44  0.000 0.000 0.000  0.000  0.000 0.000 0.000 0.000 0.000 0.000  ... 0.000   \n",
       "45  0.000 0.000 0.000  0.000  0.000 0.000 0.000 0.000 0.000 0.000  ... 0.000   \n",
       "46  0.000 0.000 0.000  0.000  0.000 0.000 0.000 0.000 0.000 0.000  ... 0.000   \n",
       "\n",
       "    1991  1992  1993  1994  1995  1996  1997  1998  1999  \n",
       "0  0.000 0.000 0.000 0.000 0.000 0.000 0.000 0.000 0.000  \n",
       "1  0.000 0.000 0.000 0.000 0.000 0.000 0.000 0.000 0.000  \n",
       "2  0.000 0.000 0.000 0.000 0.000 0.000 0.000 0.000 0.000  \n",
       "3  0.000 0.000 0.000 0.000 0.000 0.000 0.000 0.000 0.000  \n",
       "4  0.000 0.000 0.000 0.000 0.000 0.000 0.000 0.000 0.000  \n",
       "5  0.000 0.000 0.000 0.000 0.000 0.000 0.000 0.000 0.000  \n",
       "6  0.000 0.000 0.000 0.000 0.000 0.000 0.000 0.000 0.000  \n",
       "7  0.000 0.000 0.000 0.000 0.000 0.000 0.000 0.000 0.000  \n",
       "8  0.000 0.000 0.000 0.000 0.000 0.000 0.000 0.000 0.000  \n",
       "9  0.000 0.000 0.000 0.000 0.000 0.000 0.000 0.000 0.000  \n",
       "10 0.000 0.000 0.000 0.000 0.000 0.000 0.000 0.000 0.000  \n",
       "11 0.000 0.000 0.000 0.000 0.000 0.000 0.000 0.000 0.000  \n",
       "12 0.000 0.000 0.000 0.000 0.000 0.000 0.000 0.000 0.000  \n",
       "13 0.000 0.000 0.000 0.000 0.000 0.000 0.000 0.000 0.000  \n",
       "14 0.000 0.000 0.000 0.000 0.000 0.000 0.000 0.000 0.000  \n",
       "15 0.000 0.000 0.000 0.000 0.000 0.000 0.000 0.000 0.000  \n",
       "16 0.000 0.000 0.000 0.000 0.000 0.000 0.000 0.000 0.000  \n",
       "17 0.000 0.000 0.000 0.000 0.000 0.000 0.000 0.000 0.000  \n",
       "18 0.000 0.000 0.000 0.000 0.000 0.000 0.000 0.000 0.000  \n",
       "19 0.000 0.000 0.000 0.000 0.000 0.000 0.000 0.000 0.000  \n",
       "20 0.000 0.000 0.000 0.000 0.000 0.000 0.000 0.000 0.000  \n",
       "21 0.000 0.000 0.000 0.000 0.000 0.000 0.000 0.000 0.000  \n",
       "22 0.000 0.000 0.000 0.000 0.000 0.000 0.000 0.000 0.000  \n",
       "23 0.000 0.000 0.000 0.000 0.000 0.000 0.000 0.000 0.000  \n",
       "24 0.000 0.000 0.000 0.000 0.000 0.000 0.000 0.000 0.000  \n",
       "25 0.000 0.000 0.000 0.000 0.000 0.000 0.000 0.000 0.000  \n",
       "26 0.000 0.000 0.000 0.000 0.000 0.000 0.000 0.000 0.000  \n",
       "27 0.000 0.000 0.000 0.000 0.000 0.000 0.000 0.000 0.000  \n",
       "28 0.000 0.000 0.000 0.000 0.000 0.000 0.000 0.000 0.000  \n",
       "29 0.000 0.000 0.000 0.000 0.000 0.000 0.000 0.000 0.000  \n",
       "30 0.000 0.000 0.000 0.000 0.000 0.000 0.000 0.000 0.000  \n",
       "31 0.000 0.000 0.000 0.000 0.000 0.000 0.000 0.000 0.000  \n",
       "32 0.000 0.000 0.000 0.000 0.000 0.000 0.000 0.000 0.000  \n",
       "33 0.000 0.000 0.000 0.000 0.000 0.000 0.000 0.000 0.000  \n",
       "34 0.000 0.000 0.000 0.000 0.000 0.000 0.000 0.000 0.000  \n",
       "35 0.000 0.000 0.000 0.000 0.000 0.000 0.000 0.000 0.000  \n",
       "36 0.000 0.000 0.000 0.000 0.000 0.000 0.000 0.000 0.000  \n",
       "37 0.000 0.000 0.000 0.000 0.000 0.000 0.000 0.000 0.000  \n",
       "38 0.000 0.000 0.000 0.000 0.000 0.000 0.000 0.000 0.000  \n",
       "39 0.000 0.000 0.000 0.000 0.000 0.000 0.000 0.000 0.000  \n",
       "40 0.000 0.000 0.000 0.000 0.000 0.000 0.000 0.000 0.000  \n",
       "41 0.000 0.000 0.000 0.000 0.000 0.000 0.000 0.000 0.000  \n",
       "42 0.000 0.000 0.000 0.000 0.000 0.000 0.000 0.000 0.000  \n",
       "43 0.000 0.000 0.000 0.000 0.000 0.000 0.000 0.000 0.000  \n",
       "44 0.000 0.000 0.000 0.000 0.000 0.000 0.000 0.000 0.000  \n",
       "45 0.000 0.000 0.000 0.000 0.000 0.000 0.000 0.000 0.000  \n",
       "46 0.000 0.000 0.000 0.000 0.000 0.000 0.000 0.000 0.000  \n",
       "\n",
       "[47 rows x 2000 columns]"
      ],
      "text/html": "<div>\n<style scoped>\n    .dataframe tbody tr th:only-of-type {\n        vertical-align: middle;\n    }\n\n    .dataframe tbody tr th {\n        vertical-align: top;\n    }\n\n    .dataframe thead th {\n        text-align: right;\n    }\n</style>\n<table border=\"1\" class=\"dataframe\">\n  <thead>\n    <tr style=\"text-align: right;\">\n      <th></th>\n      <th>0</th>\n      <th>1</th>\n      <th>2</th>\n      <th>3</th>\n      <th>4</th>\n      <th>5</th>\n      <th>6</th>\n      <th>7</th>\n      <th>8</th>\n      <th>9</th>\n      <th>...</th>\n      <th>1990</th>\n      <th>1991</th>\n      <th>1992</th>\n      <th>1993</th>\n      <th>1994</th>\n      <th>1995</th>\n      <th>1996</th>\n      <th>1997</th>\n      <th>1998</th>\n      <th>1999</th>\n    </tr>\n  </thead>\n  <tbody>\n    <tr>\n      <th>0</th>\n      <td>0.000</td>\n      <td>0.000</td>\n      <td>0.000</td>\n      <td>0.000</td>\n      <td>0.000</td>\n      <td>0.000</td>\n      <td>0.000</td>\n      <td>0.000</td>\n      <td>0.000</td>\n      <td>0.000</td>\n      <td>...</td>\n      <td>0.000</td>\n      <td>0.000</td>\n      <td>0.000</td>\n      <td>0.000</td>\n      <td>0.000</td>\n      <td>0.000</td>\n      <td>0.000</td>\n      <td>0.000</td>\n      <td>0.000</td>\n      <td>0.000</td>\n    </tr>\n    <tr>\n      <th>1</th>\n      <td>0.000</td>\n      <td>0.000</td>\n      <td>0.000</td>\n      <td>0.000</td>\n      <td>0.000</td>\n      <td>0.000</td>\n      <td>0.000</td>\n      <td>0.000</td>\n      <td>0.000</td>\n      <td>0.000</td>\n      <td>...</td>\n      <td>0.000</td>\n      <td>0.000</td>\n      <td>0.000</td>\n      <td>0.000</td>\n      <td>0.000</td>\n      <td>0.000</td>\n      <td>0.000</td>\n      <td>0.000</td>\n      <td>0.000</td>\n      <td>0.000</td>\n    </tr>\n    <tr>\n      <th>2</th>\n      <td>0.000</td>\n      <td>0.000</td>\n      <td>0.000</td>\n      <td>0.000</td>\n      <td>0.000</td>\n      <td>0.000</td>\n      <td>0.000</td>\n      <td>0.000</td>\n      <td>0.000</td>\n      <td>0.000</td>\n      <td>...</td>\n      <td>0.000</td>\n      <td>0.000</td>\n      <td>0.000</td>\n      <td>0.000</td>\n      <td>0.000</td>\n      <td>0.000</td>\n      <td>0.000</td>\n      <td>0.000</td>\n      <td>0.000</td>\n      <td>0.000</td>\n    </tr>\n    <tr>\n      <th>3</th>\n      <td>0.000</td>\n      <td>0.000</td>\n      <td>0.000</td>\n      <td>0.000</td>\n      <td>0.000</td>\n      <td>0.000</td>\n      <td>0.000</td>\n      <td>0.000</td>\n      <td>0.000</td>\n      <td>0.000</td>\n      <td>...</td>\n      <td>0.000</td>\n      <td>0.000</td>\n      <td>0.000</td>\n      <td>0.000</td>\n      <td>0.000</td>\n      <td>0.000</td>\n      <td>0.000</td>\n      <td>0.000</td>\n      <td>0.000</td>\n      <td>0.000</td>\n    </tr>\n    <tr>\n      <th>4</th>\n      <td>0.000</td>\n      <td>0.000</td>\n      <td>0.000</td>\n      <td>0.000</td>\n      <td>0.000</td>\n      <td>0.000</td>\n      <td>0.000</td>\n      <td>0.000</td>\n      <td>0.000</td>\n      <td>0.000</td>\n      <td>...</td>\n      <td>0.000</td>\n      <td>0.000</td>\n      <td>0.000</td>\n      <td>0.000</td>\n      <td>0.000</td>\n      <td>0.000</td>\n      <td>0.000</td>\n      <td>0.000</td>\n      <td>0.000</td>\n      <td>0.000</td>\n    </tr>\n    <tr>\n      <th>5</th>\n      <td>0.000</td>\n      <td>0.000</td>\n      <td>0.000</td>\n      <td>0.000</td>\n      <td>0.000</td>\n      <td>0.000</td>\n      <td>0.000</td>\n      <td>0.000</td>\n      <td>0.000</td>\n      <td>0.000</td>\n      <td>...</td>\n      <td>0.000</td>\n      <td>0.000</td>\n      <td>0.000</td>\n      <td>0.000</td>\n      <td>0.000</td>\n      <td>0.000</td>\n      <td>0.000</td>\n      <td>0.000</td>\n      <td>0.000</td>\n      <td>0.000</td>\n    </tr>\n    <tr>\n      <th>6</th>\n      <td>0.000</td>\n      <td>0.000</td>\n      <td>0.000</td>\n      <td>0.000</td>\n      <td>0.000</td>\n      <td>0.000</td>\n      <td>0.000</td>\n      <td>0.000</td>\n      <td>0.000</td>\n      <td>0.000</td>\n      <td>...</td>\n      <td>0.000</td>\n      <td>0.000</td>\n      <td>0.000</td>\n      <td>0.000</td>\n      <td>0.000</td>\n      <td>0.000</td>\n      <td>0.000</td>\n      <td>0.000</td>\n      <td>0.000</td>\n      <td>0.000</td>\n    </tr>\n    <tr>\n      <th>7</th>\n      <td>0.000</td>\n      <td>0.000</td>\n      <td>0.000</td>\n      <td>0.000</td>\n      <td>0.000</td>\n      <td>0.000</td>\n      <td>0.000</td>\n      <td>0.000</td>\n      <td>0.000</td>\n      <td>0.000</td>\n      <td>...</td>\n      <td>0.000</td>\n      <td>0.000</td>\n      <td>0.000</td>\n      <td>0.000</td>\n      <td>0.000</td>\n      <td>0.000</td>\n      <td>0.000</td>\n      <td>0.000</td>\n      <td>0.000</td>\n      <td>0.000</td>\n    </tr>\n    <tr>\n      <th>8</th>\n      <td>0.000</td>\n      <td>0.000</td>\n      <td>0.000</td>\n      <td>0.000</td>\n      <td>0.000</td>\n      <td>0.000</td>\n      <td>0.000</td>\n      <td>0.000</td>\n      <td>0.000</td>\n      <td>0.000</td>\n      <td>...</td>\n      <td>0.000</td>\n      <td>0.000</td>\n      <td>0.000</td>\n      <td>0.000</td>\n      <td>0.000</td>\n      <td>0.000</td>\n      <td>0.000</td>\n      <td>0.000</td>\n      <td>0.000</td>\n      <td>0.000</td>\n    </tr>\n    <tr>\n      <th>9</th>\n      <td>0.000</td>\n      <td>0.000</td>\n      <td>0.000</td>\n      <td>0.000</td>\n      <td>0.000</td>\n      <td>0.000</td>\n      <td>0.000</td>\n      <td>0.000</td>\n      <td>0.000</td>\n      <td>0.000</td>\n      <td>...</td>\n      <td>0.000</td>\n      <td>0.000</td>\n      <td>0.000</td>\n      <td>0.000</td>\n      <td>0.000</td>\n      <td>0.000</td>\n      <td>0.000</td>\n      <td>0.000</td>\n      <td>0.000</td>\n      <td>0.000</td>\n    </tr>\n    <tr>\n      <th>10</th>\n      <td>0.000</td>\n      <td>0.000</td>\n      <td>0.000</td>\n      <td>0.000</td>\n      <td>0.000</td>\n      <td>0.000</td>\n      <td>0.000</td>\n      <td>0.000</td>\n      <td>0.000</td>\n      <td>0.000</td>\n      <td>...</td>\n      <td>0.000</td>\n      <td>0.000</td>\n      <td>0.000</td>\n      <td>0.000</td>\n      <td>0.000</td>\n      <td>0.000</td>\n      <td>0.000</td>\n      <td>0.000</td>\n      <td>0.000</td>\n      <td>0.000</td>\n    </tr>\n    <tr>\n      <th>11</th>\n      <td>0.000</td>\n      <td>0.000</td>\n      <td>0.000</td>\n      <td>0.000</td>\n      <td>0.000</td>\n      <td>0.000</td>\n      <td>0.000</td>\n      <td>0.000</td>\n      <td>0.000</td>\n      <td>0.000</td>\n      <td>...</td>\n      <td>0.000</td>\n      <td>0.000</td>\n      <td>0.000</td>\n      <td>0.000</td>\n      <td>0.000</td>\n      <td>0.000</td>\n      <td>0.000</td>\n      <td>0.000</td>\n      <td>0.000</td>\n      <td>0.000</td>\n    </tr>\n    <tr>\n      <th>12</th>\n      <td>0.000</td>\n      <td>0.000</td>\n      <td>0.000</td>\n      <td>0.000</td>\n      <td>0.000</td>\n      <td>0.000</td>\n      <td>0.000</td>\n      <td>0.000</td>\n      <td>0.000</td>\n      <td>0.000</td>\n      <td>...</td>\n      <td>0.000</td>\n      <td>0.000</td>\n      <td>0.000</td>\n      <td>0.000</td>\n      <td>0.000</td>\n      <td>0.000</td>\n      <td>0.000</td>\n      <td>0.000</td>\n      <td>0.000</td>\n      <td>0.000</td>\n    </tr>\n    <tr>\n      <th>13</th>\n      <td>0.000</td>\n      <td>0.000</td>\n      <td>0.000</td>\n      <td>0.000</td>\n      <td>0.000</td>\n      <td>0.000</td>\n      <td>0.000</td>\n      <td>0.000</td>\n      <td>0.000</td>\n      <td>0.000</td>\n      <td>...</td>\n      <td>0.000</td>\n      <td>0.000</td>\n      <td>0.000</td>\n      <td>0.000</td>\n      <td>0.000</td>\n      <td>0.000</td>\n      <td>0.000</td>\n      <td>0.000</td>\n      <td>0.000</td>\n      <td>0.000</td>\n    </tr>\n    <tr>\n      <th>14</th>\n      <td>0.000</td>\n      <td>0.000</td>\n      <td>0.000</td>\n      <td>0.000</td>\n      <td>0.000</td>\n      <td>0.000</td>\n      <td>0.000</td>\n      <td>0.000</td>\n      <td>0.000</td>\n      <td>0.000</td>\n      <td>...</td>\n      <td>0.000</td>\n      <td>0.000</td>\n      <td>0.000</td>\n      <td>0.000</td>\n      <td>0.000</td>\n      <td>0.000</td>\n      <td>0.000</td>\n      <td>0.000</td>\n      <td>0.000</td>\n      <td>0.000</td>\n    </tr>\n    <tr>\n      <th>15</th>\n      <td>0.000</td>\n      <td>0.000</td>\n      <td>0.000</td>\n      <td>0.000</td>\n      <td>0.000</td>\n      <td>0.000</td>\n      <td>0.000</td>\n      <td>0.000</td>\n      <td>0.000</td>\n      <td>0.000</td>\n      <td>...</td>\n      <td>0.000</td>\n      <td>0.000</td>\n      <td>0.000</td>\n      <td>0.000</td>\n      <td>0.000</td>\n      <td>0.000</td>\n      <td>0.000</td>\n      <td>0.000</td>\n      <td>0.000</td>\n      <td>0.000</td>\n    </tr>\n    <tr>\n      <th>16</th>\n      <td>2.000</td>\n      <td>0.000</td>\n      <td>0.000</td>\n      <td>5.000</td>\n      <td>0.000</td>\n      <td>0.000</td>\n      <td>0.000</td>\n      <td>0.000</td>\n      <td>0.000</td>\n      <td>0.000</td>\n      <td>...</td>\n      <td>0.000</td>\n      <td>0.000</td>\n      <td>0.000</td>\n      <td>0.000</td>\n      <td>0.000</td>\n      <td>0.000</td>\n      <td>0.000</td>\n      <td>0.000</td>\n      <td>0.000</td>\n      <td>0.000</td>\n    </tr>\n    <tr>\n      <th>17</th>\n      <td>0.000</td>\n      <td>0.000</td>\n      <td>0.000</td>\n      <td>0.000</td>\n      <td>0.000</td>\n      <td>0.000</td>\n      <td>0.000</td>\n      <td>0.000</td>\n      <td>0.000</td>\n      <td>0.000</td>\n      <td>...</td>\n      <td>0.000</td>\n      <td>0.000</td>\n      <td>0.000</td>\n      <td>0.000</td>\n      <td>0.000</td>\n      <td>0.000</td>\n      <td>0.000</td>\n      <td>0.000</td>\n      <td>0.000</td>\n      <td>0.000</td>\n    </tr>\n    <tr>\n      <th>18</th>\n      <td>8.000</td>\n      <td>0.000</td>\n      <td>0.000</td>\n      <td>2.000</td>\n      <td>10.000</td>\n      <td>0.000</td>\n      <td>0.000</td>\n      <td>0.000</td>\n      <td>0.000</td>\n      <td>0.000</td>\n      <td>...</td>\n      <td>0.000</td>\n      <td>0.000</td>\n      <td>0.000</td>\n      <td>0.000</td>\n      <td>0.000</td>\n      <td>0.000</td>\n      <td>0.000</td>\n      <td>0.000</td>\n      <td>0.000</td>\n      <td>0.000</td>\n    </tr>\n    <tr>\n      <th>19</th>\n      <td>0.000</td>\n      <td>0.000</td>\n      <td>0.000</td>\n      <td>0.000</td>\n      <td>0.000</td>\n      <td>0.000</td>\n      <td>0.000</td>\n      <td>0.000</td>\n      <td>0.000</td>\n      <td>0.000</td>\n      <td>...</td>\n      <td>0.000</td>\n      <td>0.000</td>\n      <td>0.000</td>\n      <td>0.000</td>\n      <td>0.000</td>\n      <td>0.000</td>\n      <td>0.000</td>\n      <td>0.000</td>\n      <td>0.000</td>\n      <td>0.000</td>\n    </tr>\n    <tr>\n      <th>20</th>\n      <td>0.000</td>\n      <td>0.000</td>\n      <td>0.000</td>\n      <td>0.000</td>\n      <td>0.000</td>\n      <td>0.000</td>\n      <td>0.000</td>\n      <td>0.000</td>\n      <td>0.000</td>\n      <td>0.000</td>\n      <td>...</td>\n      <td>0.000</td>\n      <td>0.000</td>\n      <td>0.000</td>\n      <td>0.000</td>\n      <td>0.000</td>\n      <td>0.000</td>\n      <td>0.000</td>\n      <td>0.000</td>\n      <td>0.000</td>\n      <td>0.000</td>\n    </tr>\n    <tr>\n      <th>21</th>\n      <td>3.000</td>\n      <td>0.000</td>\n      <td>0.000</td>\n      <td>0.000</td>\n      <td>3.000</td>\n      <td>0.000</td>\n      <td>0.000</td>\n      <td>0.000</td>\n      <td>0.000</td>\n      <td>0.000</td>\n      <td>...</td>\n      <td>0.000</td>\n      <td>0.000</td>\n      <td>0.000</td>\n      <td>0.000</td>\n      <td>0.000</td>\n      <td>0.000</td>\n      <td>0.000</td>\n      <td>0.000</td>\n      <td>0.000</td>\n      <td>0.000</td>\n    </tr>\n    <tr>\n      <th>22</th>\n      <td>0.000</td>\n      <td>0.000</td>\n      <td>0.000</td>\n      <td>0.000</td>\n      <td>0.000</td>\n      <td>0.000</td>\n      <td>0.000</td>\n      <td>0.000</td>\n      <td>0.000</td>\n      <td>0.000</td>\n      <td>...</td>\n      <td>0.000</td>\n      <td>0.000</td>\n      <td>0.000</td>\n      <td>0.000</td>\n      <td>0.000</td>\n      <td>0.000</td>\n      <td>0.000</td>\n      <td>0.000</td>\n      <td>0.000</td>\n      <td>0.000</td>\n    </tr>\n    <tr>\n      <th>23</th>\n      <td>0.000</td>\n      <td>0.000</td>\n      <td>0.000</td>\n      <td>0.000</td>\n      <td>0.000</td>\n      <td>0.000</td>\n      <td>0.000</td>\n      <td>0.000</td>\n      <td>0.000</td>\n      <td>0.000</td>\n      <td>...</td>\n      <td>0.000</td>\n      <td>0.000</td>\n      <td>0.000</td>\n      <td>0.000</td>\n      <td>0.000</td>\n      <td>0.000</td>\n      <td>0.000</td>\n      <td>0.000</td>\n      <td>0.000</td>\n      <td>0.000</td>\n    </tr>\n    <tr>\n      <th>24</th>\n      <td>1.000</td>\n      <td>0.000</td>\n      <td>0.000</td>\n      <td>0.000</td>\n      <td>0.000</td>\n      <td>0.000</td>\n      <td>0.000</td>\n      <td>0.000</td>\n      <td>0.000</td>\n      <td>0.000</td>\n      <td>...</td>\n      <td>0.000</td>\n      <td>0.000</td>\n      <td>0.000</td>\n      <td>0.000</td>\n      <td>0.000</td>\n      <td>0.000</td>\n      <td>0.000</td>\n      <td>0.000</td>\n      <td>0.000</td>\n      <td>0.000</td>\n    </tr>\n    <tr>\n      <th>25</th>\n      <td>0.000</td>\n      <td>0.000</td>\n      <td>0.000</td>\n      <td>0.000</td>\n      <td>0.000</td>\n      <td>0.000</td>\n      <td>0.000</td>\n      <td>0.000</td>\n      <td>0.000</td>\n      <td>0.000</td>\n      <td>...</td>\n      <td>0.000</td>\n      <td>0.000</td>\n      <td>0.000</td>\n      <td>0.000</td>\n      <td>0.000</td>\n      <td>0.000</td>\n      <td>0.000</td>\n      <td>0.000</td>\n      <td>0.000</td>\n      <td>0.000</td>\n    </tr>\n    <tr>\n      <th>26</th>\n      <td>5.000</td>\n      <td>0.000</td>\n      <td>0.000</td>\n      <td>0.000</td>\n      <td>0.000</td>\n      <td>0.000</td>\n      <td>0.000</td>\n      <td>0.000</td>\n      <td>0.000</td>\n      <td>0.000</td>\n      <td>...</td>\n      <td>0.000</td>\n      <td>0.000</td>\n      <td>0.000</td>\n      <td>0.000</td>\n      <td>0.000</td>\n      <td>0.000</td>\n      <td>0.000</td>\n      <td>0.000</td>\n      <td>0.000</td>\n      <td>0.000</td>\n    </tr>\n    <tr>\n      <th>27</th>\n      <td>0.000</td>\n      <td>0.000</td>\n      <td>0.000</td>\n      <td>0.000</td>\n      <td>0.000</td>\n      <td>0.000</td>\n      <td>0.000</td>\n      <td>0.000</td>\n      <td>0.000</td>\n      <td>0.000</td>\n      <td>...</td>\n      <td>0.000</td>\n      <td>0.000</td>\n      <td>0.000</td>\n      <td>0.000</td>\n      <td>0.000</td>\n      <td>0.000</td>\n      <td>0.000</td>\n      <td>0.000</td>\n      <td>0.000</td>\n      <td>0.000</td>\n    </tr>\n    <tr>\n      <th>28</th>\n      <td>0.000</td>\n      <td>0.000</td>\n      <td>0.000</td>\n      <td>0.000</td>\n      <td>0.000</td>\n      <td>0.000</td>\n      <td>0.000</td>\n      <td>0.000</td>\n      <td>0.000</td>\n      <td>0.000</td>\n      <td>...</td>\n      <td>0.000</td>\n      <td>0.000</td>\n      <td>0.000</td>\n      <td>0.000</td>\n      <td>0.000</td>\n      <td>0.000</td>\n      <td>0.000</td>\n      <td>0.000</td>\n      <td>0.000</td>\n      <td>0.000</td>\n    </tr>\n    <tr>\n      <th>29</th>\n      <td>0.000</td>\n      <td>0.000</td>\n      <td>0.000</td>\n      <td>0.000</td>\n      <td>0.000</td>\n      <td>0.000</td>\n      <td>0.000</td>\n      <td>0.000</td>\n      <td>0.000</td>\n      <td>0.000</td>\n      <td>...</td>\n      <td>0.000</td>\n      <td>0.000</td>\n      <td>0.000</td>\n      <td>0.000</td>\n      <td>0.000</td>\n      <td>0.000</td>\n      <td>0.000</td>\n      <td>0.000</td>\n      <td>0.000</td>\n      <td>0.000</td>\n    </tr>\n    <tr>\n      <th>30</th>\n      <td>0.000</td>\n      <td>0.000</td>\n      <td>0.000</td>\n      <td>0.000</td>\n      <td>0.000</td>\n      <td>0.000</td>\n      <td>0.000</td>\n      <td>0.000</td>\n      <td>0.000</td>\n      <td>0.000</td>\n      <td>...</td>\n      <td>0.000</td>\n      <td>0.000</td>\n      <td>0.000</td>\n      <td>0.000</td>\n      <td>0.000</td>\n      <td>0.000</td>\n      <td>0.000</td>\n      <td>0.000</td>\n      <td>0.000</td>\n      <td>0.000</td>\n    </tr>\n    <tr>\n      <th>31</th>\n      <td>0.000</td>\n      <td>0.000</td>\n      <td>0.000</td>\n      <td>0.000</td>\n      <td>0.000</td>\n      <td>0.000</td>\n      <td>0.000</td>\n      <td>0.000</td>\n      <td>0.000</td>\n      <td>0.000</td>\n      <td>...</td>\n      <td>0.000</td>\n      <td>0.000</td>\n      <td>0.000</td>\n      <td>0.000</td>\n      <td>0.000</td>\n      <td>0.000</td>\n      <td>0.000</td>\n      <td>0.000</td>\n      <td>0.000</td>\n      <td>0.000</td>\n    </tr>\n    <tr>\n      <th>32</th>\n      <td>0.000</td>\n      <td>0.000</td>\n      <td>0.000</td>\n      <td>0.000</td>\n      <td>0.000</td>\n      <td>0.000</td>\n      <td>0.000</td>\n      <td>0.000</td>\n      <td>0.000</td>\n      <td>0.000</td>\n      <td>...</td>\n      <td>0.000</td>\n      <td>0.000</td>\n      <td>0.000</td>\n      <td>0.000</td>\n      <td>0.000</td>\n      <td>0.000</td>\n      <td>0.000</td>\n      <td>0.000</td>\n      <td>0.000</td>\n      <td>0.000</td>\n    </tr>\n    <tr>\n      <th>33</th>\n      <td>0.000</td>\n      <td>0.000</td>\n      <td>0.000</td>\n      <td>0.000</td>\n      <td>0.000</td>\n      <td>0.000</td>\n      <td>0.000</td>\n      <td>0.000</td>\n      <td>0.000</td>\n      <td>0.000</td>\n      <td>...</td>\n      <td>0.000</td>\n      <td>0.000</td>\n      <td>0.000</td>\n      <td>0.000</td>\n      <td>0.000</td>\n      <td>0.000</td>\n      <td>0.000</td>\n      <td>0.000</td>\n      <td>0.000</td>\n      <td>0.000</td>\n    </tr>\n    <tr>\n      <th>34</th>\n      <td>1.000</td>\n      <td>0.000</td>\n      <td>0.000</td>\n      <td>0.000</td>\n      <td>0.000</td>\n      <td>0.000</td>\n      <td>0.000</td>\n      <td>0.000</td>\n      <td>0.000</td>\n      <td>0.000</td>\n      <td>...</td>\n      <td>0.000</td>\n      <td>0.000</td>\n      <td>0.000</td>\n      <td>0.000</td>\n      <td>0.000</td>\n      <td>0.000</td>\n      <td>0.000</td>\n      <td>0.000</td>\n      <td>0.000</td>\n      <td>0.000</td>\n    </tr>\n    <tr>\n      <th>35</th>\n      <td>6.000</td>\n      <td>0.000</td>\n      <td>0.000</td>\n      <td>2.000</td>\n      <td>0.000</td>\n      <td>0.000</td>\n      <td>0.000</td>\n      <td>0.000</td>\n      <td>0.000</td>\n      <td>0.000</td>\n      <td>...</td>\n      <td>0.000</td>\n      <td>0.000</td>\n      <td>0.000</td>\n      <td>0.000</td>\n      <td>0.000</td>\n      <td>0.000</td>\n      <td>0.000</td>\n      <td>0.000</td>\n      <td>0.000</td>\n      <td>0.000</td>\n    </tr>\n    <tr>\n      <th>36</th>\n      <td>1.000</td>\n      <td>0.000</td>\n      <td>0.000</td>\n      <td>0.000</td>\n      <td>4.000</td>\n      <td>0.000</td>\n      <td>0.000</td>\n      <td>0.000</td>\n      <td>0.000</td>\n      <td>0.000</td>\n      <td>...</td>\n      <td>0.000</td>\n      <td>0.000</td>\n      <td>0.000</td>\n      <td>0.000</td>\n      <td>0.000</td>\n      <td>0.000</td>\n      <td>0.000</td>\n      <td>0.000</td>\n      <td>0.000</td>\n      <td>0.000</td>\n    </tr>\n    <tr>\n      <th>37</th>\n      <td>17.000</td>\n      <td>0.000</td>\n      <td>0.000</td>\n      <td>0.000</td>\n      <td>1.000</td>\n      <td>0.000</td>\n      <td>0.000</td>\n      <td>0.000</td>\n      <td>0.000</td>\n      <td>0.000</td>\n      <td>...</td>\n      <td>0.000</td>\n      <td>0.000</td>\n      <td>0.000</td>\n      <td>0.000</td>\n      <td>0.000</td>\n      <td>0.000</td>\n      <td>0.000</td>\n      <td>0.000</td>\n      <td>0.000</td>\n      <td>0.000</td>\n    </tr>\n    <tr>\n      <th>38</th>\n      <td>2.000</td>\n      <td>0.000</td>\n      <td>0.000</td>\n      <td>0.000</td>\n      <td>0.000</td>\n      <td>0.000</td>\n      <td>0.000</td>\n      <td>0.000</td>\n      <td>0.000</td>\n      <td>0.000</td>\n      <td>...</td>\n      <td>0.000</td>\n      <td>0.000</td>\n      <td>0.000</td>\n      <td>0.000</td>\n      <td>0.000</td>\n      <td>0.000</td>\n      <td>0.000</td>\n      <td>0.000</td>\n      <td>0.000</td>\n      <td>0.000</td>\n    </tr>\n    <tr>\n      <th>39</th>\n      <td>7.000</td>\n      <td>0.000</td>\n      <td>0.000</td>\n      <td>0.000</td>\n      <td>9.000</td>\n      <td>0.000</td>\n      <td>0.000</td>\n      <td>0.000</td>\n      <td>0.000</td>\n      <td>0.000</td>\n      <td>...</td>\n      <td>0.000</td>\n      <td>0.000</td>\n      <td>0.000</td>\n      <td>0.000</td>\n      <td>0.000</td>\n      <td>0.000</td>\n      <td>0.000</td>\n      <td>0.000</td>\n      <td>0.000</td>\n      <td>0.000</td>\n    </tr>\n    <tr>\n      <th>40</th>\n      <td>5.000</td>\n      <td>0.000</td>\n      <td>0.000</td>\n      <td>0.000</td>\n      <td>0.000</td>\n      <td>0.000</td>\n      <td>0.000</td>\n      <td>0.000</td>\n      <td>0.000</td>\n      <td>0.000</td>\n      <td>...</td>\n      <td>0.000</td>\n      <td>0.000</td>\n      <td>0.000</td>\n      <td>0.000</td>\n      <td>0.000</td>\n      <td>0.000</td>\n      <td>0.000</td>\n      <td>0.000</td>\n      <td>0.000</td>\n      <td>0.000</td>\n    </tr>\n    <tr>\n      <th>41</th>\n      <td>9.000</td>\n      <td>0.000</td>\n      <td>0.000</td>\n      <td>27.000</td>\n      <td>13.000</td>\n      <td>0.000</td>\n      <td>0.000</td>\n      <td>0.000</td>\n      <td>0.000</td>\n      <td>0.000</td>\n      <td>...</td>\n      <td>0.000</td>\n      <td>0.000</td>\n      <td>0.000</td>\n      <td>0.000</td>\n      <td>0.000</td>\n      <td>0.000</td>\n      <td>0.000</td>\n      <td>0.000</td>\n      <td>0.000</td>\n      <td>0.000</td>\n    </tr>\n    <tr>\n      <th>42</th>\n      <td>0.000</td>\n      <td>0.000</td>\n      <td>0.000</td>\n      <td>0.000</td>\n      <td>0.000</td>\n      <td>0.000</td>\n      <td>0.000</td>\n      <td>0.000</td>\n      <td>0.000</td>\n      <td>0.000</td>\n      <td>...</td>\n      <td>0.000</td>\n      <td>0.000</td>\n      <td>0.000</td>\n      <td>0.000</td>\n      <td>0.000</td>\n      <td>0.000</td>\n      <td>0.000</td>\n      <td>0.000</td>\n      <td>0.000</td>\n      <td>0.000</td>\n    </tr>\n    <tr>\n      <th>43</th>\n      <td>0.000</td>\n      <td>0.000</td>\n      <td>0.000</td>\n      <td>0.000</td>\n      <td>0.000</td>\n      <td>0.000</td>\n      <td>0.000</td>\n      <td>0.000</td>\n      <td>0.000</td>\n      <td>0.000</td>\n      <td>...</td>\n      <td>0.000</td>\n      <td>0.000</td>\n      <td>0.000</td>\n      <td>0.000</td>\n      <td>0.000</td>\n      <td>0.000</td>\n      <td>0.000</td>\n      <td>0.000</td>\n      <td>0.000</td>\n      <td>0.000</td>\n    </tr>\n    <tr>\n      <th>44</th>\n      <td>0.000</td>\n      <td>0.000</td>\n      <td>0.000</td>\n      <td>0.000</td>\n      <td>0.000</td>\n      <td>0.000</td>\n      <td>0.000</td>\n      <td>0.000</td>\n      <td>0.000</td>\n      <td>0.000</td>\n      <td>...</td>\n      <td>0.000</td>\n      <td>0.000</td>\n      <td>0.000</td>\n      <td>0.000</td>\n      <td>0.000</td>\n      <td>0.000</td>\n      <td>0.000</td>\n      <td>0.000</td>\n      <td>0.000</td>\n      <td>0.000</td>\n    </tr>\n    <tr>\n      <th>45</th>\n      <td>0.000</td>\n      <td>0.000</td>\n      <td>0.000</td>\n      <td>0.000</td>\n      <td>0.000</td>\n      <td>0.000</td>\n      <td>0.000</td>\n      <td>0.000</td>\n      <td>0.000</td>\n      <td>0.000</td>\n      <td>...</td>\n      <td>0.000</td>\n      <td>0.000</td>\n      <td>0.000</td>\n      <td>0.000</td>\n      <td>0.000</td>\n      <td>0.000</td>\n      <td>0.000</td>\n      <td>0.000</td>\n      <td>0.000</td>\n      <td>0.000</td>\n    </tr>\n    <tr>\n      <th>46</th>\n      <td>0.000</td>\n      <td>0.000</td>\n      <td>0.000</td>\n      <td>0.000</td>\n      <td>0.000</td>\n      <td>0.000</td>\n      <td>0.000</td>\n      <td>0.000</td>\n      <td>0.000</td>\n      <td>0.000</td>\n      <td>...</td>\n      <td>0.000</td>\n      <td>0.000</td>\n      <td>0.000</td>\n      <td>0.000</td>\n      <td>0.000</td>\n      <td>0.000</td>\n      <td>0.000</td>\n      <td>0.000</td>\n      <td>0.000</td>\n      <td>0.000</td>\n    </tr>\n  </tbody>\n</table>\n<p>47 rows × 2000 columns</p>\n</div>"
     },
     "metadata": {},
     "execution_count": 8
    },
    {
     "output_type": "stream",
     "name": "stdout",
     "text": [
      "time: 31 ms\n"
     ]
    }
   ],
   "source": [
    "df_label = pd.DataFrame(target_app_count)\n",
    "df_label"
   ]
  },
  {
   "cell_type": "code",
   "execution_count": 9,
   "metadata": {},
   "outputs": [
    {
     "output_type": "stream",
     "name": "stdout",
     "text": [
      "(47, 2002)\n(47, 2000)\ntime: 0 ns\n"
     ]
    }
   ],
   "source": [
    "X_train = feature\n",
    "y_train = target_app_count\n",
    "print(X_train.shape)\n",
    "print(y_train.shape)"
   ]
  },
  {
   "source": [
    "## Apply above idea in generat_input function"
   ],
   "cell_type": "markdown",
   "metadata": {}
  },
  {
   "cell_type": "code",
   "execution_count": 10,
   "metadata": {},
   "outputs": [
    {
     "output_type": "stream",
     "name": "stdout",
     "text": [
      "time: 0 ns\n"
     ]
    }
   ],
   "source": [
    "#create 2 function to extract the feature and label from array\n",
    "#just to keep every clean as possible\n",
    "\n",
    "def extract_feature(lst):\n",
    "    #extract first 2 columns: session and mode location \n",
    "    return [item[:2] for item in lst]\n",
    "\n",
    "def extract_label(lst):\n",
    "    #extract the remaning columns\n",
    "    return [item[2:] for item in lst]\n",
    "\n",
    "\n",
    "\n",
    "# function to generate input for baseline model\n",
    "# return(no.of users, rows of a users, feature dimension)\n",
    "def generate_baseline_input(data, mode):\n",
    "    data_neural = data\n",
    "    data_feature = []\n",
    "    data_label = []\n",
    "\n",
    "    if mode == 'train':\n",
    "        day_id = [20, 21, 22, 25] #the day for training\n",
    "\n",
    "    elif mode == 'test':\n",
    "        day_id = [26] # the day for testing\n",
    "\n",
    "    # if candidate is None:\n",
    "    candidate = data_neural.keys() #filter, and get user id\n",
    "\n",
    "    #iterate all the users\n",
    "    for u in candidate:\n",
    "        #seperate feature and label list\n",
    "        user_X_train = []\n",
    "        user_y_label = []\n",
    "        #get user's record\n",
    "        sessions = data_neural[u]\n",
    "        #seperate days for training and testing\n",
    "        for i in day_id:\n",
    "            #call specific day\n",
    "            session = data_neural[u][i]\n",
    "            #extract the part we want\n",
    "            timeloc = extract_feature(session)[1:]\n",
    "            prev_app_count = extract_label(session)[:-1]\n",
    "            target = extract_label(session)[1:]\n",
    "            #concate feature\n",
    "            user_feature = np.concatenate((timeloc,prev_app_count),axis = 1)\n",
    "            #append feature and label to corresponding list\n",
    "            user_X_train.append(user_feature)\n",
    "            user_y_label.append(target)\n",
    "        #reason for reshape here: group 1 user at 1 dimension when append to all_user list\n",
    "        user_X_train = np.array(user_X_train).reshape(-1,2002)\n",
    "        user_y_label = np.array(user_y_label).reshape(-1,2000)\n",
    "        #append user_data to all_use list\n",
    "        data_feature.append(user_X_train)\n",
    "        data_label.append(user_y_label)\n",
    "    # no reshape here because when calling the variables it is easy to check how many user have been imported\\\n",
    "    # therefore it returns 3 dimenionsal data : (no.of users, rows of a users, feature dimension)\n",
    "    data_feature = np.array(data_feature)\n",
    "    data_label = np.array(data_label)\n",
    "\n",
    "    return data_feature, data_label\n"
   ]
  },
  {
   "cell_type": "code",
   "execution_count": 11,
   "metadata": {},
   "outputs": [
    {
     "output_type": "stream",
     "name": "stdout",
     "text": [
      "(1, 188, 2002)\n",
      "(1, 188, 2000)\n",
      "(1, 47, 2002)\n",
      "(1, 47, 2000)\n",
      "X_train has 1 user, each user has 188 rows, each row has 2002 columns\n",
      "time: 16 ms\n"
     ]
    }
   ],
   "source": [
    "X_train, y_train = generate_baseline_input(data, 'train')\n",
    "X_test, y_test = generate_baseline_input(data,'test')\n",
    "print(X_train.shape)\n",
    "print(y_train.shape)\n",
    "print(X_test.shape)\n",
    "print(y_test.shape)\n",
    "print(\"X_train has {} user, each user has {} rows, each row has {} columns\". format(X_train.shape[0], X_train.shape[1], X_train.shape[2]))"
   ]
  },
  {
   "cell_type": "code",
   "execution_count": 12,
   "metadata": {},
   "outputs": [
    {
     "output_type": "stream",
     "name": "stdout",
     "text": [
      "(188, 2002)\n(188, 2000)\ntime: 0 ns\n"
     ]
    }
   ],
   "source": [
    "X_train = X_train.reshape(-1,2002)\n",
    "y_train = y_train.reshape(-1,2000)\n",
    "print(X_train.shape)\n",
    "print(y_train.shape)"
   ]
  },
  {
   "cell_type": "code",
   "execution_count": 13,
   "metadata": {},
   "outputs": [
    {
     "output_type": "stream",
     "name": "stdout",
     "text": [
      "(47, 2002)\n(47, 2000)\ntime: 0 ns\n"
     ]
    }
   ],
   "source": [
    "X_test = X_test.reshape(-1,2002)\n",
    "y_test = y_test.reshape(-1,2000)\n",
    "print(X_test.shape)\n",
    "print(y_test.shape)"
   ]
  },
  {
   "source": [
    "# Multinomial Naive Bayes\n",
    "## This means that we are using the count to predict the count of app usage in next session\n",
    "## In prediction, every class is the occurred app 'count' in the previous session"
   ],
   "cell_type": "markdown",
   "metadata": {}
  },
  {
   "cell_type": "code",
   "execution_count": null,
   "metadata": {},
   "outputs": [],
   "source": []
  },
  {
   "cell_type": "code",
   "execution_count": 14,
   "metadata": {},
   "outputs": [
    {
     "output_type": "stream",
     "name": "stdout",
     "text": [
      "time: 1.78 s\n"
     ]
    }
   ],
   "source": [
    "from sklearn.multioutput import MultiOutputClassifier\n",
    "from sklearn.naive_bayes import MultinomialNB\n",
    "clf_MNB = MultiOutputClassifier(MultinomialNB()).fit(X_train, y_train)\n",
    "# pred_MNB = clf_MNB.predict(X_test)\n",
    "# pred_MNB_prob = clf_MNB.predict_proba(X_test)"
   ]
  },
  {
   "cell_type": "code",
   "execution_count": 15,
   "metadata": {},
   "outputs": [
    {
     "output_type": "stream",
     "name": "stdout",
     "text": [
      "time: 703 ms\n"
     ]
    }
   ],
   "source": [
    "pred_MNB = clf_MNB.predict(X_test)\n",
    "pred_MNB_prob = clf_MNB.predict_proba(X_test)"
   ]
  },
  {
   "cell_type": "code",
   "execution_count": 16,
   "metadata": {
    "tags": []
   },
   "outputs": [
    {
     "output_type": "stream",
     "name": "stdout",
     "text": [
      "time: 0 ns\n"
     ]
    }
   ],
   "source": [
    "#reason for extract prob:\n",
    "#deepapp output is a list of vector of value being the prob of user using a app in the next session or not\n",
    "#in order to match the output, we need the prob of class [0] < no matter you train with multinomial or binary\n",
    "#in all cases 1- class [0] = prob of the user using a app\n",
    "def extract_prob(lst):\n",
    "    return [(1-item[0]) for item in lst]"
   ]
  },
  {
   "cell_type": "code",
   "execution_count": 17,
   "metadata": {},
   "outputs": [
    {
     "output_type": "stream",
     "name": "stdout",
     "text": [
      "time: 63 ms\n"
     ]
    }
   ],
   "source": [
    "#pred_MNB_prob returns (2000,47), first we extract every prob class [0] in rows then we do a transpose\n",
    "for i in range(2000):\n",
    "    pred_MNB_prob[i] =  extract_prob(pred_MNB_prob[i])"
   ]
  },
  {
   "cell_type": "code",
   "execution_count": 18,
   "metadata": {},
   "outputs": [
    {
     "output_type": "execute_result",
     "data": {
      "text/plain": [
       "(47, 2000)"
      ]
     },
     "metadata": {},
     "execution_count": 18
    },
    {
     "output_type": "stream",
     "name": "stdout",
     "text": [
      "time: 15 ms\n"
     ]
    }
   ],
   "source": [
    "#transpose\n",
    "pred_MNB_prob = np.array(pred_MNB_prob).T\n",
    "pred_MNB_prob.shape"
   ]
  },
  {
   "source": [
    "# MLR"
   ],
   "cell_type": "markdown",
   "metadata": {}
  },
  {
   "cell_type": "code",
   "execution_count": 19,
   "metadata": {},
   "outputs": [
    {
     "output_type": "stream",
     "name": "stdout",
     "text": [
      "time: 0 ns\n"
     ]
    }
   ],
   "source": [
    "#one hot code y_train and y_test\n",
    "y_train = np.where(y_train > 0, 1, 0)\n",
    "y_test = np.where(y_test > 0, 1, 0)"
   ]
  },
  {
   "cell_type": "code",
   "execution_count": 20,
   "metadata": {},
   "outputs": [
    {
     "output_type": "stream",
     "name": "stdout",
     "text": [
      "time: 0 ns\n"
     ]
    }
   ],
   "source": [
    "all0_column_ind = np.argwhere(np.all(y_train == 0, axis = 0))"
   ]
  },
  {
   "cell_type": "code",
   "execution_count": 22,
   "metadata": {},
   "outputs": [
    {
     "output_type": "execute_result",
     "data": {
      "text/plain": [
       "1903"
      ]
     },
     "metadata": {},
     "execution_count": 22
    },
    {
     "output_type": "stream",
     "name": "stdout",
     "text": [
      "time: 0 ns\n"
     ]
    }
   ],
   "source": [
    "len(all0_column_ind)"
   ]
  },
  {
   "cell_type": "code",
   "execution_count": 18,
   "metadata": {},
   "outputs": [
    {
     "output_type": "stream",
     "name": "stdout",
     "text": [
      "time: 0 ns\n"
     ]
    }
   ],
   "source": [
    "y_train_rm = np.delete(y_train, all0_column_ind, axis=1)\n",
    "y_test_rm = np.delete(y_test, all0_column_ind, axis=1)"
   ]
  },
  {
   "cell_type": "code",
   "execution_count": 19,
   "metadata": {},
   "outputs": [
    {
     "output_type": "stream",
     "name": "stdout",
     "text": [
      "time: 4.41 s\n"
     ]
    }
   ],
   "source": [
    "from sklearn.linear_model import LogisticRegression\n",
    "from sklearn.multioutput import MultiOutputClassifier\n",
    "clf_MLR = MultiOutputClassifier(LogisticRegression(multi_class = 'ovr')).fit(X_train, y_train_rm)"
   ]
  },
  {
   "cell_type": "code",
   "execution_count": 23,
   "metadata": {},
   "outputs": [
    {
     "output_type": "error",
     "ename": "AttributeError",
     "evalue": "'list' object has no attribute 'shape'",
     "traceback": [
      "\u001b[1;31m---------------------------------------------------------------------------\u001b[0m",
      "\u001b[1;31mAttributeError\u001b[0m                            Traceback (most recent call last)",
      "\u001b[1;32m<ipython-input-23-dd0aa1c072bc>\u001b[0m in \u001b[0;36m<module>\u001b[1;34m\u001b[0m\n\u001b[0;32m      1\u001b[0m \u001b[0mpred_MLR\u001b[0m \u001b[1;33m=\u001b[0m \u001b[0mclf_MLR\u001b[0m\u001b[1;33m.\u001b[0m\u001b[0mpredict\u001b[0m\u001b[1;33m(\u001b[0m\u001b[0mX_test\u001b[0m\u001b[1;33m)\u001b[0m\u001b[1;33m\u001b[0m\u001b[1;33m\u001b[0m\u001b[0m\n\u001b[0;32m      2\u001b[0m \u001b[0mpred_MLR_prob\u001b[0m \u001b[1;33m=\u001b[0m \u001b[0mclf_MLR\u001b[0m\u001b[1;33m.\u001b[0m\u001b[0mpredict_proba\u001b[0m\u001b[1;33m(\u001b[0m\u001b[0mX_test\u001b[0m\u001b[1;33m)\u001b[0m\u001b[1;33m\u001b[0m\u001b[1;33m\u001b[0m\u001b[0m\n\u001b[1;32m----> 3\u001b[1;33m \u001b[0mprint\u001b[0m\u001b[1;33m(\u001b[0m\u001b[0mpred_MLR\u001b[0m\u001b[1;33m.\u001b[0m\u001b[0mshape\u001b[0m\u001b[1;33m,\u001b[0m \u001b[0mpred_MLR_prob\u001b[0m\u001b[1;33m.\u001b[0m\u001b[0mshape\u001b[0m\u001b[1;33m)\u001b[0m\u001b[1;33m\u001b[0m\u001b[1;33m\u001b[0m\u001b[0m\n\u001b[0m",
      "\u001b[1;31mAttributeError\u001b[0m: 'list' object has no attribute 'shape'"
     ]
    }
   ],
   "source": [
    "pred_MLR = clf_MLR.predict(X_test)\n",
    "pred_MLR_prob = clf_MLR.predict_proba(X_test)"
   ]
  },
  {
   "cell_type": "code",
   "execution_count": 28,
   "metadata": {},
   "outputs": [
    {
     "output_type": "stream",
     "name": "stdout",
     "text": [
      "time: 0 ns\n"
     ]
    }
   ],
   "source": [
    "def extract_prob(lst):\n",
    "    return [(1-item[0]) for item in lst]\n",
    "for i in range(len(pred_MLR_prob)):\n",
    "    pred_MLR_prob[i] =  extract_prob(pred_MLR_prob[i])"
   ]
  },
  {
   "cell_type": "code",
   "execution_count": 29,
   "metadata": {},
   "outputs": [
    {
     "output_type": "execute_result",
     "data": {
      "text/plain": [
       "(47, 97)"
      ]
     },
     "metadata": {},
     "execution_count": 29
    },
    {
     "output_type": "stream",
     "name": "stdout",
     "text": [
      "time: 0 ns\n"
     ]
    }
   ],
   "source": [
    "#transpose\n",
    "pred_MLR_prob = np.array(pred_MLR_prob).T\n",
    "pred_MLR_prob.shape"
   ]
  },
  {
   "source": [
    "# MLR Evaluation\n"
   ],
   "cell_type": "markdown",
   "metadata": {}
  },
  {
   "cell_type": "code",
   "execution_count": 35,
   "metadata": {},
   "outputs": [
    {
     "output_type": "stream",
     "name": "stdout",
     "text": [
      "AUC:  0.20809638705624273\nMAP:  0.21536643026004726\nRecall@5:  0.2978723404255319\n33 rows has been skipped\ntime: 16 ms\n"
     ]
    }
   ],
   "source": [
    "from sklearn import metrics as skmetrics\n",
    "\n",
    "avg_auc = 0\n",
    "avg_map = 0\n",
    "avg_recall = 0\n",
    "count = 0\n",
    "\n",
    "for i in range(y_test_rm.shape[0]):\n",
    "    if np.sum(y_test_rm[i])> 0:\n",
    "        fpr, tpr, thresholds = skmetrics.roc_curve(y_test_rm[i], pred_MLR_prob[i], pos_label=1)\n",
    "        avg_auc += skmetrics.auc(fpr, tpr)\n",
    "        actual, pred_o, pred = r_k(y_test_rm[i], pred_MLR_prob[i] ,5, 5)\n",
    "        avg_recall += skmetrics.recall_score(actual, pred_o, average='macro') # Recall@5\n",
    "        avg_map += cal_ap(y_test_rm[i], pred_MLR_prob[i], 5)\n",
    "\n",
    "    else:\n",
    "        count +=1\n",
    "        pass\n",
    "    \n",
    "print('AUC: ', avg_auc / y_test_rm.shape[0])\n",
    "print('MAP: ', avg_map / y_test_rm.shape[0])\n",
    "print('Recall@5: ', avg_recall / y_test_rm.shape[0])\n",
    "\n",
    "print('{} rows has been skipped'.format(count))\n",
    "\n",
    "# fpr, tpr, thresholds = skmetrics.roc_curve(y_test, pred_MNB_prob, pos_label=1) # Collect the recall and false positive rate from all 2000 predictions\n",
    "# acc[0] += skmetrics.auc(fpr, tpr)\n",
    "# # acc[1] += cal_ap(truth, predict, 5)"
   ]
  },
  {
   "source": [
    "# Evaluation"
   ],
   "cell_type": "markdown",
   "metadata": {}
  },
  {
   "cell_type": "code",
   "execution_count": 32,
   "metadata": {},
   "outputs": [
    {
     "output_type": "stream",
     "name": "stdout",
     "text": [
      "time: 0 ns\n"
     ]
    }
   ],
   "source": [
    "def cal_ap( y_actual, y_pred, k ):\n",
    "    topK = min( len(y_pred), k ) # set top k\n",
    "    l_zip = list(zip(y_actual,y_pred))\n",
    "    # sort y_pred by the probability of the model\n",
    "    s_zip = sorted( l_zip, key=lambda x: x[1], reverse=True )\n",
    "    # topk of sorted result\n",
    "    s_zip_topk = s_zip[:topK] # Shape (5,2)\n",
    "    # Calculation of precision\n",
    "    num = 0\n",
    "    rank = 0\n",
    "    sumP = 0.0\n",
    "    for item in s_zip_topk:\n",
    "        rank += 1\n",
    "        if item[0] == 1:\n",
    "            num += 1\n",
    "            sumP += (num*1.0)/(rank*1.0)\n",
    "    ap = 0.0\n",
    "    if num > 0:\n",
    "        ap = sumP/(num*1.0)\n",
    "    return ap   # average precision\n",
    "# Take topk prediction and the ground truth\n",
    "\n",
    "\n",
    "def r_k(y_actual, y_pred, k, threshold):\n",
    "    topK = min( len(y_pred), k ) # set top k\n",
    "    l_zip = list(zip(y_actual,y_pred))\n",
    "    # sort y_pred by the probability of the model\n",
    "    s_zip = sorted( l_zip, key=lambda x: x[1], reverse=True )\n",
    "    # topk of sorted result\n",
    "    s_zip_topk = s_zip[:topK] # Shape (5,2)\n",
    "    # print(s_zip_topk)\n",
    "    actual, pred = zip(*s_zip_topk)\n",
    "    actual = np.where(np.array(actual) > threshold, 1, 0)\n",
    "    pred = np.array(pred)\n",
    "    pred_o = np.where(pred > threshold, 1, 0)\n",
    "    return actual, pred_o, pred\n",
    "\n",
    "# acc[3] += skmetrics.recall_score(actual, pred_o, average='macro') # Recall@5"
   ]
  },
  {
   "cell_type": "code",
   "execution_count": 63,
   "metadata": {},
   "outputs": [
    {
     "output_type": "stream",
     "name": "stdout",
     "text": [
      "time: 0 ns\n"
     ]
    }
   ],
   "source": [
    "pred_MNB_prob = np.where(pred_MNB_prob > 0, 1, 0)\n",
    "y_test = np.where(y_test > 0, 1, 0)"
   ]
  },
  {
   "cell_type": "code",
   "execution_count": 70,
   "metadata": {},
   "outputs": [
    {
     "output_type": "stream",
     "name": "stdout",
     "text": [
      "time: 0 ns\n"
     ]
    }
   ],
   "source": [
    "# df_y_test = pd.DataFrame(y_test)\n",
    "# df_y_test"
   ]
  },
  {
   "source": [
    "# Multinomial Naive Bayes"
   ],
   "cell_type": "markdown",
   "metadata": {}
  },
  {
   "cell_type": "code",
   "execution_count": 68,
   "metadata": {},
   "outputs": [
    {
     "output_type": "stream",
     "name": "stdout",
     "text": [
      "AUC:  0.16121329285559488\nMAP:  0.20319148936170212\nRecall@5:  0.2978723404255319\n33 rows has been skipped\ntime: 31 ms\n"
     ]
    }
   ],
   "source": [
    "from sklearn import metrics as skmetrics\n",
    "\n",
    "avg_auc = 0\n",
    "avg_map = 0\n",
    "avg_recall = 0\n",
    "count = 0\n",
    "\n",
    "for i in range(y_test.shape[0]):\n",
    "    if np.sum(y_test[i])> 0:\n",
    "        fpr, tpr, thresholds = skmetrics.roc_curve(y_test[i], pred_MNB_prob[i], pos_label=1)\n",
    "        avg_auc += skmetrics.auc(fpr, tpr)\n",
    "        actual, pred_o, pred = r_k(y_test[i], pred_MNB_prob[i] ,5, 5)\n",
    "        avg_recall += skmetrics.recall_score(actual, pred_o, average='macro') # Recall@5\n",
    "        avg_map += cal_ap(y_test[i], pred_MNB_prob[i], 5)\n",
    "\n",
    "    else:\n",
    "        count +=1\n",
    "        pass\n",
    "    \n",
    "print('AUC: ', avg_auc / y_test.shape[0])\n",
    "print('MAP: ', avg_map / y_test.shape[0])\n",
    "print('Recall@5: ', avg_recall / y_test.shape[0])\n",
    "\n",
    "print('{} rows has been skipped'.format(count))\n",
    "\n",
    "# fpr, tpr, thresholds = skmetrics.roc_curve(y_test, pred_MNB_prob, pos_label=1) # Collect the recall and false positive rate from all 2000 predictions\n",
    "# acc[0] += skmetrics.auc(fpr, tpr)\n",
    "# # acc[1] += cal_ap(truth, predict, 5)"
   ]
  },
  {
   "cell_type": "code",
   "execution_count": 69,
   "metadata": {},
   "outputs": [
    {
     "output_type": "stream",
     "name": "stdout",
     "text": [
      "AUC:  nan\nMAP:  0.04680851063829788\nRecall@5:  0.7872340425531915\n10 rows has been skipped\ntime: 79 ms\n"
     ]
    }
   ],
   "source": [
    "from sklearn import metrics as skmetrics\n",
    "\n",
    "avg_auc = 0\n",
    "avg_map = 0\n",
    "avg_recall = 0\n",
    "count = 0\n",
    "\n",
    "for i in range(y_test.shape[0]):\n",
    "    if np.sum(pred_MNB_prob[i])> 0:\n",
    "        fpr, tpr, thresholds = skmetrics.roc_curve(y_test[i], pred_MNB_prob[i], pos_label=1)\n",
    "        avg_auc += skmetrics.auc(fpr, tpr)\n",
    "        actual, pred_o, pred = r_k(y_test[i], pred_MNB_prob[i] ,5, 5)\n",
    "        avg_recall += skmetrics.recall_score(actual, pred_o, average='macro') # Recall@5\n",
    "        avg_map += cal_ap(y_test[i], pred_MNB_prob[i], 5)\n",
    "\n",
    "    else:\n",
    "        count +=1\n",
    "        pass\n",
    "    \n",
    "print('AUC: ', avg_auc / y_test.shape[0])\n",
    "print('MAP: ', avg_map / y_test.shape[0])\n",
    "print('Recall@5: ', avg_recall / y_test.shape[0])\n",
    "\n",
    "print('{} rows has been skipped'.format(count))\n",
    "\n",
    "# fpr, tpr, thresholds = skmetrics.roc_curve(y_test, pred_MNB_prob, pos_label=1) # Collect the recall and false positive rate from all 2000 predictions\n",
    "# acc[0] += skmetrics.auc(fpr, tpr)\n",
    "# # acc[1] += cal_ap(truth, predict, 5)"
   ]
  },
  {
   "source": [
    "# BernoulliNB (0/1 NB)\n",
    "## This section, the label are all one-hot coded, either 1(use) or 0(not used)"
   ],
   "cell_type": "markdown",
   "metadata": {}
  },
  {
   "cell_type": "code",
   "execution_count": 82,
   "metadata": {},
   "outputs": [
    {
     "output_type": "stream",
     "name": "stdout",
     "text": [
      "(1, 188, 2002)\n(1, 188, 2000)\n(1, 47, 2002)\n(1, 47, 2000)\nX_train has 1 user, each user has 188 rows, each row has 2002 columns\ntime: 15 ms\n"
     ]
    }
   ],
   "source": [
    "X_train, y_train = generate_baseline_input(data, 'train')\n",
    "X_test, y_test = generate_baseline_input(data,'test')\n",
    "print(X_train.shape)\n",
    "print(y_train.shape)\n",
    "print(X_test.shape)\n",
    "print(y_test.shape)\n",
    "\n",
    "print(\"X_train has {} user, each user has {} rows, each row has {} columns\". format(X_train.shape[0], X_train.shape[1], X_train.shape[2]))"
   ]
  },
  {
   "cell_type": "code",
   "execution_count": 72,
   "metadata": {},
   "outputs": [
    {
     "output_type": "stream",
     "name": "stdout",
     "text": [
      "(188, 2002)\n(188, 2000)\n(47, 2002)\n(47, 2000)\ntime: 0 ns\n"
     ]
    }
   ],
   "source": [
    "X_train = X_train.reshape(-1,2002)\n",
    "y_train = y_train.reshape(-1,2000)\n",
    "print(X_train.shape)\n",
    "print(y_train.shape)\n",
    "X_test = X_test.reshape(-1,2002)\n",
    "y_test = y_test.reshape(-1,2000)\n",
    "print(X_test.shape)\n",
    "print(y_test.shape)"
   ]
  },
  {
   "source": [
    "## One-hot code label"
   ],
   "cell_type": "markdown",
   "metadata": {}
  },
  {
   "cell_type": "code",
   "execution_count": 73,
   "metadata": {},
   "outputs": [
    {
     "output_type": "stream",
     "name": "stdout",
     "text": [
      "time: 16 ms\n"
     ]
    }
   ],
   "source": [
    "#one hot first before train\n",
    "y_train = np.where(y_train > 0, 1, 0)\n",
    "y_test = np.where(y_test > 0, 1, 0)"
   ]
  },
  {
   "cell_type": "code",
   "execution_count": 74,
   "metadata": {},
   "outputs": [
    {
     "output_type": "stream",
     "name": "stdout",
     "text": [
      "time: 4.84 s\n"
     ]
    }
   ],
   "source": [
    "#user the MultiOutputClassifier to fit one classifier to one target (so every rows of lable are trained with a seperate model)\n",
    "#pick Naive bayes purely because it is fast to train\n",
    "\n",
    "from sklearn.naive_bayes import BernoulliNB\n",
    "from sklearn.multioutput import MultiOutputClassifier\n",
    "\n",
    "clf_BNB = MultiOutputClassifier(BernoulliNB()).fit(X_train, y_train)\n",
    "# pred_BNB = clf_BNB.predict(X_test)\n",
    "# pred_BNB_prob = clf_BNB.predict_proba(X_test)\n",
    "# need the predict_proba to generate prob for each class(count)\n",
    "#as one hot coded it is just 2 class(0 for not use, 1 for use)"
   ]
  },
  {
   "cell_type": "code",
   "execution_count": 75,
   "metadata": {},
   "outputs": [
    {
     "output_type": "stream",
     "name": "stdout",
     "text": [
      "time: 1.58 s\n"
     ]
    }
   ],
   "source": [
    "pred_BNB = clf_BNB.predict(X_test)\n",
    "pred_BNB_prob = clf_BNB.predict_proba(X_test)"
   ]
  },
  {
   "cell_type": "code",
   "execution_count": 76,
   "metadata": {},
   "outputs": [
    {
     "output_type": "stream",
     "name": "stdout",
     "text": [
      "time: 47 ms\n"
     ]
    }
   ],
   "source": [
    "def extract_prob(lst):\n",
    "    return [(1-item[0]) for item in lst]\n",
    "\n",
    "for i in range(2000):\n",
    "    pred_BNB_prob[i] =  extract_prob(pred_BNB_prob[i])"
   ]
  },
  {
   "cell_type": "code",
   "execution_count": 77,
   "metadata": {},
   "outputs": [
    {
     "output_type": "execute_result",
     "data": {
      "text/plain": [
       "(47, 2000)"
      ]
     },
     "metadata": {},
     "execution_count": 77
    },
    {
     "output_type": "stream",
     "name": "stdout",
     "text": [
      "time: 16 ms\n"
     ]
    }
   ],
   "source": [
    "pred_BNB_prob = np.array(pred_BNB_prob).T\n",
    "pred_BNB_prob.shape"
   ]
  },
  {
   "source": [
    "# Evaluation"
   ],
   "cell_type": "markdown",
   "metadata": {}
  },
  {
   "cell_type": "code",
   "execution_count": 78,
   "metadata": {},
   "outputs": [
    {
     "output_type": "stream",
     "name": "stdout",
     "text": [
      "AUC:  0.18500307355559156\nMAP:  0.1978723404255319\nRecall@5:  0.2978723404255319\n33 rows has been skipped\ntime: 31 ms\n"
     ]
    }
   ],
   "source": [
    "from sklearn import metrics as skmetrics\n",
    "\n",
    "avg_auc = 0\n",
    "avg_map = 0\n",
    "avg_recall = 0\n",
    "count = 0\n",
    "\n",
    "for i in range(y_test.shape[0]):\n",
    "    if np.sum(y_test[i])> 0:\n",
    "        fpr, tpr, thresholds = skmetrics.roc_curve(y_test[i], pred_BNB_prob[i], pos_label=1)\n",
    "        avg_auc += skmetrics.auc(fpr, tpr)\n",
    "        actual, pred_o, pred = r_k(y_test[i], pred_BNB_prob[i] ,5, 5)\n",
    "        avg_recall += skmetrics.recall_score(actual, pred_o, average='macro') # Recall@5\n",
    "        avg_map += cal_ap(y_test[i], pred_BNB_prob[i], 5)\n",
    "\n",
    "    else:\n",
    "        count +=1\n",
    "        pass\n",
    "    \n",
    "print('AUC: ', avg_auc / y_test.shape[0])\n",
    "print('MAP: ', avg_map / y_test.shape[0])\n",
    "print('Recall@5: ', avg_recall / y_test.shape[0])\n",
    "\n",
    "print('{} rows has been skipped'.format(count))\n",
    "\n",
    "# fpr, tpr, thresholds = skmetrics.roc_curve(y_test, pred_MNB_prob, pos_label=1) # Collect the recall and false positive rate from all 2000 predictions\n",
    "# acc[0] += skmetrics.auc(fpr, tpr)\n",
    "# # acc[1] += cal_ap(truth, predict, 5)"
   ]
  },
  {
   "cell_type": "code",
   "execution_count": 79,
   "metadata": {},
   "outputs": [
    {
     "output_type": "stream",
     "name": "stdout",
     "text": [
      "AUC:  nan\nMAP:  0.1978723404255319\nRecall@5:  0.3191489361702128\n32 rows has been skipped\ntime: 31 ms\n"
     ]
    }
   ],
   "source": [
    "from sklearn import metrics as skmetrics\n",
    "\n",
    "avg_auc = 0\n",
    "avg_map = 0\n",
    "avg_recall = 0\n",
    "count = 0\n",
    "\n",
    "for i in range(y_test.shape[0]):\n",
    "    if np.sum(pred_BNB_prob[i])> 0:\n",
    "        fpr, tpr, thresholds = skmetrics.roc_curve(y_test[i], pred_BNB_prob[i], pos_label=1)\n",
    "        avg_auc += skmetrics.auc(fpr, tpr)\n",
    "        actual, pred_o, pred = r_k(y_test[i], pred_BNB_prob[i] ,5, 5)\n",
    "        avg_recall += skmetrics.recall_score(actual, pred_o, average='macro') # Recall@5\n",
    "        avg_map += cal_ap(y_test[i], pred_BNB_prob[i], 5)\n",
    "\n",
    "    else:\n",
    "        count +=1\n",
    "        pass\n",
    "    \n",
    "print('AUC: ', avg_auc / y_test.shape[0])\n",
    "print('MAP: ', avg_map / y_test.shape[0])\n",
    "print('Recall@5: ', avg_recall / y_test.shape[0])\n",
    "\n",
    "print('{} rows has been skipped'.format(count))\n",
    "\n",
    "# fpr, tpr, thresholds = skmetrics.roc_curve(y_test, pred_MNB_prob, pos_label=1) # Collect the recall and false positive rate from all 2000 predictions\n",
    "# acc[0] += skmetrics.auc(fpr, tpr)\n",
    "# # acc[1] += cal_ap(truth, predict, 5)"
   ]
  },
  {
   "source": [
    "# Ignoring the following for now, MLP takes a lot of time to train"
   ],
   "cell_type": "markdown",
   "metadata": {}
  },
  {
   "source": [
    "# MLP"
   ],
   "cell_type": "markdown",
   "metadata": {}
  },
  {
   "cell_type": "code",
   "execution_count": 39,
   "metadata": {},
   "outputs": [
    {
     "output_type": "stream",
     "name": "stdout",
     "text": [
      "Precision tanh: 0.71250\n"
     ]
    }
   ],
   "source": [
    "all_acc_session = []\n",
    "y_test = y_test.astype(np.int64)\n",
    "pred = pred_MNB.astype(np.int64)\n",
    "\n",
    "for i in range(y_test.shape[0]):\n",
    "    correct_count = 0\n",
    "    pred_app_session = [app_ind for app_ind,app_count in enumerate(pred[i]) if app_count !=0]\n",
    "    true_app_session = [app_ind for app_ind,app_count in enumerate(y_test[i]) if app_count !=0]\n",
    "    if ((len(true_app_session) == 0) & (len(pred_app_session) == 0)):\n",
    "        all_acc_session.append(1)\n",
    "    else:\n",
    "        for j in pred_app_session:\n",
    "            if j in true_app_session:\n",
    "                correct_count +=1\n",
    "        acc = correct_count/len(true_app_session)\n",
    "        all_acc_session.append(acc)\n",
    "\n",
    "print(\"Precision tanh: {:.5f}\".format(np.mean(all_acc_session)))"
   ]
  },
  {
   "cell_type": "code",
   "execution_count": 12,
   "metadata": {},
   "outputs": [
    {
     "output_type": "stream",
     "name": "stdout",
     "text": [
      "time: 5min 34s\n"
     ]
    }
   ],
   "source": [
    "#just random picked one model for testing, should have a lot of models\n",
    "from sklearn.multioutput import MultiOutputClassifier\n",
    "# from sklearn.neighbors import KNeighborsClassifier ##/\n",
    "# from sklearn.linear_model import LogisticRegression ##X\n",
    "from sklearn.neural_network import MLPClassifier\n",
    "\n",
    "clf_tanh = MultiOutputClassifier(MLPClassifier(random_state=1, max_iter=300, activation = 'tanh')).fit(X_train, y_train)\n",
    "pred_tanh_prob = clf_tanh.predict_proba(X_test)\n",
    "pred_tanh = clf_tanh.predict(X_test)"
   ]
  },
  {
   "cell_type": "code",
   "execution_count": 13,
   "metadata": {},
   "outputs": [
    {
     "output_type": "stream",
     "name": "stdout",
     "text": [
      "time: 3min 52s\n"
     ]
    }
   ],
   "source": [
    "#just random picked one model for testing, should have a lot of models\n",
    "from sklearn.multioutput import MultiOutputClassifier\n",
    "# from sklearn.neighbors import KNeighborsClassifier ##/\n",
    "# from sklearn.linear_model import LogisticRegression ##X\n",
    "from sklearn.neural_network import MLPClassifier\n",
    "\n",
    "clf_iden = MultiOutputClassifier(MLPClassifier(random_state=1, max_iter=300, activation = 'identity')).fit(X_train, y_train)\n",
    "pred_iden_prob = clf_iden.predict_proba(X_test)\n",
    "pred_iden = clf_iden.predict(X_test)"
   ]
  },
  {
   "cell_type": "code",
   "execution_count": 14,
   "metadata": {},
   "outputs": [
    {
     "output_type": "stream",
     "name": "stdout",
     "text": [
      "time: 5min 6s\n"
     ]
    }
   ],
   "source": [
    "#just random picked one model for testing, should have a lot of models\n",
    "from sklearn.multioutput import MultiOutputClassifier\n",
    "# from sklearn.neighbors import KNeighborsClassifier ##/\n",
    "# from sklearn.linear_model import LogisticRegression ##X\n",
    "from sklearn.neural_network import MLPClassifier\n",
    "\n",
    "clf_log = MultiOutputClassifier(MLPClassifier(random_state=1, max_iter=300, activation = 'logistic')).fit(X_train, y_train)\n",
    "pred_log_prob = clf_log.predict_proba(X_test)\n",
    "pred_log = clf_log.predict(X_test)"
   ]
  },
  {
   "cell_type": "code",
   "execution_count": 15,
   "metadata": {},
   "outputs": [
    {
     "output_type": "stream",
     "name": "stdout",
     "text": [
      "time: 8min 50s\n"
     ]
    }
   ],
   "source": [
    "#just random picked one model for testing, should have a lot of models\n",
    "from sklearn.multioutput import MultiOutputClassifier\n",
    "# from sklearn.neighbors import KNeighborsClassifier ##/\n",
    "# from sklearn.linear_model import LogisticRegression ##X\n",
    "from sklearn.neural_network import MLPClassifier\n",
    "\n",
    "clf_relu = MultiOutputClassifier(MLPClassifier(random_state=1, max_iter=300, activation = 'relu')).fit(X_train, y_train)\n",
    "pred_relu_prob = clf_relu.predict_proba(X_test)\n",
    "pred_relu = clf_relu.predict(X_test)"
   ]
  },
  {
   "cell_type": "code",
   "execution_count": 46,
   "metadata": {},
   "outputs": [
    {
     "output_type": "execute_result",
     "data": {
      "text/plain": [
       "array([ 0.,  1.,  2.,  3.,  4.,  5.,  6.,  7.,  8.,  9., 10., 11., 12.,\n",
       "       14., 15., 16., 17., 19., 23., 41., 63.])"
      ]
     },
     "metadata": {},
     "execution_count": 46
    },
    {
     "output_type": "stream",
     "name": "stdout",
     "text": [
      "time: 0 ns\n"
     ]
    }
   ],
   "source": [
    "clf_relu.classes_[0]"
   ]
  },
  {
   "cell_type": "code",
   "execution_count": 43,
   "metadata": {},
   "outputs": [
    {
     "output_type": "execute_result",
     "data": {
      "text/plain": [
       "array([0.20809085, 0.04716014, 0.03867527, 0.0515416 , 0.04779884,\n",
       "       0.03731243, 0.04797006, 0.03997754, 0.0330743 , 0.03488414,\n",
       "       0.0464032 , 0.03301819, 0.03031492, 0.03453107, 0.02653504,\n",
       "       0.02731394, 0.05035559, 0.03835128, 0.03516546, 0.05290762,\n",
       "       0.03861852])"
      ]
     },
     "metadata": {},
     "execution_count": 43
    },
    {
     "output_type": "stream",
     "name": "stdout",
     "text": [
      "time: 0 ns\n"
     ]
    }
   ],
   "source": [
    "pred_relu_prob[0][0]"
   ]
  },
  {
   "source": [
    "# Evaluation"
   ],
   "cell_type": "markdown",
   "metadata": {}
  },
  {
   "cell_type": "code",
   "execution_count": 17,
   "metadata": {},
   "outputs": [
    {
     "output_type": "stream",
     "name": "stdout",
     "text": [
      "time: 0 ns\n"
     ]
    }
   ],
   "source": [
    "# all_acc_session = []\n",
    "\n",
    "# y_test = y_test.astype(np.int64)\n",
    "# pred = pred_1.astype(np.int64)\n",
    "# #compare and calculate matrics row by row, finally take the loss of the matrics list\n",
    "# for i in range(y_test.shape[0]):\n",
    "#     correct_count = 0\n",
    "#     pred_app_session = [app_ind for app_ind,app_count in enumerate(pred[i]) if app_count !=0]\n",
    "#     true_app_session = [app_ind for app_ind,app_count in enumerate(y_test[i]) if app_count !=0]\n",
    "#     if ((len(true_app_session) == 0) & (len(pred_app_session) == 0)):\n",
    "#         all_acc_session.append(1)\n",
    "#     else:\n",
    "#         for j in pred_app_session:\n",
    "#             if j in true_app_session:\n",
    "#                 correct_count +=1\n",
    "#         acc = correct_count/len(true_app_session)\n",
    "#         all_acc_session.append(acc)\n",
    "\n",
    "# print(\"Precision: {:.5f}\".format(np.mean(all_acc_session)))"
   ]
  },
  {
   "cell_type": "code",
   "execution_count": 18,
   "metadata": {},
   "outputs": [
    {
     "output_type": "stream",
     "name": "stdout",
     "text": [
      "Precision tanh: 0.70833\ntime: 78 ms\n"
     ]
    }
   ],
   "source": [
    "all_acc_session = []\n",
    "y_test = y_test.astype(np.int64)\n",
    "pred = pred_tanh.astype(np.int64)\n",
    "\n",
    "for i in range(y_test.shape[0]):\n",
    "    correct_count = 0\n",
    "    pred_app_session = [app_ind for app_ind,app_count in enumerate(pred_tanh[i]) if app_count !=0]\n",
    "    true_app_session = [app_ind for app_ind,app_count in enumerate(y_test[i]) if app_count !=0]\n",
    "    if ((len(true_app_session) == 0) & (len(pred_app_session) == 0)):\n",
    "        all_acc_session.append(1)\n",
    "    else:\n",
    "        for j in pred_app_session:\n",
    "            if j in true_app_session:\n",
    "                correct_count +=1\n",
    "        acc = correct_count/len(true_app_session)\n",
    "        all_acc_session.append(acc)\n",
    "\n",
    "print(\"Precision tanh: {:.5f}\".format(np.mean(all_acc_session)))"
   ]
  },
  {
   "cell_type": "code",
   "execution_count": 19,
   "metadata": {},
   "outputs": [
    {
     "output_type": "stream",
     "name": "stdout",
     "text": [
      "Precision tanh: 0.79683\ntime: 78 ms\n"
     ]
    }
   ],
   "source": [
    "all_acc_session = []\n",
    "y_test = y_test.astype(np.int64)\n",
    "pred = pred_iden.astype(np.int64)\n",
    "\n",
    "for i in range(y_test.shape[0]):\n",
    "    correct_count = 0\n",
    "    pred_app_session = [app_ind for app_ind,app_count in enumerate(pred_iden[i]) if app_count !=0]\n",
    "    true_app_session = [app_ind for app_ind,app_count in enumerate(y_test[i]) if app_count !=0]\n",
    "    if ((len(true_app_session) == 0) & (len(pred_app_session) == 0)):\n",
    "        all_acc_session.append(1)\n",
    "    else:\n",
    "        for j in pred_app_session:\n",
    "            if j in true_app_session:\n",
    "                correct_count +=1\n",
    "        acc = correct_count/len(true_app_session)\n",
    "        all_acc_session.append(acc)\n",
    "\n",
    "print(\"Precision tanh: {:.5f}\".format(np.mean(all_acc_session)))"
   ]
  },
  {
   "cell_type": "code",
   "execution_count": 20,
   "metadata": {},
   "outputs": [
    {
     "output_type": "stream",
     "name": "stdout",
     "text": [
      "Precision tanh: 0.70833\ntime: 62 ms\n"
     ]
    }
   ],
   "source": [
    "all_acc_session = []\n",
    "y_test = y_test.astype(np.int64)\n",
    "pred = pred_log.astype(np.int64)\n",
    "\n",
    "for i in range(y_test.shape[0]):\n",
    "    correct_count = 0\n",
    "    pred_app_session = [app_ind for app_ind,app_count in enumerate(pred_log[i]) if app_count !=0]\n",
    "    true_app_session = [app_ind for app_ind,app_count in enumerate(y_test[i]) if app_count !=0]\n",
    "    if ((len(true_app_session) == 0) & (len(pred_app_session) == 0)):\n",
    "        all_acc_session.append(1)\n",
    "    else:\n",
    "        for j in pred_app_session:\n",
    "            if j in true_app_session:\n",
    "                correct_count +=1\n",
    "        acc = correct_count/len(true_app_session)\n",
    "        all_acc_session.append(acc)\n",
    "\n",
    "print(\"Precision tanh: {:.5f}\".format(np.mean(all_acc_session)))"
   ]
  },
  {
   "cell_type": "code",
   "execution_count": 21,
   "metadata": {},
   "outputs": [
    {
     "output_type": "stream",
     "name": "stdout",
     "text": [
      "Precision tanh: 0.79860\ntime: 62 ms\n"
     ]
    }
   ],
   "source": [
    "all_acc_session = []\n",
    "y_test = y_test.astype(np.int64)\n",
    "pred = pred_relu.astype(np.int64)\n",
    "\n",
    "for i in range(y_test.shape[0]):\n",
    "    correct_count = 0\n",
    "    pred_app_session = [app_ind for app_ind,app_count in enumerate(pred_relu[i]) if app_count !=0]\n",
    "    true_app_session = [app_ind for app_ind,app_count in enumerate(y_test[i]) if app_count !=0]\n",
    "    if ((len(true_app_session) == 0) & (len(pred_app_session) == 0)):\n",
    "        all_acc_session.append(1)\n",
    "    else:\n",
    "        for j in pred_app_session:\n",
    "            if j in true_app_session:\n",
    "                correct_count +=1\n",
    "        acc = correct_count/len(true_app_session)\n",
    "        all_acc_session.append(acc)\n",
    "\n",
    "print(\"Precision tanh: {:.5f}\".format(np.mean(all_acc_session)))"
   ]
  },
  {
   "cell_type": "code",
   "execution_count": 22,
   "metadata": {},
   "outputs": [
    {
     "output_type": "stream",
     "name": "stdout",
     "text": [
      "(array([], dtype=int64), array([], dtype=int64))\n(array([17, 17, 17, 17, 17, 17, 17, 17, 18, 18, 18, 18, 18, 18, 18, 18, 19,\n       19, 19, 19, 19, 19, 19, 20, 20, 20, 20, 20, 20, 20, 21, 21, 21, 21,\n       21, 21, 21, 23, 23, 23, 23, 23, 23, 23, 24, 24, 24, 24, 24, 24, 24,\n       25, 25, 25, 25, 25, 25, 25, 26, 26, 26, 26, 26, 26, 26, 27, 27, 27,\n       27, 27, 27, 27, 28, 28, 28, 28, 28, 28, 28, 29, 29, 29, 29, 29, 29,\n       29, 30, 30, 30, 30, 30, 30, 30, 39, 39, 39, 39, 39, 39, 39],\n      dtype=int64), array([   0,    4,   73,   75,  125,  341,  611, 1427,    0,    4,   73,\n         75,  125,  341,  611, 1427,    0,   73,   75,  125,  341,  611,\n       1427,    0,   73,   75,  125,  341,  611, 1427,    0,   73,   75,\n        125,  341,  611, 1427,    0,   73,   75,  125,  341,  611, 1427,\n          0,   73,   75,  125,  341,  611, 1427,    0,   73,   75,  125,\n        341,  611, 1427,    0,   73,   75,  125,  341,  611, 1427,    0,\n         73,   75,  125,  341,  611, 1427,    0,   73,   75,  125,  341,\n        611, 1427,    0,   73,   75,  125,  341,  611, 1427,    0,   73,\n         75,  125,  341,  611, 1427,    0,   73,   75,  125,  341,  611,\n       1427], dtype=int64))\n(array([], dtype=int64), array([], dtype=int64))\n(array([17, 17, 17, 17, 17, 17, 18, 18, 18, 18, 18, 18, 19, 19, 19, 19, 19,\n       19, 20, 20, 20, 20, 20, 20, 21, 21, 21, 21, 21, 21, 23, 23, 23, 23,\n       23, 24, 24, 24, 24, 24, 25, 25, 25, 25, 25, 26, 26, 26, 26, 26, 27,\n       27, 27, 27, 27, 28, 28, 28, 28, 28, 29, 29, 29, 29, 29, 30, 30, 30,\n       30, 30, 39, 39, 39, 39, 39], dtype=int64), array([  0,  30,  33,  69, 341, 380,   0,  30,  33,  69, 341, 380,   0,\n        30,  33,  69, 341, 380,   0,  30,  33,  69, 341, 380,   0,  30,\n        33,  69, 341, 380,   0,  30,  33,  69, 341,   0,  30,  33,  69,\n       341,   0,  30,  33,  69, 341,   0,  30,  33,  69, 341,   0,  30,\n        33,  69, 341,   0,  30,  33,  69, 341,   0,  30,  33,  69, 341,\n         0,  30,  33,  69, 341,   0,  30,  33,  69, 341], dtype=int64))\ntime: 16 ms\n"
     ]
    }
   ],
   "source": [
    "print(np.where(pred_tanh > 0)) #no output > 0\n",
    "print(np.where(pred_iden > 0))\n",
    "print(np.where(pred_log > 0)) #no output > 0\n",
    "print(np.where(pred_relu > 0))"
   ]
  },
  {
   "source": [
    "## KNN"
   ],
   "cell_type": "markdown",
   "metadata": {}
  },
  {
   "cell_type": "code",
   "execution_count": 24,
   "metadata": {},
   "outputs": [
    {
     "output_type": "stream",
     "name": "stdout",
     "text": [
      "time: 3.52 s\n"
     ]
    }
   ],
   "source": [
    "from sklearn.neighbors import KNeighborsClassifier\n",
    "clf = MultiOutputClassifier(KNeighborsClassifier()).fit(X_train, y_train)\n",
    "pred = clf.predict(X_test)"
   ]
  },
  {
   "cell_type": "code",
   "execution_count": 25,
   "metadata": {},
   "outputs": [
    {
     "output_type": "stream",
     "name": "stdout",
     "text": [
      "Precision: 0.75417\ntime: 78 ms\n"
     ]
    }
   ],
   "source": [
    "all_acc_session = []\n",
    "\n",
    "y_test = y_test.astype(np.int64)\n",
    "pred = pred.astype(np.int64)\n",
    "#compare and calculate matrics row by row, finally take the loss of the matrics list\n",
    "for i in range(y_test.shape[0]):\n",
    "    correct_count = 0\n",
    "    pred_app_session = [app_ind for app_ind,app_count in enumerate(pred[i]) if app_count !=0]\n",
    "    true_app_session = [app_ind for app_ind,app_count in enumerate(y_test[i]) if app_count !=0]\n",
    "    if ((len(true_app_session) == 0) & (len(pred_app_session) == 0)):\n",
    "        all_acc_session.append(1)\n",
    "    else:\n",
    "        for j in pred_app_session:\n",
    "            if j in true_app_session:\n",
    "                correct_count +=1\n",
    "        acc = correct_count/len(true_app_session)\n",
    "        all_acc_session.append(acc)\n",
    "\n",
    "print(\"Precision: {:.5f}\".format(np.mean(all_acc_session)))"
   ]
  },
  {
   "cell_type": "code",
   "execution_count": 26,
   "metadata": {},
   "outputs": [
    {
     "output_type": "execute_result",
     "data": {
      "text/plain": [
       "[1,\n",
       " 1,\n",
       " 1,\n",
       " 1,\n",
       " 1,\n",
       " 1,\n",
       " 1,\n",
       " 1,\n",
       " 1,\n",
       " 1,\n",
       " 1,\n",
       " 1,\n",
       " 1,\n",
       " 1,\n",
       " 1,\n",
       " 1,\n",
       " 1,\n",
       " 0.0,\n",
       " 0.0,\n",
       " 0.0,\n",
       " 0.0,\n",
       " 0.0,\n",
       " 1,\n",
       " 0.0,\n",
       " 1.0,\n",
       " 0.2,\n",
       " 1.0,\n",
       " 0.0,\n",
       " 0.0,\n",
       " 0.0,\n",
       " 0.0,\n",
       " 1,\n",
       " 1,\n",
       " 1,\n",
       " 1,\n",
       " 1,\n",
       " 1,\n",
       " 1,\n",
       " 1,\n",
       " 0.0,\n",
       " 1,\n",
       " 1,\n",
       " 1,\n",
       " 1,\n",
       " 1,\n",
       " 1,\n",
       " 1,\n",
       " 1]"
      ]
     },
     "metadata": {},
     "execution_count": 26
    },
    {
     "output_type": "stream",
     "name": "stdout",
     "text": [
      "time: 0 ns\n"
     ]
    }
   ],
   "source": [
    "all_acc_session"
   ]
  },
  {
   "cell_type": "code",
   "execution_count": 13,
   "metadata": {},
   "outputs": [
    {
     "output_type": "stream",
     "name": "stdout",
     "text": [
      "time: 3.44 s\n"
     ]
    }
   ],
   "source": [
    "from sklearn.neighbors import KNeighborsClassifier\n",
    "clf = MultiOutputClassifier(KNeighborsClassifier()).fit(X_train, y_train)\n",
    "pred = clf.predict(X_test)"
   ]
  },
  {
   "cell_type": "code",
   "execution_count": 14,
   "metadata": {},
   "outputs": [
    {
     "output_type": "stream",
     "name": "stdout",
     "text": [
      "Accuracy: 0.99871, Zero/One Loss: 0.00129, Hamming Loss: 0.00129\ntime: 16 ms\n"
     ]
    }
   ],
   "source": [
    "all_acc_session = []\n",
    "\n",
    "y_test = y_test.astype(np.int64)\n",
    "pred = pred.astype(np.int64)\n",
    "#compare and calculate matrics row by row, finally take the loss of the matrics list\n",
    "for i in range(y_test.shape[0]):\n",
    "    correct_count = 0\n",
    "    pred_app_session = [app_ind for app_ind,app_count in enumerate(pred[i]) if app_count !=0]\n",
    "    true_app_session = [app_ind for app_ind,app_count in enumerate(y_test[i]) if app_count !=0]\n",
    "    if ((len(true_app_session) == 0) & (len(pred_app_session) == 0)):\n",
    "        all_acc_session.append(1)\n",
    "    else:\n",
    "        for j in pred_app_session:\n",
    "            if j in true_app_session:\n",
    "                correct_count +=1\n",
    "        acc = correct_count/len(true_app_session)\n",
    "    all_acc_session.append(acc)\n",
    "\n",
    "print(\"Precision: {:.5f}\".format(np.mean(all_acc_session))"
   ]
  },
  {
   "cell_type": "code",
   "execution_count": null,
   "metadata": {},
   "outputs": [],
   "source": []
  },
  {
   "source": [
    "# Another method for evaluation by calculating correct item in sessions"
   ],
   "cell_type": "markdown",
   "metadata": {}
  },
  {
   "cell_type": "code",
   "execution_count": 66,
   "metadata": {},
   "outputs": [
    {
     "output_type": "stream",
     "name": "stdout",
     "text": [
      "[]\ntime: 0 ns\n"
     ]
    }
   ],
   "source": [
    "pred_app = [i for i,e in enumerate(pred[1]) if e !=0]\n",
    "print(pred_app)"
   ]
  },
  {
   "cell_type": "code",
   "execution_count": 67,
   "metadata": {},
   "outputs": [
    {
     "output_type": "stream",
     "name": "stdout",
     "text": [
      "[]\ntime: 0 ns\n"
     ]
    }
   ],
   "source": [
    "true_app = [i for i,e in enumerate(y_test[1]) if e !=0]\n",
    "print(true_app)"
   ]
  },
  {
   "cell_type": "code",
   "execution_count": 58,
   "metadata": {},
   "outputs": [
    {
     "output_type": "stream",
     "name": "stdout",
     "text": [
      "0.0\ntime: 0 ns\n"
     ]
    }
   ],
   "source": [
    "count = 0\n",
    "for i in pred_app:\n",
    "    if i in true_app:\n",
    "        count += 1\n",
    "adv_acc = count/len(true_app)\n",
    "print(adv_acc)"
   ]
  },
  {
   "cell_type": "code",
   "execution_count": 68,
   "metadata": {},
   "outputs": [
    {
     "output_type": "stream",
     "name": "stdout",
     "text": [
      "0.4414634146341464\ntime: 63 ms\n"
     ]
    }
   ],
   "source": [
    "y_test = y_test.astype(np.int64)\n",
    "pred = pred.astype(np.int64)\n",
    "all_acc_session = []\n",
    "\n",
    "for i in range(y_test.shape[0]):\n",
    "    correct_count = 0\n",
    "    pred_app_session = [app_ind for app_ind,app_count in enumerate(pred[i]) if app_count !=0]\n",
    "    true_app_session = [app_ind for app_ind,app_count in enumerate(y_test[i]) if app_count !=0]\n",
    "    if ((len(true_app_session) == 0) & (len(pred_app_session) == 0)):\n",
    "        all_acc_session.append(1)\n",
    "    else:\n",
    "        for j in pred_app_session:\n",
    "            if j in true_app_session:\n",
    "                correct_count +=1\n",
    "        acc = correct_count/len(true_app_session)\n",
    "    all_acc_session.append(acc)\n",
    "print(np.mean(all_acc_session))"
   ]
  },
  {
   "cell_type": "code",
   "execution_count": null,
   "metadata": {},
   "outputs": [],
   "source": []
  }
 ]
}