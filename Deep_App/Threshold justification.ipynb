{
 "metadata": {
  "language_info": {
   "codemirror_mode": {
    "name": "ipython",
    "version": 3
   },
   "file_extension": ".py",
   "mimetype": "text/x-python",
   "name": "python",
   "nbconvert_exporter": "python",
   "pygments_lexer": "ipython3",
   "version": "3.8.3-final"
  },
  "orig_nbformat": 2,
  "kernelspec": {
   "name": "python383jvsc74a57bd0d835b9d6547198496337f4d2de04abf3395832a8b4aee7b55cf3102d3ef3dae9",
   "display_name": "Python 3.8.3 64-bit (conda)"
  }
 },
 "nbformat": 4,
 "nbformat_minor": 2,
 "cells": [
  {
   "cell_type": "code",
   "execution_count": 1,
   "metadata": {},
   "outputs": [],
   "source": [
    "import pandas as pd\n",
    "import numpy as np\n",
    "from datetime import datetime, timedelta\n",
    "import matplotlib.pyplot as plt\n",
    "# pd.options.display.max_columns\n",
    "pd.set_option(\"display.max_colwidth\",200)\n",
    "pd.set_option(\"display.max_columns\",20)\n",
    "pd.set_option('float_format', '{:.3f}'.format)"
   ]
  },
  {
   "source": [
    "# Import original dataset"
   ],
   "cell_type": "markdown",
   "metadata": {}
  },
  {
   "cell_type": "code",
   "execution_count": 2,
   "metadata": {},
   "outputs": [
    {
     "output_type": "execute_result",
     "data": {
      "text/plain": [
       "  uid           timestamp   loc app_id  traffic   date\n",
       "0   0 2016-04-20 08:13:19  8194    361    0.002  04-20\n",
       "1   0 2016-04-20 08:13:20  8194    361    0.002  04-20\n",
       "2   0 2016-04-20 08:13:22  8194    361    0.004  04-20\n",
       "3   0 2016-04-20 08:13:30  8194    361    0.001  04-20\n",
       "4   0 2016-04-20 08:13:31  8194    361    0.002  04-20"
      ],
      "text/html": "<div>\n<style scoped>\n    .dataframe tbody tr th:only-of-type {\n        vertical-align: middle;\n    }\n\n    .dataframe tbody tr th {\n        vertical-align: top;\n    }\n\n    .dataframe thead th {\n        text-align: right;\n    }\n</style>\n<table border=\"1\" class=\"dataframe\">\n  <thead>\n    <tr style=\"text-align: right;\">\n      <th></th>\n      <th>uid</th>\n      <th>timestamp</th>\n      <th>loc</th>\n      <th>app_id</th>\n      <th>traffic</th>\n      <th>date</th>\n    </tr>\n  </thead>\n  <tbody>\n    <tr>\n      <th>0</th>\n      <td>0</td>\n      <td>2016-04-20 08:13:19</td>\n      <td>8194</td>\n      <td>361</td>\n      <td>0.002</td>\n      <td>04-20</td>\n    </tr>\n    <tr>\n      <th>1</th>\n      <td>0</td>\n      <td>2016-04-20 08:13:20</td>\n      <td>8194</td>\n      <td>361</td>\n      <td>0.002</td>\n      <td>04-20</td>\n    </tr>\n    <tr>\n      <th>2</th>\n      <td>0</td>\n      <td>2016-04-20 08:13:22</td>\n      <td>8194</td>\n      <td>361</td>\n      <td>0.004</td>\n      <td>04-20</td>\n    </tr>\n    <tr>\n      <th>3</th>\n      <td>0</td>\n      <td>2016-04-20 08:13:30</td>\n      <td>8194</td>\n      <td>361</td>\n      <td>0.001</td>\n      <td>04-20</td>\n    </tr>\n    <tr>\n      <th>4</th>\n      <td>0</td>\n      <td>2016-04-20 08:13:31</td>\n      <td>8194</td>\n      <td>361</td>\n      <td>0.002</td>\n      <td>04-20</td>\n    </tr>\n  </tbody>\n</table>\n</div>"
     },
     "metadata": {},
     "execution_count": 2
    }
   ],
   "source": [
    "import pandas as pd\n",
    "from datetime import datetime, timedelta\n",
    "import matplotlib.pyplot as plt\n",
    "# pd.options.display.max_columns\n",
    "pd.set_option(\"display.max_colwidth\",200)\n",
    "pd.set_option(\"display.max_columns\",20)\n",
    "pd.set_option('float_format', '{:.3f}'.format)\n",
    "\n",
    "# Load Usage data\n",
    "with open('App_usage_trace.txt') as f:\n",
    "    lines = f.readlines()#[:100000]\n",
    "    df = []\n",
    "    for line in lines:\n",
    "        data = line.split()\n",
    "        df.append(data)\n",
    "usage = pd.DataFrame(df, columns=['uid','timestamp', 'loc', 'app_id','traffic'])\n",
    "usage['traffic'] = usage['traffic'].astype('float64') / 1e6 # Convert traffic to MB\n",
    "usage['timestamp'] = usage['timestamp'].apply(lambda x: datetime.strptime( x, \"%Y%m%d%H%M%S\")) \n",
    "usage['loc'] = usage['loc'].astype('int64')\n",
    "usage[\"date\"] = usage[\"timestamp\"].dt.strftime(\"%m-%d\")\n",
    "# usage['next_timestamp'] = usage['timestamp'].shift(-1)\n",
    "# usage['time_delta'] = usage['next_timestamp'] - usage['timestamp']\n",
    "# mask = usage[\"uid\"] != usage[\"uid\"].shift(1)\n",
    "# usage['time_delta'] = np.where(mask == True, np.nan, usage[\"time_delta\"])\n",
    "usage.head()"
   ]
  },
  {
   "cell_type": "code",
   "execution_count": 15,
   "metadata": {},
   "outputs": [
    {
     "output_type": "execute_result",
     "data": {
      "text/plain": [
       "  uid           timestamp   loc app_id  traffic   date time_delta\n",
       "0   0 2016-04-20 08:13:19  8194    361    0.002  04-20        NaT\n",
       "1   0 2016-04-20 08:13:20  8194    361    0.002  04-20   00:00:01\n",
       "2   0 2016-04-20 08:13:22  8194    361    0.004  04-20   00:00:02\n",
       "3   0 2016-04-20 08:13:30  8194    361    0.001  04-20   00:00:08\n",
       "4   0 2016-04-20 08:13:31  8194    361    0.002  04-20   00:00:01"
      ],
      "text/html": "<div>\n<style scoped>\n    .dataframe tbody tr th:only-of-type {\n        vertical-align: middle;\n    }\n\n    .dataframe tbody tr th {\n        vertical-align: top;\n    }\n\n    .dataframe thead th {\n        text-align: right;\n    }\n</style>\n<table border=\"1\" class=\"dataframe\">\n  <thead>\n    <tr style=\"text-align: right;\">\n      <th></th>\n      <th>uid</th>\n      <th>timestamp</th>\n      <th>loc</th>\n      <th>app_id</th>\n      <th>traffic</th>\n      <th>date</th>\n      <th>time_delta</th>\n    </tr>\n  </thead>\n  <tbody>\n    <tr>\n      <th>0</th>\n      <td>0</td>\n      <td>2016-04-20 08:13:19</td>\n      <td>8194</td>\n      <td>361</td>\n      <td>0.002</td>\n      <td>04-20</td>\n      <td>NaT</td>\n    </tr>\n    <tr>\n      <th>1</th>\n      <td>0</td>\n      <td>2016-04-20 08:13:20</td>\n      <td>8194</td>\n      <td>361</td>\n      <td>0.002</td>\n      <td>04-20</td>\n      <td>00:00:01</td>\n    </tr>\n    <tr>\n      <th>2</th>\n      <td>0</td>\n      <td>2016-04-20 08:13:22</td>\n      <td>8194</td>\n      <td>361</td>\n      <td>0.004</td>\n      <td>04-20</td>\n      <td>00:00:02</td>\n    </tr>\n    <tr>\n      <th>3</th>\n      <td>0</td>\n      <td>2016-04-20 08:13:30</td>\n      <td>8194</td>\n      <td>361</td>\n      <td>0.001</td>\n      <td>04-20</td>\n      <td>00:00:08</td>\n    </tr>\n    <tr>\n      <th>4</th>\n      <td>0</td>\n      <td>2016-04-20 08:13:31</td>\n      <td>8194</td>\n      <td>361</td>\n      <td>0.002</td>\n      <td>04-20</td>\n      <td>00:00:01</td>\n    </tr>\n  </tbody>\n</table>\n</div>"
     },
     "metadata": {},
     "execution_count": 15
    }
   ],
   "source": [
    "usage['time_delta'] = usage[\"timestamp\"].diff()\n",
    "mask = usage[\"uid\"] != usage[\"uid\"].shift(1)\n",
    "usage['time_delta'] = np.where(mask == True, np.datetime64('NaT'), usage['time_delta'])\n",
    "usage['time_delta'] = usage['time_delta'].dt.strftime(\"%H:%M:%S\")\n",
    "usage.head()"
   ]
  },
  {
   "cell_type": "code",
   "execution_count": 17,
   "metadata": {},
   "outputs": [
    {
     "output_type": "execute_result",
     "data": {
      "text/plain": [
       "  time_delta    count  percent\n",
       "0   00:00:00  1096514    0.263\n",
       "1   00:00:01  1566947    0.376\n",
       "2   00:00:02   331960    0.080\n",
       "3   00:00:03   179574    0.043\n",
       "4   00:00:04   113359    0.027\n",
       "5   00:00:05    84455    0.020\n",
       "6   00:00:06    60745    0.015\n",
       "7   00:00:07    47397    0.011\n",
       "8   00:00:08    38121    0.009\n",
       "9   00:00:09    34457    0.008"
      ],
      "text/html": "<div>\n<style scoped>\n    .dataframe tbody tr th:only-of-type {\n        vertical-align: middle;\n    }\n\n    .dataframe tbody tr th {\n        vertical-align: top;\n    }\n\n    .dataframe thead th {\n        text-align: right;\n    }\n</style>\n<table border=\"1\" class=\"dataframe\">\n  <thead>\n    <tr style=\"text-align: right;\">\n      <th></th>\n      <th>time_delta</th>\n      <th>count</th>\n      <th>percent</th>\n    </tr>\n  </thead>\n  <tbody>\n    <tr>\n      <th>0</th>\n      <td>00:00:00</td>\n      <td>1096514</td>\n      <td>0.263</td>\n    </tr>\n    <tr>\n      <th>1</th>\n      <td>00:00:01</td>\n      <td>1566947</td>\n      <td>0.376</td>\n    </tr>\n    <tr>\n      <th>2</th>\n      <td>00:00:02</td>\n      <td>331960</td>\n      <td>0.080</td>\n    </tr>\n    <tr>\n      <th>3</th>\n      <td>00:00:03</td>\n      <td>179574</td>\n      <td>0.043</td>\n    </tr>\n    <tr>\n      <th>4</th>\n      <td>00:00:04</td>\n      <td>113359</td>\n      <td>0.027</td>\n    </tr>\n    <tr>\n      <th>5</th>\n      <td>00:00:05</td>\n      <td>84455</td>\n      <td>0.020</td>\n    </tr>\n    <tr>\n      <th>6</th>\n      <td>00:00:06</td>\n      <td>60745</td>\n      <td>0.015</td>\n    </tr>\n    <tr>\n      <th>7</th>\n      <td>00:00:07</td>\n      <td>47397</td>\n      <td>0.011</td>\n    </tr>\n    <tr>\n      <th>8</th>\n      <td>00:00:08</td>\n      <td>38121</td>\n      <td>0.009</td>\n    </tr>\n    <tr>\n      <th>9</th>\n      <td>00:00:09</td>\n      <td>34457</td>\n      <td>0.008</td>\n    </tr>\n  </tbody>\n</table>\n</div>"
     },
     "metadata": {},
     "execution_count": 17
    }
   ],
   "source": [
    "time_delta_count = usage.groupby(['time_delta']).size().reset_index()\n",
    "time_delta_count.columns = [\"time_delta\", \"count\"]\n",
    "time_delta_count[\"percent\"] = time_delta_count['count']/time_delta_count['count'].sum()\n",
    "time_delta_count.head(10)"
   ]
  },
  {
   "source": [
    "# Import cleaned dataset\n",
    "## 1st) Cleaned\n",
    "## 2nd) Remove oscillation"
   ],
   "cell_type": "markdown",
   "metadata": {}
  },
  {
   "cell_type": "code",
   "execution_count": 13,
   "metadata": {},
   "outputs": [
    {
     "output_type": "execute_result",
     "data": {
      "text/plain": [
       "  uid           timestamp   loc app_id  traffic   date\n",
       "0   0 2016-04-21 08:42:21  8194    342    0.030  04-21\n",
       "1   0 2016-04-21 08:44:12  8194      1    0.008  04-21\n",
       "2   0 2016-04-21 08:44:47  8194    857    0.027  04-21\n",
       "3   0 2016-04-21 08:44:48  8194    857    0.002  04-21\n",
       "4   0 2016-04-21 08:44:49  8194     31    0.009  04-21"
      ],
      "text/html": "<div>\n<style scoped>\n    .dataframe tbody tr th:only-of-type {\n        vertical-align: middle;\n    }\n\n    .dataframe tbody tr th {\n        vertical-align: top;\n    }\n\n    .dataframe thead th {\n        text-align: right;\n    }\n</style>\n<table border=\"1\" class=\"dataframe\">\n  <thead>\n    <tr style=\"text-align: right;\">\n      <th></th>\n      <th>uid</th>\n      <th>timestamp</th>\n      <th>loc</th>\n      <th>app_id</th>\n      <th>traffic</th>\n      <th>date</th>\n    </tr>\n  </thead>\n  <tbody>\n    <tr>\n      <th>0</th>\n      <td>0</td>\n      <td>2016-04-21 08:42:21</td>\n      <td>8194</td>\n      <td>342</td>\n      <td>0.030</td>\n      <td>04-21</td>\n    </tr>\n    <tr>\n      <th>1</th>\n      <td>0</td>\n      <td>2016-04-21 08:44:12</td>\n      <td>8194</td>\n      <td>1</td>\n      <td>0.008</td>\n      <td>04-21</td>\n    </tr>\n    <tr>\n      <th>2</th>\n      <td>0</td>\n      <td>2016-04-21 08:44:47</td>\n      <td>8194</td>\n      <td>857</td>\n      <td>0.027</td>\n      <td>04-21</td>\n    </tr>\n    <tr>\n      <th>3</th>\n      <td>0</td>\n      <td>2016-04-21 08:44:48</td>\n      <td>8194</td>\n      <td>857</td>\n      <td>0.002</td>\n      <td>04-21</td>\n    </tr>\n    <tr>\n      <th>4</th>\n      <td>0</td>\n      <td>2016-04-21 08:44:49</td>\n      <td>8194</td>\n      <td>31</td>\n      <td>0.009</td>\n      <td>04-21</td>\n    </tr>\n  </tbody>\n</table>\n</div>"
     },
     "metadata": {},
     "execution_count": 13
    }
   ],
   "source": [
    "import pandas as pd\n",
    "from datetime import datetime, timedelta\n",
    "import matplotlib.pyplot as plt\n",
    "# pd.options.display.max_columns\n",
    "pd.set_option(\"display.max_colwidth\",200)\n",
    "pd.set_option(\"display.max_columns\",20)\n",
    "pd.set_option('float_format', '{:.3f}'.format)\n",
    "\n",
    "# Load Usage data\n",
    "with open('cleaned_rm_oscillated_data.txt') as f:\n",
    "    lines = f.readlines()#[:100000]\n",
    "    df = []\n",
    "    for line in lines:\n",
    "        data = line.split(\",\")\n",
    "        df.append(data)\n",
    "cleaned_df1 = pd.DataFrame(df, columns=['uid','timestamp', 'loc', 'app_id','traffic'])\n",
    "cleaned_df1['timestamp'] = cleaned_df1['timestamp'].apply(lambda x: datetime.strptime(x, '%Y-%m-%d %H:%M:%S'))\n",
    "cleaned_df1[\"traffic\"] = cleaned_df1['traffic'].astype('float64')\n",
    "cleaned_df1[\"date\"] = cleaned_df1[\"timestamp\"].dt.strftime(\"%m-%d\")\n",
    "cleaned_df1.head()"
   ]
  },
  {
   "source": [
    "# Import second cleaned dataset\n",
    "## 1st) Remove oscillation\n",
    "## 2nd) cleaned"
   ],
   "cell_type": "markdown",
   "metadata": {}
  },
  {
   "cell_type": "code",
   "execution_count": 30,
   "metadata": {},
   "outputs": [
    {
     "output_type": "execute_result",
     "data": {
      "text/plain": [
       "  uid           timestamp   loc app_id  traffic   date\n",
       "0   0 2016-04-21 08:42:21  8194    342    0.030  04-21\n",
       "1   0 2016-04-21 08:44:12  8194      1    0.008  04-21\n",
       "2   0 2016-04-21 08:44:47  8194    857    0.027  04-21\n",
       "3   0 2016-04-21 08:44:48  8194    857    0.002  04-21\n",
       "4   0 2016-04-21 08:44:49  8194     31    0.009  04-21"
      ],
      "text/html": "<div>\n<style scoped>\n    .dataframe tbody tr th:only-of-type {\n        vertical-align: middle;\n    }\n\n    .dataframe tbody tr th {\n        vertical-align: top;\n    }\n\n    .dataframe thead th {\n        text-align: right;\n    }\n</style>\n<table border=\"1\" class=\"dataframe\">\n  <thead>\n    <tr style=\"text-align: right;\">\n      <th></th>\n      <th>uid</th>\n      <th>timestamp</th>\n      <th>loc</th>\n      <th>app_id</th>\n      <th>traffic</th>\n      <th>date</th>\n    </tr>\n  </thead>\n  <tbody>\n    <tr>\n      <th>0</th>\n      <td>0</td>\n      <td>2016-04-21 08:42:21</td>\n      <td>8194</td>\n      <td>342</td>\n      <td>0.030</td>\n      <td>04-21</td>\n    </tr>\n    <tr>\n      <th>1</th>\n      <td>0</td>\n      <td>2016-04-21 08:44:12</td>\n      <td>8194</td>\n      <td>1</td>\n      <td>0.008</td>\n      <td>04-21</td>\n    </tr>\n    <tr>\n      <th>2</th>\n      <td>0</td>\n      <td>2016-04-21 08:44:47</td>\n      <td>8194</td>\n      <td>857</td>\n      <td>0.027</td>\n      <td>04-21</td>\n    </tr>\n    <tr>\n      <th>3</th>\n      <td>0</td>\n      <td>2016-04-21 08:44:48</td>\n      <td>8194</td>\n      <td>857</td>\n      <td>0.002</td>\n      <td>04-21</td>\n    </tr>\n    <tr>\n      <th>4</th>\n      <td>0</td>\n      <td>2016-04-21 08:44:49</td>\n      <td>8194</td>\n      <td>31</td>\n      <td>0.009</td>\n      <td>04-21</td>\n    </tr>\n  </tbody>\n</table>\n</div>"
     },
     "metadata": {},
     "execution_count": 30
    }
   ],
   "source": [
    "import pandas as pd\n",
    "from datetime import datetime, timedelta\n",
    "import matplotlib.pyplot as plt\n",
    "# pd.options.display.max_columns\n",
    "pd.set_option(\"display.max_colwidth\",200)\n",
    "pd.set_option(\"display.max_columns\",20)\n",
    "pd.set_option('float_format', '{:.3f}'.format)\n",
    "\n",
    "# Load Usage data\n",
    "with open('rm_oscillated_cleaned_data.txt') as f:\n",
    "    lines = f.readlines()#[:100000]\n",
    "    df = []\n",
    "    for line in lines:\n",
    "        data = line.split(\",\")\n",
    "        df.append(data)\n",
    "cleaned_df2 = pd.DataFrame(df, columns=['uid','timestamp', 'loc', 'app_id','traffic'])\n",
    "cleaned_df2['timestamp'] = cleaned_df2['timestamp'].apply(lambda x: datetime.strptime(x, '%Y-%m-%d %H:%M:%S'))\n",
    "cleaned_df2[\"traffic\"] = cleaned_df2['traffic'].astype('float64')\n",
    "cleaned_df2[\"date\"] = cleaned_df2[\"timestamp\"].dt.strftime(\"%m-%d\")\n",
    "cleaned_df2.head()"
   ]
  },
  {
   "cell_type": "code",
   "execution_count": 39,
   "metadata": {},
   "outputs": [
    {
     "output_type": "stream",
     "name": "stdout",
     "text": [
      "==================================================\nOriginal Dataset has 4171950 rows\n--------------------------------------------------\nFirst cleaned Dataset has 3970225 rows\n--------------------------------------------------\nSecond cleaned Dataset has 3970225 rows\n==================================================\n"
     ]
    }
   ],
   "source": [
    "print(\"=\"*50)\n",
    "print(\"Original Dataset has {} rows\".format(usage.shape[0]))\n",
    "print(\"-\"*50)\n",
    "print(\"First cleaned Dataset has {} rows\".format(cleaned_df1.shape[0]))\n",
    "print(\"-\"*50)\n",
    "print(\"Second cleaned Dataset has {} rows\".format(cleaned_df2.shape[0]))\n",
    "print(\"=\"*50)"
   ]
  },
  {
   "source": [
    "# Analysis part \n",
    "## descritive analysis"
   ],
   "cell_type": "markdown",
   "metadata": {}
  },
  {
   "source": [
    "### Orignial Dataset"
   ],
   "cell_type": "markdown",
   "metadata": {}
  },
  {
   "cell_type": "code",
   "execution_count": 26,
   "metadata": {},
   "outputs": [
    {
     "output_type": "execute_result",
     "data": {
      "text/plain": [
       "            count\n",
       "count     871.000\n",
       "mean     4789.839\n",
       "std     38407.519\n",
       "min         4.000\n",
       "25%       647.500\n",
       "50%      1659.000\n",
       "75%      3534.000\n",
       "max   1098748.000"
      ],
      "text/html": "<div>\n<style scoped>\n    .dataframe tbody tr th:only-of-type {\n        vertical-align: middle;\n    }\n\n    .dataframe tbody tr th {\n        vertical-align: top;\n    }\n\n    .dataframe thead th {\n        text-align: right;\n    }\n</style>\n<table border=\"1\" class=\"dataframe\">\n  <thead>\n    <tr style=\"text-align: right;\">\n      <th></th>\n      <th>count</th>\n    </tr>\n  </thead>\n  <tbody>\n    <tr>\n      <th>count</th>\n      <td>871.000</td>\n    </tr>\n    <tr>\n      <th>mean</th>\n      <td>4789.839</td>\n    </tr>\n    <tr>\n      <th>std</th>\n      <td>38407.519</td>\n    </tr>\n    <tr>\n      <th>min</th>\n      <td>4.000</td>\n    </tr>\n    <tr>\n      <th>25%</th>\n      <td>647.500</td>\n    </tr>\n    <tr>\n      <th>50%</th>\n      <td>1659.000</td>\n    </tr>\n    <tr>\n      <th>75%</th>\n      <td>3534.000</td>\n    </tr>\n    <tr>\n      <th>max</th>\n      <td>1098748.000</td>\n    </tr>\n  </tbody>\n</table>\n</div>"
     },
     "metadata": {},
     "execution_count": 26
    }
   ],
   "source": [
    "user_count = usage.groupby([\"uid\"]).size().reset_index()\n",
    "user_count.columns = ['uid','count']\n",
    "user_count.describe()"
   ]
  },
  {
   "cell_type": "code",
   "execution_count": 71,
   "metadata": {},
   "outputs": [
    {
     "output_type": "execute_result",
     "data": {
      "text/plain": [
       "          count\n",
       "count   869.000\n",
       "mean   3273.794\n",
       "std    6321.116\n",
       "min       4.000\n",
       "25%     646.000\n",
       "50%    1657.000\n",
       "75%    3521.000\n",
       "max   90381.000"
      ],
      "text/html": "<div>\n<style scoped>\n    .dataframe tbody tr th:only-of-type {\n        vertical-align: middle;\n    }\n\n    .dataframe tbody tr th {\n        vertical-align: top;\n    }\n\n    .dataframe thead th {\n        text-align: right;\n    }\n</style>\n<table border=\"1\" class=\"dataframe\">\n  <thead>\n    <tr style=\"text-align: right;\">\n      <th></th>\n      <th>count</th>\n    </tr>\n  </thead>\n  <tbody>\n    <tr>\n      <th>count</th>\n      <td>869.000</td>\n    </tr>\n    <tr>\n      <th>mean</th>\n      <td>3273.794</td>\n    </tr>\n    <tr>\n      <th>std</th>\n      <td>6321.116</td>\n    </tr>\n    <tr>\n      <th>min</th>\n      <td>4.000</td>\n    </tr>\n    <tr>\n      <th>25%</th>\n      <td>646.000</td>\n    </tr>\n    <tr>\n      <th>50%</th>\n      <td>1657.000</td>\n    </tr>\n    <tr>\n      <th>75%</th>\n      <td>3521.000</td>\n    </tr>\n    <tr>\n      <th>max</th>\n      <td>90381.000</td>\n    </tr>\n  </tbody>\n</table>\n</div>"
     },
     "metadata": {},
     "execution_count": 71
    }
   ],
   "source": [
    "usage_rm_user = usage[(usage[\"uid\"] != str(942)) & (usage[\"uid\"] != str(772))]\n",
    "usage_rm_user_count = usage_rm_user.groupby([\"uid\"]).size().reset_index()\n",
    "usage_rm_user_count.columns = ['uid','count']\n",
    "usage_rm_user_count.describe()"
   ]
  },
  {
   "source": [
    "### First Cleaned"
   ],
   "cell_type": "markdown",
   "metadata": {}
  },
  {
   "cell_type": "code",
   "execution_count": 20,
   "metadata": {},
   "outputs": [
    {
     "output_type": "execute_result",
     "data": {
      "text/plain": [
       "            count\n",
       "count     697.000\n",
       "mean     5696.162\n",
       "std     42888.153\n",
       "min       200.000\n",
       "25%       820.000\n",
       "50%      1975.000\n",
       "75%      4163.000\n",
       "max   1098748.000"
      ],
      "text/html": "<div>\n<style scoped>\n    .dataframe tbody tr th:only-of-type {\n        vertical-align: middle;\n    }\n\n    .dataframe tbody tr th {\n        vertical-align: top;\n    }\n\n    .dataframe thead th {\n        text-align: right;\n    }\n</style>\n<table border=\"1\" class=\"dataframe\">\n  <thead>\n    <tr style=\"text-align: right;\">\n      <th></th>\n      <th>count</th>\n    </tr>\n  </thead>\n  <tbody>\n    <tr>\n      <th>count</th>\n      <td>697.000</td>\n    </tr>\n    <tr>\n      <th>mean</th>\n      <td>5696.162</td>\n    </tr>\n    <tr>\n      <th>std</th>\n      <td>42888.153</td>\n    </tr>\n    <tr>\n      <th>min</th>\n      <td>200.000</td>\n    </tr>\n    <tr>\n      <th>25%</th>\n      <td>820.000</td>\n    </tr>\n    <tr>\n      <th>50%</th>\n      <td>1975.000</td>\n    </tr>\n    <tr>\n      <th>75%</th>\n      <td>4163.000</td>\n    </tr>\n    <tr>\n      <th>max</th>\n      <td>1098748.000</td>\n    </tr>\n  </tbody>\n</table>\n</div>"
     },
     "metadata": {},
     "execution_count": 20
    }
   ],
   "source": [
    "cleaned_user_count1 = cleaned_df1.groupby([\"uid\"]).size().reset_index()\n",
    "cleaned_user_count1.columns = ['uid','count']\n",
    "cleaned_user_count1.describe()"
   ]
  },
  {
   "cell_type": "code",
   "execution_count": 32,
   "metadata": {},
   "outputs": [
    {
     "output_type": "execute_result",
     "data": {
      "text/plain": [
       "            count\n",
       "count     697.000\n",
       "mean     5696.162\n",
       "std     42888.153\n",
       "min       200.000\n",
       "25%       820.000\n",
       "50%      1975.000\n",
       "75%      4163.000\n",
       "max   1098748.000"
      ],
      "text/html": "<div>\n<style scoped>\n    .dataframe tbody tr th:only-of-type {\n        vertical-align: middle;\n    }\n\n    .dataframe tbody tr th {\n        vertical-align: top;\n    }\n\n    .dataframe thead th {\n        text-align: right;\n    }\n</style>\n<table border=\"1\" class=\"dataframe\">\n  <thead>\n    <tr style=\"text-align: right;\">\n      <th></th>\n      <th>count</th>\n    </tr>\n  </thead>\n  <tbody>\n    <tr>\n      <th>count</th>\n      <td>697.000</td>\n    </tr>\n    <tr>\n      <th>mean</th>\n      <td>5696.162</td>\n    </tr>\n    <tr>\n      <th>std</th>\n      <td>42888.153</td>\n    </tr>\n    <tr>\n      <th>min</th>\n      <td>200.000</td>\n    </tr>\n    <tr>\n      <th>25%</th>\n      <td>820.000</td>\n    </tr>\n    <tr>\n      <th>50%</th>\n      <td>1975.000</td>\n    </tr>\n    <tr>\n      <th>75%</th>\n      <td>4163.000</td>\n    </tr>\n    <tr>\n      <th>max</th>\n      <td>1098748.000</td>\n    </tr>\n  </tbody>\n</table>\n</div>"
     },
     "metadata": {},
     "execution_count": 32
    }
   ],
   "source": [
    "cleaned_user_count2 = cleaned_df2.groupby([\"uid\"]).size().reset_index()\n",
    "cleaned_user_count2.columns = ['uid','count']\n",
    "cleaned_user_count2.describe()"
   ]
  },
  {
   "cell_type": "code",
   "execution_count": 73,
   "metadata": {},
   "outputs": [
    {
     "output_type": "execute_result",
     "data": {
      "text/plain": [
       "          count\n",
       "count   695.000\n",
       "mean   3803.168\n",
       "std    6939.822\n",
       "min     200.000\n",
       "25%     818.000\n",
       "50%    1971.000\n",
       "75%    4150.000\n",
       "max   90381.000"
      ],
      "text/html": "<div>\n<style scoped>\n    .dataframe tbody tr th:only-of-type {\n        vertical-align: middle;\n    }\n\n    .dataframe tbody tr th {\n        vertical-align: top;\n    }\n\n    .dataframe thead th {\n        text-align: right;\n    }\n</style>\n<table border=\"1\" class=\"dataframe\">\n  <thead>\n    <tr style=\"text-align: right;\">\n      <th></th>\n      <th>count</th>\n    </tr>\n  </thead>\n  <tbody>\n    <tr>\n      <th>count</th>\n      <td>695.000</td>\n    </tr>\n    <tr>\n      <th>mean</th>\n      <td>3803.168</td>\n    </tr>\n    <tr>\n      <th>std</th>\n      <td>6939.822</td>\n    </tr>\n    <tr>\n      <th>min</th>\n      <td>200.000</td>\n    </tr>\n    <tr>\n      <th>25%</th>\n      <td>818.000</td>\n    </tr>\n    <tr>\n      <th>50%</th>\n      <td>1971.000</td>\n    </tr>\n    <tr>\n      <th>75%</th>\n      <td>4150.000</td>\n    </tr>\n    <tr>\n      <th>max</th>\n      <td>90381.000</td>\n    </tr>\n  </tbody>\n</table>\n</div>"
     },
     "metadata": {},
     "execution_count": 73
    }
   ],
   "source": [
    "cleaned_df2_rm = cleaned_df2[(cleaned_df2[\"uid\"] != str(942)) & (cleaned_df2[\"uid\"] != str(772))]\n",
    "cleaned_user_count2_rm = cleaned_df2_rm.groupby([\"uid\"]).size().reset_index()\n",
    "cleaned_user_count2_rm.columns = ['uid','count']\n",
    "cleaned_user_count2_rm.describe()"
   ]
  },
  {
   "cell_type": "code",
   "execution_count": 56,
   "metadata": {},
   "outputs": [],
   "source": [
    "loc_count_orignal = usage.groupby([\"loc\"]).size().reset_index()\n",
    "loc_count_orignal.columns = ['loc','count']\n",
    "loc_count_orignal.to_csv('original_loc_count.csv')"
   ]
  },
  {
   "cell_type": "code",
   "execution_count": 55,
   "metadata": {},
   "outputs": [],
   "source": [
    "loc_count2 = cleaned_df2.groupby([\"loc\"]).size().reset_index()\n",
    "loc_count2.columns = ['loc','count']\n",
    "loc_count2.to_csv('cleaned_loc_count.csv')"
   ]
  },
  {
   "cell_type": "code",
   "execution_count": 84,
   "metadata": {},
   "outputs": [
    {
     "output_type": "execute_result",
     "data": {
      "text/plain": [
       "count    6739.000\n",
       "mean      619.076\n",
       "std      1245.686\n",
       "min         1.000\n",
       "25%        48.000\n",
       "50%       211.000\n",
       "75%       636.000\n",
       "max     24386.000\n",
       "Name: count, dtype: float64"
      ]
     },
     "metadata": {},
     "execution_count": 84
    }
   ],
   "source": [
    "loc_count_orignal[\"count\"].describe()"
   ]
  },
  {
   "cell_type": "code",
   "execution_count": 85,
   "metadata": {},
   "outputs": [
    {
     "output_type": "execute_result",
     "data": {
      "text/plain": [
       "count     6021.000\n",
       "mean       659.396\n",
       "std       5110.610\n",
       "min          1.000\n",
       "25%         34.000\n",
       "50%        141.000\n",
       "75%        426.000\n",
       "max     186531.000\n",
       "Name: count, dtype: float64"
      ]
     },
     "metadata": {},
     "execution_count": 85
    }
   ],
   "source": [
    "loc_count2[\"count\"].describe()"
   ]
  },
  {
   "cell_type": "code",
   "execution_count": 91,
   "metadata": {},
   "outputs": [
    {
     "output_type": "stream",
     "name": "stdout",
     "text": [
      "Original dataset: There are 737 base station that has less than 10 total counts \nCleaned dataset: There are 736 base station that has less than 10 total counts \n"
     ]
    }
   ],
   "source": [
    "required_count = 10\n",
    "\n",
    "print(\"Original dataset: There are {} base station that has less than {} total counts \".format((loc_count_orignal[loc_count_orignal[\"count\"] < required_count].shape[0]), required_count))\n",
    "print(\"Cleaned dataset: There are {} base station that has less than {} total counts \".format((loc_count2[loc_count2[\"count\"] < required_count].shape[0]), required_count))\n"
   ]
  },
  {
   "source": [
    "# Unique base station"
   ],
   "cell_type": "markdown",
   "metadata": {}
  },
  {
   "cell_type": "code",
   "execution_count": 57,
   "metadata": {},
   "outputs": [
    {
     "output_type": "stream",
     "name": "stdout",
     "text": [
      "==================================================\n",
      "Original Dataset has 6739 unique base station\n",
      "--------------------------------------------------\n",
      "First cleaned dataset has 6022 unique base station\n",
      "--------------------------------------------------\n",
      "Second cleaned dataset has 6021 unique base station\n",
      "==================================================\n"
     ]
    }
   ],
   "source": [
    "print(\"=\"*50)\n",
    "print(\"Original Dataset has {} unique base station\".format(len(np.unique(usage[\"loc\"]))))\n",
    "print(\"-\"*50)\n",
    "print(\"First cleaned dataset has {} unique base station\".format(len(np.unique(cleaned_df1[\"loc\"]))))\n",
    "print(\"-\"*50)\n",
    "print(\"Second cleaned dataset has {} unique base station\".format(len(np.unique(cleaned_df2[\"loc\"]))))\n",
    "print(\"=\"*50)"
   ]
  },
  {
   "source": [
    "# Show different rows"
   ],
   "cell_type": "markdown",
   "metadata": {}
  },
  {
   "cell_type": "code",
   "execution_count": 20,
   "metadata": {},
   "outputs": [],
   "source": [
    "# df_diff = pd.concat([cleaned_df1,cleaned_df2]).drop_duplicates(keep=False)\n",
    "# df_diff"
   ]
  },
  {
   "source": [
    "# Index 11150-11162"
   ],
   "cell_type": "markdown",
   "metadata": {}
  },
  {
   "cell_type": "code",
   "execution_count": 19,
   "metadata": {},
   "outputs": [],
   "source": [
    "# cleaned_df1.loc[11150:11162,:]"
   ]
  },
  {
   "cell_type": "code",
   "execution_count": 18,
   "metadata": {},
   "outputs": [],
   "source": [
    "# cleaned_df2.loc[11150:11162,:]"
   ]
  },
  {
   "source": [
    "# Index 105992-106015"
   ],
   "cell_type": "markdown",
   "metadata": {}
  },
  {
   "cell_type": "code",
   "execution_count": 17,
   "metadata": {},
   "outputs": [],
   "source": [
    "# cleaned_df1.loc[105992:106015,:]"
   ]
  },
  {
   "cell_type": "code",
   "execution_count": 16,
   "metadata": {},
   "outputs": [],
   "source": [
    "# cleaned_df2.loc[105992:106015,:]"
   ]
  },
  {
   "source": [
    "#  Analysis on number to clean"
   ],
   "cell_type": "markdown",
   "metadata": {}
  },
  {
   "cell_type": "code",
   "execution_count": 59,
   "metadata": {},
   "outputs": [
    {
     "output_type": "stream",
     "name": "stdout",
     "text": [
      "====================================================================================================\nCurrent condition: remove user that has less than 10 records per day\n====================================================================================================\nThere are 200 users that does not meet the requirement\n----------------------------------------------------------------------------------------------------\nThere are 140 users that have less than 10 records for exact 1 day\n----------------------------------------------------------------------------------------------------\nThere are 60 users that have less than 10 records for more than 1 day\n----------------------------------------------------------------------------------------------------\nUnder current condition, 1263 rows will be removed, 0.00030% of the entire dataset \n====================================================================================================\n"
     ]
    }
   ],
   "source": [
    "# group uid and date, purpose is to see the number of request that a user made for each day\n",
    "user_usage_perday = usage.groupby([\"uid\", \"date\"]).size().reset_index()\n",
    "# rename columns for easy slicing\n",
    "user_usage_perday.columns = [\"uid\", \"date\", \"count\"]\n",
    "# number of users that does not have X counts per day\n",
    "# change this\n",
    "required_count = 10\n",
    "\n",
    "# slice dataset to only remain those rows that has less than 20 count\n",
    "df_less10day = user_usage_perday[user_usage_perday[\"count\"] < required_count]\n",
    "# group dataset with uid to get the count of the occurance of the uid, so we can determine which users have just 1 day or more\n",
    "uid_less10day = df_less10day.groupby([\"uid\"]).size().reset_index()\n",
    "# rename columns for easy slicing\n",
    "uid_less10day.columns = [\"uid\", \"count\"]\n",
    "print(\"=\"*100)\n",
    "print(\"Current condition: remove user that has less than {} records per day\".format(required_count))\n",
    "print(\"=\"*100)\n",
    "print(\"There are {} users that does not meet the requirement\". format(uid_less10day.shape[0]))\n",
    "print(\"-\"*100)\n",
    "print(\"There are {} users that have less than {} records for exact 1 day\".format((uid_less10day.shape[0]- uid_less10day[uid_less10day[\"count\"] != 1].shape[0]), required_count))\n",
    "print(\"-\"*100)\n",
    "print(\"There are {} users that have less than {} records for more than 1 day\".format(uid_less10day[uid_less10day[\"count\"] != 1].shape[0], required_count))\n",
    "print(\"-\"*100)\n",
    "print(\"Under current condition, {} rows will be removed, {:.5%} of the entire dataset \".format(df_less10day[\"count\"].sum(), df_less10day[\"count\"].sum()/414171950))\n",
    "print(\"=\"*100)"
   ]
  },
  {
   "source": [
    "# Threshold justification"
   ],
   "cell_type": "markdown",
   "metadata": {}
  }
 ]
}