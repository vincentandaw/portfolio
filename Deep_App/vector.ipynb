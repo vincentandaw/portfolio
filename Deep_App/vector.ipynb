{
 "metadata": {
  "language_info": {
   "codemirror_mode": {
    "name": "ipython",
    "version": 3
   },
   "file_extension": ".py",
   "mimetype": "text/x-python",
   "name": "python",
   "nbconvert_exporter": "python",
   "pygments_lexer": "ipython3",
   "version": "3.7.4"
  },
  "orig_nbformat": 2,
  "kernelspec": {
   "name": "python374jvsc74a57bd06038c0ee8db233780d2258e0f517839f1e0d675968383c2c072a296dd1a5eb9c",
   "display_name": "Python 3.7.4 64-bit ('base': conda)"
  },
  "metadata": {
   "interpreter": {
    "hash": "109559ddfe47183e048fd140347c78edba0cfba7cd194e9a0f4bf1b0dfb3a4aa"
   }
  }
 },
 "nbformat": 4,
 "nbformat_minor": 2,
 "cells": [
  {
   "source": [
    "# Reading in the data"
   ],
   "cell_type": "markdown",
   "metadata": {}
  },
  {
   "cell_type": "code",
   "execution_count": 6,
   "metadata": {},
   "outputs": [
    {
     "output_type": "stream",
     "name": "stdout",
     "text": [
      "The autotime extension is already loaded. To reload it, use:\n  %reload_ext autotime\ntime: 82.2 ms\n"
     ]
    }
   ],
   "source": [
    "%load_ext autotime\n",
    "\n",
    "import numpy as np\n",
    "import pandas as pd\n",
    "from datetime import datetime, timedelta\n",
    "import matplotlib.pyplot as plt\n",
    "import random\n",
    "# pd.options.display.max_columns\n",
    "pd.set_option(\"display.max_colwidth\",200)\n",
    "pd.set_option(\"display.max_columns\",20)\n",
    "pd.set_option('float_format', '{:.3f}'.format)\n"
   ]
  },
  {
   "cell_type": "code",
   "execution_count": 8,
   "metadata": {},
   "outputs": [
    {
     "output_type": "stream",
     "name": "stdout",
     "text": [
      "< ---- Basic information ---- >\n",
      "- 9851 base stations. 3970225 entries\n",
      "\n",
      "< ---- Unique users ---- >\n",
      "- 697 unique users\n",
      "\n",
      "< ---- Unique apps ---- >\n",
      "- 1675 unique users\n",
      "time: 1min 33s\n"
     ]
    }
   ],
   "source": [
    "# # Load the usage data\n",
    "with open('rm_oscillated_cleaned_data.txt') as f:\n",
    "    lines = f.readlines()#[:100000]\n",
    "    df = []\n",
    "    for line in lines:\n",
    "        line = line.replace('\\n', '')\n",
    "        data = line.split(',')\n",
    "        df.append(data)\n",
    "usage = pd.DataFrame(df, columns=['uid','timestamp', 'loc', 'app_id','traffic'])\n",
    "# output_users(usage)\n",
    "# usage['traffic'] = usage['traffic'].astype('float64') / 1e6 # Convert traffic to MB\n",
    "usage['timestamp'] = usage['timestamp'].apply(lambda x: datetime.strptime(x, '%Y-%m-%d %H:%M:%S')) \n",
    "# usage['timestamp'] = usage['timestamp'].apply(lambda x: datetime.strptime(x, \"%Y%m%d%H%M%S\")) # Convert to datetime object\n",
    "# usage['timestamp'] = usage['timestamp'].datetime\n",
    "usage['loc'] = usage['loc'].astype('int64')\n",
    "\n",
    "# usage = pd.read_csv(\"App_usage_trace.txt\", delimiter=' ', header=None)\n",
    "# usage.columns = ['uid','timestamp', 'loc', 'app_id','traffic']\n",
    "# usage['traffic'] = usage['traffic'].astype('float64') / 1e6 # Convert traffic to MB\n",
    "# usage['timestamp'] = usage['timestamp'].astype(str)\n",
    "# usage['timestamp'] = usage['timestamp'].apply(lambda x: datetime.strptime(x, \"%Y%m%d%H%M%S\")) # Convert to datetime object\n",
    "# usage['loc'] = usage['loc'].astype('int64')\n",
    "\n",
    "app2cat = pd.read_csv('App2Category.txt', delimiter='\\t', header=None)\n",
    "app2cat.columns = ['app_id','cat_id']\n",
    "# app2cat.apply(pd.to_numeric)\n",
    "# app2cat = pd.DataFrame(df, columns=['app_id','cat_id'])\n",
    "\n",
    "# Load base station POI data\n",
    "base_poi = pd.read_csv(\"base_poi.txt\", delimiter='\\t')\n",
    "\n",
    "# Load Category dictionary\n",
    "cat = pd.read_csv(\"Categorys.txt\", delimiter='\\t', header = None)\n",
    "cat.columns = ['cat_id','category']\n",
    "cat.set_index('cat_id', inplace=True)\n",
    "\n",
    "\n",
    "print(\"< ---- Basic information ---- >\")\n",
    "print(\"- {} base stations. {} entries\".format(base_poi.shape[0], usage.shape[0]))\n",
    "print()\n",
    "print(\"< ---- Unique users ---- >\")\n",
    "print(\"- {} unique users\".format(len(usage['uid'].unique())))\n",
    "\n",
    "print()\n",
    "print(\"< ---- Unique apps ---- >\")\n",
    "print(\"- {} unique users\".format(len(usage['app_id'].unique())))\n",
    "\n"
   ]
  },
  {
   "cell_type": "code",
   "execution_count": 11,
   "metadata": {},
   "outputs": [
    {
     "output_type": "execute_result",
     "data": {
      "text/plain": [
       "   loc  Medical care  Hotel  Business affairs  Life service  \\\n",
       "0    0             1      3                 4             1   \n",
       "1    1             0      0                 0             0   \n",
       "2    2             0      0                12             0   \n",
       "3    3             0      0                 0             0   \n",
       "4    4             0      0                 0             0   \n",
       "\n",
       "   Transportation hub  Culture  Sports  Residence  Entertainment and leisure  \\\n",
       "0                   0        0       0         54                          0   \n",
       "1                   0        0       0         27                          0   \n",
       "2                   1        0       0          3                          0   \n",
       "3                   0        1       0          0                          0   \n",
       "4                   0        0       0          4                          0   \n",
       "\n",
       "   Scenic spot  Government  Factory  Shopping  Restaurant  Education  \\\n",
       "0            0           1        0         6           6          2   \n",
       "1            0           1        0         0           0          1   \n",
       "2            0           1        0         1           0          0   \n",
       "3            1           0        0         0           0          0   \n",
       "4            3           0        0         0           1          0   \n",
       "\n",
       "   Landmark  Other  \n",
       "0         0      4  \n",
       "1         2      0  \n",
       "2         0      0  \n",
       "3         0      0  \n",
       "4         0      0  "
      ],
      "text/html": "<div>\n<style scoped>\n    .dataframe tbody tr th:only-of-type {\n        vertical-align: middle;\n    }\n\n    .dataframe tbody tr th {\n        vertical-align: top;\n    }\n\n    .dataframe thead th {\n        text-align: right;\n    }\n</style>\n<table border=\"1\" class=\"dataframe\">\n  <thead>\n    <tr style=\"text-align: right;\">\n      <th></th>\n      <th>loc</th>\n      <th>Medical care</th>\n      <th>Hotel</th>\n      <th>Business affairs</th>\n      <th>Life service</th>\n      <th>Transportation hub</th>\n      <th>Culture</th>\n      <th>Sports</th>\n      <th>Residence</th>\n      <th>Entertainment and leisure</th>\n      <th>Scenic spot</th>\n      <th>Government</th>\n      <th>Factory</th>\n      <th>Shopping</th>\n      <th>Restaurant</th>\n      <th>Education</th>\n      <th>Landmark</th>\n      <th>Other</th>\n    </tr>\n  </thead>\n  <tbody>\n    <tr>\n      <th>0</th>\n      <td>0</td>\n      <td>1</td>\n      <td>3</td>\n      <td>4</td>\n      <td>1</td>\n      <td>0</td>\n      <td>0</td>\n      <td>0</td>\n      <td>54</td>\n      <td>0</td>\n      <td>0</td>\n      <td>1</td>\n      <td>0</td>\n      <td>6</td>\n      <td>6</td>\n      <td>2</td>\n      <td>0</td>\n      <td>4</td>\n    </tr>\n    <tr>\n      <th>1</th>\n      <td>1</td>\n      <td>0</td>\n      <td>0</td>\n      <td>0</td>\n      <td>0</td>\n      <td>0</td>\n      <td>0</td>\n      <td>0</td>\n      <td>27</td>\n      <td>0</td>\n      <td>0</td>\n      <td>1</td>\n      <td>0</td>\n      <td>0</td>\n      <td>0</td>\n      <td>1</td>\n      <td>2</td>\n      <td>0</td>\n    </tr>\n    <tr>\n      <th>2</th>\n      <td>2</td>\n      <td>0</td>\n      <td>0</td>\n      <td>12</td>\n      <td>0</td>\n      <td>1</td>\n      <td>0</td>\n      <td>0</td>\n      <td>3</td>\n      <td>0</td>\n      <td>0</td>\n      <td>1</td>\n      <td>0</td>\n      <td>1</td>\n      <td>0</td>\n      <td>0</td>\n      <td>0</td>\n      <td>0</td>\n    </tr>\n    <tr>\n      <th>3</th>\n      <td>3</td>\n      <td>0</td>\n      <td>0</td>\n      <td>0</td>\n      <td>0</td>\n      <td>0</td>\n      <td>1</td>\n      <td>0</td>\n      <td>0</td>\n      <td>0</td>\n      <td>1</td>\n      <td>0</td>\n      <td>0</td>\n      <td>0</td>\n      <td>0</td>\n      <td>0</td>\n      <td>0</td>\n      <td>0</td>\n    </tr>\n    <tr>\n      <th>4</th>\n      <td>4</td>\n      <td>0</td>\n      <td>0</td>\n      <td>0</td>\n      <td>0</td>\n      <td>0</td>\n      <td>0</td>\n      <td>0</td>\n      <td>4</td>\n      <td>0</td>\n      <td>3</td>\n      <td>0</td>\n      <td>0</td>\n      <td>0</td>\n      <td>1</td>\n      <td>0</td>\n      <td>0</td>\n      <td>0</td>\n    </tr>\n  </tbody>\n</table>\n</div>"
     },
     "metadata": {},
     "execution_count": 11
    },
    {
     "output_type": "stream",
     "name": "stdout",
     "text": [
      "time: 53.2 ms\n"
     ]
    }
   ],
   "source": [
    "base_poi.head()"
   ]
  },
  {
   "cell_type": "code",
   "execution_count": 10,
   "metadata": {},
   "outputs": [
    {
     "output_type": "stream",
     "name": "stdout",
     "text": [
      "time: 7.57 ms\n"
     ]
    }
   ],
   "source": [
    "base_poi.rename(columns={'BaseID': 'loc'}, inplace=True)"
   ]
  },
  {
   "cell_type": "code",
   "execution_count": 31,
   "metadata": {},
   "outputs": [
    {
     "output_type": "stream",
     "name": "stdout",
     "text": [
      "time: 28 ms\n"
     ]
    }
   ],
   "source": [
    "base_poi1 = pd.DataFrame({'hot_poi':[i for i in base_poi.values]})"
   ]
  },
  {
   "cell_type": "code",
   "execution_count": 33,
   "metadata": {},
   "outputs": [
    {
     "output_type": "execute_result",
     "data": {
      "text/plain": [
       "                                                   hot_poi\n",
       "0  [0, 1, 3, 4, 1, 0, 0, 0, 54, 0, 0, 1, 0, 6, 6, 2, 0, 4]\n",
       "1  [1, 0, 0, 0, 0, 0, 0, 0, 27, 0, 0, 1, 0, 0, 0, 1, 2, 0]\n",
       "2  [2, 0, 0, 12, 0, 1, 0, 0, 3, 0, 0, 1, 0, 1, 0, 0, 0, 0]\n",
       "3   [3, 0, 0, 0, 0, 0, 1, 0, 0, 0, 1, 0, 0, 0, 0, 0, 0, 0]\n",
       "4   [4, 0, 0, 0, 0, 0, 0, 0, 4, 0, 3, 0, 0, 0, 1, 0, 0, 0]"
      ],
      "text/html": "<div>\n<style scoped>\n    .dataframe tbody tr th:only-of-type {\n        vertical-align: middle;\n    }\n\n    .dataframe tbody tr th {\n        vertical-align: top;\n    }\n\n    .dataframe thead th {\n        text-align: right;\n    }\n</style>\n<table border=\"1\" class=\"dataframe\">\n  <thead>\n    <tr style=\"text-align: right;\">\n      <th></th>\n      <th>hot_poi</th>\n    </tr>\n  </thead>\n  <tbody>\n    <tr>\n      <th>0</th>\n      <td>[0, 1, 3, 4, 1, 0, 0, 0, 54, 0, 0, 1, 0, 6, 6, 2, 0, 4]</td>\n    </tr>\n    <tr>\n      <th>1</th>\n      <td>[1, 0, 0, 0, 0, 0, 0, 0, 27, 0, 0, 1, 0, 0, 0, 1, 2, 0]</td>\n    </tr>\n    <tr>\n      <th>2</th>\n      <td>[2, 0, 0, 12, 0, 1, 0, 0, 3, 0, 0, 1, 0, 1, 0, 0, 0, 0]</td>\n    </tr>\n    <tr>\n      <th>3</th>\n      <td>[3, 0, 0, 0, 0, 0, 1, 0, 0, 0, 1, 0, 0, 0, 0, 0, 0, 0]</td>\n    </tr>\n    <tr>\n      <th>4</th>\n      <td>[4, 0, 0, 0, 0, 0, 0, 0, 4, 0, 3, 0, 0, 0, 1, 0, 0, 0]</td>\n    </tr>\n  </tbody>\n</table>\n</div>"
     },
     "metadata": {},
     "execution_count": 33
    },
    {
     "output_type": "stream",
     "name": "stdout",
     "text": [
      "time: 71.8 ms\n"
     ]
    }
   ],
   "source": [
    "base_poi1.head()"
   ]
  },
  {
   "cell_type": "code",
   "execution_count": 13,
   "metadata": {},
   "outputs": [
    {
     "output_type": "stream",
     "name": "stdout",
     "text": [
      "time: 3.52 s\n"
     ]
    }
   ],
   "source": [
    "usage1 = pd.merge(usage, base_poi, how=\"left\", on=[\"loc\"])\n",
    "\n",
    "# usage = usage.set_index('loc').join(base_poi.set_index('BaseID'))"
   ]
  },
  {
   "cell_type": "code",
   "execution_count": 14,
   "metadata": {},
   "outputs": [
    {
     "output_type": "execute_result",
     "data": {
      "text/plain": [
       "  uid           timestamp   loc app_id   traffic  Medical care  Hotel  \\\n",
       "0   0 2016-04-21 08:42:21  8194    342  0.030432             2      2   \n",
       "1   0 2016-04-21 08:44:12  8194      1  0.008329             2      2   \n",
       "2   0 2016-04-21 08:44:47  8194    857  0.026662             2      2   \n",
       "3   0 2016-04-21 08:44:48  8194    857  0.001689             2      2   \n",
       "4   0 2016-04-21 08:44:49  8194     31  0.008758             2      2   \n",
       "\n",
       "   Business affairs  Life service  Transportation hub  ...  Residence  \\\n",
       "0                 1             4                   0  ...         40   \n",
       "1                 1             4                   0  ...         40   \n",
       "2                 1             4                   0  ...         40   \n",
       "3                 1             4                   0  ...         40   \n",
       "4                 1             4                   0  ...         40   \n",
       "\n",
       "   Entertainment and leisure  Scenic spot  Government  Factory  Shopping  \\\n",
       "0                          7            0           2        0        13   \n",
       "1                          7            0           2        0        13   \n",
       "2                          7            0           2        0        13   \n",
       "3                          7            0           2        0        13   \n",
       "4                          7            0           2        0        13   \n",
       "\n",
       "   Restaurant  Education  Landmark  Other  \n",
       "0          15          1         3      5  \n",
       "1          15          1         3      5  \n",
       "2          15          1         3      5  \n",
       "3          15          1         3      5  \n",
       "4          15          1         3      5  \n",
       "\n",
       "[5 rows x 22 columns]"
      ],
      "text/html": "<div>\n<style scoped>\n    .dataframe tbody tr th:only-of-type {\n        vertical-align: middle;\n    }\n\n    .dataframe tbody tr th {\n        vertical-align: top;\n    }\n\n    .dataframe thead th {\n        text-align: right;\n    }\n</style>\n<table border=\"1\" class=\"dataframe\">\n  <thead>\n    <tr style=\"text-align: right;\">\n      <th></th>\n      <th>uid</th>\n      <th>timestamp</th>\n      <th>loc</th>\n      <th>app_id</th>\n      <th>traffic</th>\n      <th>Medical care</th>\n      <th>Hotel</th>\n      <th>Business affairs</th>\n      <th>Life service</th>\n      <th>Transportation hub</th>\n      <th>...</th>\n      <th>Residence</th>\n      <th>Entertainment and leisure</th>\n      <th>Scenic spot</th>\n      <th>Government</th>\n      <th>Factory</th>\n      <th>Shopping</th>\n      <th>Restaurant</th>\n      <th>Education</th>\n      <th>Landmark</th>\n      <th>Other</th>\n    </tr>\n  </thead>\n  <tbody>\n    <tr>\n      <th>0</th>\n      <td>0</td>\n      <td>2016-04-21 08:42:21</td>\n      <td>8194</td>\n      <td>342</td>\n      <td>0.030432</td>\n      <td>2</td>\n      <td>2</td>\n      <td>1</td>\n      <td>4</td>\n      <td>0</td>\n      <td>...</td>\n      <td>40</td>\n      <td>7</td>\n      <td>0</td>\n      <td>2</td>\n      <td>0</td>\n      <td>13</td>\n      <td>15</td>\n      <td>1</td>\n      <td>3</td>\n      <td>5</td>\n    </tr>\n    <tr>\n      <th>1</th>\n      <td>0</td>\n      <td>2016-04-21 08:44:12</td>\n      <td>8194</td>\n      <td>1</td>\n      <td>0.008329</td>\n      <td>2</td>\n      <td>2</td>\n      <td>1</td>\n      <td>4</td>\n      <td>0</td>\n      <td>...</td>\n      <td>40</td>\n      <td>7</td>\n      <td>0</td>\n      <td>2</td>\n      <td>0</td>\n      <td>13</td>\n      <td>15</td>\n      <td>1</td>\n      <td>3</td>\n      <td>5</td>\n    </tr>\n    <tr>\n      <th>2</th>\n      <td>0</td>\n      <td>2016-04-21 08:44:47</td>\n      <td>8194</td>\n      <td>857</td>\n      <td>0.026662</td>\n      <td>2</td>\n      <td>2</td>\n      <td>1</td>\n      <td>4</td>\n      <td>0</td>\n      <td>...</td>\n      <td>40</td>\n      <td>7</td>\n      <td>0</td>\n      <td>2</td>\n      <td>0</td>\n      <td>13</td>\n      <td>15</td>\n      <td>1</td>\n      <td>3</td>\n      <td>5</td>\n    </tr>\n    <tr>\n      <th>3</th>\n      <td>0</td>\n      <td>2016-04-21 08:44:48</td>\n      <td>8194</td>\n      <td>857</td>\n      <td>0.001689</td>\n      <td>2</td>\n      <td>2</td>\n      <td>1</td>\n      <td>4</td>\n      <td>0</td>\n      <td>...</td>\n      <td>40</td>\n      <td>7</td>\n      <td>0</td>\n      <td>2</td>\n      <td>0</td>\n      <td>13</td>\n      <td>15</td>\n      <td>1</td>\n      <td>3</td>\n      <td>5</td>\n    </tr>\n    <tr>\n      <th>4</th>\n      <td>0</td>\n      <td>2016-04-21 08:44:49</td>\n      <td>8194</td>\n      <td>31</td>\n      <td>0.008758</td>\n      <td>2</td>\n      <td>2</td>\n      <td>1</td>\n      <td>4</td>\n      <td>0</td>\n      <td>...</td>\n      <td>40</td>\n      <td>7</td>\n      <td>0</td>\n      <td>2</td>\n      <td>0</td>\n      <td>13</td>\n      <td>15</td>\n      <td>1</td>\n      <td>3</td>\n      <td>5</td>\n    </tr>\n  </tbody>\n</table>\n<p>5 rows × 22 columns</p>\n</div>"
     },
     "metadata": {},
     "execution_count": 14
    },
    {
     "output_type": "stream",
     "name": "stdout",
     "text": [
      "time: 51.1 ms\n"
     ]
    }
   ],
   "source": [
    "usage1.head()"
   ]
  },
  {
   "cell_type": "code",
   "execution_count": 3,
   "metadata": {},
   "outputs": [
    {
     "output_type": "stream",
     "name": "stdout",
     "text": [
      "time: 5.36 ms\n"
     ]
    }
   ],
   "source": [
    "app2cat = pd.read_csv('App2Category.txt', delimiter='\\t', header=None)\n",
    "app2cat.columns = ['app_id','cat_id']"
   ]
  },
  {
   "source": [
    "# Targeted Vector will include:\n",
    "#### Time context\n",
    "- morning (0600 - 1200)\n",
    "- afternoon (12:00 - 1800)\n",
    "- night (1800 - 0000)\n",
    "- mid-night (0000 - 0600)\n",
    "#### Space\n",
    "- POI distribution (embedded into low dimension, such as from 18 to 3)\n",
    "#### App\n",
    "- app_id\n",
    "- app_category\n",
    "- network usage\n",
    "- time between current and previous requests"
   ],
   "cell_type": "markdown",
   "metadata": {}
  },
  {
   "source": [
    "## Adding the time context"
   ],
   "cell_type": "markdown",
   "metadata": {}
  },
  {
   "cell_type": "code",
   "execution_count": 4,
   "metadata": {},
   "outputs": [
    {
     "output_type": "stream",
     "name": "stdout",
     "text": [
      "time: 53.1 s\n"
     ]
    }
   ],
   "source": [
    "# Function to one-hot-code the time to period of the day\n",
    "def convertToPeriod(i):\n",
    "    if i >= 0 and i < 6:\n",
    "        return \"midnight\"\n",
    "    elif i >= 6 and i < 12:\n",
    "        return \"morning\"\n",
    "    elif i >= 12 and i < 18:\n",
    "        return \"afternoon\"\n",
    "    elif i >= 18 :\n",
    "        return \"night\"\n",
    "\n",
    "# Create a new column that takes the hour from the timestamp\n",
    "usage['hour'] = usage['timestamp'].apply(lambda x: x.hour)\n",
    "\n",
    "# Convert the hour to period\n",
    "usage['period'] = usage['hour'].apply(lambda x: convertToPeriod(x))\n",
    "\n",
    "# Get weekday/weekend feature\n",
    "usage['dayOfWeek'] = usage['timestamp'].apply(lambda x: \"weekday\" if x.weekday() <= 5  else \"weekend\")\n",
    "\n",
    "# Concatenate the dummies and the original df\n",
    "usage = pd.concat([usage, pd.get_dummies(usage['period']), pd.get_dummies(usage['dayOfWeek'])], axis=1)"
   ]
  },
  {
   "cell_type": "code",
   "execution_count": 5,
   "metadata": {},
   "outputs": [
    {
     "output_type": "execute_result",
     "data": {
      "text/plain": [
       "  uid           timestamp   loc app_id   traffic  hour   period dayOfWeek  \\\n",
       "0   0 2016-04-21 08:42:21  8194    342  0.030432     8  morning   weekday   \n",
       "1   0 2016-04-21 08:44:12  8194      1  0.008329     8  morning   weekday   \n",
       "2   0 2016-04-21 08:44:47  8194    857  0.026662     8  morning   weekday   \n",
       "3   0 2016-04-21 08:44:48  8194    857  0.001689     8  morning   weekday   \n",
       "4   0 2016-04-21 08:44:49  8194     31  0.008758     8  morning   weekday   \n",
       "\n",
       "   afternoon  midnight  morning  night  weekday  weekend  \n",
       "0          0         0        1      0        1        0  \n",
       "1          0         0        1      0        1        0  \n",
       "2          0         0        1      0        1        0  \n",
       "3          0         0        1      0        1        0  \n",
       "4          0         0        1      0        1        0  "
      ],
      "text/html": "<div>\n<style scoped>\n    .dataframe tbody tr th:only-of-type {\n        vertical-align: middle;\n    }\n\n    .dataframe tbody tr th {\n        vertical-align: top;\n    }\n\n    .dataframe thead th {\n        text-align: right;\n    }\n</style>\n<table border=\"1\" class=\"dataframe\">\n  <thead>\n    <tr style=\"text-align: right;\">\n      <th></th>\n      <th>uid</th>\n      <th>timestamp</th>\n      <th>loc</th>\n      <th>app_id</th>\n      <th>traffic</th>\n      <th>hour</th>\n      <th>period</th>\n      <th>dayOfWeek</th>\n      <th>afternoon</th>\n      <th>midnight</th>\n      <th>morning</th>\n      <th>night</th>\n      <th>weekday</th>\n      <th>weekend</th>\n    </tr>\n  </thead>\n  <tbody>\n    <tr>\n      <th>0</th>\n      <td>0</td>\n      <td>2016-04-21 08:42:21</td>\n      <td>8194</td>\n      <td>342</td>\n      <td>0.030432</td>\n      <td>8</td>\n      <td>morning</td>\n      <td>weekday</td>\n      <td>0</td>\n      <td>0</td>\n      <td>1</td>\n      <td>0</td>\n      <td>1</td>\n      <td>0</td>\n    </tr>\n    <tr>\n      <th>1</th>\n      <td>0</td>\n      <td>2016-04-21 08:44:12</td>\n      <td>8194</td>\n      <td>1</td>\n      <td>0.008329</td>\n      <td>8</td>\n      <td>morning</td>\n      <td>weekday</td>\n      <td>0</td>\n      <td>0</td>\n      <td>1</td>\n      <td>0</td>\n      <td>1</td>\n      <td>0</td>\n    </tr>\n    <tr>\n      <th>2</th>\n      <td>0</td>\n      <td>2016-04-21 08:44:47</td>\n      <td>8194</td>\n      <td>857</td>\n      <td>0.026662</td>\n      <td>8</td>\n      <td>morning</td>\n      <td>weekday</td>\n      <td>0</td>\n      <td>0</td>\n      <td>1</td>\n      <td>0</td>\n      <td>1</td>\n      <td>0</td>\n    </tr>\n    <tr>\n      <th>3</th>\n      <td>0</td>\n      <td>2016-04-21 08:44:48</td>\n      <td>8194</td>\n      <td>857</td>\n      <td>0.001689</td>\n      <td>8</td>\n      <td>morning</td>\n      <td>weekday</td>\n      <td>0</td>\n      <td>0</td>\n      <td>1</td>\n      <td>0</td>\n      <td>1</td>\n      <td>0</td>\n    </tr>\n    <tr>\n      <th>4</th>\n      <td>0</td>\n      <td>2016-04-21 08:44:49</td>\n      <td>8194</td>\n      <td>31</td>\n      <td>0.008758</td>\n      <td>8</td>\n      <td>morning</td>\n      <td>weekday</td>\n      <td>0</td>\n      <td>0</td>\n      <td>1</td>\n      <td>0</td>\n      <td>1</td>\n      <td>0</td>\n    </tr>\n  </tbody>\n</table>\n</div>"
     },
     "metadata": {},
     "execution_count": 5
    },
    {
     "output_type": "stream",
     "name": "stdout",
     "text": [
      "time: 68.6 ms\n"
     ]
    }
   ],
   "source": [
    "usage.head()"
   ]
  },
  {
   "cell_type": "code",
   "execution_count": 6,
   "metadata": {},
   "outputs": [
    {
     "output_type": "stream",
     "name": "stdout",
     "text": [
      "time: 372 µs\n"
     ]
    }
   ],
   "source": [
    "# app2cat['app_id'] = app2cat['app_id'].astype(str)\n",
    "# x = pd.merge(usage, app2cat, on='app_id', how='left')\n",
    "# x.head()"
   ]
  },
  {
   "source": [
    "# Handling the App Usage Information"
   ],
   "cell_type": "markdown",
   "metadata": {}
  },
  {
   "cell_type": "code",
   "execution_count": 7,
   "metadata": {},
   "outputs": [
    {
     "output_type": "stream",
     "name": "stdout",
     "text": [
      "time: 1h 7min 59s\n"
     ]
    }
   ],
   "source": [
    "# # Define function for getting app category\n",
    "def find_cat(i):\n",
    "    return app2cat[app2cat['app_id'] == i].iloc[0]['cat_id']\n",
    "\n",
    "# # Add the app category columns\n",
    "app2cat['app_id'] = app2cat['app_id'].astype(str)\n",
    "usage['app_cat'] = usage['app_id'].apply(lambda x: find_cat(x))\n",
    "# usage = pd.merge(usage, app2cat, on='app_id', how='left')\n",
    "\n",
    "# Shift to get delta\n",
    "usage['previous_request'] = usage['timestamp'].shift(1, fill_value=np.nan)\n",
    "\n",
    "# Get the delta between current and previous requests\n",
    "usage['delta'] = usage['timestamp'] - usage['previous_request']\n",
    "\n",
    "# Convert datetime delta to number of seconds\n",
    "usage['delta'] = usage['delta'].apply(lambda x: x.total_seconds())"
   ]
  },
  {
   "cell_type": "code",
   "execution_count": 8,
   "metadata": {},
   "outputs": [
    {
     "output_type": "execute_result",
     "data": {
      "text/plain": [
       "  uid           timestamp   loc app_id   traffic  hour   period dayOfWeek  \\\n",
       "0   0 2016-04-21 08:42:21  8194    342  0.030432     8  morning   weekday   \n",
       "1   0 2016-04-21 08:44:12  8194      1  0.008329     8  morning   weekday   \n",
       "2   0 2016-04-21 08:44:47  8194    857  0.026662     8  morning   weekday   \n",
       "3   0 2016-04-21 08:44:48  8194    857  0.001689     8  morning   weekday   \n",
       "4   0 2016-04-21 08:44:49  8194     31  0.008758     8  morning   weekday   \n",
       "\n",
       "   afternoon  midnight  morning  night  weekday  weekend  app_cat  \\\n",
       "0          0         0        1      0        1        0        0   \n",
       "1          0         0        1      0        1        0        4   \n",
       "2          0         0        1      0        1        0        8   \n",
       "3          0         0        1      0        1        0        8   \n",
       "4          0         0        1      0        1        0        8   \n",
       "\n",
       "     previous_request   delta  \n",
       "0                 NaT     nan  \n",
       "1 2016-04-21 08:42:21 111.000  \n",
       "2 2016-04-21 08:44:12  35.000  \n",
       "3 2016-04-21 08:44:47   1.000  \n",
       "4 2016-04-21 08:44:48   1.000  "
      ],
      "text/html": "<div>\n<style scoped>\n    .dataframe tbody tr th:only-of-type {\n        vertical-align: middle;\n    }\n\n    .dataframe tbody tr th {\n        vertical-align: top;\n    }\n\n    .dataframe thead th {\n        text-align: right;\n    }\n</style>\n<table border=\"1\" class=\"dataframe\">\n  <thead>\n    <tr style=\"text-align: right;\">\n      <th></th>\n      <th>uid</th>\n      <th>timestamp</th>\n      <th>loc</th>\n      <th>app_id</th>\n      <th>traffic</th>\n      <th>hour</th>\n      <th>period</th>\n      <th>dayOfWeek</th>\n      <th>afternoon</th>\n      <th>midnight</th>\n      <th>morning</th>\n      <th>night</th>\n      <th>weekday</th>\n      <th>weekend</th>\n      <th>app_cat</th>\n      <th>previous_request</th>\n      <th>delta</th>\n    </tr>\n  </thead>\n  <tbody>\n    <tr>\n      <th>0</th>\n      <td>0</td>\n      <td>2016-04-21 08:42:21</td>\n      <td>8194</td>\n      <td>342</td>\n      <td>0.030432</td>\n      <td>8</td>\n      <td>morning</td>\n      <td>weekday</td>\n      <td>0</td>\n      <td>0</td>\n      <td>1</td>\n      <td>0</td>\n      <td>1</td>\n      <td>0</td>\n      <td>0</td>\n      <td>NaT</td>\n      <td>nan</td>\n    </tr>\n    <tr>\n      <th>1</th>\n      <td>0</td>\n      <td>2016-04-21 08:44:12</td>\n      <td>8194</td>\n      <td>1</td>\n      <td>0.008329</td>\n      <td>8</td>\n      <td>morning</td>\n      <td>weekday</td>\n      <td>0</td>\n      <td>0</td>\n      <td>1</td>\n      <td>0</td>\n      <td>1</td>\n      <td>0</td>\n      <td>4</td>\n      <td>2016-04-21 08:42:21</td>\n      <td>111.000</td>\n    </tr>\n    <tr>\n      <th>2</th>\n      <td>0</td>\n      <td>2016-04-21 08:44:47</td>\n      <td>8194</td>\n      <td>857</td>\n      <td>0.026662</td>\n      <td>8</td>\n      <td>morning</td>\n      <td>weekday</td>\n      <td>0</td>\n      <td>0</td>\n      <td>1</td>\n      <td>0</td>\n      <td>1</td>\n      <td>0</td>\n      <td>8</td>\n      <td>2016-04-21 08:44:12</td>\n      <td>35.000</td>\n    </tr>\n    <tr>\n      <th>3</th>\n      <td>0</td>\n      <td>2016-04-21 08:44:48</td>\n      <td>8194</td>\n      <td>857</td>\n      <td>0.001689</td>\n      <td>8</td>\n      <td>morning</td>\n      <td>weekday</td>\n      <td>0</td>\n      <td>0</td>\n      <td>1</td>\n      <td>0</td>\n      <td>1</td>\n      <td>0</td>\n      <td>8</td>\n      <td>2016-04-21 08:44:47</td>\n      <td>1.000</td>\n    </tr>\n    <tr>\n      <th>4</th>\n      <td>0</td>\n      <td>2016-04-21 08:44:49</td>\n      <td>8194</td>\n      <td>31</td>\n      <td>0.008758</td>\n      <td>8</td>\n      <td>morning</td>\n      <td>weekday</td>\n      <td>0</td>\n      <td>0</td>\n      <td>1</td>\n      <td>0</td>\n      <td>1</td>\n      <td>0</td>\n      <td>8</td>\n      <td>2016-04-21 08:44:48</td>\n      <td>1.000</td>\n    </tr>\n  </tbody>\n</table>\n</div>"
     },
     "metadata": {},
     "execution_count": 8
    },
    {
     "output_type": "stream",
     "name": "stdout",
     "text": [
      "time: 52.9 ms\n"
     ]
    }
   ],
   "source": [
    "usage.head()"
   ]
  },
  {
   "source": [
    "# Concatenate the POI Distribution"
   ],
   "cell_type": "markdown",
   "metadata": {}
  },
  {
   "cell_type": "code",
   "execution_count": 9,
   "metadata": {},
   "outputs": [
    {
     "output_type": "stream",
     "name": "stdout",
     "text": [
      "time: 7.74 s\n"
     ]
    }
   ],
   "source": [
    "usage = usage.set_index('loc').join(base_poi.set_index('BaseID'))"
   ]
  },
  {
   "source": [
    "# Drop unwanted columns"
   ],
   "cell_type": "markdown",
   "metadata": {}
  },
  {
   "cell_type": "code",
   "execution_count": 10,
   "metadata": {},
   "outputs": [
    {
     "output_type": "stream",
     "name": "stdout",
     "text": [
      "time: 6.38 s\n"
     ]
    }
   ],
   "source": [
    "usage.drop(['timestamp', 'hour', 'period', 'previous_request', 'dayOfWeek'], axis=1, inplace=True)"
   ]
  },
  {
   "cell_type": "code",
   "execution_count": 11,
   "metadata": {},
   "outputs": [
    {
     "output_type": "stream",
     "name": "stdout",
     "text": [
      "time: 2.57 s\n"
     ]
    }
   ],
   "source": [
    "usage.dropna(inplace=True)"
   ]
  },
  {
   "source": [
    "# Output as CSV"
   ],
   "cell_type": "markdown",
   "metadata": {}
  },
  {
   "cell_type": "code",
   "execution_count": 12,
   "metadata": {},
   "outputs": [
    {
     "output_type": "stream",
     "name": "stdout",
     "text": [
      "time: 338 µs\n"
     ]
    }
   ],
   "source": [
    "# usage.to_csv('vectorized_usage_osc_cleans.csv')"
   ]
  },
  {
   "cell_type": "code",
   "execution_count": 13,
   "metadata": {},
   "outputs": [
    {
     "output_type": "stream",
     "name": "stdout",
     "text": [
      "time: 1.03 ms\n"
     ]
    }
   ],
   "source": [
    "# usage.to_csv('ectorized_usage.csv')"
   ]
  },
  {
   "cell_type": "code",
   "execution_count": 14,
   "metadata": {},
   "outputs": [
    {
     "output_type": "execute_result",
     "data": {
      "text/plain": [
       "Index(['uid', 'app_id', 'traffic', 'afternoon', 'midnight', 'morning', 'night',\n",
       "       'weekday', 'weekend', 'app_cat', 'delta', 'Medical care', 'Hotel',\n",
       "       'Business affairs', 'Life service', 'Transportation hub', 'Culture',\n",
       "       'Sports', 'Residence', 'Entertainment and leisure', 'Scenic spot',\n",
       "       'Government', 'Factory', 'Shopping', 'Restaurant', 'Education',\n",
       "       'Landmark', 'Other'],\n",
       "      dtype='object')"
      ]
     },
     "metadata": {},
     "execution_count": 14
    },
    {
     "output_type": "stream",
     "name": "stdout",
     "text": [
      "time: 5.84 ms\n"
     ]
    }
   ],
   "source": [
    "usage.columns"
   ]
  },
  {
   "cell_type": "code",
   "execution_count": 15,
   "metadata": {},
   "outputs": [
    {
     "output_type": "execute_result",
     "data": {
      "text/plain": [
       "   uid app_id   traffic  afternoon  midnight  morning  night  weekday  \\\n",
       "0  301      9  0.001615          1         0        0      0        1   \n",
       "0  301      9  0.000355          1         0        0      0        1   \n",
       "0  301     27  0.005134          1         0        0      0        1   \n",
       "0  301     27  0.000291          1         0        0      0        1   \n",
       "0  301     27  0.001629          1         0        0      0        1   \n",
       "\n",
       "   weekend  app_cat  ...  Residence  Entertainment and leisure  Scenic spot  \\\n",
       "0        0       13  ...         54                          0            0   \n",
       "0        0       13  ...         54                          0            0   \n",
       "0        0        0  ...         54                          0            0   \n",
       "0        0        0  ...         54                          0            0   \n",
       "0        0        0  ...         54                          0            0   \n",
       "\n",
       "   Government  Factory  Shopping  Restaurant  Education  Landmark  Other  \n",
       "0           1        0         6           6          2         0      4  \n",
       "0           1        0         6           6          2         0      4  \n",
       "0           1        0         6           6          2         0      4  \n",
       "0           1        0         6           6          2         0      4  \n",
       "0           1        0         6           6          2         0      4  \n",
       "\n",
       "[5 rows x 28 columns]"
      ],
      "text/html": "<div>\n<style scoped>\n    .dataframe tbody tr th:only-of-type {\n        vertical-align: middle;\n    }\n\n    .dataframe tbody tr th {\n        vertical-align: top;\n    }\n\n    .dataframe thead th {\n        text-align: right;\n    }\n</style>\n<table border=\"1\" class=\"dataframe\">\n  <thead>\n    <tr style=\"text-align: right;\">\n      <th></th>\n      <th>uid</th>\n      <th>app_id</th>\n      <th>traffic</th>\n      <th>afternoon</th>\n      <th>midnight</th>\n      <th>morning</th>\n      <th>night</th>\n      <th>weekday</th>\n      <th>weekend</th>\n      <th>app_cat</th>\n      <th>...</th>\n      <th>Residence</th>\n      <th>Entertainment and leisure</th>\n      <th>Scenic spot</th>\n      <th>Government</th>\n      <th>Factory</th>\n      <th>Shopping</th>\n      <th>Restaurant</th>\n      <th>Education</th>\n      <th>Landmark</th>\n      <th>Other</th>\n    </tr>\n  </thead>\n  <tbody>\n    <tr>\n      <th>0</th>\n      <td>301</td>\n      <td>9</td>\n      <td>0.001615</td>\n      <td>1</td>\n      <td>0</td>\n      <td>0</td>\n      <td>0</td>\n      <td>1</td>\n      <td>0</td>\n      <td>13</td>\n      <td>...</td>\n      <td>54</td>\n      <td>0</td>\n      <td>0</td>\n      <td>1</td>\n      <td>0</td>\n      <td>6</td>\n      <td>6</td>\n      <td>2</td>\n      <td>0</td>\n      <td>4</td>\n    </tr>\n    <tr>\n      <th>0</th>\n      <td>301</td>\n      <td>9</td>\n      <td>0.000355</td>\n      <td>1</td>\n      <td>0</td>\n      <td>0</td>\n      <td>0</td>\n      <td>1</td>\n      <td>0</td>\n      <td>13</td>\n      <td>...</td>\n      <td>54</td>\n      <td>0</td>\n      <td>0</td>\n      <td>1</td>\n      <td>0</td>\n      <td>6</td>\n      <td>6</td>\n      <td>2</td>\n      <td>0</td>\n      <td>4</td>\n    </tr>\n    <tr>\n      <th>0</th>\n      <td>301</td>\n      <td>27</td>\n      <td>0.005134</td>\n      <td>1</td>\n      <td>0</td>\n      <td>0</td>\n      <td>0</td>\n      <td>1</td>\n      <td>0</td>\n      <td>0</td>\n      <td>...</td>\n      <td>54</td>\n      <td>0</td>\n      <td>0</td>\n      <td>1</td>\n      <td>0</td>\n      <td>6</td>\n      <td>6</td>\n      <td>2</td>\n      <td>0</td>\n      <td>4</td>\n    </tr>\n    <tr>\n      <th>0</th>\n      <td>301</td>\n      <td>27</td>\n      <td>0.000291</td>\n      <td>1</td>\n      <td>0</td>\n      <td>0</td>\n      <td>0</td>\n      <td>1</td>\n      <td>0</td>\n      <td>0</td>\n      <td>...</td>\n      <td>54</td>\n      <td>0</td>\n      <td>0</td>\n      <td>1</td>\n      <td>0</td>\n      <td>6</td>\n      <td>6</td>\n      <td>2</td>\n      <td>0</td>\n      <td>4</td>\n    </tr>\n    <tr>\n      <th>0</th>\n      <td>301</td>\n      <td>27</td>\n      <td>0.001629</td>\n      <td>1</td>\n      <td>0</td>\n      <td>0</td>\n      <td>0</td>\n      <td>1</td>\n      <td>0</td>\n      <td>0</td>\n      <td>...</td>\n      <td>54</td>\n      <td>0</td>\n      <td>0</td>\n      <td>1</td>\n      <td>0</td>\n      <td>6</td>\n      <td>6</td>\n      <td>2</td>\n      <td>0</td>\n      <td>4</td>\n    </tr>\n  </tbody>\n</table>\n<p>5 rows × 28 columns</p>\n</div>"
     },
     "metadata": {},
     "execution_count": 15
    },
    {
     "output_type": "stream",
     "name": "stdout",
     "text": [
      "time: 44.1 ms\n"
     ]
    }
   ],
   "source": [
    "usage.head()"
   ]
  }
 ]
}