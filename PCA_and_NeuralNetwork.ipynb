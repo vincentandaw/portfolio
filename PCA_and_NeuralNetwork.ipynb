{
  "nbformat": 4,
  "nbformat_minor": 0,
  "metadata": {
    "colab": {
      "provenance": []
    },
    "kernelspec": {
      "name": "python3",
      "display_name": "Python 3"
    },
    "language_info": {
      "name": "python"
    }
  },
  "cells": [
    {
      "cell_type": "code",
      "execution_count": null,
      "metadata": {
        "id": "VBScZ95b_IE1"
      },
      "outputs": [],
      "source": [
        "import pandas as pd\n",
        "import numpy as np\n",
        "import matplotlib.pyplot as plt\n",
        "\n",
        "from sklearn.decomposition import PCA\n",
        "\n",
        "from sklearn.datasets import load_breast_cancer\n",
        "bcdat = load_breast_cancer()\n",
        "X, y = bcdat.data, bcdat.target\n",
        "\n",
        "random_state=14"
      ]
    },
    {
      "cell_type": "code",
      "source": [
        "### Preprocessing ###"
      ],
      "metadata": {
        "id": "sRsBbkh9Cht_"
      },
      "execution_count": null,
      "outputs": []
    },
    {
      "cell_type": "code",
      "source": [
        "from sklearn.model_selection import train_test_split\n",
        "from sklearn.preprocessing import StandardScaler\n",
        "\n",
        "#we create train and test data, then carve out validation data from train\n",
        "X_train_full, X_test, y_train_full, y_test = train_test_split(X, y, test_size=0.2, random_state=random_state)\n",
        "X_train, X_valid, y_train, y_valid = train_test_split(X_train_full, y_train_full, random_state=random_state)\n",
        "\n",
        "mm = MinMaxScaler() #Using this to transform data without distortions. Also, this does not assume data is normal, which standardscaler does.\n",
        "X_train = mm.fit_transform(X_train) #fit_transform for train; only fit_transform train\n",
        "X_valid = mm.transform(X_valid) #transform uses the parameters (e.g. mean, variance) learned by train\n",
        "X_test = mm.transform(X_test) #transform uses the parameters (e.g. mean, variance) learned by train"
      ],
      "metadata": {
        "id": "_RI_QH6jomwB"
      },
      "execution_count": null,
      "outputs": []
    },
    {
      "cell_type": "code",
      "source": [
        "### Part 1a: PCA to get only five principal components ###"
      ],
      "metadata": {
        "id": "777d9_Z0jok0"
      },
      "execution_count": null,
      "outputs": []
    },
    {
      "cell_type": "code",
      "source": [
        "pca5 = PCA(n_components = 5) #Number of PCs we want = 5\n",
        "X_train_pca = pca5.fit_transform(X_train) #Fit it to model\n",
        "X_test_pca = pca5.transform(X_test) #Transform (do not fit) the X_test (to do predictions later)\n",
        "X_valid_pca = pca5.transform(X_valid)\n",
        "\n",
        "variance_explained = np.sum(pca5.explained_variance_ratio_)\n",
        "variance_explained #0.999"
      ],
      "metadata": {
        "colab": {
          "base_uri": "https://localhost:8080/"
        },
        "id": "E6TuSiTykniS",
        "outputId": "cf001151-2fb7-493c-de07-d65aff0ab268"
      },
      "execution_count": null,
      "outputs": [
        {
          "output_type": "execute_result",
          "data": {
            "text/plain": [
              "0.8541446051615719"
            ]
          },
          "metadata": {},
          "execution_count": 13
        }
      ]
    },
    {
      "cell_type": "code",
      "source": [
        "### Part 1b: Do prediction on these five components only. I will use a simple random forest ###"
      ],
      "metadata": {
        "id": "mGngLvpvkvFB"
      },
      "execution_count": null,
      "outputs": []
    },
    {
      "cell_type": "code",
      "source": [
        "from sklearn.ensemble import RandomForestClassifier\n",
        "from sklearn.metrics import mean_squared_error\n",
        "\n",
        "RF = RandomForestClassifier(max_depth=2, random_state=random_state)\n",
        "RF.fit(X_train_pca,y_train)\n",
        "\n",
        "y_pred_RF = RF.predict(X_test_pca)\n",
        "for_rmse = np.sqrt(mean_squared_error(y_test, y_pred_RF))\n",
        "print(for_rmse) #0.2294"
      ],
      "metadata": {
        "colab": {
          "base_uri": "https://localhost:8080/"
        },
        "id": "HEvXkByYmR8g",
        "outputId": "9b7b45f9-fc7f-491f-d67f-a7b408a1ee01"
      },
      "execution_count": null,
      "outputs": [
        {
          "output_type": "stream",
          "name": "stdout",
          "text": [
            "0.22941573387056177\n"
          ]
        }
      ]
    },
    {
      "cell_type": "code",
      "source": [
        "from sklearn.model_selection import cross_val_score\n",
        "\n",
        "scores = cross_val_score(RF, X_train_pca, y_train, scoring=\"neg_mean_squared_error\", cv=10)\n",
        "rmse_scores = np.sqrt(-scores)\n",
        "print(rmse_scores.mean()) #0.2464"
      ],
      "metadata": {
        "colab": {
          "base_uri": "https://localhost:8080/"
        },
        "id": "V9kLjX0arjrn",
        "outputId": "b20fc520-e8fa-4bc7-d49c-8fe5b5291361"
      },
      "execution_count": null,
      "outputs": [
        {
          "output_type": "stream",
          "name": "stdout",
          "text": [
            "0.27972711286174123\n"
          ]
        }
      ]
    },
    {
      "cell_type": "code",
      "source": [
        "from sklearn.metrics import confusion_matrix\n",
        "from sklearn.metrics import accuracy_score\n",
        "\n",
        "cm = confusion_matrix(y_test, y_pred_RF)\n",
        "print(cm)"
      ],
      "metadata": {
        "colab": {
          "base_uri": "https://localhost:8080/"
        },
        "id": "KB-CHBGspRsM",
        "outputId": "92e4ecfd-f098-44e8-a2a4-dbb438ab2057"
      },
      "execution_count": null,
      "outputs": [
        {
          "output_type": "stream",
          "name": "stdout",
          "text": [
            "[[36  5]\n",
            " [ 1 72]]\n"
          ]
        }
      ]
    },
    {
      "cell_type": "code",
      "source": [
        "### Part 2: Fit Neural Network to predict \"Malignant\" (0) or \"Benign\" (1)"
      ],
      "metadata": {
        "id": "FuCFtq33qZII"
      },
      "execution_count": null,
      "outputs": []
    },
    {
      "cell_type": "code",
      "source": [
        "import tensorflow as tf\n",
        "from tensorflow import keras\n",
        "\n",
        "keras.backend.clear_session()"
      ],
      "metadata": {
        "id": "er3Nn7P-uzFq"
      },
      "execution_count": null,
      "outputs": []
    },
    {
      "cell_type": "code",
      "source": [
        "#Wide and Deep Neural Network Model\n",
        "\n",
        "#Run input through two hidden layers\n",
        "#then, combine input from two hidden layers with \"fresh\" input i.e. using input data twice\n",
        "#concatenate the two data together for output\n",
        "\n",
        "input_ = keras.layers.Input(shape=X_train_pca.shape[1:])\n",
        "hidden1 = keras.layers.Dense(40, activation=\"relu\")(input_)\n",
        "hidden2 = keras.layers.Dense(20, activation=\"relu\")(hidden1)\n",
        "hidden3 = keras.layers.Dense(10, activation=\"relu\")(hidden2) #adding this layer \n",
        "concat = keras.layers.concatenate([input_, hidden3])\n",
        "output = keras.layers.Dense(1)(concat) \n",
        "model = keras.models.Model(inputs=[input_], outputs=[output])"
      ],
      "metadata": {
        "id": "Zh0e_R_Bu1zS"
      },
      "execution_count": null,
      "outputs": []
    },
    {
      "cell_type": "code",
      "source": [
        "model.summary()"
      ],
      "metadata": {
        "colab": {
          "base_uri": "https://localhost:8080/"
        },
        "id": "S0jY-1qwbDGF",
        "outputId": "b5b8ceb6-49fe-413f-9e04-89bee26bdfc4"
      },
      "execution_count": null,
      "outputs": [
        {
          "output_type": "stream",
          "name": "stdout",
          "text": [
            "Model: \"model\"\n",
            "__________________________________________________________________________________________________\n",
            " Layer (type)                   Output Shape         Param #     Connected to                     \n",
            "==================================================================================================\n",
            " input_1 (InputLayer)           [(None, 5)]          0           []                               \n",
            "                                                                                                  \n",
            " dense (Dense)                  (None, 40)           240         ['input_1[0][0]']                \n",
            "                                                                                                  \n",
            " dense_1 (Dense)                (None, 20)           820         ['dense[0][0]']                  \n",
            "                                                                                                  \n",
            " dense_2 (Dense)                (None, 10)           210         ['dense_1[0][0]']                \n",
            "                                                                                                  \n",
            " concatenate (Concatenate)      (None, 15)           0           ['input_1[0][0]',                \n",
            "                                                                  'dense_2[0][0]']                \n",
            "                                                                                                  \n",
            " dense_3 (Dense)                (None, 1)            16          ['concatenate[0][0]']            \n",
            "                                                                                                  \n",
            "==================================================================================================\n",
            "Total params: 1,286\n",
            "Trainable params: 1,286\n",
            "Non-trainable params: 0\n",
            "__________________________________________________________________________________________________\n"
          ]
        }
      ]
    },
    {
      "cell_type": "code",
      "source": [
        "model.compile(loss=\"binary_crossentropy\", \n",
        "              optimizer=keras.optimizers.SGD(learning_rate=1e-3),\n",
        "              metrics=[\"accuracy\"]) \n",
        "history = model.fit(X_train_pca, y_train, epochs=30,validation_data=(X_valid_pca, y_valid))"
      ],
      "metadata": {
        "colab": {
          "base_uri": "https://localhost:8080/"
        },
        "id": "6NCIc5eha5TB",
        "outputId": "338ae9fa-7a4a-4f14-e9f2-fae7b6b45cf3"
      },
      "execution_count": null,
      "outputs": [
        {
          "output_type": "stream",
          "name": "stdout",
          "text": [
            "Epoch 1/30\n",
            "11/11 [==============================] - 1s 44ms/step - loss: 3.9009 - accuracy: 0.6364 - val_loss: 2.6437 - val_accuracy: 0.7193\n",
            "Epoch 2/30\n",
            "11/11 [==============================] - 0s 6ms/step - loss: 3.2426 - accuracy: 0.6686 - val_loss: 2.5875 - val_accuracy: 0.7544\n",
            "Epoch 3/30\n",
            "11/11 [==============================] - 0s 7ms/step - loss: 2.9469 - accuracy: 0.7038 - val_loss: 2.3532 - val_accuracy: 0.7807\n",
            "Epoch 4/30\n",
            "11/11 [==============================] - 0s 6ms/step - loss: 1.4825 - accuracy: 0.8416 - val_loss: 0.8906 - val_accuracy: 0.9035\n",
            "Epoch 5/30\n",
            "11/11 [==============================] - 0s 5ms/step - loss: 0.6118 - accuracy: 0.9208 - val_loss: 0.7883 - val_accuracy: 0.9035\n",
            "Epoch 6/30\n",
            "11/11 [==============================] - 0s 5ms/step - loss: 0.5894 - accuracy: 0.9208 - val_loss: 0.7822 - val_accuracy: 0.9035\n",
            "Epoch 7/30\n",
            "11/11 [==============================] - 0s 7ms/step - loss: 0.5853 - accuracy: 0.9208 - val_loss: 0.6773 - val_accuracy: 0.9123\n",
            "Epoch 8/30\n",
            "11/11 [==============================] - 0s 5ms/step - loss: 0.5820 - accuracy: 0.9208 - val_loss: 0.6693 - val_accuracy: 0.9123\n",
            "Epoch 9/30\n",
            "11/11 [==============================] - 0s 6ms/step - loss: 0.5789 - accuracy: 0.9208 - val_loss: 0.6644 - val_accuracy: 0.9211\n",
            "Epoch 10/30\n",
            "11/11 [==============================] - 0s 5ms/step - loss: 0.5763 - accuracy: 0.9238 - val_loss: 0.6609 - val_accuracy: 0.9211\n",
            "Epoch 11/30\n",
            "11/11 [==============================] - 0s 5ms/step - loss: 0.5738 - accuracy: 0.9238 - val_loss: 0.6590 - val_accuracy: 0.9211\n",
            "Epoch 12/30\n",
            "11/11 [==============================] - 0s 5ms/step - loss: 0.5373 - accuracy: 0.9326 - val_loss: 0.6395 - val_accuracy: 0.9211\n",
            "Epoch 13/30\n",
            "11/11 [==============================] - 0s 6ms/step - loss: 0.4032 - accuracy: 0.9326 - val_loss: 0.6468 - val_accuracy: 0.9211\n",
            "Epoch 14/30\n",
            "11/11 [==============================] - 0s 5ms/step - loss: 0.3291 - accuracy: 0.9326 - val_loss: 0.6310 - val_accuracy: 0.9211\n",
            "Epoch 15/30\n",
            "11/11 [==============================] - 0s 5ms/step - loss: 0.3129 - accuracy: 0.9384 - val_loss: 0.6309 - val_accuracy: 0.9211\n",
            "Epoch 16/30\n",
            "11/11 [==============================] - 0s 6ms/step - loss: 0.2719 - accuracy: 0.9413 - val_loss: 0.6195 - val_accuracy: 0.9298\n",
            "Epoch 17/30\n",
            "11/11 [==============================] - 0s 5ms/step - loss: 0.2601 - accuracy: 0.9413 - val_loss: 0.6194 - val_accuracy: 0.9298\n",
            "Epoch 18/30\n",
            "11/11 [==============================] - 0s 5ms/step - loss: 0.2577 - accuracy: 0.9443 - val_loss: 0.6198 - val_accuracy: 0.9298\n",
            "Epoch 19/30\n",
            "11/11 [==============================] - 0s 6ms/step - loss: 0.2559 - accuracy: 0.9472 - val_loss: 0.6206 - val_accuracy: 0.9298\n",
            "Epoch 20/30\n",
            "11/11 [==============================] - 0s 5ms/step - loss: 0.2543 - accuracy: 0.9472 - val_loss: 0.6212 - val_accuracy: 0.9298\n",
            "Epoch 21/30\n",
            "11/11 [==============================] - 0s 6ms/step - loss: 0.2528 - accuracy: 0.9472 - val_loss: 0.6222 - val_accuracy: 0.9298\n",
            "Epoch 22/30\n",
            "11/11 [==============================] - 0s 5ms/step - loss: 0.2514 - accuracy: 0.9501 - val_loss: 0.6230 - val_accuracy: 0.9298\n",
            "Epoch 23/30\n",
            "11/11 [==============================] - 0s 5ms/step - loss: 0.2234 - accuracy: 0.9472 - val_loss: 0.4728 - val_accuracy: 0.9298\n",
            "Epoch 24/30\n",
            "11/11 [==============================] - 0s 6ms/step - loss: 0.2057 - accuracy: 0.9648 - val_loss: 0.4731 - val_accuracy: 0.9298\n",
            "Epoch 25/30\n",
            "11/11 [==============================] - 0s 6ms/step - loss: 0.2038 - accuracy: 0.9648 - val_loss: 0.4734 - val_accuracy: 0.9298\n",
            "Epoch 26/30\n",
            "11/11 [==============================] - 0s 6ms/step - loss: 0.2028 - accuracy: 0.9648 - val_loss: 0.4735 - val_accuracy: 0.9298\n",
            "Epoch 27/30\n",
            "11/11 [==============================] - 0s 6ms/step - loss: 0.2018 - accuracy: 0.9648 - val_loss: 0.4736 - val_accuracy: 0.9298\n",
            "Epoch 28/30\n",
            "11/11 [==============================] - 0s 6ms/step - loss: 0.2006 - accuracy: 0.9648 - val_loss: 0.4737 - val_accuracy: 0.9298\n",
            "Epoch 29/30\n",
            "11/11 [==============================] - 0s 5ms/step - loss: 0.1998 - accuracy: 0.9648 - val_loss: 0.4736 - val_accuracy: 0.9298\n",
            "Epoch 30/30\n",
            "11/11 [==============================] - 0s 6ms/step - loss: 0.1990 - accuracy: 0.9648 - val_loss: 0.4737 - val_accuracy: 0.9298\n"
          ]
        }
      ]
    },
    {
      "cell_type": "code",
      "source": [
        "metrics = pd.DataFrame(history.history)\n",
        "plt.plot(metrics)\n",
        "for col in ('loss', 'accuracy','val_loss','val_accuracy'):\n",
        "    metrics[col].plot(legend=True)\n",
        "plt.grid(True)\n",
        "plt.gca().set_ylim(0, 2)\n",
        "plt.show()"
      ],
      "metadata": {
        "colab": {
          "base_uri": "https://localhost:8080/",
          "height": 435
        },
        "id": "cYE9-xYc7oJK",
        "outputId": "7e02af68-645a-4070-8626-2c378c14fc8d"
      },
      "execution_count": null,
      "outputs": [
        {
          "output_type": "display_data",
          "data": {
            "text/plain": [
              "<Figure size 640x480 with 1 Axes>"
            ],
            "image/png": "[encoded data removed]"
          },
          "metadata": {}
        }
      ]
    },
    {
      "cell_type": "code",
      "source": [
        "mse_test = model.evaluate(X_test_pca, y_test)\n",
        "y_pred_NN = model.predict(X_test_pca)\n",
        "\n",
        "threshold = 0.5 #decision boundary on what to classify as 1 or 0. Potential weakness: unbalanced datasets.\n",
        "y_pred_NN =  np.concatenate(np.where(y_pred_NN > threshold, 1, 0)).ravel() #makes it look similar to y_pred_RF\n",
        "y_pred_NN[1:20]"
      ],
      "metadata": {
        "colab": {
          "base_uri": "https://localhost:8080/"
        },
        "id": "6NzdrDyz7u_w",
        "outputId": "933368a9-013d-4c31-c3ff-817b28a6cf1c"
      },
      "execution_count": null,
      "outputs": [
        {
          "output_type": "stream",
          "name": "stdout",
          "text": [
            "4/4 [==============================] - 0s 3ms/step - loss: 0.4532 - accuracy: 0.9561\n",
            "4/4 [==============================] - 0s 3ms/step\n"
          ]
        },
        {
          "output_type": "execute_result",
          "data": {
            "text/plain": [
              "array([1, 1, 0, 1, 1, 1, 1, 1, 1, 1, 0, 1, 0, 1, 1, 0, 0, 0, 0])"
            ]
          },
          "metadata": {},
          "execution_count": 26
        }
      ]
    },
    {
      "cell_type": "code",
      "source": [
        "### Testing: No PCA ###"
      ],
      "metadata": {
        "id": "0bqMvuaZBbJy"
      },
      "execution_count": null,
      "outputs": []
    },
    {
      "cell_type": "code",
      "source": [
        "#Wide and Deep Neural Network Model\n",
        "\n",
        "#Run input through two hidden layers\n",
        "#then, combine input from two hidden layers with \"fresh\" input i.e. using input data twice\n",
        "#concatenate the two data together for output\n",
        "\n",
        "input_ = keras.layers.Input(shape=X_train.shape[1:])\n",
        "hidden1 = keras.layers.Dense(40, activation=\"relu\")(input_)\n",
        "hidden2 = keras.layers.Dense(20, activation=\"relu\")(hidden1)\n",
        "hidden3 = keras.layers.Dense(10, activation=\"relu\")(hidden2)\n",
        "concat = keras.layers.concatenate([input_, hidden3])\n",
        "output = keras.layers.Dense(1)(concat) \n",
        "model_noPCA = keras.models.Model(inputs=[input_], outputs=[output])\n",
        "\n",
        "model_noPCA.summary()"
      ],
      "metadata": {
        "colab": {
          "base_uri": "https://localhost:8080/"
        },
        "id": "BD0St2SM-bbR",
        "outputId": "51eaf3bf-0c15-4183-a4f0-aa3ece3b05a7"
      },
      "execution_count": null,
      "outputs": [
        {
          "output_type": "stream",
          "name": "stdout",
          "text": [
            "Model: \"model_1\"\n",
            "__________________________________________________________________________________________________\n",
            " Layer (type)                   Output Shape         Param #     Connected to                     \n",
            "==================================================================================================\n",
            " input_2 (InputLayer)           [(None, 30)]         0           []                               \n",
            "                                                                                                  \n",
            " dense_4 (Dense)                (None, 40)           1240        ['input_2[0][0]']                \n",
            "                                                                                                  \n",
            " dense_5 (Dense)                (None, 20)           820         ['dense_4[0][0]']                \n",
            "                                                                                                  \n",
            " dense_6 (Dense)                (None, 10)           210         ['dense_5[0][0]']                \n",
            "                                                                                                  \n",
            " concatenate_1 (Concatenate)    (None, 40)           0           ['input_2[0][0]',                \n",
            "                                                                  'dense_6[0][0]']                \n",
            "                                                                                                  \n",
            " dense_7 (Dense)                (None, 1)            41          ['concatenate_1[0][0]']          \n",
            "                                                                                                  \n",
            "==================================================================================================\n",
            "Total params: 2,311\n",
            "Trainable params: 2,311\n",
            "Non-trainable params: 0\n",
            "__________________________________________________________________________________________________\n"
          ]
        }
      ]
    },
    {
      "cell_type": "code",
      "source": [
        "model_noPCA.compile(loss=\"binary_crossentropy\", \n",
        "              optimizer=keras.optimizers.SGD(learning_rate=1e-3),\n",
        "              metrics=[\"accuracy\"]) \n",
        "history_noPCA = model_noPCA.fit(X_train, y_train, epochs=30,validation_data=(X_valid, y_valid))"
      ],
      "metadata": {
        "colab": {
          "base_uri": "https://localhost:8080/"
        },
        "id": "GKh6j_F--o5S",
        "outputId": "5efc7ade-8756-4d34-86f4-e76dc2dcf99b"
      },
      "execution_count": null,
      "outputs": [
        {
          "output_type": "stream",
          "name": "stdout",
          "text": [
            "Epoch 1/30\n",
            "11/11 [==============================] - 1s 24ms/step - loss: 5.5743 - accuracy: 0.5249 - val_loss: 2.5401 - val_accuracy: 0.7368\n",
            "Epoch 2/30\n",
            "11/11 [==============================] - 0s 5ms/step - loss: 1.3138 - accuracy: 0.7713 - val_loss: 1.5615 - val_accuracy: 0.8158\n",
            "Epoch 3/30\n",
            "11/11 [==============================] - 0s 5ms/step - loss: 0.9458 - accuracy: 0.8504 - val_loss: 1.4160 - val_accuracy: 0.8158\n",
            "Epoch 4/30\n",
            "11/11 [==============================] - 0s 5ms/step - loss: 0.8736 - accuracy: 0.8710 - val_loss: 1.3720 - val_accuracy: 0.8246\n",
            "Epoch 5/30\n",
            "11/11 [==============================] - 0s 6ms/step - loss: 0.6946 - accuracy: 0.8915 - val_loss: 1.2377 - val_accuracy: 0.8596\n",
            "Epoch 6/30\n",
            "11/11 [==============================] - 0s 6ms/step - loss: 0.6182 - accuracy: 0.9091 - val_loss: 1.2207 - val_accuracy: 0.8596\n",
            "Epoch 7/30\n",
            "11/11 [==============================] - 0s 5ms/step - loss: 0.4911 - accuracy: 0.9150 - val_loss: 1.0886 - val_accuracy: 0.8596\n",
            "Epoch 8/30\n",
            "11/11 [==============================] - 0s 5ms/step - loss: 0.4287 - accuracy: 0.9296 - val_loss: 1.0712 - val_accuracy: 0.8684\n",
            "Epoch 9/30\n",
            "11/11 [==============================] - 0s 6ms/step - loss: 0.2711 - accuracy: 0.9355 - val_loss: 0.8424 - val_accuracy: 0.8947\n",
            "Epoch 10/30\n",
            "11/11 [==============================] - 0s 5ms/step - loss: 0.1964 - accuracy: 0.9443 - val_loss: 0.8265 - val_accuracy: 0.8947\n",
            "Epoch 11/30\n",
            "11/11 [==============================] - 0s 6ms/step - loss: 0.1847 - accuracy: 0.9472 - val_loss: 0.8212 - val_accuracy: 0.9035\n",
            "Epoch 12/30\n",
            "11/11 [==============================] - 0s 5ms/step - loss: 0.1793 - accuracy: 0.9531 - val_loss: 0.7248 - val_accuracy: 0.9035\n",
            "Epoch 13/30\n",
            "11/11 [==============================] - 0s 6ms/step - loss: 0.1757 - accuracy: 0.9589 - val_loss: 0.7138 - val_accuracy: 0.9035\n",
            "Epoch 14/30\n",
            "11/11 [==============================] - 0s 5ms/step - loss: 0.1723 - accuracy: 0.9560 - val_loss: 0.7036 - val_accuracy: 0.9035\n",
            "Epoch 15/30\n",
            "11/11 [==============================] - 0s 5ms/step - loss: 0.1698 - accuracy: 0.9589 - val_loss: 0.6983 - val_accuracy: 0.9035\n",
            "Epoch 16/30\n",
            "11/11 [==============================] - 0s 6ms/step - loss: 0.1674 - accuracy: 0.9619 - val_loss: 0.6949 - val_accuracy: 0.9035\n",
            "Epoch 17/30\n",
            "11/11 [==============================] - 0s 7ms/step - loss: 0.1650 - accuracy: 0.9589 - val_loss: 0.6918 - val_accuracy: 0.9035\n",
            "Epoch 18/30\n",
            "11/11 [==============================] - 0s 6ms/step - loss: 0.1629 - accuracy: 0.9589 - val_loss: 0.6889 - val_accuracy: 0.9035\n",
            "Epoch 19/30\n",
            "11/11 [==============================] - 0s 5ms/step - loss: 0.1609 - accuracy: 0.9619 - val_loss: 0.6864 - val_accuracy: 0.9035\n",
            "Epoch 20/30\n",
            "11/11 [==============================] - 0s 5ms/step - loss: 0.1597 - accuracy: 0.9619 - val_loss: 0.6831 - val_accuracy: 0.9035\n",
            "Epoch 21/30\n",
            "11/11 [==============================] - 0s 6ms/step - loss: 0.1582 - accuracy: 0.9648 - val_loss: 0.6810 - val_accuracy: 0.9123\n",
            "Epoch 22/30\n",
            "11/11 [==============================] - 0s 7ms/step - loss: 0.1570 - accuracy: 0.9648 - val_loss: 0.6789 - val_accuracy: 0.9123\n",
            "Epoch 23/30\n",
            "11/11 [==============================] - 0s 7ms/step - loss: 0.1560 - accuracy: 0.9648 - val_loss: 0.6782 - val_accuracy: 0.9123\n",
            "Epoch 24/30\n",
            "11/11 [==============================] - 0s 6ms/step - loss: 0.1549 - accuracy: 0.9648 - val_loss: 0.6758 - val_accuracy: 0.9123\n",
            "Epoch 25/30\n",
            "11/11 [==============================] - 0s 5ms/step - loss: 0.1537 - accuracy: 0.9648 - val_loss: 0.6741 - val_accuracy: 0.9123\n",
            "Epoch 26/30\n",
            "11/11 [==============================] - 0s 5ms/step - loss: 0.1530 - accuracy: 0.9648 - val_loss: 0.6728 - val_accuracy: 0.9123\n",
            "Epoch 27/30\n",
            "11/11 [==============================] - 0s 5ms/step - loss: 0.1521 - accuracy: 0.9648 - val_loss: 0.6736 - val_accuracy: 0.9123\n",
            "Epoch 28/30\n",
            "11/11 [==============================] - 0s 5ms/step - loss: 0.1511 - accuracy: 0.9648 - val_loss: 0.6720 - val_accuracy: 0.9123\n",
            "Epoch 29/30\n",
            "11/11 [==============================] - 0s 5ms/step - loss: 0.1505 - accuracy: 0.9648 - val_loss: 0.6713 - val_accuracy: 0.9211\n",
            "Epoch 30/30\n",
            "11/11 [==============================] - 0s 7ms/step - loss: 0.1496 - accuracy: 0.9707 - val_loss: 0.6704 - val_accuracy: 0.9211\n"
          ]
        }
      ]
    },
    {
      "cell_type": "code",
      "source": [
        "metrics_noPCA = pd.DataFrame(history_noPCA.history)\n",
        "plt.plot(metrics_noPCA)\n",
        "for col in ('loss', 'accuracy','val_loss','val_accuracy'):\n",
        "    metrics_noPCA[col].plot(legend=True)\n",
        "plt.grid(True)\n",
        "plt.gca().set_ylim(0, 2)\n",
        "plt.show()"
      ],
      "metadata": {
        "colab": {
          "base_uri": "https://localhost:8080/",
          "height": 435
        },
        "id": "nL5OZ8hj-t4-",
        "outputId": "fb13858c-23ab-4c0f-ec7c-54288c8eeb25"
      },
      "execution_count": null,
      "outputs": [
        {
          "output_type": "display_data",
          "data": {
            "text/plain": [
              "<Figure size 640x480 with 1 Axes>"
            ],
            "image/png": "[encoded data removed]"
          },
          "metadata": {}
        }
      ]
    },
    {
      "cell_type": "code",
      "source": [
        "y_pred_noPCA = model_noPCA.predict(X_test)\n",
        "\n",
        "threshold = 0.5 #decision boundary on what to classify as 1 or 0. Potential weakness: unbalanced datasets.\n",
        "y_pred_noPCA =  np.concatenate(np.where(y_pred_noPCA > threshold, 1, 0)).ravel() #makes it look similar to y_pred_RF\n",
        "y_pred_noPCA[1:20]"
      ],
      "metadata": {
        "colab": {
          "base_uri": "https://localhost:8080/"
        },
        "id": "mgNW-SGcsw1e",
        "outputId": "219b4f78-86c5-4841-95eb-eb9f9da38439"
      },
      "execution_count": null,
      "outputs": [
        {
          "output_type": "stream",
          "name": "stdout",
          "text": [
            "4/4 [==============================] - 0s 2ms/step\n"
          ]
        },
        {
          "output_type": "execute_result",
          "data": {
            "text/plain": [
              "array([1, 1, 0, 1, 1, 1, 1, 1, 1, 1, 0, 1, 0, 1, 1, 0, 0, 0, 0])"
            ]
          },
          "metadata": {},
          "execution_count": 31
        }
      ]
    },
    {
      "cell_type": "code",
      "source": [
        "### Saving ###\n",
        "# save model in HDF5 format: architecture and hyperparameters, optimizer, starting state\n",
        "model.save(\"my_keras_model.h5\")\n",
        "\n",
        "# load model\n",
        "model = keras.models.load_model(\"my_keras_model.h5\")"
      ],
      "metadata": {
        "id": "hO4NjJ7MAsPd"
      },
      "execution_count": null,
      "outputs": []
    },
    {
      "cell_type": "code",
      "source": [
        "### Using early stopping and/or checkpoints ###"
      ],
      "metadata": {
        "id": "QU047FMLQ-fX"
      },
      "execution_count": null,
      "outputs": []
    },
    {
      "cell_type": "code",
      "source": [
        "model.compile(loss=\"mse\", optimizer=keras.optimizers.SGD(learning_rate=1e-3))\n",
        "\n",
        "checkpoint_cb = keras.callbacks.ModelCheckpoint(\"my_keras_model.h5\", save_best_only=True) # Save only best checkpoint, overwriting previous best model\n",
        "\n",
        "history = model.fit(X_train_pca, y_train, epochs=10,\n",
        "                    validation_data=(X_valid_pca, y_valid),\n",
        "                    callbacks=[checkpoint_cb])\n",
        "\n",
        "model = keras.models.load_model(\"my_keras_model.h5\") # rollback to best model\n",
        "mse_test = model.evaluate(X_test_pca, y_test)"
      ],
      "metadata": {
        "colab": {
          "base_uri": "https://localhost:8080/"
        },
        "id": "qIdAY2gYTBSC",
        "outputId": "d82d4da6-b6ce-43d7-ce5a-554a66c3fada"
      },
      "execution_count": null,
      "outputs": [
        {
          "output_type": "stream",
          "name": "stdout",
          "text": [
            "Epoch 1/10\n",
            "11/11 [==============================] - 1s 29ms/step - loss: 4.6618 - val_loss: 3.2895\n",
            "Epoch 2/10\n",
            "11/11 [==============================] - 0s 9ms/step - loss: 2.6079 - val_loss: 1.9439\n",
            "Epoch 3/10\n",
            "11/11 [==============================] - 0s 9ms/step - loss: 1.5592 - val_loss: 1.2385\n",
            "Epoch 4/10\n",
            "11/11 [==============================] - 0s 11ms/step - loss: 1.0296 - val_loss: 0.8569\n",
            "Epoch 5/10\n",
            "11/11 [==============================] - 0s 10ms/step - loss: 0.7399 - val_loss: 0.6269\n",
            "Epoch 6/10\n",
            "11/11 [==============================] - 0s 9ms/step - loss: 0.5702 - val_loss: 0.5003\n",
            "Epoch 7/10\n",
            "11/11 [==============================] - 0s 8ms/step - loss: 0.4738 - val_loss: 0.4178\n",
            "Epoch 8/10\n",
            "11/11 [==============================] - 0s 8ms/step - loss: 0.4106 - val_loss: 0.3626\n",
            "Epoch 9/10\n",
            "11/11 [==============================] - 0s 8ms/step - loss: 0.3629 - val_loss: 0.3218\n",
            "Epoch 10/10\n",
            "11/11 [==============================] - 0s 8ms/step - loss: 0.3280 - val_loss: 0.2895\n",
            "4/4 [==============================] - 0s 4ms/step - loss: 0.4024\n"
          ]
        }
      ]
    },
    {
      "cell_type": "code",
      "source": [
        "model.compile(loss=\"mse\", optimizer=keras.optimizers.SGD(learning_rate=1e-3))\n",
        "\n",
        "early_stopping_cb = keras.callbacks.EarlyStopping(patience=10, restore_best_weights=True)\n",
        "\n",
        "history = model.fit(X_train_pca, y_train, epochs=50,\n",
        "                    validation_data=(X_valid_pca, y_valid),\n",
        "                    callbacks=[checkpoint_cb,early_stopping_cb])\n",
        "\n",
        "model = keras.models.load_model(\"my_keras_model.h5\") # rollback to best model\n",
        "mse_test = model.evaluate(X_test_pca, y_test)\n",
        "\n",
        "#This will stop learning after 11 epochs"
      ],
      "metadata": {
        "colab": {
          "base_uri": "https://localhost:8080/"
        },
        "id": "E3otccVBTGvM",
        "outputId": "5fc4e367-7825-4bb5-f1b5-c2aee11e90f5"
      },
      "execution_count": null,
      "outputs": [
        {
          "output_type": "stream",
          "name": "stdout",
          "text": [
            "Epoch 1/50\n",
            "11/11 [==============================] - 1s 20ms/step - loss: 0.2981 - val_loss: 0.2646\n",
            "Epoch 2/50\n",
            "11/11 [==============================] - 0s 8ms/step - loss: 0.2734 - val_loss: 0.2448\n",
            "Epoch 3/50\n",
            "11/11 [==============================] - 0s 8ms/step - loss: 0.2530 - val_loss: 0.2278\n",
            "Epoch 4/50\n",
            "11/11 [==============================] - 0s 8ms/step - loss: 0.2350 - val_loss: 0.2128\n",
            "Epoch 5/50\n",
            "11/11 [==============================] - 0s 8ms/step - loss: 0.2184 - val_loss: 0.1993\n",
            "Epoch 6/50\n",
            "11/11 [==============================] - 0s 8ms/step - loss: 0.2036 - val_loss: 0.1877\n",
            "Epoch 7/50\n",
            "11/11 [==============================] - 0s 6ms/step - loss: 0.1910 - val_loss: 0.1776\n",
            "Epoch 8/50\n",
            "11/11 [==============================] - 0s 6ms/step - loss: 0.1793 - val_loss: 0.1689\n",
            "Epoch 9/50\n",
            "11/11 [==============================] - 0s 7ms/step - loss: 0.1691 - val_loss: 0.1609\n",
            "Epoch 10/50\n",
            "11/11 [==============================] - 0s 8ms/step - loss: 0.1597 - val_loss: 0.1535\n",
            "Epoch 11/50\n",
            "11/11 [==============================] - 0s 7ms/step - loss: 0.1514 - val_loss: 0.1469\n",
            "Epoch 12/50\n",
            "11/11 [==============================] - 0s 7ms/step - loss: 0.1441 - val_loss: 0.1408\n",
            "Epoch 13/50\n",
            "11/11 [==============================] - 0s 8ms/step - loss: 0.1371 - val_loss: 0.1353\n",
            "Epoch 14/50\n",
            "11/11 [==============================] - 0s 8ms/step - loss: 0.1311 - val_loss: 0.1302\n",
            "Epoch 15/50\n",
            "11/11 [==============================] - 0s 8ms/step - loss: 0.1253 - val_loss: 0.1256\n",
            "Epoch 16/50\n",
            "11/11 [==============================] - 0s 6ms/step - loss: 0.1201 - val_loss: 0.1214\n",
            "Epoch 17/50\n",
            "11/11 [==============================] - 0s 8ms/step - loss: 0.1156 - val_loss: 0.1177\n",
            "Epoch 18/50\n",
            "11/11 [==============================] - 0s 6ms/step - loss: 0.1115 - val_loss: 0.1144\n",
            "Epoch 19/50\n",
            "11/11 [==============================] - 0s 6ms/step - loss: 0.1077 - val_loss: 0.1111\n",
            "Epoch 20/50\n",
            "11/11 [==============================] - 0s 8ms/step - loss: 0.1042 - val_loss: 0.1083\n",
            "Epoch 21/50\n",
            "11/11 [==============================] - 0s 7ms/step - loss: 0.1011 - val_loss: 0.1057\n",
            "Epoch 22/50\n",
            "11/11 [==============================] - 0s 6ms/step - loss: 0.0984 - val_loss: 0.1034\n",
            "Epoch 23/50\n",
            "11/11 [==============================] - 0s 9ms/step - loss: 0.0957 - val_loss: 0.1012\n",
            "Epoch 24/50\n",
            "11/11 [==============================] - 0s 7ms/step - loss: 0.0933 - val_loss: 0.0992\n",
            "Epoch 25/50\n",
            "11/11 [==============================] - 0s 7ms/step - loss: 0.0912 - val_loss: 0.0975\n",
            "Epoch 26/50\n",
            "11/11 [==============================] - 0s 7ms/step - loss: 0.0892 - val_loss: 0.0958\n",
            "Epoch 27/50\n",
            "11/11 [==============================] - 0s 7ms/step - loss: 0.0874 - val_loss: 0.0943\n",
            "Epoch 28/50\n",
            "11/11 [==============================] - 0s 7ms/step - loss: 0.0857 - val_loss: 0.0931\n",
            "Epoch 29/50\n",
            "11/11 [==============================] - 0s 7ms/step - loss: 0.0842 - val_loss: 0.0917\n",
            "Epoch 30/50\n",
            "11/11 [==============================] - 0s 7ms/step - loss: 0.0828 - val_loss: 0.0904\n",
            "Epoch 31/50\n",
            "11/11 [==============================] - 0s 6ms/step - loss: 0.0815 - val_loss: 0.0894\n",
            "Epoch 32/50\n",
            "11/11 [==============================] - 0s 7ms/step - loss: 0.0805 - val_loss: 0.0884\n",
            "Epoch 33/50\n",
            "11/11 [==============================] - 0s 6ms/step - loss: 0.0793 - val_loss: 0.0875\n",
            "Epoch 34/50\n",
            "11/11 [==============================] - 0s 6ms/step - loss: 0.0784 - val_loss: 0.0867\n",
            "Epoch 35/50\n",
            "11/11 [==============================] - 0s 8ms/step - loss: 0.0775 - val_loss: 0.0860\n",
            "Epoch 36/50\n",
            "11/11 [==============================] - 0s 8ms/step - loss: 0.0767 - val_loss: 0.0853\n",
            "Epoch 37/50\n",
            "11/11 [==============================] - 0s 6ms/step - loss: 0.0760 - val_loss: 0.0846\n",
            "Epoch 38/50\n",
            "11/11 [==============================] - 0s 8ms/step - loss: 0.0753 - val_loss: 0.0840\n",
            "Epoch 39/50\n",
            "11/11 [==============================] - 0s 8ms/step - loss: 0.0746 - val_loss: 0.0834\n",
            "Epoch 40/50\n",
            "11/11 [==============================] - 0s 8ms/step - loss: 0.0740 - val_loss: 0.0829\n",
            "Epoch 41/50\n",
            "11/11 [==============================] - 0s 8ms/step - loss: 0.0735 - val_loss: 0.0824\n",
            "Epoch 42/50\n",
            "11/11 [==============================] - 0s 6ms/step - loss: 0.0730 - val_loss: 0.0820\n",
            "Epoch 43/50\n",
            "11/11 [==============================] - 0s 7ms/step - loss: 0.0726 - val_loss: 0.0817\n",
            "Epoch 44/50\n",
            "11/11 [==============================] - 0s 6ms/step - loss: 0.0721 - val_loss: 0.0813\n",
            "Epoch 45/50\n",
            "11/11 [==============================] - 0s 8ms/step - loss: 0.0718 - val_loss: 0.0809\n",
            "Epoch 46/50\n",
            "11/11 [==============================] - 0s 7ms/step - loss: 0.0714 - val_loss: 0.0806\n",
            "Epoch 47/50\n",
            "11/11 [==============================] - 0s 6ms/step - loss: 0.0711 - val_loss: 0.0803\n",
            "Epoch 48/50\n",
            "11/11 [==============================] - 0s 6ms/step - loss: 0.0708 - val_loss: 0.0801\n",
            "Epoch 49/50\n",
            "11/11 [==============================] - 0s 9ms/step - loss: 0.0705 - val_loss: 0.0798\n",
            "Epoch 50/50\n",
            "11/11 [==============================] - 0s 6ms/step - loss: 0.0702 - val_loss: 0.0796\n",
            "4/4 [==============================] - 0s 7ms/step - loss: 0.0832\n"
          ]
        }
      ]
    },
    {
      "cell_type": "code",
      "source": [
        "keras.backend.clear_session()"
      ],
      "metadata": {
        "id": "FitmXnXCTw4s"
      },
      "execution_count": null,
      "outputs": []
    }
  ]
}